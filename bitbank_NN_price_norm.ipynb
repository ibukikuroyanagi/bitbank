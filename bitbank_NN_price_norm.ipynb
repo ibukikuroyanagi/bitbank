{
 "cells": [
  {
   "cell_type": "code",
   "execution_count": 1,
   "metadata": {},
   "outputs": [],
   "source": [
    "#python_bitbankccのパッケージをインポート\n",
    "#cloud9で起動するときのコマンド\n",
    "#jupyter notebook --ip $IP --port $PORT --no-browser\n",
    "import python_bitbankcc \n",
    "import datetime\n",
    "import os \n",
    "import time\n",
    "import numpy as np\n",
    "import pandas as pd\n",
    "import sys\n",
    "from dateutil.relativedelta import relativedelta\n",
    "#トレンドラインを引くため\n",
    "from scipy.stats import linregress\n",
    "#正規化\n",
    "from sklearn.preprocessing import MinMaxScaler"
   ]
  },
  {
   "cell_type": "code",
   "execution_count": 2,
   "metadata": {},
   "outputs": [],
   "source": [
    "#機械学習用のモジュール\n",
    "import matplotlib as mpl\n",
    "mpl.use('Agg')\n",
    "import matplotlib.pyplot as plt\n",
    "from sklearn import linear_model\n",
    "% matplotlib inline\n",
    "from __future__ import print_function\n",
    "import copy\n",
    "import matplotlib\n",
    "matplotlib.style.use('ggplot')\n",
    "\n",
    "from sklearn.linear_model import LinearRegression\n",
    "from sklearn.tree import DecisionTreeRegressor\n",
    "from sklearn.ensemble import RandomForestRegressor\n",
    "\n",
    "from sklearn.model_selection import GridSearchCV\n",
    "from sklearn.model_selection import train_test_split\n",
    "from sklearn.metrics import mean_squared_error"
   ]
  },
  {
   "cell_type": "code",
   "execution_count": 3,
   "metadata": {},
   "outputs": [],
   "source": [
    "# public API classのオブジェクトを取得\n",
    "pub = python_bitbankcc.public()"
   ]
  },
  {
   "cell_type": "code",
   "execution_count": 4,
   "metadata": {},
   "outputs": [],
   "source": [
    "#APIから基本データの取得、dataframeへ挿入\n",
    "def get_candle(trade_name,span,back_day):\n",
    "    # ロウソク足データを取得\n",
    "    pub = python_bitbankcc.public()\n",
    "    value = pub.get_candlestick( trade_name,span, back_day )\n",
    "    candle = value['candlestick'][0]\n",
    "    #print(candle['ohlcv'][0])\n",
    "    dataframe = pd.DataFrame(candle['ohlcv'],columns=[\"Open\", \"High\",\"Low\",\"Close\",\"Volume\",\"Timestamp\"])\n",
    "    return dataframe\n"
   ]
  },
  {
   "cell_type": "code",
   "execution_count": 5,
   "metadata": {},
   "outputs": [],
   "source": [
    "#指定した日から今日までの基本データをdataframeにして取得\n",
    "#back_day,todayはdatetime\n",
    "# span = ['1min', '5min', '15min', '30min', '1hour', '4hour', '8hour', '12hour', '1day', '1week']\n",
    "#trade_name = ['btc_jpy', 'xrp_jpy', 'ltc_btc', 'eth_btc', 'mona_jpy', 'mona_btc', 'bcc_jpy', 'bcc_btc']\n",
    "\n",
    "def make_df(trade_name,span,back_day,today):\n",
    "    i = 1\n",
    "    if (span =='1min')or(span== '5min')or(span== '15min')or(span== '30min')or(span== '1hour'):\n",
    "        #基準が９時なので、そこを合わせてあげる\n",
    "        if 0 <= today.hour < 9:\n",
    "            k = 1\n",
    "        elif 9 <= today.hour <= 23:\n",
    "            k = 0\n",
    "\n",
    "        while back_day <= today - datetime.timedelta(days=k):\n",
    "            if i == 1:\n",
    "                df1 = get_candle(trade_name,span,datetime.datetime.strftime(back_day, '%Y%m%d'))\n",
    "                back_day = back_day + datetime.timedelta(days=1)\n",
    "                #print(back_day,len(df1))\n",
    "                i += 1\n",
    "            else:\n",
    "                df2 = get_candle(trade_name,span,datetime.datetime.strftime(back_day, '%Y%m%d'))\n",
    "                df1 = pd.concat([df1, df2])\n",
    "                back_day = back_day + datetime.timedelta(days=1)\n",
    "                #print(back_day,len(df1))\n",
    "                i += 1\n",
    "    else:\n",
    "        \n",
    "        today = datetime.date(today.year, today.month, today.day)\n",
    "        back_day = datetime.date(back_day.year, back_day.month, back_day.day)\n",
    "\n",
    "\n",
    "        while back_day <= today:\n",
    "            if i == 1:\n",
    "                df1 = get_candle(trade_name,span,datetime.datetime.strftime(back_day, '%Y'))\n",
    "                back_day = back_day + relativedelta(years=1)\n",
    "                i += 1\n",
    "            else:\n",
    "                df2 = get_candle(trade_name,span,datetime.datetime.strftime(back_day, '%Y'))\n",
    "                df1 = pd.concat([df1, df2])\n",
    "                back_day = back_day +  relativedelta(years=1)\n",
    "                i += 1\n",
    "            \n",
    "\n",
    "    return df1\n",
    "\n"
   ]
  },
  {
   "cell_type": "code",
   "execution_count": 6,
   "metadata": {},
   "outputs": [],
   "source": [
    "def read_date(x):\n",
    "    return datetime.datetime.fromtimestamp(x/1000)\n"
   ]
  },
  {
   "cell_type": "code",
   "execution_count": 7,
   "metadata": {},
   "outputs": [],
   "source": [
    "\n",
    "# 単純移動平均（SMA）を取得する関数\n",
    "#上記のdfデータフレーム\n",
    "#numいくつの平均を求めるか\n",
    "def getMA( df,num ):\n",
    " \n",
    "    tmp = []\n",
    "    avg = np.array([])\n",
    "    for i in range(len(df) - num + 1):\n",
    "        for j in range(num):\n",
    "            #print(df['Close'][i+j])\n",
    "            tmp.append( df['Close'][i+j])\n",
    "            \n",
    "         # 平均値計算\n",
    "        value = np.average(tmp)\n",
    "        avg = np.append(avg,value)\n",
    "        tmp = []\n",
    "    \n",
    "    return avg"
   ]
  },
  {
   "cell_type": "code",
   "execution_count": 8,
   "metadata": {},
   "outputs": [],
   "source": [
    "#ゴールデン・デッドクロス判定\n",
    "def golden_dead(data_df1):\n",
    "    golden=np.zeros(len(data_df1['Cross']),dtype=int)\n",
    "    dead=np.zeros(len(data_df1['Cross']),dtype=int)\n",
    "    for i in range(len(data_df1['Cross'])-1):\n",
    "        x = data_df1['Cross'][i]\n",
    "        y = data_df1['Cross'][i+1]\n",
    "        if ((x <= 0) & (y<=0)) |((x >= 0) & (y>=0)):\n",
    "            pass\n",
    "        elif ((x <= 0) & (y>=0)) :\n",
    "            golden=np.insert(golden,i+1,1)\n",
    "            golden=np.delete(golden,i+2)\n",
    "        elif ((x >= 0) & (y<=0)) :\n",
    "            dead=np.insert(dead,i+1,1)\n",
    "            dead=np.delete(dead,i+2)\n",
    "\n",
    "    return golden,dead\n",
    "    "
   ]
  },
  {
   "cell_type": "code",
   "execution_count": 9,
   "metadata": {},
   "outputs": [],
   "source": [
    "#上下判定\n",
    "def up_down(data_df1):\n",
    "    up=np.zeros(len(data_df1['Close']),dtype=int)\n",
    "    mid_up=np.zeros(len(data_df1['Close']),dtype=int)\n",
    "    down=np.zeros(len(data_df1['Close']),dtype=int)\n",
    "    mid_down=np.zeros(len(data_df1['Close']),dtype=int)\n",
    "    for i in range(len(data_df1['Close'])-1):\n",
    "        x = data_df1['Close'][i]\n",
    "        y = data_df1['Close'][i+1]\n",
    "#         if (0<=(y-x)<=0.5):\n",
    "#             mid_up=np.insert(mid_up,i+1,1)\n",
    "#             min_up=np.delete(mid_up,i+2)\n",
    "#         elif (-0.5<=(y-x)<0):\n",
    "#             mid_down=np.insert(mid_down,i+1,1)\n",
    "#             min_down=np.delete(mid_down,i+2)\n",
    "        if ((y-x)>0):\n",
    "            up=np.insert(up,i+1,1)\n",
    "            up=np.delete(up,i+2)\n",
    "        elif ((y-x)<=0) :\n",
    "            down=np.insert(down,i+1,1)\n",
    "            down=np.delete(down,i+2)\n",
    "\n",
    "    return up,down"
   ]
  },
  {
   "cell_type": "code",
   "execution_count": 10,
   "metadata": {},
   "outputs": [],
   "source": [
    "#highトレンドラインを作成する関数\n",
    "#df データフレーム\n",
    "#num どれだけ前から\n",
    "def make_high_trend_line(df,num):\n",
    "    slope= np.zeros(num-1,dtype=float)\n",
    "    intercept = np.zeros(num-1,dtype=float)\n",
    "    for i in range(len(df)-num+1):        \n",
    "        df_fin = df.copy()\n",
    "        df_fin = df_fin[i:i+num]\n",
    "        df_high = df.copy()\n",
    "        df_high = df_high[i:i+num]\n",
    "    \n",
    "        # 高値のトレンドライン\n",
    "        while len(df_high)>3:\n",
    "            reg_1 = linregress(x=df_high['index'],y=df_high['High'])\n",
    "            df_high  =  df_high.loc[df_high['High']>reg_1[0]*df_high['index']+reg_1[1]]\n",
    "\n",
    "        if len(df_high)<=1:\n",
    "            pass\n",
    "        else:\n",
    "            reg_1 = linregress(x=df_high['index'],y=df_high['High'])\n",
    "        \n",
    "        slope = np.append(slope,reg_1[0])\n",
    "        intercept  = np.append(intercept ,reg_1[1])\n",
    "    return slope,intercept    "
   ]
  },
  {
   "cell_type": "code",
   "execution_count": 11,
   "metadata": {},
   "outputs": [],
   "source": [
    "#lowトレンドラインを作成する関数\n",
    "#df データフレーム\n",
    "#num どれだけ前から\n",
    "def make_low_trend_line(df,num):\n",
    "    slope= np.zeros(num-1,dtype=float)\n",
    "    intercept = np.zeros(num-1,dtype=float)\n",
    "    for i in range(len(df)-num+1):        \n",
    "        df_fin = df.copy()\n",
    "        df_fin = df_fin[i:i+num]\n",
    "        df_low = df.copy()\n",
    "        df_low = df_low[i:i+num]\n",
    "\n",
    "    # 安値のトレンドライン\n",
    "        while len(df_low)>3: \n",
    "            reg_2 = linregress( x = df_low['index'], y = df_low['Low']   )\n",
    "            df_low = df_low.loc[df_low['Low'] < reg_2[0] * df_low['index'] + reg_2[1]]\n",
    "\n",
    "        if len(df_low)<=1:\n",
    "            pass\n",
    "        else:\n",
    "            reg_2 = linregress(x = df_low['index'],y = df_low['Low'])\n",
    "            \n",
    "        slope = np.append(slope,reg_2[0])\n",
    "        intercept  = np.append(intercept ,reg_2[1])\n",
    "    return slope,intercept    "
   ]
  },
  {
   "cell_type": "code",
   "execution_count": 12,
   "metadata": {},
   "outputs": [],
   "source": [
    "#slope,傾き　intercept,切片　df、データフレーム\n",
    "def make_trend_value(slope,intercept,df):\n",
    "    index = np.array(df['index'])\n",
    "    trend_value = slope*index + intercept\n",
    "    return trend_value"
   ]
  },
  {
   "cell_type": "code",
   "execution_count": 13,
   "metadata": {},
   "outputs": [],
   "source": [
    "#関数の使い方\n",
    "today = datetime.datetime.today() \n",
    "back_day = today - datetime.timedelta(days=200)\n",
    "trade_name = 'xrp_jpy'\n",
    "span = '1hour'\n",
    "num = 5"
   ]
  },
  {
   "cell_type": "code",
   "execution_count": 14,
   "metadata": {},
   "outputs": [
    {
     "name": "stdout",
     "output_type": "stream",
     "text": [
      "52.04891037940979\n",
      "      index    Open    High     Low   Close        Volume           Timestamp\n",
      "4810   10.0  46.702  46.750  46.498  46.583  3.510023e+06 2018-10-14 19:00:00\n",
      "4811   11.0  46.593  46.839  46.542  46.754  2.647676e+06 2018-10-14 20:00:00\n",
      "4812   12.0  46.754  47.100  46.650  46.930  6.230422e+06 2018-10-14 21:00:00\n",
      "4813   13.0  46.930  46.979  46.500  46.670  4.468723e+06 2018-10-14 22:00:00\n",
      "4814   14.0  46.669  46.760  46.625  46.681  1.104098e+06 2018-10-14 23:00:00\n"
     ]
    }
   ],
   "source": [
    "#基本データの取得\n",
    "old = time.time()\n",
    "data_df1 =  make_df(trade_name,span,back_day,today)\n",
    "data_df1['Timestamp'] = data_df1['Timestamp'].apply(read_date)\n",
    "#indexの割り振り\n",
    "data_df1 = data_df1.reset_index()\n",
    "#df1の値は全てstrなのでTimestamp以外floatにキャストする\n",
    "#Timestampは文字列のままでいいので削除することを指定\n",
    "execlude = ['Timestamp']\n",
    "cast = [col for col in data_df1.columns if col not in execlude]\n",
    "for item in cast:\n",
    "    data_df1 = data_df1.astype({item: float})\n",
    "\n",
    "print(time.time()-old)\n",
    "print(data_df1.tail())"
   ]
  },
  {
   "cell_type": "code",
   "execution_count": 15,
   "metadata": {},
   "outputs": [
    {
     "name": "stdout",
     "output_type": "stream",
     "text": [
      "[ 0.       0.       0.      ... 46.71832 46.71144 46.71468] [ 0.      0.      0.     ... 46.7898 46.7282 46.7236]\n",
      "(4815,) <class 'numpy.ndarray'> (4815,) <class 'numpy.ndarray'>\n"
     ]
    }
   ],
   "source": [
    "#移動平均線np\n",
    "MA5 = getMA( data_df1,num)\n",
    "MA25 = getMA( data_df1,num+20)\n",
    "zero5 = np.zeros(num-1,dtype = float )\n",
    "zero25 = np.zeros(num+20-1,dtype = float )\n",
    "MA5 = np.insert(MA5, 0, zero5)\n",
    "MA25 = np.insert(MA25, 0, zero25)\n",
    "print(MA25,MA5)\n",
    "print(MA25.shape,type(MA25),MA5.shape,type(MA5))"
   ]
  },
  {
   "cell_type": "code",
   "execution_count": 16,
   "metadata": {},
   "outputs": [],
   "source": [
    "#自作変数を作成する\n",
    "data_df1['High-Low']=data_df1['High']-data_df1['Low']\n",
    "data_df1['Close-Open']=data_df1['Close']-data_df1['Open']\n",
    "data_df1['Similarity'] = data_df1['Close-Open'] / (data_df1['High-Low'] + 0.000001)\n",
    "data_df1['(High-Low)*Volume '] = data_df1['High-Low']*data_df1['Volume']\n",
    "data_df1['(Close-Open)*Volume '] = data_df1['Close-Open']*data_df1['Volume']\n",
    "data_df1['High-Low']\n",
    "data_df1['MA5'] = MA5\n",
    "data_df1['MA25'] = MA25\n",
    "data_df1['Cross'] = MA5 - MA25\n",
    "data_df1['index'] = data_df1.index + 1"
   ]
  },
  {
   "cell_type": "code",
   "execution_count": 17,
   "metadata": {},
   "outputs": [],
   "source": [
    "data_df1['golden'],data_df1['dead']  = golden_dead(data_df1)"
   ]
  },
  {
   "cell_type": "code",
   "execution_count": 18,
   "metadata": {},
   "outputs": [
    {
     "name": "stdout",
     "output_type": "stream",
     "text": [
      "38.24955487251282\n"
     ]
    }
   ],
   "source": [
    "old1 = time.time()\n",
    "slope1,intercept1 = make_high_trend_line(df=data_df1,num=32)\n",
    "print(time.time()-old1)"
   ]
  },
  {
   "cell_type": "code",
   "execution_count": 19,
   "metadata": {},
   "outputs": [
    {
     "name": "stdout",
     "output_type": "stream",
     "text": [
      "40.49586510658264\n"
     ]
    }
   ],
   "source": [
    "old1 = time.time()\n",
    "slope2,intercept2 = make_low_trend_line(df=data_df1,num=32)\n",
    "print(time.time()-old1)"
   ]
  },
  {
   "cell_type": "code",
   "execution_count": 20,
   "metadata": {},
   "outputs": [],
   "source": [
    "tr_high = make_trend_value(slope1,intercept1,data_df1)\n",
    "tr_low  = make_trend_value(slope2,intercept2,data_df1)"
   ]
  },
  {
   "cell_type": "code",
   "execution_count": 21,
   "metadata": {},
   "outputs": [],
   "source": [
    "data_df1['high_slope'] = slope1\n",
    "data_df1['low_slope'] = slope2\n",
    "data_df1['tr_high'] = tr_high\n",
    "data_df1['tr_low'] = tr_low\n",
    "data_df1['tr_mid'] = (tr_high + tr_low)/2"
   ]
  },
  {
   "cell_type": "code",
   "execution_count": 22,
   "metadata": {},
   "outputs": [],
   "source": [
    "#data_df1['up'],data_df1['mid_up'],data_df1['min_down'],data_df1['down'] = up_down(data_df1)\n",
    "# a,b = up_down(data_df1)\n",
    "# print(len(a),len(b))\n",
    "data_df1['up'],data_df1['down'] = up_down(data_df1)\n"
   ]
  },
  {
   "cell_type": "code",
   "execution_count": 23,
   "metadata": {},
   "outputs": [
    {
     "name": "stdout",
     "output_type": "stream",
     "text": [
      "134.3154320716858\n"
     ]
    },
    {
     "data": {
      "text/html": [
       "<div>\n",
       "<style scoped>\n",
       "    .dataframe tbody tr th:only-of-type {\n",
       "        vertical-align: middle;\n",
       "    }\n",
       "\n",
       "    .dataframe tbody tr th {\n",
       "        vertical-align: top;\n",
       "    }\n",
       "\n",
       "    .dataframe thead th {\n",
       "        text-align: right;\n",
       "    }\n",
       "</style>\n",
       "<table border=\"1\" class=\"dataframe\">\n",
       "  <thead>\n",
       "    <tr style=\"text-align: right;\">\n",
       "      <th></th>\n",
       "      <th>index</th>\n",
       "      <th>Open</th>\n",
       "      <th>High</th>\n",
       "      <th>Low</th>\n",
       "      <th>Close</th>\n",
       "      <th>Volume</th>\n",
       "      <th>Timestamp</th>\n",
       "      <th>High-Low</th>\n",
       "      <th>Close-Open</th>\n",
       "      <th>Similarity</th>\n",
       "      <th>...</th>\n",
       "      <th>Cross</th>\n",
       "      <th>golden</th>\n",
       "      <th>dead</th>\n",
       "      <th>high_slope</th>\n",
       "      <th>low_slope</th>\n",
       "      <th>tr_high</th>\n",
       "      <th>tr_low</th>\n",
       "      <th>tr_mid</th>\n",
       "      <th>up</th>\n",
       "      <th>down</th>\n",
       "    </tr>\n",
       "  </thead>\n",
       "  <tbody>\n",
       "    <tr>\n",
       "      <th>4806</th>\n",
       "      <td>4807</td>\n",
       "      <td>46.950</td>\n",
       "      <td>47.180</td>\n",
       "      <td>46.921</td>\n",
       "      <td>46.995</td>\n",
       "      <td>3.058577e+06</td>\n",
       "      <td>2018-10-14 15:00:00</td>\n",
       "      <td>0.259</td>\n",
       "      <td>0.045</td>\n",
       "      <td>0.173745</td>\n",
       "      <td>...</td>\n",
       "      <td>0.30028</td>\n",
       "      <td>0</td>\n",
       "      <td>0</td>\n",
       "      <td>0.004859</td>\n",
       "      <td>0.008232</td>\n",
       "      <td>47.612646</td>\n",
       "      <td>46.225460</td>\n",
       "      <td>46.919053</td>\n",
       "      <td>1</td>\n",
       "      <td>0</td>\n",
       "    </tr>\n",
       "    <tr>\n",
       "      <th>4807</th>\n",
       "      <td>4808</td>\n",
       "      <td>46.995</td>\n",
       "      <td>47.099</td>\n",
       "      <td>46.796</td>\n",
       "      <td>47.003</td>\n",
       "      <td>2.714953e+06</td>\n",
       "      <td>2018-10-14 16:00:00</td>\n",
       "      <td>0.303</td>\n",
       "      <td>0.008</td>\n",
       "      <td>0.026403</td>\n",
       "      <td>...</td>\n",
       "      <td>0.34388</td>\n",
       "      <td>0</td>\n",
       "      <td>0</td>\n",
       "      <td>0.003984</td>\n",
       "      <td>0.008232</td>\n",
       "      <td>47.608087</td>\n",
       "      <td>46.233692</td>\n",
       "      <td>46.920890</td>\n",
       "      <td>1</td>\n",
       "      <td>0</td>\n",
       "    </tr>\n",
       "    <tr>\n",
       "      <th>4808</th>\n",
       "      <td>4809</td>\n",
       "      <td>47.025</td>\n",
       "      <td>47.094</td>\n",
       "      <td>46.900</td>\n",
       "      <td>46.978</td>\n",
       "      <td>1.984632e+06</td>\n",
       "      <td>2018-10-14 17:00:00</td>\n",
       "      <td>0.194</td>\n",
       "      <td>-0.047</td>\n",
       "      <td>-0.242267</td>\n",
       "      <td>...</td>\n",
       "      <td>0.28636</td>\n",
       "      <td>0</td>\n",
       "      <td>0</td>\n",
       "      <td>0.003984</td>\n",
       "      <td>0.008232</td>\n",
       "      <td>47.612071</td>\n",
       "      <td>46.241924</td>\n",
       "      <td>46.926998</td>\n",
       "      <td>0</td>\n",
       "      <td>1</td>\n",
       "    </tr>\n",
       "    <tr>\n",
       "      <th>4809</th>\n",
       "      <td>4810</td>\n",
       "      <td>46.978</td>\n",
       "      <td>47.039</td>\n",
       "      <td>46.506</td>\n",
       "      <td>46.704</td>\n",
       "      <td>4.698911e+06</td>\n",
       "      <td>2018-10-14 18:00:00</td>\n",
       "      <td>0.533</td>\n",
       "      <td>-0.274</td>\n",
       "      <td>-0.514070</td>\n",
       "      <td>...</td>\n",
       "      <td>0.16844</td>\n",
       "      <td>0</td>\n",
       "      <td>0</td>\n",
       "      <td>0.003984</td>\n",
       "      <td>0.051000</td>\n",
       "      <td>47.616055</td>\n",
       "      <td>46.879667</td>\n",
       "      <td>47.247861</td>\n",
       "      <td>0</td>\n",
       "      <td>1</td>\n",
       "    </tr>\n",
       "    <tr>\n",
       "      <th>4810</th>\n",
       "      <td>4811</td>\n",
       "      <td>46.702</td>\n",
       "      <td>46.750</td>\n",
       "      <td>46.498</td>\n",
       "      <td>46.583</td>\n",
       "      <td>3.510023e+06</td>\n",
       "      <td>2018-10-14 19:00:00</td>\n",
       "      <td>0.252</td>\n",
       "      <td>-0.119</td>\n",
       "      <td>-0.472220</td>\n",
       "      <td>...</td>\n",
       "      <td>0.11784</td>\n",
       "      <td>0</td>\n",
       "      <td>0</td>\n",
       "      <td>0.003984</td>\n",
       "      <td>0.051000</td>\n",
       "      <td>47.620039</td>\n",
       "      <td>46.930667</td>\n",
       "      <td>47.275353</td>\n",
       "      <td>0</td>\n",
       "      <td>1</td>\n",
       "    </tr>\n",
       "    <tr>\n",
       "      <th>4811</th>\n",
       "      <td>4812</td>\n",
       "      <td>46.593</td>\n",
       "      <td>46.839</td>\n",
       "      <td>46.542</td>\n",
       "      <td>46.754</td>\n",
       "      <td>2.647676e+06</td>\n",
       "      <td>2018-10-14 20:00:00</td>\n",
       "      <td>0.297</td>\n",
       "      <td>0.161</td>\n",
       "      <td>0.542086</td>\n",
       "      <td>...</td>\n",
       "      <td>0.08356</td>\n",
       "      <td>0</td>\n",
       "      <td>0</td>\n",
       "      <td>0.003984</td>\n",
       "      <td>0.051000</td>\n",
       "      <td>47.624023</td>\n",
       "      <td>46.981667</td>\n",
       "      <td>47.302845</td>\n",
       "      <td>1</td>\n",
       "      <td>0</td>\n",
       "    </tr>\n",
       "    <tr>\n",
       "      <th>4812</th>\n",
       "      <td>4813</td>\n",
       "      <td>46.754</td>\n",
       "      <td>47.100</td>\n",
       "      <td>46.650</td>\n",
       "      <td>46.930</td>\n",
       "      <td>6.230422e+06</td>\n",
       "      <td>2018-10-14 21:00:00</td>\n",
       "      <td>0.450</td>\n",
       "      <td>0.176</td>\n",
       "      <td>0.391110</td>\n",
       "      <td>...</td>\n",
       "      <td>0.07148</td>\n",
       "      <td>0</td>\n",
       "      <td>0</td>\n",
       "      <td>0.003984</td>\n",
       "      <td>0.051000</td>\n",
       "      <td>47.628007</td>\n",
       "      <td>47.032667</td>\n",
       "      <td>47.330337</td>\n",
       "      <td>1</td>\n",
       "      <td>0</td>\n",
       "    </tr>\n",
       "    <tr>\n",
       "      <th>4813</th>\n",
       "      <td>4814</td>\n",
       "      <td>46.930</td>\n",
       "      <td>46.979</td>\n",
       "      <td>46.500</td>\n",
       "      <td>46.670</td>\n",
       "      <td>4.468723e+06</td>\n",
       "      <td>2018-10-14 22:00:00</td>\n",
       "      <td>0.479</td>\n",
       "      <td>-0.260</td>\n",
       "      <td>-0.542796</td>\n",
       "      <td>...</td>\n",
       "      <td>0.01676</td>\n",
       "      <td>0</td>\n",
       "      <td>0</td>\n",
       "      <td>0.003984</td>\n",
       "      <td>0.019894</td>\n",
       "      <td>47.631991</td>\n",
       "      <td>46.499354</td>\n",
       "      <td>47.065673</td>\n",
       "      <td>0</td>\n",
       "      <td>1</td>\n",
       "    </tr>\n",
       "    <tr>\n",
       "      <th>4814</th>\n",
       "      <td>4815</td>\n",
       "      <td>46.669</td>\n",
       "      <td>46.760</td>\n",
       "      <td>46.625</td>\n",
       "      <td>46.681</td>\n",
       "      <td>1.104098e+06</td>\n",
       "      <td>2018-10-14 23:00:00</td>\n",
       "      <td>0.135</td>\n",
       "      <td>0.012</td>\n",
       "      <td>0.088888</td>\n",
       "      <td>...</td>\n",
       "      <td>0.00892</td>\n",
       "      <td>0</td>\n",
       "      <td>0</td>\n",
       "      <td>0.002722</td>\n",
       "      <td>0.019894</td>\n",
       "      <td>47.622222</td>\n",
       "      <td>46.519248</td>\n",
       "      <td>47.070735</td>\n",
       "      <td>1</td>\n",
       "      <td>0</td>\n",
       "    </tr>\n",
       "  </tbody>\n",
       "</table>\n",
       "<p>9 rows × 24 columns</p>\n",
       "</div>"
      ],
      "text/plain": [
       "      index    Open    High     Low   Close        Volume           Timestamp  \\\n",
       "4806   4807  46.950  47.180  46.921  46.995  3.058577e+06 2018-10-14 15:00:00   \n",
       "4807   4808  46.995  47.099  46.796  47.003  2.714953e+06 2018-10-14 16:00:00   \n",
       "4808   4809  47.025  47.094  46.900  46.978  1.984632e+06 2018-10-14 17:00:00   \n",
       "4809   4810  46.978  47.039  46.506  46.704  4.698911e+06 2018-10-14 18:00:00   \n",
       "4810   4811  46.702  46.750  46.498  46.583  3.510023e+06 2018-10-14 19:00:00   \n",
       "4811   4812  46.593  46.839  46.542  46.754  2.647676e+06 2018-10-14 20:00:00   \n",
       "4812   4813  46.754  47.100  46.650  46.930  6.230422e+06 2018-10-14 21:00:00   \n",
       "4813   4814  46.930  46.979  46.500  46.670  4.468723e+06 2018-10-14 22:00:00   \n",
       "4814   4815  46.669  46.760  46.625  46.681  1.104098e+06 2018-10-14 23:00:00   \n",
       "\n",
       "      High-Low  Close-Open  Similarity  ...     Cross  golden  dead  \\\n",
       "4806     0.259       0.045    0.173745  ...   0.30028       0     0   \n",
       "4807     0.303       0.008    0.026403  ...   0.34388       0     0   \n",
       "4808     0.194      -0.047   -0.242267  ...   0.28636       0     0   \n",
       "4809     0.533      -0.274   -0.514070  ...   0.16844       0     0   \n",
       "4810     0.252      -0.119   -0.472220  ...   0.11784       0     0   \n",
       "4811     0.297       0.161    0.542086  ...   0.08356       0     0   \n",
       "4812     0.450       0.176    0.391110  ...   0.07148       0     0   \n",
       "4813     0.479      -0.260   -0.542796  ...   0.01676       0     0   \n",
       "4814     0.135       0.012    0.088888  ...   0.00892       0     0   \n",
       "\n",
       "      high_slope  low_slope    tr_high     tr_low     tr_mid  up  down  \n",
       "4806    0.004859   0.008232  47.612646  46.225460  46.919053   1     0  \n",
       "4807    0.003984   0.008232  47.608087  46.233692  46.920890   1     0  \n",
       "4808    0.003984   0.008232  47.612071  46.241924  46.926998   0     1  \n",
       "4809    0.003984   0.051000  47.616055  46.879667  47.247861   0     1  \n",
       "4810    0.003984   0.051000  47.620039  46.930667  47.275353   0     1  \n",
       "4811    0.003984   0.051000  47.624023  46.981667  47.302845   1     0  \n",
       "4812    0.003984   0.051000  47.628007  47.032667  47.330337   1     0  \n",
       "4813    0.003984   0.019894  47.631991  46.499354  47.065673   0     1  \n",
       "4814    0.002722   0.019894  47.622222  46.519248  47.070735   1     0  \n",
       "\n",
       "[9 rows x 24 columns]"
      ]
     },
     "execution_count": 23,
     "metadata": {},
     "output_type": "execute_result"
    }
   ],
   "source": [
    "#data作成までの時間\n",
    "print(time.time()-old)\n",
    "#作成変数の表示\n",
    "data_df1.loc[len(data_df1)-9:]"
   ]
  },
  {
   "cell_type": "code",
   "execution_count": 24,
   "metadata": {},
   "outputs": [
    {
     "name": "stdout",
     "output_type": "stream",
     "text": [
      "['Open', 'High', 'Low', 'Close', 'Volume', 'High-Low', 'Close-Open', 'Similarity', '(High-Low)*Volume ', '(Close-Open)*Volume ', 'MA5', 'MA25', 'Cross', 'golden', 'dead', 'high_slope', 'low_slope', 'tr_high', 'tr_low', 'tr_mid', 'up', 'down']\n",
      "(4815, 22)\n"
     ]
    }
   ],
   "source": [
    "#次のCloseを予測する機械学習\n",
    "#使わない変数を除外\n",
    "exe_cols = ['index','Timestamp']\n",
    "feature_cols = [col for col in data_df1.columns if col not in exe_cols]\n",
    "print(feature_cols)\n",
    "#機械学習用にnp配列に変換\n",
    "data_np= np.array(data_df1[feature_cols])\n",
    "print(data_np.shape)"
   ]
  },
  {
   "cell_type": "code",
   "execution_count": 25,
   "metadata": {},
   "outputs": [
    {
     "name": "stdout",
     "output_type": "stream",
     "text": [
      "[60.83  60.945 61.12  ... 46.93  46.67  46.681] (4814,)\n",
      "[[61.1        61.5        60.501      ...  0.          0.\n",
      "   0.        ]\n",
      " [60.698      61.3        60.62       ...  0.          1.\n",
      "   0.        ]\n",
      " [60.83       61.         60.551      ...  0.          1.\n",
      "   0.        ]\n",
      " ...\n",
      " [46.593      46.839      46.542      ... 47.302845    1.\n",
      "   0.        ]\n",
      " [46.754      47.1        46.65       ... 47.33033698  1.\n",
      "   0.        ]\n",
      " [46.93       46.979      46.5        ... 47.06567274  0.\n",
      "   1.        ]] (4814, 22)\n"
     ]
    }
   ],
   "source": [
    "Y = np.array(data_df1['Close'])#1次元\n",
    "Y = np.delete(Y,0)\n",
    "print(Y,Y.shape)\n",
    "X = data_np[:len(Y),0:]\n",
    "print(X[:],X.shape)"
   ]
  },
  {
   "cell_type": "code",
   "execution_count": 26,
   "metadata": {},
   "outputs": [
    {
     "name": "stdout",
     "output_type": "stream",
     "text": [
      "4789\n"
     ]
    }
   ],
   "source": [
    "# 学習では、29/30を使うものとします。これは情報の偏りを防ぐためのものであり、全体でも構いません\n",
    "L = int(len(X)//(200/199))\n",
    "print(L)\n",
    "train_x = X[50:L,:]\n",
    "train_y = Y[50:L]"
   ]
  },
  {
   "cell_type": "code",
   "execution_count": 27,
   "metadata": {},
   "outputs": [],
   "source": [
    "# 残りの全てをテストデータとします\n",
    "test_x = X[L:len(X),:]\n",
    "test_y = Y[L:len(Y)]"
   ]
  },
  {
   "cell_type": "code",
   "execution_count": null,
   "metadata": {},
   "outputs": [],
   "source": []
  },
  {
   "cell_type": "code",
   "execution_count": null,
   "metadata": {},
   "outputs": [],
   "source": []
  },
  {
   "cell_type": "code",
   "execution_count": null,
   "metadata": {},
   "outputs": [],
   "source": []
  },
  {
   "cell_type": "code",
   "execution_count": 28,
   "metadata": {},
   "outputs": [
    {
     "name": "stdout",
     "output_type": "stream",
     "text": [
      "4814 4814\n",
      "        Open    High     Low   Close        Volume  High-Low  Close-Open  \\\n",
      "4805  47.312  47.408  46.914  46.950  5.867135e+06     0.494      -0.362   \n",
      "4806  46.950  47.180  46.921  46.995  3.058577e+06     0.259       0.045   \n",
      "4807  46.995  47.099  46.796  47.003  2.714953e+06     0.303       0.008   \n",
      "4808  47.025  47.094  46.900  46.978  1.984632e+06     0.194      -0.047   \n",
      "4809  46.978  47.039  46.506  46.704  4.698911e+06     0.533      -0.274   \n",
      "4810  46.702  46.750  46.498  46.583  3.510023e+06     0.252      -0.119   \n",
      "4811  46.593  46.839  46.542  46.754  2.647676e+06     0.297       0.161   \n",
      "4812  46.754  47.100  46.650  46.930  6.230422e+06     0.450       0.176   \n",
      "4813  46.930  46.979  46.500  46.670  4.468723e+06     0.479      -0.260   \n",
      "\n",
      "      Similarity  (High-Low)*Volume   (Close-Open)*Volume        ...        \\\n",
      "4805   -0.732792        2.898365e+06         -2.123903e+06       ...         \n",
      "4806    0.173745        7.921715e+05          1.376360e+05       ...         \n",
      "4807    0.026403        8.226307e+05          2.171962e+04       ...         \n",
      "4808   -0.242267        3.850186e+05         -9.327769e+04       ...         \n",
      "4809   -0.514070        2.504519e+06         -1.287502e+06       ...         \n",
      "4810   -0.472220        8.845258e+05         -4.176928e+05       ...         \n",
      "4811    0.542086        7.863598e+05          4.262759e+05       ...         \n",
      "4812    0.391110        2.803690e+06          1.096554e+06       ...         \n",
      "4813   -0.542796        2.140518e+06         -1.161868e+06       ...         \n",
      "\n",
      "      golden  dead  high_slope  low_slope    tr_high     tr_low     tr_mid  \\\n",
      "4805       0     0    0.002364   0.008232  47.595522  46.217227  46.906375   \n",
      "4806       0     0    0.004859   0.008232  47.612646  46.225460  46.919053   \n",
      "4807       0     0    0.003984   0.008232  47.608087  46.233692  46.920890   \n",
      "4808       0     0    0.003984   0.008232  47.612071  46.241924  46.926998   \n",
      "4809       0     0    0.003984   0.051000  47.616055  46.879667  47.247861   \n",
      "4810       0     0    0.003984   0.051000  47.620039  46.930667  47.275353   \n",
      "4811       0     0    0.003984   0.051000  47.624023  46.981667  47.302845   \n",
      "4812       0     0    0.003984   0.051000  47.628007  47.032667  47.330337   \n",
      "4813       0     0    0.003984   0.019894  47.631991  46.499354  47.065673   \n",
      "\n",
      "      up  down  Close_tomorrow  \n",
      "4805   0     1          46.995  \n",
      "4806   1     0          47.003  \n",
      "4807   1     0          46.978  \n",
      "4808   0     1          46.704  \n",
      "4809   0     1          46.583  \n",
      "4810   0     1          46.754  \n",
      "4811   1     0          46.930  \n",
      "4812   1     0          46.670  \n",
      "4813   0     1          46.681  \n",
      "\n",
      "[9 rows x 23 columns]\n",
      "4814\n",
      "23\n",
      "4543\n",
      "(4543, 23) (240, 23)\n",
      "<class 'numpy.ndarray'>\n",
      "(4543, 22) (4543, 1) (240, 22) (240, 1)\n"
     ]
    },
    {
     "name": "stderr",
     "output_type": "stream",
     "text": [
      "C:\\Users\\ibuki\\Anaconda3\\envs\\py36\\lib\\site-packages\\ipykernel_launcher.py:6: SettingWithCopyWarning: \n",
      "A value is trying to be set on a copy of a slice from a DataFrame.\n",
      "Try using .loc[row_indexer,col_indexer] = value instead\n",
      "\n",
      "See the caveats in the documentation: http://pandas.pydata.org/pandas-docs/stable/indexing.html#indexing-view-versus-copy\n",
      "  \n"
     ]
    }
   ],
   "source": [
    "#正規化してみる\n",
    "df_2 = data_df1[:len(Y)]\n",
    "del df_2['index']\n",
    "del df_2['Timestamp']\n",
    "print(len(Y),len(df_2))\n",
    "df_2['Close_tomorrow'] = Y\n",
    "print(df_2[len(df_2)-9:])\n",
    "# データセットのサイズを確認\n",
    "print(df_2.shape[0])\n",
    "print(df_2.shape[1])\n",
    "n = df_2.shape[0]\n",
    "p = df_2.shape[1]\n",
    " \n",
    "# 訓練データとテストデータへ切り分け\n",
    "train_start = 30\n",
    "train_end = int(np.floor(0.95*n))\n",
    "test_start = train_end + 1\n",
    "test_end = n\n",
    "data_train = df_2[train_start: train_end]\n",
    "data_test = df_2[test_start:test_end]\n",
    "\n",
    "# データの正規化\n",
    "scaler = MinMaxScaler()\n",
    "print(len(data_train))\n",
    "scaler.fit(data_train)\n",
    "data_train_norm = scaler.transform(data_train)\n",
    "data_test_norm = scaler.transform(data_test)\n",
    "print(data_train_norm.shape,data_test_norm.shape)\n",
    "\n",
    "# 特徴量とターゲットへ切り分け\n",
    "print(type(data_train_norm))\n",
    "train_x = data_train_norm[:,:data_train_norm.shape[1]-1]\n",
    "train_y = data_train_norm[:,data_train_norm.shape[1]-1:]\n",
    "test_x = data_test_norm[:, :data_train_norm.shape[1]-1]\n",
    "test_y = data_test_norm[:, data_train_norm.shape[1]-1:]\n",
    "print(train_x.shape,train_y.shape,test_x.shape,test_y.shape)\n"
   ]
  },
  {
   "cell_type": "code",
   "execution_count": 29,
   "metadata": {},
   "outputs": [],
   "source": [
    "test_y = test_y.reshape(test_y.shape[0], 1)\n",
    "test_inv = np.concatenate(( test_x,test_y), axis=1)\n",
    "test_inv = scaler.inverse_transform(test_inv)"
   ]
  },
  {
   "cell_type": "code",
   "execution_count": null,
   "metadata": {},
   "outputs": [],
   "source": []
  },
  {
   "cell_type": "code",
   "execution_count": 30,
   "metadata": {},
   "outputs": [],
   "source": [
    "train_y=train_y.ravel()"
   ]
  },
  {
   "cell_type": "code",
   "execution_count": null,
   "metadata": {},
   "outputs": [],
   "source": []
  },
  {
   "cell_type": "code",
   "execution_count": null,
   "metadata": {},
   "outputs": [],
   "source": []
  },
  {
   "cell_type": "code",
   "execution_count": 31,
   "metadata": {},
   "outputs": [],
   "source": [
    "rf = RandomForestRegressor(random_state=1234)"
   ]
  },
  {
   "cell_type": "code",
   "execution_count": 32,
   "metadata": {},
   "outputs": [
    {
     "name": "stdout",
     "output_type": "stream",
     "text": [
      "Fitting 3 folds for each of 9 candidates, totalling 27 fits\n"
     ]
    },
    {
     "name": "stderr",
     "output_type": "stream",
     "text": [
      "[Parallel(n_jobs=1)]: Done  27 out of  27 | elapsed:   15.5s finished\n"
     ]
    },
    {
     "data": {
      "text/plain": [
       "GridSearchCV(cv=3, error_score='raise',\n",
       "       estimator=RandomForestRegressor(bootstrap=True, criterion='mse', max_depth=None,\n",
       "           max_features='auto', max_leaf_nodes=None,\n",
       "           min_impurity_decrease=0.0, min_impurity_split=None,\n",
       "           min_samples_leaf=1, min_samples_split=2,\n",
       "           min_weight_fraction_leaf=0.0, n_estimators=10, n_jobs=1,\n",
       "           oob_score=False, random_state=1234, verbose=0, warm_start=False),\n",
       "       fit_params=None, iid=True, n_jobs=1,\n",
       "       param_grid={'n_estimators': [15, 20, 25], 'max_depth': [5, 17, 30]},\n",
       "       pre_dispatch='2*n_jobs', refit=True, return_train_score='warn',\n",
       "       scoring='neg_mean_squared_error', verbose=1)"
      ]
     },
     "execution_count": 32,
     "metadata": {},
     "output_type": "execute_result"
    }
   ],
   "source": [
    "params = {'n_estimators': [15,20,25], 'max_depth': [5,17,30]}\n",
    "gscv = GridSearchCV(rf, param_grid=params, verbose=1,\n",
    "                    cv=3, scoring='neg_mean_squared_error')\n",
    "gscv.fit(train_x, train_y)"
   ]
  },
  {
   "cell_type": "code",
   "execution_count": 33,
   "metadata": {},
   "outputs": [],
   "source": [
    "a = gscv.best_params_"
   ]
  },
  {
   "cell_type": "code",
   "execution_count": 34,
   "metadata": {},
   "outputs": [
    {
     "name": "stdout",
     "output_type": "stream",
     "text": [
      "{'max_depth': 30, 'n_estimators': 25}\n"
     ]
    }
   ],
   "source": [
    "print(a)\n",
    "n_estimators = a.get('n_estimators')\n",
    "max_depth = a.get('max_depth')"
   ]
  },
  {
   "cell_type": "code",
   "execution_count": 35,
   "metadata": {},
   "outputs": [
    {
     "name": "stdout",
     "output_type": "stream",
     "text": [
      "RandomForest MSE:  9.39513385070395e-05\n"
     ]
    }
   ],
   "source": [
    "rf = RandomForestRegressor(n_estimators=n_estimators, max_depth=max_depth,random_state=1234)\n",
    "rf.fit(train_x, train_y)\n",
    "y_pred_rf = rf.predict(test_x)\n",
    "rf_mse = mean_squared_error(test_y, y_pred_rf)\n",
    "print('RandomForest MSE: ', rf_mse)"
   ]
  },
  {
   "cell_type": "code",
   "execution_count": null,
   "metadata": {},
   "outputs": [],
   "source": []
  },
  {
   "cell_type": "code",
   "execution_count": 36,
   "metadata": {},
   "outputs": [
    {
     "name": "stdout",
     "output_type": "stream",
     "text": [
      "(240, 22) (240,) <class 'numpy.ndarray'>\n",
      "[[ 0.          0.          0.         ...  0.          0.\n",
      "   0.31593111]\n",
      " [ 0.          0.          0.         ...  0.          0.\n",
      "  -0.23191867]\n",
      " [ 0.          0.          0.         ...  0.          0.\n",
      "  -0.14318581]\n",
      " ...\n",
      " [ 0.          0.          0.         ...  0.          0.\n",
      "   0.55822267]\n",
      " [ 0.          0.          0.         ...  0.          0.\n",
      "   0.17098267]\n",
      " [ 0.          0.          0.         ...  0.          0.\n",
      "   0.38768667]]\n"
     ]
    }
   ],
   "source": [
    "# 予測値をテストデータに戻そう（値も正規化からインバース）\n",
    "print(test_x.shape,y_pred_rf.T.shape,type(y_pred_rf))\n",
    "a = y_pred_rf.T.reshape(y_pred_rf.T.shape[0],1)\n",
    "pred_tested = np.concatenate(( test_x,a), axis=1)\n",
    "pred_inv = scaler.inverse_transform(pred_tested)\n",
    "print(test_inv-pred_inv)"
   ]
  },
  {
   "cell_type": "code",
   "execution_count": 37,
   "metadata": {},
   "outputs": [],
   "source": [
    "y_pred_rf = pred_inv[:,pred_inv.shape[1]-1:]\n",
    "test_y = test_inv[:,test_inv.shape[1]-1:]\n"
   ]
  },
  {
   "cell_type": "code",
   "execution_count": 38,
   "metadata": {},
   "outputs": [
    {
     "name": "stdout",
     "output_type": "stream",
     "text": [
      "     y_pred_rf  test_y       RMS\n",
      "0    59.983069  60.299  0.315931\n",
      "1    60.470919  60.239 -0.231919\n",
      "2    60.543186  60.400 -0.143186\n",
      "3    60.511207  60.570  0.058793\n",
      "4    60.664114  60.572 -0.092114\n",
      "5    60.559127  60.501 -0.058127\n",
      "6    60.500160  60.149 -0.351160\n",
      "7    60.084283  60.195  0.110717\n",
      "8    60.320544  60.018 -0.302544\n",
      "9    59.969123  60.239  0.269877\n",
      "10   60.510227  59.811 -0.699227\n",
      "11   59.733438  59.456 -0.277438\n",
      "12   59.489166  59.403 -0.086166\n",
      "13   59.459861  59.447 -0.012861\n",
      "14   59.409223  59.540  0.130777\n",
      "15   59.396755  59.514  0.117245\n",
      "16   59.450164  58.890 -0.560164\n",
      "17   59.134862  58.362 -0.772862\n",
      "18   58.643202  58.848  0.204798\n",
      "19   59.069340  58.432 -0.637340\n",
      "20   58.778322  58.840  0.061678\n",
      "21   59.017147  58.589 -0.428147\n",
      "22   58.713213  58.700 -0.013213\n",
      "23   58.542683  58.967  0.424317\n",
      "24   58.965113  58.550 -0.415113\n",
      "25   58.754821  58.407 -0.347821\n",
      "26   58.664756  58.010 -0.654756\n",
      "27   58.297140  58.102 -0.195140\n",
      "28   58.118713  57.978 -0.140713\n",
      "29   58.111101  58.135  0.023899\n",
      "..         ...     ...       ...\n",
      "210  46.025371  47.153  1.127629\n",
      "211  46.826444  47.102  0.275556\n",
      "212  46.874516  46.993  0.118484\n",
      "213  46.731720  46.842  0.110280\n",
      "214  46.500893  46.600  0.099107\n",
      "215  46.393533  46.880  0.486467\n",
      "216  46.278261  46.680  0.401739\n",
      "217  46.092893  46.529  0.436107\n",
      "218  45.816443  46.314  0.497557\n",
      "219  45.705909  46.150  0.444091\n",
      "220  45.471249  46.295  0.823751\n",
      "221  45.512818  46.321  0.808182\n",
      "222  45.574288  46.559  0.984712\n",
      "223  45.748741  46.787  1.038259\n",
      "224  45.763181  46.670  0.906819\n",
      "225  46.171531  46.599  0.427469\n",
      "226  46.116811  46.683  0.566189\n",
      "227  46.076611  46.660  0.583389\n",
      "228  46.073961  47.150  1.076039\n",
      "229  46.490621  47.342  0.851379\n",
      "230  47.200656  46.950 -0.250656\n",
      "231  46.871020  46.995  0.123980\n",
      "232  46.579658  47.003  0.423342\n",
      "233  46.591428  46.978  0.386572\n",
      "234  46.565538  46.704  0.138462\n",
      "235  46.550913  46.583  0.032087\n",
      "236  46.238253  46.754  0.515747\n",
      "237  46.371777  46.930  0.558223\n",
      "238  46.499017  46.670  0.170983\n",
      "239  46.293313  46.681  0.387687\n",
      "\n",
      "[240 rows x 3 columns]\n"
     ]
    }
   ],
   "source": [
    "# 予測結果を出力します。これはランダムフォレスト\n",
    "result = pd.DataFrame(y_pred_rf)\n",
    "result.columns = ['y_pred_rf']\n",
    "result['test_y'] = test_y\n",
    "#２乗平均誤差ではなく、ただの差\n",
    "result['RMS'] = (result['test_y']-result['y_pred_rf'])\n",
    "print(result.loc[:])"
   ]
  },
  {
   "cell_type": "code",
   "execution_count": 39,
   "metadata": {},
   "outputs": [],
   "source": [
    "# Plot拡大\n",
    "plt.plot(range(0,len(result[0:24])), test_y[len(test_y)-24:], label='Actual price', color='blue', marker = 'o')\n",
    "plt.plot(range(0,len(result[0:24])), y_pred_rf[len(test_y)-24:], label='Predicted price', color='red', marker ='x')\n",
    "plt.xlabel(span)\n",
    "plt.ylabel('Price (\\)')\n",
    "n3='{0} Price by RandomForest'.format(trade_name)\n",
    "plt.title(n3)\n",
    "plt.grid(True)\n",
    "plt.legend()\n",
    "n4='{0}2 by RandomForest.png'.format(trade_name)\n",
    "plt.savefig(n4)\n",
    "plt.close()\n",
    "plt.show()"
   ]
  },
  {
   "cell_type": "code",
   "execution_count": 40,
   "metadata": {},
   "outputs": [],
   "source": [
    "# 変数増加法を実行する関数\n",
    "def get_gfs_feature_indices(X, y, features, clf):\n",
    "    X_train_, X_test_, y_train_, y_test_ = \\\n",
    "        train_test_split(X, y, test_size=0.3, shuffle=False)\n",
    "    feature_indices = {feature: idx for idx, feature in enumerate(features)}\n",
    "    features = set(features)\n",
    "    last_mse = np.inf\n",
    "    chosen_features = set()\n",
    "    while len(chosen_features) < len(features):\n",
    "        mse_features = []\n",
    "        for feature in (features - chosen_features):\n",
    "            candidates = chosen_features.union(set([feature]))\n",
    "            indices = [feature_indices[feature] for feature in candidates]\n",
    "            clf.fit(X_train_[:, indices], y_train_)\n",
    "            y_pred = clf.predict(X_test_[:, indices])\n",
    "            mse = mean_squared_error(y_test_, y_pred)\n",
    "            mse_features += [(mse, feature)]\n",
    "        mse, feature = min(mse_features)\n",
    "        if mse >= last_mse:\n",
    "            break\n",
    "        last_mse = mse\n",
    "        print('Newly Added Feature: {},\\tMSE Score: {}'.format(feature, mse))\n",
    "        chosen_features.add(feature)\n",
    "    return [feature_indices[feature] for feature in chosen_features]"
   ]
  },
  {
   "cell_type": "code",
   "execution_count": 41,
   "metadata": {},
   "outputs": [
    {
     "name": "stdout",
     "output_type": "stream",
     "text": [
      "['a', 'b', 'c', 'd', 'e', 'f', 'g', 'h', 'i', 'j', 'k', 'l', 'm', 'n', 'o', 'p', 'q', 'r', 's', 't', 'u', 'v'] 22\n",
      "Newly Added Feature: d,\tMSE Score: 0.0016400158352345734\n",
      "Newly Added Feature: o,\tMSE Score: 0.0016304403380237014\n",
      "Newly Added Feature: n,\tMSE Score: 0.00159752029419611\n",
      "[3, 14, 13]\n"
     ]
    }
   ],
   "source": [
    "# 上記関数を使用して変数増加法を実行し、MSEを算出\n",
    "#feature_cols = list('abcdefghij')\n",
    "feature_cols = list('abcdefghijklmnopqrstuv')\n",
    "print(feature_cols,len(feature_cols))\n",
    "\n",
    "selected_feature_index_by_RandomForestRegressor = get_gfs_feature_indices(X=train_x,y=train_y,features=feature_cols,clf= RandomForestRegressor())\n",
    "print(selected_feature_index_by_RandomForestRegressor)"
   ]
  },
  {
   "cell_type": "code",
   "execution_count": 42,
   "metadata": {},
   "outputs": [
    {
     "name": "stdout",
     "output_type": "stream",
     "text": [
      "RandomForest MSE:  2718.3645572519486\n"
     ]
    }
   ],
   "source": [
    "#ランダムフォレスト\n",
    "rf = RandomForestRegressor(random_state=1234)\n",
    "rf.fit(train_x[:, selected_feature_index_by_RandomForestRegressor], train_y)\n",
    "y_pred_rf = rf.predict(test_x[:, selected_feature_index_by_RandomForestRegressor])\n",
    "rf_mse = mean_squared_error(test_y, y_pred_rf)\n",
    "print('RandomForest MSE: ', rf_mse)"
   ]
  },
  {
   "cell_type": "code",
   "execution_count": 43,
   "metadata": {},
   "outputs": [
    {
     "name": "stdout",
     "output_type": "stream",
     "text": [
      "Fitting 3 folds for each of 9 candidates, totalling 27 fits\n"
     ]
    },
    {
     "name": "stderr",
     "output_type": "stream",
     "text": [
      "[Parallel(n_jobs=1)]: Done  27 out of  27 | elapsed:    1.8s finished\n"
     ]
    },
    {
     "data": {
      "text/plain": [
       "GridSearchCV(cv=3, error_score='raise',\n",
       "       estimator=RandomForestRegressor(bootstrap=True, criterion='mse', max_depth=None,\n",
       "           max_features='auto', max_leaf_nodes=None,\n",
       "           min_impurity_decrease=0.0, min_impurity_split=None,\n",
       "           min_samples_leaf=1, min_samples_split=2,\n",
       "           min_weight_fraction_leaf=0.0, n_estimators=10, n_jobs=1,\n",
       "           oob_score=False, random_state=1234, verbose=0, warm_start=False),\n",
       "       fit_params=None, iid=True, n_jobs=1,\n",
       "       param_grid={'n_estimators': [15, 20, 25], 'max_depth': [6, 10, 20]},\n",
       "       pre_dispatch='2*n_jobs', refit=True, return_train_score='warn',\n",
       "       scoring='neg_mean_squared_error', verbose=1)"
      ]
     },
     "execution_count": 43,
     "metadata": {},
     "output_type": "execute_result"
    }
   ],
   "source": [
    "params = {'n_estimators': [15,20,25], 'max_depth': [6,10,20]}\n",
    "gscv = GridSearchCV(rf, param_grid=params, verbose=1,\n",
    "                    cv=3, scoring='neg_mean_squared_error')\n",
    "gscv.fit(train_x[:, selected_feature_index_by_RandomForestRegressor], train_y)"
   ]
  },
  {
   "cell_type": "code",
   "execution_count": 44,
   "metadata": {},
   "outputs": [],
   "source": [
    "a = gscv.best_params_"
   ]
  },
  {
   "cell_type": "code",
   "execution_count": 45,
   "metadata": {},
   "outputs": [
    {
     "name": "stdout",
     "output_type": "stream",
     "text": [
      "{'max_depth': 10, 'n_estimators': 15}\n"
     ]
    }
   ],
   "source": [
    "print(a)\n",
    "n_estimators = a.get('n_estimators')\n",
    "max_depth = a.get('max_depth')"
   ]
  },
  {
   "cell_type": "code",
   "execution_count": 46,
   "metadata": {},
   "outputs": [
    {
     "name": "stdout",
     "output_type": "stream",
     "text": [
      "RandomForest MSE:  2718.38982855276\n"
     ]
    }
   ],
   "source": [
    "rf = RandomForestRegressor(n_estimators=n_estimators, max_depth=max_depth,random_state=1234)\n",
    "rf.fit(train_x[:, selected_feature_index_by_RandomForestRegressor], train_y)\n",
    "y_pred_rf_gfs = rf.predict(test_x[:, selected_feature_index_by_RandomForestRegressor])\n",
    "rf_mse = mean_squared_error(test_y, y_pred_rf_gfs)\n",
    "print('RandomForest MSE: ', rf_mse)"
   ]
  },
  {
   "cell_type": "code",
   "execution_count": null,
   "metadata": {},
   "outputs": [],
   "source": []
  },
  {
   "cell_type": "code",
   "execution_count": 47,
   "metadata": {},
   "outputs": [
    {
     "name": "stdout",
     "output_type": "stream",
     "text": [
      "(240, 22) (240,) <class 'numpy.ndarray'>\n",
      "[[ 0.          0.          0.         ...  0.          0.\n",
      "   0.25150951]\n",
      " [ 0.          0.          0.         ...  0.          0.\n",
      "  -0.04011297]\n",
      " [ 0.          0.          0.         ...  0.          0.\n",
      "  -0.02801902]\n",
      " ...\n",
      " [ 0.          0.          0.         ...  0.          0.\n",
      "   0.09460056]\n",
      " [ 0.          0.          0.         ...  0.          0.\n",
      "  -0.17473278]\n",
      " [ 0.          0.          0.         ...  0.          0.\n",
      "   0.21463556]]\n"
     ]
    }
   ],
   "source": [
    "# 予測値をテストデータに戻そう（値も正規化からインバース）\n",
    "print(test_x.shape,y_pred_rf_gfs.T.shape,type(y_pred_rf_gfs))\n",
    "b=y_pred_rf_gfs.T.reshape(y_pred_rf_gfs.T.shape[0],1)\n",
    "pred_tested = np.concatenate(( test_x,b), axis=1)\n",
    "pred_inv = scaler.inverse_transform(pred_tested)\n",
    "print(test_inv-pred_inv)"
   ]
  },
  {
   "cell_type": "code",
   "execution_count": 48,
   "metadata": {},
   "outputs": [],
   "source": [
    "y_pred_rf_gfs = pred_inv[:,pred_inv.shape[1]-1:]\n",
    "test_y = test_inv[:,test_inv.shape[1]-1:]\n"
   ]
  },
  {
   "cell_type": "code",
   "execution_count": 49,
   "metadata": {},
   "outputs": [
    {
     "name": "stdout",
     "output_type": "stream",
     "text": [
      "     y_pred_rf_gfs  test_y       RMS\n",
      "0        60.047490  60.299  0.251510\n",
      "1        60.279113  60.239 -0.040113\n",
      "2        60.428019  60.400 -0.028019\n",
      "3        60.500030  60.570  0.069970\n",
      "4        60.532285  60.572  0.039715\n",
      "5        60.532285  60.501 -0.031285\n",
      "6        60.485040  60.149 -0.336040\n",
      "7        59.938227  60.195  0.256773\n",
      "8        59.621875  60.018  0.396125\n",
      "9        59.938227  60.239  0.300773\n",
      "10       60.428019  59.811 -0.617019\n",
      "11       60.257180  59.456 -0.801180\n",
      "12       59.384158  59.403  0.018842\n",
      "13       59.301704  59.447  0.145296\n",
      "14       59.384158  59.540  0.155842\n",
      "15       59.467226  59.514  0.046774\n",
      "16       59.467226  58.890 -0.577226\n",
      "17       58.981481  58.362 -0.619481\n",
      "18       58.366921  58.848  0.481079\n",
      "19       58.882371  58.432 -0.450371\n",
      "20       58.289590  58.840  0.550410\n",
      "21       58.996133  58.589 -0.407133\n",
      "22       59.669185  58.700 -0.969185\n",
      "23       59.055653  58.967 -0.088653\n",
      "24       59.238752  58.550 -0.688752\n",
      "25       59.659058  58.407 -1.252058\n",
      "26       58.265368  58.010 -0.255368\n",
      "27       58.137716  58.102 -0.035716\n",
      "28       58.144550  57.978 -0.166550\n",
      "29       57.711736  58.135  0.423264\n",
      "..             ...     ...       ...\n",
      "210      46.879933  47.153  0.273067\n",
      "211      46.931920  47.102  0.170080\n",
      "212      46.905920  46.993  0.087080\n",
      "213      46.979965  46.842 -0.137965\n",
      "214      46.870733  46.600 -0.270733\n",
      "215      46.466364  46.880  0.413636\n",
      "216      46.844733  46.680 -0.164733\n",
      "217      46.466364  46.529  0.062636\n",
      "218      46.466364  46.314 -0.152364\n",
      "219      46.283569  46.150 -0.133569\n",
      "220      46.084096  46.295  0.210904\n",
      "221      46.206836  46.321  0.114164\n",
      "222      46.283569  46.559  0.275431\n",
      "223      46.466364  46.787  0.320636\n",
      "224      46.870733  46.670 -0.200733\n",
      "225      46.466364  46.599  0.132636\n",
      "226      46.466364  46.683  0.216636\n",
      "227      46.466364  46.660  0.193636\n",
      "228      46.466364  47.150  0.683636\n",
      "229      46.931920  47.342  0.410080\n",
      "230      47.197102  46.950 -0.247102\n",
      "231      46.979965  46.995  0.015035\n",
      "232      46.979965  47.003  0.023035\n",
      "233      46.979965  46.978 -0.001965\n",
      "234      46.979965  46.704 -0.275965\n",
      "235      46.466364  46.583  0.116636\n",
      "236      46.466364  46.754  0.287636\n",
      "237      46.835399  46.930  0.094601\n",
      "238      46.844733  46.670 -0.174733\n",
      "239      46.466364  46.681  0.214636\n",
      "\n",
      "[240 rows x 3 columns]\n"
     ]
    }
   ],
   "source": [
    "# 予測結果を出力します。これはランダムフォレスト\n",
    "result = pd.DataFrame(y_pred_rf_gfs)\n",
    "result.columns = ['y_pred_rf_gfs']\n",
    "result['test_y'] = test_y\n",
    "#２乗平均誤差ではなく、ただの差\n",
    "result['RMS'] = (result['test_y']-result['y_pred_rf_gfs'])\n",
    "print(result.loc[:])"
   ]
  },
  {
   "cell_type": "code",
   "execution_count": 50,
   "metadata": {},
   "outputs": [],
   "source": [
    "# Plot拡大\n",
    "plt.plot(range(0,len(result[0:24])), test_y[len(test_y)-24:], label='Actual price', color='blue', marker = 'o')\n",
    "plt.plot(range(0,len(result[0:24])), y_pred_rf_gfs[len(test_y)-24:], label='Predicted price', color='red', marker ='x')\n",
    "plt.xlabel(span)\n",
    "plt.ylabel('Price (\\)')\n",
    "n3='{0} Price by RandomForest gfs'.format(trade_name)\n",
    "plt.title(n3)\n",
    "plt.grid(True)\n",
    "plt.legend()\n",
    "n4='{0}2 by RandomForest gfs.png'.format(trade_name)\n",
    "plt.savefig(n4)\n",
    "plt.close()\n",
    "plt.show()"
   ]
  },
  {
   "cell_type": "code",
   "execution_count": null,
   "metadata": {},
   "outputs": [],
   "source": []
  },
  {
   "cell_type": "code",
   "execution_count": null,
   "metadata": {},
   "outputs": [],
   "source": []
  }
 ],
 "metadata": {
  "kernelspec": {
   "display_name": "Python 3",
   "language": "python",
   "name": "python3"
  },
  "language_info": {
   "codemirror_mode": {
    "name": "ipython",
    "version": 3
   },
   "file_extension": ".py",
   "mimetype": "text/x-python",
   "name": "python",
   "nbconvert_exporter": "python",
   "pygments_lexer": "ipython3",
   "version": "3.6.5"
  }
 },
 "nbformat": 4,
 "nbformat_minor": 2
}
