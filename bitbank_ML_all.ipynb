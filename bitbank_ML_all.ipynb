{
 "cells": [
  {
   "cell_type": "code",
   "execution_count": 1,
   "metadata": {},
   "outputs": [],
   "source": [
    "#できること一覧\n",
    "#データ取得\n",
    "#dataframeに格納\n",
    "#時間可視化\n",
    "#移動平均線\n",
    "#ゴールデン・デッドクロス\n",
    "#上下判定\n",
    "#ボリンジャーバンド\n",
    "#トレンドラインを作成（支持線・抵抗線・直近）\n",
    "#機械学習（ランダムフォレスト）\n",
    "#gfs\n",
    "#グラフ\n",
    "\n"
   ]
  },
  {
   "cell_type": "code",
   "execution_count": 2,
   "metadata": {},
   "outputs": [],
   "source": [
    "#python_bitbankccのパッケージをインポート\n",
    "#cloud9で起動するときのコマンド\n",
    "#jupyter notebook --ip $IP --port $PORT --no-browser\n",
    "import python_bitbankcc \n",
    "import datetime\n",
    "import os \n",
    "import time\n",
    "import numpy as np\n",
    "import pandas as pd\n",
    "import sys\n",
    "from dateutil.relativedelta import relativedelta\n",
    "#トレンドラインを引くため\n",
    "from scipy.stats import linregress\n",
    "#正規化\n",
    "from sklearn.preprocessing import MinMaxScaler"
   ]
  },
  {
   "cell_type": "code",
   "execution_count": 3,
   "metadata": {},
   "outputs": [],
   "source": [
    "#機械学習用のモジュール\n",
    "import matplotlib as mpl\n",
    "mpl.use('Agg')\n",
    "import matplotlib.pyplot as plt\n",
    "from sklearn import linear_model\n",
    "% matplotlib inline\n",
    "from __future__ import print_function\n",
    "import copy\n",
    "import matplotlib\n",
    "matplotlib.style.use('ggplot')\n",
    "\n",
    "from sklearn.linear_model import LinearRegression\n",
    "from sklearn.tree import DecisionTreeRegressor\n",
    "from sklearn.ensemble import RandomForestRegressor\n",
    "\n",
    "from sklearn.model_selection import GridSearchCV\n",
    "from sklearn.model_selection import train_test_split\n",
    "from sklearn.metrics import mean_squared_error"
   ]
  },
  {
   "cell_type": "code",
   "execution_count": 4,
   "metadata": {},
   "outputs": [],
   "source": [
    "# public API classのオブジェクトを取得\n",
    "pub = python_bitbankcc.public()"
   ]
  },
  {
   "cell_type": "code",
   "execution_count": 5,
   "metadata": {},
   "outputs": [],
   "source": [
    "#APIから基本データの取得、dataframeへ挿入\n",
    "def get_candle(trade_name,span,back_day):\n",
    "    # ロウソク足データを取得\n",
    "    pub = python_bitbankcc.public()\n",
    "    value = pub.get_candlestick( trade_name,span, back_day )\n",
    "    candle = value['candlestick'][0]\n",
    "    #print(candle['ohlcv'][0])\n",
    "    dataframe = pd.DataFrame(candle['ohlcv'],columns=[\"Open\", \"High\",\"Low\",\"Close\",\"Volume\",\"Timestamp\"])\n",
    "    return dataframe\n"
   ]
  },
  {
   "cell_type": "code",
   "execution_count": 6,
   "metadata": {},
   "outputs": [],
   "source": [
    "#指定した日から今日までの基本データをdataframeにして取得\n",
    "#back_day,todayはdatetime\n",
    "# span = ['1min', '5min', '15min', '30min', '1hour', '4hour', '8hour', '12hour', '1day', '1week']\n",
    "#trade_name = ['btc_jpy', 'xrp_jpy', 'ltc_btc', 'eth_btc', 'mona_jpy', 'mona_btc', 'bcc_jpy', 'bcc_btc']\n",
    "\n",
    "def make_df(trade_name,span,back_day,today):\n",
    "    i = 1\n",
    "    if (span =='1min')or(span== '5min')or(span== '15min')or(span== '30min')or(span== '1hour'):\n",
    "        #基準が９時なので、そこを合わせてあげる\n",
    "        if 0 <= today.hour < 9:\n",
    "            k = 1\n",
    "        elif 9 <= today.hour <= 23:\n",
    "            k = 0\n",
    "\n",
    "        while back_day <= today - datetime.timedelta(days=k):\n",
    "            if i == 1:\n",
    "                df1 = get_candle(trade_name,span,datetime.datetime.strftime(back_day, '%Y%m%d'))\n",
    "                back_day = back_day + datetime.timedelta(days=1)\n",
    "                #print(back_day,len(df1))\n",
    "                i += 1\n",
    "            else:\n",
    "                df2 = get_candle(trade_name,span,datetime.datetime.strftime(back_day, '%Y%m%d'))\n",
    "                df1 = pd.concat([df1, df2])\n",
    "                back_day = back_day + datetime.timedelta(days=1)\n",
    "                #print(back_day,len(df1))\n",
    "                i += 1\n",
    "    else:\n",
    "        \n",
    "        today = datetime.date(today.year, today.month, today.day)\n",
    "        back_day = datetime.date(back_day.year, back_day.month, back_day.day)\n",
    "\n",
    "\n",
    "        while back_day <= today:\n",
    "            if i == 1:\n",
    "                df1 = get_candle(trade_name,span,datetime.datetime.strftime(back_day, '%Y'))\n",
    "                back_day = back_day + relativedelta(years=1)\n",
    "                i += 1\n",
    "            else:\n",
    "                df2 = get_candle(trade_name,span,datetime.datetime.strftime(back_day, '%Y'))\n",
    "                df1 = pd.concat([df1, df2])\n",
    "                back_day = back_day +  relativedelta(years=1)\n",
    "                i += 1\n",
    "            \n",
    "\n",
    "    return df1\n",
    "\n"
   ]
  },
  {
   "cell_type": "code",
   "execution_count": 7,
   "metadata": {},
   "outputs": [],
   "source": [
    "def read_date(x):\n",
    "    return datetime.datetime.fromtimestamp(x/1000)\n"
   ]
  },
  {
   "cell_type": "code",
   "execution_count": 8,
   "metadata": {},
   "outputs": [],
   "source": [
    "\n",
    "# 単純移動平均（SMA）を取得する関数\n",
    "#上記のdfデータフレーム\n",
    "#numいくつの平均を求めるか\n",
    "def getMA( df,num ):\n",
    " \n",
    "    tmp = []\n",
    "    avg = np.array([])\n",
    "    for i in range(len(df) - num + 1):\n",
    "        for j in range(num):\n",
    "            #print(df['Close'][i+j])\n",
    "            tmp.append( df['Close'][i+j])\n",
    "            \n",
    "         # 平均値計算\n",
    "        value = np.average(tmp)\n",
    "        avg = np.append(avg,value)\n",
    "        tmp = []\n",
    "    \n",
    "    return avg"
   ]
  },
  {
   "cell_type": "code",
   "execution_count": 9,
   "metadata": {},
   "outputs": [],
   "source": [
    "def getSTD( df,num ):\n",
    " \n",
    "    tmp = []\n",
    "    std = np.array([])\n",
    "    for i in range(len(df) - num + 1):\n",
    "        for j in range(num):\n",
    "            #print(df['Close'][i+j])\n",
    "            tmp.append( df['Close'][i+j])\n",
    "            \n",
    "         # 平均値計算\n",
    "        value = np.std(tmp)\n",
    "        std = np.append(std,value)\n",
    "        tmp = []\n",
    "    \n",
    "    return std"
   ]
  },
  {
   "cell_type": "code",
   "execution_count": 10,
   "metadata": {},
   "outputs": [],
   "source": [
    "#ゴールデン・デッドクロス判定\n",
    "def golden_dead(data_df1):\n",
    "    golden=np.zeros(len(data_df1['Cross']),dtype=int)\n",
    "    dead=np.zeros(len(data_df1['Cross']),dtype=int)\n",
    "    for i in range(len(data_df1['Cross'])-1):\n",
    "        x = data_df1['Cross'][i]\n",
    "        y = data_df1['Cross'][i+1]\n",
    "        if ((x <= 0) & (y<=0)) |((x >= 0) & (y>=0)):\n",
    "            pass\n",
    "        elif ((x <= 0) & (y>=0)) :\n",
    "            golden=np.insert(golden,i+1,1)\n",
    "            golden=np.delete(golden,i+2)\n",
    "        elif ((x >= 0) & (y<=0)) :\n",
    "            dead=np.insert(dead,i+1,1)\n",
    "            dead=np.delete(dead,i+2)\n",
    "\n",
    "    return golden,dead\n",
    "    "
   ]
  },
  {
   "cell_type": "code",
   "execution_count": 11,
   "metadata": {},
   "outputs": [],
   "source": [
    "#highトレンドラインを作成する関数\n",
    "#df データフレーム\n",
    "#num どれだけ前から\n",
    "def make_high_trend_line(df,num):\n",
    "    slope= np.zeros(num-1,dtype=float)\n",
    "    intercept = np.zeros(num-1,dtype=float)\n",
    "    for i in range(len(df)-num+1):        \n",
    "        df_fin = df.copy()\n",
    "        df_fin = df_fin[i:i+num]\n",
    "        df_high = df.copy()\n",
    "        df_high = df_high[i:i+num]\n",
    "    \n",
    "        # 高値のトレンドライン\n",
    "        while len(df_high)>3:\n",
    "            reg_1 = linregress(x=df_high['index'],y=df_high['High'])\n",
    "            df_high  =  df_high.loc[df_high['High']>reg_1[0]*df_high['index']+reg_1[1]]\n",
    "\n",
    "        if len(df_high)<=1:\n",
    "            pass\n",
    "        else:\n",
    "            reg_1 = linregress(x=df_high['index'],y=df_high['High'])\n",
    "        \n",
    "        slope = np.append(slope,reg_1[0])\n",
    "        intercept  = np.append(intercept ,reg_1[1])\n",
    "    return slope,intercept    "
   ]
  },
  {
   "cell_type": "code",
   "execution_count": 12,
   "metadata": {},
   "outputs": [],
   "source": [
    "#lowトレンドラインを作成する関数\n",
    "#df データフレーム\n",
    "#num どれだけ前から\n",
    "def make_low_trend_line(df,num):\n",
    "    slope= np.zeros(num-1,dtype=float)\n",
    "    intercept = np.zeros(num-1,dtype=float)\n",
    "    for i in range(len(df)-num+1):        \n",
    "        df_fin = df.copy()\n",
    "        df_fin = df_fin[i:i+num]\n",
    "        df_low = df.copy()\n",
    "        df_low = df_low[i:i+num]\n",
    "\n",
    "    # 安値のトレンドライン\n",
    "        while len(df_low)>3: \n",
    "            reg_2 = linregress( x = df_low['index'], y = df_low['Low']   )\n",
    "            df_low = df_low.loc[df_low['Low'] < reg_2[0] * df_low['index'] + reg_2[1]]\n",
    "\n",
    "        if len(df_low)<=1:\n",
    "            pass\n",
    "        else:\n",
    "            reg_2 = linregress(x = df_low['index'],y = df_low['Low'])\n",
    "            \n",
    "        slope = np.append(slope,reg_2[0])\n",
    "        intercept  = np.append(intercept ,reg_2[1])\n",
    "    return slope,intercept    "
   ]
  },
  {
   "cell_type": "code",
   "execution_count": 13,
   "metadata": {},
   "outputs": [],
   "source": [
    "#slope,傾き　intercept,切片　df、データフレーム\n",
    "def make_trend_value(slope,intercept,df):\n",
    "    index = np.array(df['index'])\n",
    "    trend_value = slope*index + intercept\n",
    "    return trend_value"
   ]
  },
  {
   "cell_type": "code",
   "execution_count": 14,
   "metadata": {},
   "outputs": [],
   "source": [
    "#関数の使い方\n",
    "today = datetime.datetime.today() \n",
    "back_day = today - datetime.timedelta(days=90)\n",
    "trade_name = 'xrp_jpy'\n",
    "span = '30min'\n",
    "num = 5"
   ]
  },
  {
   "cell_type": "code",
   "execution_count": 15,
   "metadata": {},
   "outputs": [
    {
     "name": "stdout",
     "output_type": "stream",
     "text": [
      "29.37573480606079\n",
      "      index    Open    High     Low   Close        Volume           Timestamp\n",
      "4342   22.0  41.339  41.346  40.902  41.230  5.392301e+06 2018-12-02 20:00:00\n",
      "4343   23.0  41.230  41.350  41.150  41.305  1.683759e+06 2018-12-02 20:30:00\n",
      "4344   24.0  41.305  41.500  41.250  41.416  3.133224e+06 2018-12-02 21:00:00\n",
      "4345   25.0  41.427  41.699  41.402  41.450  3.466664e+06 2018-12-02 21:30:00\n",
      "4346   26.0  41.450  41.589  41.380  41.395  1.182986e+06 2018-12-02 22:00:00\n"
     ]
    }
   ],
   "source": [
    "#基本データの取得\n",
    "old = time.time()\n",
    "data_df1 =  make_df(trade_name,span,back_day,today)\n",
    "data_df1['Timestamp'] = data_df1['Timestamp'].apply(read_date)\n",
    "#indexの割り振り\n",
    "data_df1 = data_df1.reset_index()\n",
    "#df1の値は全てstrなのでTimestamp以外floatにキャストする\n",
    "#Timestampは文字列のままでいいので削除することを指定\n",
    "execlude = ['Timestamp']\n",
    "cast = [col for col in data_df1.columns if col not in execlude]\n",
    "for item in cast:\n",
    "    data_df1 = data_df1.astype({item: float})\n",
    "\n",
    "print(time.time()-old)\n",
    "print(data_df1.tail())"
   ]
  },
  {
   "cell_type": "code",
   "execution_count": 16,
   "metadata": {},
   "outputs": [
    {
     "name": "stdout",
     "output_type": "stream",
     "text": [
      "[ 0.       0.       0.      ... 41.82796 41.79888 41.77068] [ 0.      0.      0.     ... 41.3766 41.348  41.3592]\n",
      "(4347,) <class 'numpy.ndarray'> (4347,) <class 'numpy.ndarray'>\n"
     ]
    }
   ],
   "source": [
    "#移動平均線np\n",
    "MA5 = getMA( data_df1,num)\n",
    "MA25 = getMA( data_df1,num+20)\n",
    "zero5 = np.zeros(num-1,dtype = float )\n",
    "zero25 = np.zeros(num+20-1,dtype = float )\n",
    "MA5 = np.insert(MA5, 0, zero5)\n",
    "MA25 = np.insert(MA25, 0, zero25)\n",
    "print(MA25,MA5)\n",
    "print(MA25.shape,type(MA25),MA5.shape,type(MA5))"
   ]
  },
  {
   "cell_type": "code",
   "execution_count": 17,
   "metadata": {},
   "outputs": [
    {
     "name": "stdout",
     "output_type": "stream",
     "text": [
      "[0.         0.         0.         ... 0.12362298 0.07859008 0.08047708] (4347,) <class 'numpy.ndarray'>\n"
     ]
    }
   ],
   "source": [
    "#標準偏差計算\n",
    "STD5 = getSTD( data_df1,num)\n",
    "zero5 = np.zeros(num-1,dtype = float )\n",
    "STD5 = np.insert(STD5, 0, zero5)\n",
    "print(STD5,STD5.shape,type(STD5))"
   ]
  },
  {
   "cell_type": "code",
   "execution_count": 18,
   "metadata": {},
   "outputs": [],
   "source": [
    "#自作変数を作成する\n",
    "data_df1['High-Low']=data_df1['High']-data_df1['Low']\n",
    "data_df1['Close-Open']=data_df1['Close']-data_df1['Open']\n",
    "data_df1['Similarity'] = data_df1['Close-Open'] / (data_df1['High-Low'] + 0.000001)\n",
    "data_df1['(High-Low)*Volume '] = data_df1['High-Low']*data_df1['Volume']\n",
    "data_df1['(Close-Open)*Volume '] = data_df1['Close-Open']*data_df1['Volume']\n",
    "data_df1['High-Low']\n",
    "data_df1['MA5'] = MA5\n",
    "data_df1['MA25'] = MA25\n",
    "data_df1['Cross'] = MA5 - MA25\n",
    "data_df1['index'] = data_df1.index + 1\n",
    "data_df1['bbd_p1']= MA5 + (STD5 * 1)\n",
    "data_df1['bbd_p2']= MA5 + (STD5 * 2)\n",
    "data_df1['bbd_p3']= MA5 + (STD5 * 3)\n",
    "data_df1['bbd_m1']= MA5 - (STD5 * 1)\n",
    "data_df1['bbd_m2']= MA5 - (STD5 * 2)\n",
    "data_df1['bbd_m3']= MA5 - (STD5 * 3)"
   ]
  },
  {
   "cell_type": "code",
   "execution_count": 19,
   "metadata": {},
   "outputs": [],
   "source": [
    "data_df1['golden'],data_df1['dead']  = golden_dead(data_df1)"
   ]
  },
  {
   "cell_type": "code",
   "execution_count": 20,
   "metadata": {},
   "outputs": [
    {
     "name": "stdout",
     "output_type": "stream",
     "text": [
      "47.75989055633545\n"
     ]
    }
   ],
   "source": [
    "old1 = time.time()\n",
    "slope1,intercept1 = make_high_trend_line(df=data_df1,num=32)\n",
    "print(time.time()-old1)"
   ]
  },
  {
   "cell_type": "code",
   "execution_count": 21,
   "metadata": {},
   "outputs": [
    {
     "name": "stdout",
     "output_type": "stream",
     "text": [
      "50.378337383270264\n"
     ]
    }
   ],
   "source": [
    "old1 = time.time()\n",
    "slope2,intercept2 = make_low_trend_line(df=data_df1,num=32)\n",
    "print(time.time()-old1)"
   ]
  },
  {
   "cell_type": "code",
   "execution_count": 22,
   "metadata": {},
   "outputs": [],
   "source": [
    "tr_high = make_trend_value(slope1,intercept1,data_df1)\n",
    "tr_low  = make_trend_value(slope2,intercept2,data_df1)"
   ]
  },
  {
   "cell_type": "code",
   "execution_count": 23,
   "metadata": {},
   "outputs": [],
   "source": [
    "data_df1['high_slope'] = slope1\n",
    "data_df1['low_slope'] = slope2\n",
    "data_df1['tr_high'] = tr_high\n",
    "data_df1['tr_low'] = tr_low\n",
    "data_df1['tr_mid'] = (tr_high + tr_low)/2"
   ]
  },
  {
   "cell_type": "code",
   "execution_count": 24,
   "metadata": {},
   "outputs": [
    {
     "name": "stdout",
     "output_type": "stream",
     "text": [
      "134.19538760185242\n"
     ]
    },
    {
     "data": {
      "text/html": [
       "<div>\n",
       "<style scoped>\n",
       "    .dataframe tbody tr th:only-of-type {\n",
       "        vertical-align: middle;\n",
       "    }\n",
       "\n",
       "    .dataframe tbody tr th {\n",
       "        vertical-align: top;\n",
       "    }\n",
       "\n",
       "    .dataframe thead th {\n",
       "        text-align: right;\n",
       "    }\n",
       "</style>\n",
       "<table border=\"1\" class=\"dataframe\">\n",
       "  <thead>\n",
       "    <tr style=\"text-align: right;\">\n",
       "      <th></th>\n",
       "      <th>index</th>\n",
       "      <th>Open</th>\n",
       "      <th>High</th>\n",
       "      <th>Low</th>\n",
       "      <th>Close</th>\n",
       "      <th>Volume</th>\n",
       "      <th>Timestamp</th>\n",
       "      <th>High-Low</th>\n",
       "      <th>Close-Open</th>\n",
       "      <th>Similarity</th>\n",
       "      <th>...</th>\n",
       "      <th>bbd_m1</th>\n",
       "      <th>bbd_m2</th>\n",
       "      <th>bbd_m3</th>\n",
       "      <th>golden</th>\n",
       "      <th>dead</th>\n",
       "      <th>high_slope</th>\n",
       "      <th>low_slope</th>\n",
       "      <th>tr_high</th>\n",
       "      <th>tr_low</th>\n",
       "      <th>tr_mid</th>\n",
       "    </tr>\n",
       "  </thead>\n",
       "  <tbody>\n",
       "    <tr>\n",
       "      <th>4338</th>\n",
       "      <td>4339</td>\n",
       "      <td>41.598</td>\n",
       "      <td>41.975</td>\n",
       "      <td>41.589</td>\n",
       "      <td>41.781</td>\n",
       "      <td>5.186700e+06</td>\n",
       "      <td>2018-12-02 18:00:00</td>\n",
       "      <td>0.386</td>\n",
       "      <td>0.183</td>\n",
       "      <td>0.474092</td>\n",
       "      <td>...</td>\n",
       "      <td>41.559869</td>\n",
       "      <td>41.480539</td>\n",
       "      <td>41.401208</td>\n",
       "      <td>0</td>\n",
       "      <td>0</td>\n",
       "      <td>-0.083500</td>\n",
       "      <td>-0.016941</td>\n",
       "      <td>41.535500</td>\n",
       "      <td>41.176471</td>\n",
       "      <td>41.355985</td>\n",
       "    </tr>\n",
       "    <tr>\n",
       "      <th>4339</th>\n",
       "      <td>4340</td>\n",
       "      <td>41.795</td>\n",
       "      <td>41.870</td>\n",
       "      <td>41.606</td>\n",
       "      <td>41.660</td>\n",
       "      <td>2.114254e+06</td>\n",
       "      <td>2018-12-02 18:30:00</td>\n",
       "      <td>0.264</td>\n",
       "      <td>-0.135</td>\n",
       "      <td>-0.511362</td>\n",
       "      <td>...</td>\n",
       "      <td>41.571340</td>\n",
       "      <td>41.493279</td>\n",
       "      <td>41.415219</td>\n",
       "      <td>0</td>\n",
       "      <td>0</td>\n",
       "      <td>-0.083500</td>\n",
       "      <td>-0.017284</td>\n",
       "      <td>41.452000</td>\n",
       "      <td>41.151544</td>\n",
       "      <td>41.301772</td>\n",
       "    </tr>\n",
       "    <tr>\n",
       "      <th>4340</th>\n",
       "      <td>4341</td>\n",
       "      <td>41.661</td>\n",
       "      <td>41.680</td>\n",
       "      <td>41.370</td>\n",
       "      <td>41.593</td>\n",
       "      <td>3.424479e+06</td>\n",
       "      <td>2018-12-02 19:00:00</td>\n",
       "      <td>0.310</td>\n",
       "      <td>-0.068</td>\n",
       "      <td>-0.219354</td>\n",
       "      <td>...</td>\n",
       "      <td>41.590634</td>\n",
       "      <td>41.522868</td>\n",
       "      <td>41.455102</td>\n",
       "      <td>0</td>\n",
       "      <td>0</td>\n",
       "      <td>-0.083500</td>\n",
       "      <td>-0.017284</td>\n",
       "      <td>41.368500</td>\n",
       "      <td>41.134260</td>\n",
       "      <td>41.251380</td>\n",
       "    </tr>\n",
       "    <tr>\n",
       "      <th>4341</th>\n",
       "      <td>4342</td>\n",
       "      <td>41.550</td>\n",
       "      <td>41.689</td>\n",
       "      <td>41.125</td>\n",
       "      <td>41.339</td>\n",
       "      <td>5.049899e+06</td>\n",
       "      <td>2018-12-02 19:30:00</td>\n",
       "      <td>0.564</td>\n",
       "      <td>-0.211</td>\n",
       "      <td>-0.374113</td>\n",
       "      <td>...</td>\n",
       "      <td>41.449724</td>\n",
       "      <td>41.305248</td>\n",
       "      <td>41.160772</td>\n",
       "      <td>0</td>\n",
       "      <td>0</td>\n",
       "      <td>-0.083500</td>\n",
       "      <td>-0.017067</td>\n",
       "      <td>41.285000</td>\n",
       "      <td>41.121479</td>\n",
       "      <td>41.203239</td>\n",
       "    </tr>\n",
       "    <tr>\n",
       "      <th>4342</th>\n",
       "      <td>4343</td>\n",
       "      <td>41.339</td>\n",
       "      <td>41.346</td>\n",
       "      <td>40.902</td>\n",
       "      <td>41.230</td>\n",
       "      <td>5.392301e+06</td>\n",
       "      <td>2018-12-02 20:00:00</td>\n",
       "      <td>0.444</td>\n",
       "      <td>-0.109</td>\n",
       "      <td>-0.245495</td>\n",
       "      <td>...</td>\n",
       "      <td>41.315705</td>\n",
       "      <td>41.110811</td>\n",
       "      <td>40.905916</td>\n",
       "      <td>0</td>\n",
       "      <td>0</td>\n",
       "      <td>-0.083500</td>\n",
       "      <td>-0.024069</td>\n",
       "      <td>41.201500</td>\n",
       "      <td>40.902000</td>\n",
       "      <td>41.051750</td>\n",
       "    </tr>\n",
       "    <tr>\n",
       "      <th>4343</th>\n",
       "      <td>4344</td>\n",
       "      <td>41.230</td>\n",
       "      <td>41.350</td>\n",
       "      <td>41.150</td>\n",
       "      <td>41.305</td>\n",
       "      <td>1.683759e+06</td>\n",
       "      <td>2018-12-02 20:30:00</td>\n",
       "      <td>0.200</td>\n",
       "      <td>0.075</td>\n",
       "      <td>0.374998</td>\n",
       "      <td>...</td>\n",
       "      <td>41.256126</td>\n",
       "      <td>41.086851</td>\n",
       "      <td>40.917577</td>\n",
       "      <td>0</td>\n",
       "      <td>0</td>\n",
       "      <td>-0.083500</td>\n",
       "      <td>-0.024069</td>\n",
       "      <td>41.118000</td>\n",
       "      <td>40.877931</td>\n",
       "      <td>40.997966</td>\n",
       "    </tr>\n",
       "    <tr>\n",
       "      <th>4344</th>\n",
       "      <td>4345</td>\n",
       "      <td>41.305</td>\n",
       "      <td>41.500</td>\n",
       "      <td>41.250</td>\n",
       "      <td>41.416</td>\n",
       "      <td>3.133224e+06</td>\n",
       "      <td>2018-12-02 21:00:00</td>\n",
       "      <td>0.250</td>\n",
       "      <td>0.111</td>\n",
       "      <td>0.443998</td>\n",
       "      <td>...</td>\n",
       "      <td>41.252977</td>\n",
       "      <td>41.129354</td>\n",
       "      <td>41.005731</td>\n",
       "      <td>0</td>\n",
       "      <td>0</td>\n",
       "      <td>-0.040000</td>\n",
       "      <td>-0.024069</td>\n",
       "      <td>41.890000</td>\n",
       "      <td>40.853862</td>\n",
       "      <td>41.371931</td>\n",
       "    </tr>\n",
       "    <tr>\n",
       "      <th>4345</th>\n",
       "      <td>4346</td>\n",
       "      <td>41.427</td>\n",
       "      <td>41.699</td>\n",
       "      <td>41.402</td>\n",
       "      <td>41.450</td>\n",
       "      <td>3.466664e+06</td>\n",
       "      <td>2018-12-02 21:30:00</td>\n",
       "      <td>0.297</td>\n",
       "      <td>0.023</td>\n",
       "      <td>0.077441</td>\n",
       "      <td>...</td>\n",
       "      <td>41.269410</td>\n",
       "      <td>41.190820</td>\n",
       "      <td>41.112230</td>\n",
       "      <td>0</td>\n",
       "      <td>0</td>\n",
       "      <td>-0.047353</td>\n",
       "      <td>-0.030179</td>\n",
       "      <td>41.699179</td>\n",
       "      <td>40.811464</td>\n",
       "      <td>41.255322</td>\n",
       "    </tr>\n",
       "    <tr>\n",
       "      <th>4346</th>\n",
       "      <td>4347</td>\n",
       "      <td>41.450</td>\n",
       "      <td>41.589</td>\n",
       "      <td>41.380</td>\n",
       "      <td>41.395</td>\n",
       "      <td>1.182986e+06</td>\n",
       "      <td>2018-12-02 22:00:00</td>\n",
       "      <td>0.209</td>\n",
       "      <td>-0.055</td>\n",
       "      <td>-0.263157</td>\n",
       "      <td>...</td>\n",
       "      <td>41.278723</td>\n",
       "      <td>41.198246</td>\n",
       "      <td>41.117769</td>\n",
       "      <td>0</td>\n",
       "      <td>0</td>\n",
       "      <td>-0.047353</td>\n",
       "      <td>-0.033230</td>\n",
       "      <td>41.651827</td>\n",
       "      <td>40.773098</td>\n",
       "      <td>41.212462</td>\n",
       "    </tr>\n",
       "  </tbody>\n",
       "</table>\n",
       "<p>9 rows × 28 columns</p>\n",
       "</div>"
      ],
      "text/plain": [
       "      index    Open    High     Low   Close        Volume           Timestamp  \\\n",
       "4338   4339  41.598  41.975  41.589  41.781  5.186700e+06 2018-12-02 18:00:00   \n",
       "4339   4340  41.795  41.870  41.606  41.660  2.114254e+06 2018-12-02 18:30:00   \n",
       "4340   4341  41.661  41.680  41.370  41.593  3.424479e+06 2018-12-02 19:00:00   \n",
       "4341   4342  41.550  41.689  41.125  41.339  5.049899e+06 2018-12-02 19:30:00   \n",
       "4342   4343  41.339  41.346  40.902  41.230  5.392301e+06 2018-12-02 20:00:00   \n",
       "4343   4344  41.230  41.350  41.150  41.305  1.683759e+06 2018-12-02 20:30:00   \n",
       "4344   4345  41.305  41.500  41.250  41.416  3.133224e+06 2018-12-02 21:00:00   \n",
       "4345   4346  41.427  41.699  41.402  41.450  3.466664e+06 2018-12-02 21:30:00   \n",
       "4346   4347  41.450  41.589  41.380  41.395  1.182986e+06 2018-12-02 22:00:00   \n",
       "\n",
       "      High-Low  Close-Open  Similarity    ...         bbd_m1     bbd_m2  \\\n",
       "4338     0.386       0.183    0.474092    ...      41.559869  41.480539   \n",
       "4339     0.264      -0.135   -0.511362    ...      41.571340  41.493279   \n",
       "4340     0.310      -0.068   -0.219354    ...      41.590634  41.522868   \n",
       "4341     0.564      -0.211   -0.374113    ...      41.449724  41.305248   \n",
       "4342     0.444      -0.109   -0.245495    ...      41.315705  41.110811   \n",
       "4343     0.200       0.075    0.374998    ...      41.256126  41.086851   \n",
       "4344     0.250       0.111    0.443998    ...      41.252977  41.129354   \n",
       "4345     0.297       0.023    0.077441    ...      41.269410  41.190820   \n",
       "4346     0.209      -0.055   -0.263157    ...      41.278723  41.198246   \n",
       "\n",
       "         bbd_m3  golden  dead  high_slope  low_slope    tr_high     tr_low  \\\n",
       "4338  41.401208       0     0   -0.083500  -0.016941  41.535500  41.176471   \n",
       "4339  41.415219       0     0   -0.083500  -0.017284  41.452000  41.151544   \n",
       "4340  41.455102       0     0   -0.083500  -0.017284  41.368500  41.134260   \n",
       "4341  41.160772       0     0   -0.083500  -0.017067  41.285000  41.121479   \n",
       "4342  40.905916       0     0   -0.083500  -0.024069  41.201500  40.902000   \n",
       "4343  40.917577       0     0   -0.083500  -0.024069  41.118000  40.877931   \n",
       "4344  41.005731       0     0   -0.040000  -0.024069  41.890000  40.853862   \n",
       "4345  41.112230       0     0   -0.047353  -0.030179  41.699179  40.811464   \n",
       "4346  41.117769       0     0   -0.047353  -0.033230  41.651827  40.773098   \n",
       "\n",
       "         tr_mid  \n",
       "4338  41.355985  \n",
       "4339  41.301772  \n",
       "4340  41.251380  \n",
       "4341  41.203239  \n",
       "4342  41.051750  \n",
       "4343  40.997966  \n",
       "4344  41.371931  \n",
       "4345  41.255322  \n",
       "4346  41.212462  \n",
       "\n",
       "[9 rows x 28 columns]"
      ]
     },
     "execution_count": 24,
     "metadata": {},
     "output_type": "execute_result"
    }
   ],
   "source": [
    "#data作成までの時間\n",
    "print(time.time()-old)\n",
    "#作成変数の表示\n",
    "data_df1.loc[len(data_df1)-9:]"
   ]
  },
  {
   "cell_type": "code",
   "execution_count": 25,
   "metadata": {},
   "outputs": [
    {
     "name": "stdout",
     "output_type": "stream",
     "text": [
      "['Open', 'High', 'Low', 'Close', 'Volume', 'High-Low', 'Close-Open', 'Similarity', '(High-Low)*Volume ', '(Close-Open)*Volume ', 'MA5', 'MA25', 'Cross', 'bbd_p1', 'bbd_p2', 'bbd_p3', 'bbd_m1', 'bbd_m2', 'bbd_m3', 'golden', 'dead', 'high_slope', 'low_slope', 'tr_high', 'tr_low', 'tr_mid']\n",
      "(4347, 26)\n"
     ]
    }
   ],
   "source": [
    "#次のCloseを予測する機械学習\n",
    "#使わない変数を除外\n",
    "exe_cols = ['index','Timestamp']\n",
    "feature_cols = [col for col in data_df1.columns if col not in exe_cols]\n",
    "print(feature_cols)\n",
    "#機械学習用にnp配列に変換\n",
    "data_np= np.array(data_df1[feature_cols])\n",
    "print(data_np.shape)"
   ]
  },
  {
   "cell_type": "code",
   "execution_count": 26,
   "metadata": {},
   "outputs": [
    {
     "name": "stdout",
     "output_type": "stream",
     "text": [
      "[37.9   37.646 37.787 ... 41.416 41.45  41.395] (4346,)\n",
      "[[38.028      38.157      37.8        ...  0.          0.\n",
      "   0.        ]\n",
      " [37.875      37.955      37.708      ...  0.          0.\n",
      "   0.        ]\n",
      " [37.9        37.9        37.6        ...  0.          0.\n",
      "   0.        ]\n",
      " ...\n",
      " [41.23       41.35       41.15       ... 41.118      40.87793103\n",
      "  40.99796552]\n",
      " [41.305      41.5        41.25       ... 41.89       40.85386207\n",
      "  41.37193103]\n",
      " [41.427      41.699      41.402      ... 41.69917933 40.81146429\n",
      "  41.25532181]] (4346, 26)\n"
     ]
    }
   ],
   "source": [
    "Y = np.array(data_df1['Close'])#1次元\n",
    "Y = np.delete(Y,0)\n",
    "print(Y,Y.shape)\n",
    "X = data_np[:len(Y),0:]\n",
    "print(X[:],X.shape)"
   ]
  },
  {
   "cell_type": "code",
   "execution_count": 27,
   "metadata": {},
   "outputs": [
    {
     "name": "stdout",
     "output_type": "stream",
     "text": [
      "4324\n"
     ]
    }
   ],
   "source": [
    "# 学習では、29/30を使うものとします。これは情報の偏りを防ぐためのものであり、全体でも構いません\n",
    "L = int(len(X)//(200/199))\n",
    "print(L)\n",
    "train_x = X[50:L,:]\n",
    "train_y = Y[50:L]"
   ]
  },
  {
   "cell_type": "code",
   "execution_count": 28,
   "metadata": {},
   "outputs": [],
   "source": [
    "# 残りの全てをテストデータとします\n",
    "test_x = X[L:len(X),:]\n",
    "test_y = Y[L:len(Y)]"
   ]
  },
  {
   "cell_type": "code",
   "execution_count": 29,
   "metadata": {},
   "outputs": [],
   "source": [
    "rf = RandomForestRegressor(random_state=1234)"
   ]
  },
  {
   "cell_type": "code",
   "execution_count": 30,
   "metadata": {},
   "outputs": [
    {
     "name": "stdout",
     "output_type": "stream",
     "text": [
      "Fitting 3 folds for each of 9 candidates, totalling 27 fits\n"
     ]
    },
    {
     "name": "stderr",
     "output_type": "stream",
     "text": [
      "[Parallel(n_jobs=1)]: Done  27 out of  27 | elapsed:   31.2s finished\n"
     ]
    },
    {
     "data": {
      "text/plain": [
       "GridSearchCV(cv=3, error_score='raise',\n",
       "       estimator=RandomForestRegressor(bootstrap=True, criterion='mse', max_depth=None,\n",
       "           max_features='auto', max_leaf_nodes=None,\n",
       "           min_impurity_decrease=0.0, min_impurity_split=None,\n",
       "           min_samples_leaf=1, min_samples_split=2,\n",
       "           min_weight_fraction_leaf=0.0, n_estimators=10, n_jobs=1,\n",
       "           oob_score=False, random_state=1234, verbose=0, warm_start=False),\n",
       "       fit_params=None, iid=True, n_jobs=1,\n",
       "       param_grid={'n_estimators': [15, 20, 25], 'max_depth': [5, 17, 30]},\n",
       "       pre_dispatch='2*n_jobs', refit=True, return_train_score='warn',\n",
       "       scoring='neg_mean_squared_error', verbose=1)"
      ]
     },
     "execution_count": 30,
     "metadata": {},
     "output_type": "execute_result"
    }
   ],
   "source": [
    "params = {'n_estimators': [15,20,25], 'max_depth': [5,17,30]}\n",
    "gscv = GridSearchCV(rf, param_grid=params, verbose=1,\n",
    "                    cv=3, scoring='neg_mean_squared_error')\n",
    "gscv.fit(train_x, train_y)"
   ]
  },
  {
   "cell_type": "code",
   "execution_count": 31,
   "metadata": {},
   "outputs": [],
   "source": [
    "a = gscv.best_params_"
   ]
  },
  {
   "cell_type": "code",
   "execution_count": 32,
   "metadata": {},
   "outputs": [
    {
     "name": "stdout",
     "output_type": "stream",
     "text": [
      "{'max_depth': 5, 'n_estimators': 15}\n"
     ]
    }
   ],
   "source": [
    "print(a)\n",
    "n_estimators = a.get('n_estimators')\n",
    "max_depth = a.get('max_depth')"
   ]
  },
  {
   "cell_type": "code",
   "execution_count": 33,
   "metadata": {},
   "outputs": [
    {
     "name": "stdout",
     "output_type": "stream",
     "text": [
      "RandomForest MSE:  0.05811461106525313\n"
     ]
    }
   ],
   "source": [
    "rf = RandomForestRegressor(n_estimators=n_estimators, max_depth=max_depth,random_state=1234)\n",
    "rf.fit(train_x, train_y)\n",
    "y_pred_rf = rf.predict(test_x)\n",
    "rf_mse = mean_squared_error(test_y, y_pred_rf)\n",
    "print('RandomForest MSE: ', rf_mse)"
   ]
  },
  {
   "cell_type": "code",
   "execution_count": 34,
   "metadata": {},
   "outputs": [
    {
     "name": "stdout",
     "output_type": "stream",
     "text": [
      "    y_pred_rf  test_y       RMS\n",
      "0   42.565210  42.524 -0.041210\n",
      "1   42.565210  42.100 -0.465210\n",
      "2   42.388718  42.228 -0.160718\n",
      "3   42.388718  42.203 -0.185718\n",
      "4   42.388718  42.006 -0.382718\n",
      "5   42.388718  41.620 -0.768718\n",
      "6   41.636763  41.556 -0.080763\n",
      "7   41.636763  41.577 -0.059763\n",
      "8   41.636763  41.697  0.060237\n",
      "9   41.636763  41.609 -0.027763\n",
      "10  41.636763  41.548 -0.088763\n",
      "11  41.636763  41.660  0.023237\n",
      "12  41.636763  41.598 -0.038763\n",
      "13  41.636763  41.781  0.144237\n",
      "14  41.876926  41.660 -0.216926\n",
      "15  41.636763  41.593 -0.043763\n",
      "16  41.636763  41.339 -0.297763\n",
      "17  41.352742  41.230 -0.122742\n",
      "18  41.352742  41.305 -0.047742\n",
      "19  41.352742  41.416  0.063258\n",
      "20  41.455561  41.450 -0.005561\n",
      "21  41.636763  41.395 -0.241763\n"
     ]
    }
   ],
   "source": [
    "# 予測結果を出力します。これはランダムフォレスト\n",
    "result = pd.DataFrame(y_pred_rf)\n",
    "result.columns = ['y_pred_rf']\n",
    "result['test_y'] = test_y\n",
    "#２乗平均誤差ではなく、ただの差\n",
    "result['RMS'] = (result['test_y']-result['y_pred_rf'])\n",
    "print(result.loc[:])"
   ]
  },
  {
   "cell_type": "code",
   "execution_count": 35,
   "metadata": {},
   "outputs": [],
   "source": [
    "# Plot拡大\n",
    "plt.plot(range(0,len(result[0:15])), test_y[len(test_y)-15:], label='Actual price', color='blue', marker = 'o')\n",
    "plt.plot(range(0,len(result[0:15])), y_pred_rf[len(test_y)-15:], label='Predicted price', color='red', marker ='x')\n",
    "plt.xlabel(span)\n",
    "plt.ylabel('Price (\\)')\n",
    "n3='{0} Price by RandomForest'.format(trade_name)\n",
    "plt.title(n3)\n",
    "plt.grid(True)\n",
    "plt.legend()\n",
    "n4='{0}2 by RandomForest.png'.format(trade_name)\n",
    "plt.savefig(n4)\n",
    "plt.close()\n",
    "plt.show()"
   ]
  },
  {
   "cell_type": "code",
   "execution_count": 36,
   "metadata": {},
   "outputs": [],
   "source": [
    "# 変数増加法を実行する関数\n",
    "def get_gfs_feature_indices(X, y, features, clf):\n",
    "    X_train_, X_test_, y_train_, y_test_ = \\\n",
    "        train_test_split(X, y, test_size=0.3, shuffle=False)\n",
    "    feature_indices = {feature: idx for idx, feature in enumerate(features)}\n",
    "    features = set(features)\n",
    "    last_mse = np.inf\n",
    "    chosen_features = set()\n",
    "    while len(chosen_features) < len(features):\n",
    "        mse_features = []\n",
    "        for feature in (features - chosen_features):\n",
    "            candidates = chosen_features.union(set([feature]))\n",
    "            indices = [feature_indices[feature] for feature in candidates]\n",
    "            clf.fit(X_train_[:, indices], y_train_)\n",
    "            y_pred = clf.predict(X_test_[:, indices])\n",
    "            mse = mean_squared_error(y_test_, y_pred)\n",
    "            mse_features += [(mse, feature)]\n",
    "        mse, feature = min(mse_features)\n",
    "        if mse >= last_mse:\n",
    "            break\n",
    "        last_mse = mse\n",
    "        print('Newly Added Feature: {},\\tMSE Score: {}'.format(feature, mse))\n",
    "        chosen_features.add(feature)\n",
    "    return [feature_indices[feature] for feature in chosen_features]"
   ]
  },
  {
   "cell_type": "code",
   "execution_count": 37,
   "metadata": {},
   "outputs": [
    {
     "name": "stdout",
     "output_type": "stream",
     "text": [
      "['a', 'b', 'c', 'd', 'e', 'f', 'g', 'h', 'i', 'j', 'k', 'l', 'm', 'n', 'o', 'p', 'q', 'r', 's', 't', 'u', 'v'] 22\n",
      "Newly Added Feature: d,\tMSE Score: 1.5553813452879568\n",
      "Newly Added Feature: a,\tMSE Score: 0.5412490881761503\n",
      "[3, 0]\n"
     ]
    }
   ],
   "source": [
    "# 上記関数を使用して変数増加法を実行し、MSEを算出\n",
    "#feature_cols = list('abcdefghij')\n",
    "feature_cols = list('abcdefghijklmnopqrstuv')\n",
    "print(feature_cols,len(feature_cols))\n",
    "\n",
    "selected_feature_index_by_RandomForestRegressor = get_gfs_feature_indices(X=train_x,y=train_y,features=feature_cols,clf= RandomForestRegressor())\n",
    "print(selected_feature_index_by_RandomForestRegressor)"
   ]
  },
  {
   "cell_type": "code",
   "execution_count": 38,
   "metadata": {},
   "outputs": [
    {
     "name": "stdout",
     "output_type": "stream",
     "text": [
      "RandomForest MSE:  0.118984051363636\n"
     ]
    }
   ],
   "source": [
    "#ランダムフォレスト\n",
    "rf = RandomForestRegressor(random_state=1234)\n",
    "rf.fit(train_x[:, selected_feature_index_by_RandomForestRegressor], train_y)\n",
    "y_pred_rf = rf.predict(test_x[:, selected_feature_index_by_RandomForestRegressor])\n",
    "rf_mse = mean_squared_error(test_y, y_pred_rf)\n",
    "print('RandomForest MSE: ', rf_mse)"
   ]
  },
  {
   "cell_type": "code",
   "execution_count": 39,
   "metadata": {},
   "outputs": [
    {
     "name": "stdout",
     "output_type": "stream",
     "text": [
      "Fitting 3 folds for each of 9 candidates, totalling 27 fits\n"
     ]
    },
    {
     "name": "stderr",
     "output_type": "stream",
     "text": [
      "[Parallel(n_jobs=1)]: Done  27 out of  27 | elapsed:    4.3s finished\n"
     ]
    },
    {
     "data": {
      "text/plain": [
       "GridSearchCV(cv=3, error_score='raise',\n",
       "       estimator=RandomForestRegressor(bootstrap=True, criterion='mse', max_depth=None,\n",
       "           max_features='auto', max_leaf_nodes=None,\n",
       "           min_impurity_decrease=0.0, min_impurity_split=None,\n",
       "           min_samples_leaf=1, min_samples_split=2,\n",
       "           min_weight_fraction_leaf=0.0, n_estimators=10, n_jobs=1,\n",
       "           oob_score=False, random_state=1234, verbose=0, warm_start=False),\n",
       "       fit_params=None, iid=True, n_jobs=1,\n",
       "       param_grid={'n_estimators': [15, 20, 25], 'max_depth': [6, 10, 20]},\n",
       "       pre_dispatch='2*n_jobs', refit=True, return_train_score='warn',\n",
       "       scoring='neg_mean_squared_error', verbose=1)"
      ]
     },
     "execution_count": 39,
     "metadata": {},
     "output_type": "execute_result"
    }
   ],
   "source": [
    "params = {'n_estimators': [15,20,25], 'max_depth': [6,10,20]}\n",
    "gscv = GridSearchCV(rf, param_grid=params, verbose=1,\n",
    "                    cv=3, scoring='neg_mean_squared_error')\n",
    "gscv.fit(train_x[:, selected_feature_index_by_RandomForestRegressor], train_y)"
   ]
  },
  {
   "cell_type": "code",
   "execution_count": 40,
   "metadata": {},
   "outputs": [],
   "source": [
    "a = gscv.best_params_"
   ]
  },
  {
   "cell_type": "code",
   "execution_count": 41,
   "metadata": {},
   "outputs": [
    {
     "name": "stdout",
     "output_type": "stream",
     "text": [
      "{'max_depth': 6, 'n_estimators': 15}\n"
     ]
    }
   ],
   "source": [
    "print(a)\n",
    "n_estimators = a.get('n_estimators')\n",
    "max_depth = a.get('max_depth')"
   ]
  },
  {
   "cell_type": "code",
   "execution_count": 42,
   "metadata": {},
   "outputs": [
    {
     "name": "stdout",
     "output_type": "stream",
     "text": [
      "RandomForest MSE:  0.04271782687653047\n"
     ]
    }
   ],
   "source": [
    "rf = RandomForestRegressor(n_estimators=n_estimators, max_depth=max_depth,random_state=1234)\n",
    "rf.fit(train_x[:, selected_feature_index_by_RandomForestRegressor], train_y)\n",
    "y_pred_rf_gfs = rf.predict(test_x[:, selected_feature_index_by_RandomForestRegressor])\n",
    "rf_mse = mean_squared_error(test_y, y_pred_rf_gfs)\n",
    "print('RandomForest MSE: ', rf_mse)"
   ]
  },
  {
   "cell_type": "code",
   "execution_count": 43,
   "metadata": {},
   "outputs": [
    {
     "name": "stdout",
     "output_type": "stream",
     "text": [
      "    y_pred_rf_gfs  test_y       RMS\n",
      "0       42.670411  42.524 -0.146411\n",
      "1       42.670411  42.100 -0.570411\n",
      "2       42.174744  42.228  0.053256\n",
      "3       42.174744  42.203  0.028256\n",
      "4       42.174744  42.006 -0.168744\n",
      "5       42.174744  41.620 -0.554744\n",
      "6       41.567135  41.556 -0.011135\n",
      "7       41.618995  41.577 -0.041995\n",
      "8       41.618995  41.697  0.078005\n",
      "9       41.618995  41.609 -0.009995\n",
      "10      41.618995  41.548 -0.070995\n",
      "11      41.618995  41.660  0.041005\n",
      "12      41.618995  41.598 -0.020995\n",
      "13      41.618995  41.781  0.162005\n",
      "14      41.883053  41.660 -0.223053\n",
      "15      41.618995  41.593 -0.025995\n",
      "16      41.618995  41.339 -0.279995\n",
      "17      41.280645  41.230 -0.050645\n",
      "18      41.252611  41.305  0.052389\n",
      "19      41.252611  41.416  0.163389\n",
      "20      41.475560  41.450 -0.025560\n",
      "21      41.618995  41.395 -0.223995\n"
     ]
    }
   ],
   "source": [
    "# 予測結果を出力します。これはランダムフォレスト\n",
    "result = pd.DataFrame(y_pred_rf_gfs)\n",
    "result.columns = ['y_pred_rf_gfs']\n",
    "result['test_y'] = test_y\n",
    "#２乗平均誤差ではなく、ただの差\n",
    "result['RMS'] = (result['test_y']-result['y_pred_rf_gfs'])\n",
    "print(result.loc[:])"
   ]
  },
  {
   "cell_type": "code",
   "execution_count": 44,
   "metadata": {},
   "outputs": [],
   "source": [
    "# Plot拡大\n",
    "plt.plot(range(0,len(result[0:15])), test_y[len(test_y)-15:], label='Actual price', color='blue', marker = 'o')\n",
    "plt.plot(range(0,len(result[0:15])), y_pred_rf_gfs[len(test_y)-15:], label='Predicted price', color='red', marker ='x')\n",
    "plt.xlabel(span)\n",
    "plt.ylabel('Price (\\)')\n",
    "n3='{0} Price by RandomForest gfs'.format(trade_name)\n",
    "plt.title(n3)\n",
    "plt.grid(True)\n",
    "plt.legend()\n",
    "n4='{0}2 by RandomForest gfs.png'.format(trade_name)\n",
    "plt.savefig(n4)\n",
    "plt.close()\n",
    "plt.show()"
   ]
  },
  {
   "cell_type": "code",
   "execution_count": null,
   "metadata": {},
   "outputs": [],
   "source": []
  }
 ],
 "metadata": {
  "kernelspec": {
   "display_name": "Python 3",
   "language": "python",
   "name": "python3"
  },
  "language_info": {
   "codemirror_mode": {
    "name": "ipython",
    "version": 3
   },
   "file_extension": ".py",
   "mimetype": "text/x-python",
   "name": "python",
   "nbconvert_exporter": "python",
   "pygments_lexer": "ipython3",
   "version": "3.6.5"
  }
 },
 "nbformat": 4,
 "nbformat_minor": 2
}
