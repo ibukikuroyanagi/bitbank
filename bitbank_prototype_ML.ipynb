{
 "cells": [
  {
   "cell_type": "code",
   "execution_count": 1,
   "metadata": {},
   "outputs": [],
   "source": [
    "#価格取得\n",
    "#初期プロトタイプ\n",
    "#データ格納\n",
    "#機械学習（線形回帰・決定木・ランダムフォレスト）\n",
    "#機械学習（線形回帰・決定木・ランダムフォレスト）ｇｆｓ\n",
    "#グラフ"
   ]
  },
  {
   "cell_type": "code",
   "execution_count": null,
   "metadata": {},
   "outputs": [],
   "source": [
    "#python_bitbankccのパッケージをインポート\n",
    "import python_bitbankcc \n",
    "import datetime\n",
    "import os \n",
    "import time\n",
    "import numpy as np\n",
    "import pandas as pd\n",
    "import sys"
   ]
  },
  {
   "cell_type": "code",
   "execution_count": 2,
   "metadata": {},
   "outputs": [],
   "source": [
    "#機械学習用のモジュール\n",
    "import matplotlib as mpl\n",
    "mpl.use('Agg')\n",
    "import matplotlib.pyplot as plt\n",
    "from sklearn import linear_model\n",
    "% matplotlib inline\n",
    "from __future__ import print_function\n",
    "import copy\n",
    "import matplotlib\n",
    "matplotlib.style.use('ggplot')\n",
    "\n",
    "from sklearn.linear_model import LinearRegression\n",
    "from sklearn.tree import DecisionTreeRegressor\n",
    "from sklearn.ensemble import RandomForestRegressor\n",
    "\n",
    "from sklearn.model_selection import GridSearchCV\n",
    "from sklearn.model_selection import train_test_split\n",
    "from sklearn.metrics import mean_squared_error"
   ]
  },
  {
   "cell_type": "code",
   "execution_count": 3,
   "metadata": {},
   "outputs": [],
   "source": [
    "# public API classのオブジェクトを取得\n",
    "pub = python_bitbankcc.public()"
   ]
  },
  {
   "cell_type": "code",
   "execution_count": 4,
   "metadata": {},
   "outputs": [],
   "source": [
    "#APIから基本データの取得、dataframeへ挿入\n",
    "def get_candle(trade_name,span,back_day):\n",
    "    # ロウソク足データを取得\n",
    "    value = pub.get_candlestick( trade_name,span, back_day )\n",
    "    candle = value['candlestick'][0]\n",
    "    #print(candle['ohlcv'][0])\n",
    "    dataframe = pd.DataFrame(candle['ohlcv'],columns=[\"Open\", \"High\",\"Low\",\"Close\",\"Volume\",\"Timestamp\"])\n",
    "    return dataframe\n"
   ]
  },
  {
   "cell_type": "code",
   "execution_count": 5,
   "metadata": {},
   "outputs": [],
   "source": [
    "#指定した日から今日までの基本データをdataframeにして取得\n",
    "#back_day,todayはdatetime\n",
    "# span = ['1min', '5min', '15min', '30min', '1hour', '4hour', '8hour', '12hour', '1day', '1week']\n",
    "#trade_name = ['btc_jpy', 'xrp_jpy', 'ltc_btc', 'eth_btc', 'mona_jpy', 'mona_btc', 'bcc_jpy', 'bcc_btc']\n",
    "\n",
    "def make_df(trade_name,span,back_day,today):\n",
    "    i = 1\n",
    "    #基準が９時なので、そこを合わせてあげる\n",
    "    if 0 <= today.hour < 9:\n",
    "        k = 1\n",
    "    elif 9 <= today.hour <= 23:\n",
    "        k = 0\n",
    "        \n",
    "    while back_day <= today - datetime.timedelta(days=k):\n",
    "        if i == 1:\n",
    "            df1 = get_candle(trade_name,span,datetime.datetime.strftime(back_day, '%Y%m%d'))\n",
    "            back_day = back_day + datetime.timedelta(days=1)\n",
    "            #print(back_day,len(df1))\n",
    "            i += 1\n",
    "        else:\n",
    "            df2 = get_candle(trade_name,span,datetime.datetime.strftime(back_day, '%Y%m%d'))\n",
    "            df1 = pd.concat([df1, df2])\n",
    "            back_day = back_day + datetime.timedelta(days=1)\n",
    "            #print(back_day,len(df1))\n",
    "            i += 1\n",
    "    \n",
    "    return df1\n",
    "\n"
   ]
  },
  {
   "cell_type": "code",
   "execution_count": 6,
   "metadata": {},
   "outputs": [],
   "source": [
    "def read_date(x):\n",
    "    return datetime.datetime.fromtimestamp(x/1000)\n"
   ]
  },
  {
   "cell_type": "code",
   "execution_count": 7,
   "metadata": {},
   "outputs": [],
   "source": [
    "#関数の使い方\n",
    "today = datetime.datetime.today() \n",
    "\n",
    "back_day = today - datetime.timedelta(days=300)\n",
    "trade_name = 'xrp_jpy'\n",
    "span = '1hour'"
   ]
  },
  {
   "cell_type": "code",
   "execution_count": 8,
   "metadata": {},
   "outputs": [],
   "source": [
    "df1 =  make_df(trade_name,span,back_day,today)\n",
    "df1['Timestamp'] = df1['Timestamp'].apply(read_date)\n",
    "#indexの割り振り\n",
    "df1 = df1.reset_index()\n",
    "#df1の値は全てstrなのでTimestamp以外floatにキャストする\n",
    "#Timestampは文字列のままでいいので削除することを指定\n",
    "execlude = ['Timestamp']\n",
    "cast = [col for col in df1.columns if col not in execlude]\n",
    "for item in cast:\n",
    "    df1 = df1.astype({item: float})"
   ]
  },
  {
   "cell_type": "code",
   "execution_count": 9,
   "metadata": {},
   "outputs": [],
   "source": [
    "#自作変数を作成する\n",
    "df1['High-Low']=df1['High']-df1['Low']\n",
    "df1['Open-Close']=df1['Open']-df1['Close']\n",
    "df1['Similarity'] = df1['Open-Close'] / (df1['High-Low'] + 0.000001)\n",
    "df1['(High-Low)*Volume '] = df1['High-Low']*df1['Volume']\n",
    "df1['(Open-Close)*Volume '] = df1['Open-Close']*df1['Volume']\n"
   ]
  },
  {
   "cell_type": "code",
   "execution_count": 10,
   "metadata": {},
   "outputs": [
    {
     "data": {
      "text/html": [
       "<div>\n",
       "<style scoped>\n",
       "    .dataframe tbody tr th:only-of-type {\n",
       "        vertical-align: middle;\n",
       "    }\n",
       "\n",
       "    .dataframe tbody tr th {\n",
       "        vertical-align: top;\n",
       "    }\n",
       "\n",
       "    .dataframe thead th {\n",
       "        text-align: right;\n",
       "    }\n",
       "</style>\n",
       "<table border=\"1\" class=\"dataframe\">\n",
       "  <thead>\n",
       "    <tr style=\"text-align: right;\">\n",
       "      <th></th>\n",
       "      <th>index</th>\n",
       "      <th>Open</th>\n",
       "      <th>High</th>\n",
       "      <th>Low</th>\n",
       "      <th>Close</th>\n",
       "      <th>Volume</th>\n",
       "      <th>Timestamp</th>\n",
       "      <th>High-Low</th>\n",
       "      <th>Open-Close</th>\n",
       "      <th>Similarity</th>\n",
       "      <th>(High-Low)*Volume</th>\n",
       "      <th>(Open-Close)*Volume</th>\n",
       "    </tr>\n",
       "  </thead>\n",
       "  <tbody>\n",
       "    <tr>\n",
       "      <th>7203</th>\n",
       "      <td>3.0</td>\n",
       "      <td>63.900</td>\n",
       "      <td>65.900</td>\n",
       "      <td>63.800</td>\n",
       "      <td>65.200</td>\n",
       "      <td>1.955961e+07</td>\n",
       "      <td>2018-09-23 12:00:00</td>\n",
       "      <td>2.100</td>\n",
       "      <td>-1.300</td>\n",
       "      <td>-0.619047</td>\n",
       "      <td>4.107517e+07</td>\n",
       "      <td>-2.542749e+07</td>\n",
       "    </tr>\n",
       "    <tr>\n",
       "      <th>7204</th>\n",
       "      <td>4.0</td>\n",
       "      <td>65.290</td>\n",
       "      <td>65.899</td>\n",
       "      <td>64.811</td>\n",
       "      <td>65.300</td>\n",
       "      <td>1.060630e+07</td>\n",
       "      <td>2018-09-23 13:00:00</td>\n",
       "      <td>1.088</td>\n",
       "      <td>-0.010</td>\n",
       "      <td>-0.009191</td>\n",
       "      <td>1.153966e+07</td>\n",
       "      <td>-1.060630e+05</td>\n",
       "    </tr>\n",
       "    <tr>\n",
       "      <th>7205</th>\n",
       "      <td>5.0</td>\n",
       "      <td>65.275</td>\n",
       "      <td>65.488</td>\n",
       "      <td>64.603</td>\n",
       "      <td>65.188</td>\n",
       "      <td>6.530395e+06</td>\n",
       "      <td>2018-09-23 14:00:00</td>\n",
       "      <td>0.885</td>\n",
       "      <td>0.087</td>\n",
       "      <td>0.098305</td>\n",
       "      <td>5.779400e+06</td>\n",
       "      <td>5.681444e+05</td>\n",
       "    </tr>\n",
       "    <tr>\n",
       "      <th>7206</th>\n",
       "      <td>6.0</td>\n",
       "      <td>65.189</td>\n",
       "      <td>65.209</td>\n",
       "      <td>64.300</td>\n",
       "      <td>64.300</td>\n",
       "      <td>5.295888e+06</td>\n",
       "      <td>2018-09-23 15:00:00</td>\n",
       "      <td>0.909</td>\n",
       "      <td>0.889</td>\n",
       "      <td>0.977997</td>\n",
       "      <td>4.813962e+06</td>\n",
       "      <td>4.708044e+06</td>\n",
       "    </tr>\n",
       "    <tr>\n",
       "      <th>7207</th>\n",
       "      <td>7.0</td>\n",
       "      <td>64.300</td>\n",
       "      <td>65.089</td>\n",
       "      <td>64.270</td>\n",
       "      <td>64.568</td>\n",
       "      <td>4.536817e+06</td>\n",
       "      <td>2018-09-23 16:00:00</td>\n",
       "      <td>0.819</td>\n",
       "      <td>-0.268</td>\n",
       "      <td>-0.327228</td>\n",
       "      <td>3.715653e+06</td>\n",
       "      <td>-1.215867e+06</td>\n",
       "    </tr>\n",
       "    <tr>\n",
       "      <th>7208</th>\n",
       "      <td>8.0</td>\n",
       "      <td>64.567</td>\n",
       "      <td>65.355</td>\n",
       "      <td>64.540</td>\n",
       "      <td>65.050</td>\n",
       "      <td>9.069113e+06</td>\n",
       "      <td>2018-09-23 17:00:00</td>\n",
       "      <td>0.815</td>\n",
       "      <td>-0.483</td>\n",
       "      <td>-0.592637</td>\n",
       "      <td>7.391327e+06</td>\n",
       "      <td>-4.380382e+06</td>\n",
       "    </tr>\n",
       "    <tr>\n",
       "      <th>7209</th>\n",
       "      <td>9.0</td>\n",
       "      <td>65.019</td>\n",
       "      <td>66.666</td>\n",
       "      <td>65.011</td>\n",
       "      <td>65.910</td>\n",
       "      <td>1.331967e+07</td>\n",
       "      <td>2018-09-23 18:00:00</td>\n",
       "      <td>1.655</td>\n",
       "      <td>-0.891</td>\n",
       "      <td>-0.538368</td>\n",
       "      <td>2.204405e+07</td>\n",
       "      <td>-1.186782e+07</td>\n",
       "    </tr>\n",
       "    <tr>\n",
       "      <th>7210</th>\n",
       "      <td>10.0</td>\n",
       "      <td>65.920</td>\n",
       "      <td>66.048</td>\n",
       "      <td>65.443</td>\n",
       "      <td>65.750</td>\n",
       "      <td>8.078309e+06</td>\n",
       "      <td>2018-09-23 19:00:00</td>\n",
       "      <td>0.605</td>\n",
       "      <td>0.170</td>\n",
       "      <td>0.280991</td>\n",
       "      <td>4.887377e+06</td>\n",
       "      <td>1.373313e+06</td>\n",
       "    </tr>\n",
       "    <tr>\n",
       "      <th>7211</th>\n",
       "      <td>11.0</td>\n",
       "      <td>65.740</td>\n",
       "      <td>66.444</td>\n",
       "      <td>65.713</td>\n",
       "      <td>65.828</td>\n",
       "      <td>6.382868e+06</td>\n",
       "      <td>2018-09-23 20:00:00</td>\n",
       "      <td>0.731</td>\n",
       "      <td>-0.088</td>\n",
       "      <td>-0.120383</td>\n",
       "      <td>4.665876e+06</td>\n",
       "      <td>-5.616924e+05</td>\n",
       "    </tr>\n",
       "  </tbody>\n",
       "</table>\n",
       "</div>"
      ],
      "text/plain": [
       "      index    Open    High     Low   Close        Volume           Timestamp  \\\n",
       "7203    3.0  63.900  65.900  63.800  65.200  1.955961e+07 2018-09-23 12:00:00   \n",
       "7204    4.0  65.290  65.899  64.811  65.300  1.060630e+07 2018-09-23 13:00:00   \n",
       "7205    5.0  65.275  65.488  64.603  65.188  6.530395e+06 2018-09-23 14:00:00   \n",
       "7206    6.0  65.189  65.209  64.300  64.300  5.295888e+06 2018-09-23 15:00:00   \n",
       "7207    7.0  64.300  65.089  64.270  64.568  4.536817e+06 2018-09-23 16:00:00   \n",
       "7208    8.0  64.567  65.355  64.540  65.050  9.069113e+06 2018-09-23 17:00:00   \n",
       "7209    9.0  65.019  66.666  65.011  65.910  1.331967e+07 2018-09-23 18:00:00   \n",
       "7210   10.0  65.920  66.048  65.443  65.750  8.078309e+06 2018-09-23 19:00:00   \n",
       "7211   11.0  65.740  66.444  65.713  65.828  6.382868e+06 2018-09-23 20:00:00   \n",
       "\n",
       "      High-Low  Open-Close  Similarity  (High-Low)*Volume   \\\n",
       "7203     2.100      -1.300   -0.619047        4.107517e+07   \n",
       "7204     1.088      -0.010   -0.009191        1.153966e+07   \n",
       "7205     0.885       0.087    0.098305        5.779400e+06   \n",
       "7206     0.909       0.889    0.977997        4.813962e+06   \n",
       "7207     0.819      -0.268   -0.327228        3.715653e+06   \n",
       "7208     0.815      -0.483   -0.592637        7.391327e+06   \n",
       "7209     1.655      -0.891   -0.538368        2.204405e+07   \n",
       "7210     0.605       0.170    0.280991        4.887377e+06   \n",
       "7211     0.731      -0.088   -0.120383        4.665876e+06   \n",
       "\n",
       "      (Open-Close)*Volume   \n",
       "7203         -2.542749e+07  \n",
       "7204         -1.060630e+05  \n",
       "7205          5.681444e+05  \n",
       "7206          4.708044e+06  \n",
       "7207         -1.215867e+06  \n",
       "7208         -4.380382e+06  \n",
       "7209         -1.186782e+07  \n",
       "7210          1.373313e+06  \n",
       "7211         -5.616924e+05  "
      ]
     },
     "execution_count": 10,
     "metadata": {},
     "output_type": "execute_result"
    }
   ],
   "source": [
    "#作成変数の表示\n",
    "df1.loc[len(df1)-9:]"
   ]
  },
  {
   "cell_type": "code",
   "execution_count": 11,
   "metadata": {},
   "outputs": [
    {
     "name": "stdout",
     "output_type": "stream",
     "text": [
      "['Open', 'High', 'Low', 'Volume', 'High-Low', 'Open-Close', 'Similarity', '(High-Low)*Volume ', '(Open-Close)*Volume ']\n",
      "(7212, 9)\n"
     ]
    }
   ],
   "source": [
    "#次のCloseを予測する機械学習\n",
    "#使わない変数を除外\n",
    "exe_cols = ['index','Timestamp','Close']\n",
    "feature_cols = [col for col in df1.columns if col not in exe_cols]\n",
    "print(feature_cols)\n",
    "#機械学習用にnp配列に変換\n",
    "btc_close_np = np.array(df1['Close'])\n",
    "btc_price_np = np.array(df1[feature_cols])\n",
    "print(btc_price_np.shape)"
   ]
  },
  {
   "cell_type": "code",
   "execution_count": 12,
   "metadata": {},
   "outputs": [],
   "source": [
    "#必要変数の作成\n",
    "days_ago = 3\n",
    "data_num = df1.shape[0]"
   ]
  },
  {
   "cell_type": "code",
   "execution_count": 13,
   "metadata": {},
   "outputs": [
    {
     "name": "stdout",
     "output_type": "stream",
     "text": [
      "(7212, 21)\n",
      "[27.75  27.701 27.885 ... 65.91  65.75  65.828] (7212,)\n"
     ]
    }
   ],
   "source": [
    "x0 = np.zeros((data_num, days_ago))\n",
    "# 時間による推移を見て、そこから偏差を学習できるようにします\n",
    "# 10単位（1day,1hour,5minなど）前からデータが進んでるような状態を作る\n",
    "\n",
    "for i in range(0, days_ago):\n",
    "    x0[i:data_num, i] = btc_close_np[0:data_num - i]\n",
    "\n",
    "#print(x0)\n",
    "for name in range(len(feature_cols)):\n",
    "    for i in range(0, days_ago):\n",
    "        x1 = np.zeros((data_num, days_ago))\n",
    "        x1[i:data_num, i] = btc_price_np[0:data_num - i, name]\n",
    "        x1 = np.delete(x1,0,1)\n",
    "    x0 = np.hstack((x0,x1))\n",
    "\n",
    "print(x0.shape)\n",
    "# print(x0[:11])\n",
    "Y =x0[:,0]#1次元\n",
    "print(Y,Y.shape)\n",
    "X = x0[:,1:]\n",
    "# print(X[10:],X.shape)\n",
    "# print(X[:,5:12])"
   ]
  },
  {
   "cell_type": "code",
   "execution_count": 14,
   "metadata": {},
   "outputs": [
    {
     "name": "stdout",
     "output_type": "stream",
     "text": [
      "6971\n"
     ]
    }
   ],
   "source": [
    "# 予測する時間を指定します\n",
    "predict_time = 0\n",
    "\n",
    "#学習では、29/30を使うものとします。これは情報の偏りを防ぐためのものであり、全体でも構いません\n",
    "L = int(len(X)//(30/29))\n",
    "print(L)\n",
    "train_x = X[10:L,:]\n",
    "train_y = Y[10:L]"
   ]
  },
  {
   "cell_type": "code",
   "execution_count": 15,
   "metadata": {},
   "outputs": [],
   "source": [
    "# 残りの全てをテストデータとします\n",
    "test_x = X[L:len(X)-predict_time,:]\n",
    "test_y = Y[L:len(Y)-predict_time]"
   ]
  },
  {
   "cell_type": "code",
   "execution_count": 16,
   "metadata": {},
   "outputs": [],
   "source": [
    "# # LinearRegression を使用して線形回帰モデルで学習させよう。\n",
    "# model = linear_model.LinearRegression(normalize=True)\n",
    "# model.fit(train_x,train_y)\n",
    "# # pred_y に対して、テストデータを使用して学習結果を代入\n",
    "# pred_y = model.predict(test_x)\n",
    "# lm_mse = mean_squared_error(test_y,pred_y)\n",
    "# print('LinearRegression MSE',lm_mse)"
   ]
  },
  {
   "cell_type": "code",
   "execution_count": 17,
   "metadata": {},
   "outputs": [],
   "source": [
    "# #決定木を実行し、MSEを算出\n",
    "# dtr = DecisionTreeRegressor()\n",
    "# dtr.fit(train_x,train_y)\n",
    "# dtr_y_pred2 = dtr.predict(test_x)\n",
    "# dtr_mse = mean_squared_error(test_y,dtr_y_pred2)\n",
    "# print(' DecisionTreeRegressor MSE:',dtr_mse)\n"
   ]
  },
  {
   "cell_type": "code",
   "execution_count": 18,
   "metadata": {},
   "outputs": [
    {
     "name": "stdout",
     "output_type": "stream",
     "text": [
      " RandomForestRegressor MSE: 3.145427830041492\n",
      "      pred_y  test_y     RMS\n",
      "0    30.1767  30.497  0.3203\n",
      "1    30.3699  30.468  0.0981\n",
      "2    30.3914  31.300  0.9086\n",
      "3    31.4534  31.010 -0.4434\n",
      "4    31.4531  31.078 -0.3751\n",
      "5    31.2640  31.701  0.4370\n",
      "6    32.0517  31.561 -0.4907\n",
      "7    31.7485  31.532 -0.2165\n",
      "8    31.6248  30.950 -0.6748\n",
      "9    30.8631  31.126  0.2629\n",
      "10   30.8285  31.100  0.2715\n",
      "11   31.3424  31.325 -0.0174\n",
      "12   31.3791  31.256 -0.1231\n",
      "13   31.2395  31.035 -0.2045\n",
      "14   30.9801  31.333  0.3529\n",
      "15   31.2871  31.640  0.3529\n",
      "16   31.7619  31.498 -0.2639\n",
      "17   31.7360  31.495 -0.2410\n",
      "18   31.7276  31.450 -0.2776\n",
      "19   31.4376  31.648  0.2104\n",
      "20   31.7711  31.431 -0.3401\n",
      "21   31.5504  30.786 -0.7644\n",
      "22   30.7711  30.725 -0.0461\n",
      "23   30.5454  30.760  0.2146\n",
      "24   30.7040  30.978  0.2740\n",
      "25   30.8883  30.987  0.0987\n",
      "26   31.0726  30.700 -0.3726\n",
      "27   30.6083  30.561 -0.0473\n",
      "28   30.5248  30.956  0.4312\n",
      "29   30.7939  31.325  0.5311\n",
      "..       ...     ...     ...\n",
      "211  67.9772  63.111 -4.8662\n",
      "212  62.5829  64.790  2.2071\n",
      "213  64.5330  62.001 -2.5320\n",
      "214  63.3037  63.774  0.4703\n",
      "215  63.7297  63.808  0.0783\n",
      "216  64.3785  62.965 -1.4135\n",
      "217  62.9286  64.879  1.9504\n",
      "218  65.9996  64.486 -1.5136\n",
      "219  64.6619  63.280 -1.3819\n",
      "220  63.6346  62.805 -0.8296\n",
      "221  62.6467  62.310 -0.3367\n",
      "222  62.1720  62.218  0.0460\n",
      "223  62.2455  62.000 -0.2455\n",
      "224  61.7681  62.449  0.6809\n",
      "225  62.4157  63.290  0.8743\n",
      "226  62.4776  62.900  0.4224\n",
      "227  62.7168  63.100  0.3832\n",
      "228  62.7229  63.703  0.9801\n",
      "229  63.1572  63.010 -0.1472\n",
      "230  62.7934  63.910  1.1166\n",
      "231  63.8100  63.900  0.0900\n",
      "232  64.6497  65.200  0.5503\n",
      "233  65.6495  65.300 -0.3495\n",
      "234  65.0967  65.188  0.0913\n",
      "235  65.3949  64.300 -1.0949\n",
      "236  64.3564  64.568  0.2116\n",
      "237  65.0555  65.050 -0.0055\n",
      "238  65.5215  65.910  0.3885\n",
      "239  64.8458  65.750  0.9042\n",
      "240  64.8506  65.828  0.9774\n",
      "\n",
      "[241 rows x 3 columns]\n"
     ]
    }
   ],
   "source": [
    "# ランダムフォレストを実行し、MSEを算出\n",
    "rf = RandomForestRegressor()\n",
    "rf.fit(train_x,train_y)\n",
    "rf_y_pred2 = rf.predict(test_x)\n",
    "rf_mse = mean_squared_error(test_y,rf_y_pred2)\n",
    "print(' RandomForestRegressor MSE:',rf_mse)\n",
    "pred_y = rf_y_pred2\n",
    "# 予測結果を出力します\n",
    "result = pd.DataFrame(pred_y)\n",
    "result.columns = ['pred_y']\n",
    "result['test_y'] = test_y\n",
    "#２乗平均誤差ではなく、ただの差\n",
    "result['RMS'] = (result['test_y']-result['pred_y'])#*(result['test_y']-result['pred_y'])\n",
    "print(result.loc[:])"
   ]
  },
  {
   "cell_type": "code",
   "execution_count": 19,
   "metadata": {},
   "outputs": [],
   "source": [
    "# 変数増加法を実行する関数\n",
    "def get_gfs_feature_indices(X, y, features, clf):\n",
    "    X_train_, X_test_, y_train_, y_test_ = \\\n",
    "        train_test_split(X, y, test_size=0.3, shuffle=False)\n",
    "    feature_indices = {feature: idx for idx, feature in enumerate(features)}\n",
    "    features = set(features)\n",
    "    last_mse = np.inf\n",
    "    chosen_features = set()\n",
    "    while len(chosen_features) < len(features):\n",
    "        mse_features = []\n",
    "        for feature in (features - chosen_features):\n",
    "            candidates = chosen_features.union(set([feature]))\n",
    "            indices = [feature_indices[feature] for feature in candidates]\n",
    "            clf.fit(X_train_[:, indices], y_train_)\n",
    "            y_pred = clf.predict(X_test_[:, indices])\n",
    "            mse = mean_squared_error(y_test_, y_pred)\n",
    "            mse_features += [(mse, feature)]\n",
    "        mse, feature = min(mse_features)\n",
    "        if mse >= last_mse:\n",
    "            break\n",
    "        last_mse = mse\n",
    "        print('Newly Added Feature: {},\\tMSE Score: {}'.format(feature, mse))\n",
    "        chosen_features.add(feature)\n",
    "    return [feature_indices[feature] for feature in chosen_features]"
   ]
  },
  {
   "cell_type": "code",
   "execution_count": 20,
   "metadata": {},
   "outputs": [
    {
     "name": "stdout",
     "output_type": "stream",
     "text": [
      "['a', 'b', 'c', 'd', 'e', 'f', 'g', 'h', 'i', 'j', 'k', 'l', 'm', 'n', 'o', 'p', 'q', 'r', 's', 't'] 20\n",
      "Newly Added Feature: a,\tMSE Score: 0.1595831125047309\n",
      "Newly Added Feature: h,\tMSE Score: 0.15707769811012423\n",
      "Newly Added Feature: r,\tMSE Score: 0.15537874181595246\n",
      "Newly Added Feature: n,\tMSE Score: 0.15536186103435212\n",
      "[17, 7, 0, 13]\n",
      "Newly Added Feature: a,\tMSE Score: 5.801892864106297\n",
      "Newly Added Feature: n,\tMSE Score: 4.4417836802297765\n",
      "Newly Added Feature: t,\tMSE Score: 3.720265643370035\n",
      "Newly Added Feature: m,\tMSE Score: 3.577272705600767\n",
      "Newly Added Feature: j,\tMSE Score: 3.5161736845380585\n",
      "[19, 9, 12, 0, 13]\n",
      "Newly Added Feature: a,\tMSE Score: 2.28482973062546\n",
      "Newly Added Feature: l,\tMSE Score: 1.1608063454236444\n",
      "Newly Added Feature: g,\tMSE Score: 0.9787348949688858\n",
      "Newly Added Feature: c,\tMSE Score: 0.9134244723647672\n",
      "Newly Added Feature: s,\tMSE Score: 0.8175980639875514\n",
      "[18, 11, 6, 2, 0]\n"
     ]
    }
   ],
   "source": [
    "# 上記関数を使用して変数増加法を実行し、MSEを算出\n",
    "#feature_cols = list('abcdefghij')\n",
    "feature_cols = list('abcdefghijklmnopqrst')\n",
    "print(feature_cols,len(feature_cols))\n",
    "#feature_cols = list('abcdefghijklmnopqrstuvwxyzABCD')\n",
    "\n",
    "selected_feature_index_by_LinearRegression = get_gfs_feature_indices(X=train_x,y=train_y,features=feature_cols,clf=LinearRegression())\n",
    "print(selected_feature_index_by_LinearRegression)\n",
    "selected_feature_index_by_DecisionTreeRegressor = get_gfs_feature_indices(X=train_x,y=train_y,features=feature_cols,clf=DecisionTreeRegressor())\n",
    "print(selected_feature_index_by_DecisionTreeRegressor)\n",
    "selected_feature_index_by_RandomForestRegressor = get_gfs_feature_indices(X=train_x,y=train_y,features=feature_cols,clf= RandomForestRegressor())\n",
    "print(selected_feature_index_by_RandomForestRegressor)"
   ]
  },
  {
   "cell_type": "code",
   "execution_count": 21,
   "metadata": {},
   "outputs": [
    {
     "ename": "ValueError",
     "evalue": "Number of features of the model must match the input. Model n_features is 4 and input n_features is 5 ",
     "output_type": "error",
     "traceback": [
      "\u001b[1;31m---------------------------------------------------------------------------\u001b[0m",
      "\u001b[1;31mValueError\u001b[0m                                Traceback (most recent call last)",
      "\u001b[1;32m<ipython-input-21-25531bee4a1a>\u001b[0m in \u001b[0;36m<module>\u001b[1;34m()\u001b[0m\n\u001b[0;32m      2\u001b[0m \u001b[0mrf\u001b[0m \u001b[1;33m=\u001b[0m \u001b[0mRandomForestRegressor\u001b[0m\u001b[1;33m(\u001b[0m\u001b[0mrandom_state\u001b[0m\u001b[1;33m=\u001b[0m\u001b[1;36m1234\u001b[0m\u001b[1;33m)\u001b[0m\u001b[1;33m\u001b[0m\u001b[0m\n\u001b[0;32m      3\u001b[0m \u001b[0mrf\u001b[0m\u001b[1;33m.\u001b[0m\u001b[0mfit\u001b[0m\u001b[1;33m(\u001b[0m\u001b[0mtrain_x\u001b[0m\u001b[1;33m[\u001b[0m\u001b[1;33m:\u001b[0m\u001b[1;33m,\u001b[0m \u001b[0mselected_feature_index_by_LinearRegression\u001b[0m\u001b[1;33m]\u001b[0m\u001b[1;33m,\u001b[0m \u001b[0mtrain_y\u001b[0m\u001b[1;33m)\u001b[0m\u001b[1;33m\u001b[0m\u001b[0m\n\u001b[1;32m----> 4\u001b[1;33m \u001b[0my_pred2\u001b[0m \u001b[1;33m=\u001b[0m \u001b[0mrf\u001b[0m\u001b[1;33m.\u001b[0m\u001b[0mpredict\u001b[0m\u001b[1;33m(\u001b[0m\u001b[0mtest_x\u001b[0m\u001b[1;33m[\u001b[0m\u001b[1;33m:\u001b[0m\u001b[1;33m,\u001b[0m \u001b[0mselected_feature_index_by_RandomForestRegressor\u001b[0m\u001b[1;33m]\u001b[0m\u001b[1;33m)\u001b[0m\u001b[1;33m\u001b[0m\u001b[0m\n\u001b[0m\u001b[0;32m      5\u001b[0m \u001b[0mrf_mse\u001b[0m \u001b[1;33m=\u001b[0m \u001b[0mmean_squared_error\u001b[0m\u001b[1;33m(\u001b[0m\u001b[0mtest_y\u001b[0m\u001b[1;33m,\u001b[0m \u001b[0my_pred2\u001b[0m\u001b[1;33m)\u001b[0m\u001b[1;33m\u001b[0m\u001b[0m\n\u001b[0;32m      6\u001b[0m \u001b[0mprint\u001b[0m\u001b[1;33m(\u001b[0m\u001b[1;34m'RandomForest MSE: '\u001b[0m\u001b[1;33m,\u001b[0m \u001b[0mrf_mse\u001b[0m\u001b[1;33m)\u001b[0m\u001b[1;33m\u001b[0m\u001b[0m\n",
      "\u001b[1;32m~\\Anaconda3\\envs\\py36\\lib\\site-packages\\sklearn\\ensemble\\forest.py\u001b[0m in \u001b[0;36mpredict\u001b[1;34m(self, X)\u001b[0m\n\u001b[0;32m    679\u001b[0m         \u001b[0mcheck_is_fitted\u001b[0m\u001b[1;33m(\u001b[0m\u001b[0mself\u001b[0m\u001b[1;33m,\u001b[0m \u001b[1;34m'estimators_'\u001b[0m\u001b[1;33m)\u001b[0m\u001b[1;33m\u001b[0m\u001b[0m\n\u001b[0;32m    680\u001b[0m         \u001b[1;31m# Check data\u001b[0m\u001b[1;33m\u001b[0m\u001b[1;33m\u001b[0m\u001b[0m\n\u001b[1;32m--> 681\u001b[1;33m         \u001b[0mX\u001b[0m \u001b[1;33m=\u001b[0m \u001b[0mself\u001b[0m\u001b[1;33m.\u001b[0m\u001b[0m_validate_X_predict\u001b[0m\u001b[1;33m(\u001b[0m\u001b[0mX\u001b[0m\u001b[1;33m)\u001b[0m\u001b[1;33m\u001b[0m\u001b[0m\n\u001b[0m\u001b[0;32m    682\u001b[0m \u001b[1;33m\u001b[0m\u001b[0m\n\u001b[0;32m    683\u001b[0m         \u001b[1;31m# Assign chunk of trees to jobs\u001b[0m\u001b[1;33m\u001b[0m\u001b[1;33m\u001b[0m\u001b[0m\n",
      "\u001b[1;32m~\\Anaconda3\\envs\\py36\\lib\\site-packages\\sklearn\\ensemble\\forest.py\u001b[0m in \u001b[0;36m_validate_X_predict\u001b[1;34m(self, X)\u001b[0m\n\u001b[0;32m    355\u001b[0m                                  \"call `fit` before exploiting the model.\")\n\u001b[0;32m    356\u001b[0m \u001b[1;33m\u001b[0m\u001b[0m\n\u001b[1;32m--> 357\u001b[1;33m         \u001b[1;32mreturn\u001b[0m \u001b[0mself\u001b[0m\u001b[1;33m.\u001b[0m\u001b[0mestimators_\u001b[0m\u001b[1;33m[\u001b[0m\u001b[1;36m0\u001b[0m\u001b[1;33m]\u001b[0m\u001b[1;33m.\u001b[0m\u001b[0m_validate_X_predict\u001b[0m\u001b[1;33m(\u001b[0m\u001b[0mX\u001b[0m\u001b[1;33m,\u001b[0m \u001b[0mcheck_input\u001b[0m\u001b[1;33m=\u001b[0m\u001b[1;32mTrue\u001b[0m\u001b[1;33m)\u001b[0m\u001b[1;33m\u001b[0m\u001b[0m\n\u001b[0m\u001b[0;32m    358\u001b[0m \u001b[1;33m\u001b[0m\u001b[0m\n\u001b[0;32m    359\u001b[0m     \u001b[1;33m@\u001b[0m\u001b[0mproperty\u001b[0m\u001b[1;33m\u001b[0m\u001b[0m\n",
      "\u001b[1;32m~\\Anaconda3\\envs\\py36\\lib\\site-packages\\sklearn\\tree\\tree.py\u001b[0m in \u001b[0;36m_validate_X_predict\u001b[1;34m(self, X, check_input)\u001b[0m\n\u001b[0;32m    382\u001b[0m                              \u001b[1;34m\"match the input. Model n_features is %s and \"\u001b[0m\u001b[1;33m\u001b[0m\u001b[0m\n\u001b[0;32m    383\u001b[0m                              \u001b[1;34m\"input n_features is %s \"\u001b[0m\u001b[1;33m\u001b[0m\u001b[0m\n\u001b[1;32m--> 384\u001b[1;33m                              % (self.n_features_, n_features))\n\u001b[0m\u001b[0;32m    385\u001b[0m \u001b[1;33m\u001b[0m\u001b[0m\n\u001b[0;32m    386\u001b[0m         \u001b[1;32mreturn\u001b[0m \u001b[0mX\u001b[0m\u001b[1;33m\u001b[0m\u001b[0m\n",
      "\u001b[1;31mValueError\u001b[0m: Number of features of the model must match the input. Model n_features is 4 and input n_features is 5 "
     ]
    }
   ],
   "source": [
    "#線形回帰　特徴量選択済\n",
    "rf = RandomForestRegressor(random_state=1234)\n",
    "rf.fit(train_x[:, selected_feature_index_by_LinearRegression], train_y)\n",
    "y_pred2 = rf.predict(test_x[:, selected_feature_index_by_RandomForestRegressor])\n",
    "rf_mse = mean_squared_error(test_y, y_pred2)\n",
    "print('RandomForest MSE: ', rf_mse)"
   ]
  },
  {
   "cell_type": "code",
   "execution_count": null,
   "metadata": {},
   "outputs": [],
   "source": [
    "#決定木\n",
    "rf = RandomForestRegressor(random_state=1234)\n",
    "rf.fit(train_x[:, selected_feature_index_by_DecisionTreeRegressor], train_y)\n",
    "y_pred2 = rf.predict(test_x[:, selected_feature_index_by_RandomForestRegressor])\n",
    "rf_mse = mean_squared_error(test_y, y_pred2)\n",
    "print('RandomForest MSE: ', rf_mse)"
   ]
  },
  {
   "cell_type": "code",
   "execution_count": null,
   "metadata": {},
   "outputs": [],
   "source": [
    "#ランダムフォレスト\n",
    "rf = RandomForestRegressor(random_state=1234)\n",
    "rf.fit(train_x[:, selected_feature_index_by_RandomForestRegressor], train_y)\n",
    "y_pred2 = rf.predict(test_x[:, selected_feature_index_by_RandomForestRegressor])\n",
    "rf_mse = mean_squared_error(test_y, y_pred2)\n",
    "print('RandomForest MSE: ', rf_mse)"
   ]
  },
  {
   "cell_type": "code",
   "execution_count": null,
   "metadata": {},
   "outputs": [],
   "source": []
  },
  {
   "cell_type": "code",
   "execution_count": null,
   "metadata": {},
   "outputs": [],
   "source": []
  },
  {
   "cell_type": "code",
   "execution_count": null,
   "metadata": {},
   "outputs": [],
   "source": [
    "rf = RandomForestRegressor(random_state=1234)"
   ]
  },
  {
   "cell_type": "code",
   "execution_count": null,
   "metadata": {},
   "outputs": [],
   "source": [
    "params = {'n_estimators': [8,10,13,15], 'max_depth': [6,8,10]}\n",
    "gscv = GridSearchCV(rf, param_grid=params, verbose=1,\n",
    "                    cv=3, scoring='neg_mean_squared_error')\n",
    "gscv.fit(train_x[:, selected_feature_index_by_RandomForestRegressor], train_y)"
   ]
  },
  {
   "cell_type": "code",
   "execution_count": null,
   "metadata": {},
   "outputs": [],
   "source": [
    "gscv.best_params_"
   ]
  },
  {
   "cell_type": "code",
   "execution_count": null,
   "metadata": {},
   "outputs": [],
   "source": [
    "rf = RandomForestRegressor(n_estimators=13, max_depth=8,random_state=1234)\n",
    "rf.fit(train_x[:, selected_feature_index_by_RandomForestRegressor], train_y)\n",
    "y_pred2 = rf.predict(test_x[:, selected_feature_index_by_RandomForestRegressor])\n",
    "rf_mse = mean_squared_error(test_y, y_pred2)\n",
    "print('RandomForest MSE: ', rf_mse)"
   ]
  },
  {
   "cell_type": "code",
   "execution_count": null,
   "metadata": {},
   "outputs": [],
   "source": [
    "# 予測結果を出力します\n",
    "pred_y = y_pred2\n",
    "result = pd.DataFrame(pred_y)\n",
    "result.columns = ['pred_y']\n",
    "result['test_y'] = test_y\n",
    "#２乗平均誤差ではなく、ただの差\n",
    "result['RMS'] = (result['test_y']-result['pred_y'])#*(result['test_y']-result['pred_y'])\n",
    "print(result.loc[:])\n"
   ]
  },
  {
   "cell_type": "code",
   "execution_count": null,
   "metadata": {},
   "outputs": [],
   "source": [
    "# Plot\n",
    "plt.plot(range(0,len(result)), test_y, label='Actual price', color='blue')\n",
    "plt.plot(range(0,len(result)), pred_y, label='Predicted price', color='red')\n",
    "plt.xlabel('Hours')\n",
    "plt.ylabel('Price ($)')\n",
    "plt.title('Bitcoin Price')\n",
    "plt.grid(True)\n",
    "plt.legend()\n",
    "plt.savefig('Bitcoin1.png')\n",
    "plt.close()\n",
    "plt.show()"
   ]
  },
  {
   "cell_type": "code",
   "execution_count": null,
   "metadata": {},
   "outputs": [],
   "source": [
    "# Plot拡大\n",
    "plt.plot(range(0,len(result[0:15])), test_y[len(test_y)-15:], label='Actual price', color='blue', marker = 'o')\n",
    "plt.plot(range(0,len(result[0:15])), pred_y[len(test_y)-15:], label='Predicted price', color='red', marker ='x')\n",
    "plt.xlabel('Hours')\n",
    "plt.ylabel('Price ($)')\n",
    "plt.title('Bitcoin Price')\n",
    "plt.grid(True)\n",
    "plt.legend()\n",
    "plt.savefig('Bitcoin2.png')\n",
    "plt.close()\n",
    "plt.show()"
   ]
  },
  {
   "cell_type": "code",
   "execution_count": null,
   "metadata": {},
   "outputs": [],
   "source": []
  }
 ],
 "metadata": {
  "kernelspec": {
   "display_name": "Python 3",
   "language": "python",
   "name": "python3"
  },
  "language_info": {
   "codemirror_mode": {
    "name": "ipython",
    "version": 3
   },
   "file_extension": ".py",
   "mimetype": "text/x-python",
   "name": "python",
   "nbconvert_exporter": "python",
   "pygments_lexer": "ipython3",
   "version": "3.6.5"
  }
 },
 "nbformat": 4,
 "nbformat_minor": 2
}
