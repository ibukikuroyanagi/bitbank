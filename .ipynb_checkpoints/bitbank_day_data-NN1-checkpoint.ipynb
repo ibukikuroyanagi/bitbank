{
 "cells": [
  {
   "cell_type": "code",
   "execution_count": 1,
   "metadata": {},
   "outputs": [],
   "source": [
    "#python_bitbankccのパッケージをインポート\n",
    "#cloud9で起動するときのコマンド\n",
    "#jupyter notebook --ip $IP --port $PORT --no-browser\n",
    "import python_bitbankcc \n",
    "import datetime\n",
    "import os \n",
    "import time\n",
    "import numpy as np\n",
    "import pandas as pd\n",
    "import sys\n",
    "from dateutil.relativedelta import relativedelta\n",
    "#トレンドラインを引くため\n",
    "from scipy.stats import linregress"
   ]
  },
  {
   "cell_type": "code",
   "execution_count": 2,
   "metadata": {},
   "outputs": [],
   "source": [
    "#機械学習用のモジュール\n",
    "import matplotlib as mpl\n",
    "mpl.use('Agg')\n",
    "import matplotlib.pyplot as plt\n",
    "from sklearn import linear_model\n",
    "% matplotlib inline\n",
    "from __future__ import print_function\n",
    "import copy\n",
    "import matplotlib\n",
    "matplotlib.style.use('ggplot')\n",
    "import time\n",
    "from sklearn.linear_model import LinearRegression\n",
    "from sklearn.tree import DecisionTreeRegressor\n",
    "from sklearn.ensemble import RandomForestRegressor\n",
    "\n",
    "from sklearn.model_selection import GridSearchCV\n",
    "from sklearn.model_selection import train_test_split\n",
    "from sklearn.metrics import mean_squared_error"
   ]
  },
  {
   "cell_type": "code",
   "execution_count": 3,
   "metadata": {},
   "outputs": [],
   "source": [
    "# public API classのオブジェクトを取得\n",
    "pub = python_bitbankcc.public()"
   ]
  },
  {
   "cell_type": "code",
   "execution_count": 4,
   "metadata": {},
   "outputs": [],
   "source": [
    "#APIから基本データの取得、dataframeへ挿入\n",
    "def get_candle(trade_name,span,back_day):\n",
    "    # ロウソク足データを取得\n",
    "    value = pub.get_candlestick( trade_name,span, back_day )\n",
    "    candle = value['candlestick'][0]\n",
    "    #print(candle['ohlcv'][0])\n",
    "    dataframe = pd.DataFrame(candle['ohlcv'],columns=[\"Open\", \"High\",\"Low\",\"Close\",\"Volume\",\"Timestamp\"])\n",
    "    return dataframe\n"
   ]
  },
  {
   "cell_type": "code",
   "execution_count": 5,
   "metadata": {},
   "outputs": [],
   "source": [
    "#指定した日から今日までの基本データをdataframeにして取得\n",
    "#back_day,todayはdatetime\n",
    "# span = ['1min', '5min', '15min', '30min', '1hour', '4hour', '8hour', '12hour', '1day', '1week']\n",
    "#trade_name = ['btc_jpy', 'xrp_jpy', 'ltc_btc', 'eth_btc', 'mona_jpy', 'mona_btc', 'bcc_jpy', 'bcc_btc']\n",
    "\n",
    "def make_df(trade_name,span,back_day,today):\n",
    "    i = 1\n",
    "    if (span =='1min')or(span== '5min')or(span== '15min')or(span== '30min')or(span== '1hour'):\n",
    "        #基準が９時なので、そこを合わせてあげる\n",
    "        if 0 <= today.hour < 9:\n",
    "            k = 1\n",
    "        elif 9 <= today.hour <= 23:\n",
    "            k = 0\n",
    "\n",
    "        while back_day <= today - datetime.timedelta(days=k):\n",
    "            if i == 1:\n",
    "                df1 = get_candle(trade_name,span,datetime.datetime.strftime(back_day, '%Y%m%d'))\n",
    "                back_day = back_day + datetime.timedelta(days=1)\n",
    "                #print(back_day,len(df1))\n",
    "                i += 1\n",
    "            else:\n",
    "                df2 = get_candle(trade_name,span,datetime.datetime.strftime(back_day, '%Y%m%d'))\n",
    "                df1 = pd.concat([df1, df2])\n",
    "                back_day = back_day + datetime.timedelta(days=1)\n",
    "                #print(back_day,len(df1))\n",
    "                i += 1\n",
    "    else:\n",
    "        \n",
    "        today = datetime.date(today.year, today.month, today.day)\n",
    "        back_day = datetime.date(back_day.year, back_day.month, back_day.day)\n",
    "\n",
    "\n",
    "        while back_day <= today:\n",
    "            if i == 1:\n",
    "                df1 = get_candle(trade_name,span,datetime.datetime.strftime(back_day, '%Y'))\n",
    "                back_day = back_day + relativedelta(years=1)\n",
    "                i += 1\n",
    "            else:\n",
    "                df2 = get_candle(trade_name,span,datetime.datetime.strftime(back_day, '%Y'))\n",
    "                df1 = pd.concat([df1, df2])\n",
    "                back_day = back_day +  relativedelta(years=1)\n",
    "                i += 1\n",
    "            \n",
    "\n",
    "    return df1\n",
    "\n"
   ]
  },
  {
   "cell_type": "code",
   "execution_count": 6,
   "metadata": {},
   "outputs": [],
   "source": [
    "def read_date(x):\n",
    "    return datetime.datetime.fromtimestamp(x/1000)\n"
   ]
  },
  {
   "cell_type": "code",
   "execution_count": 7,
   "metadata": {},
   "outputs": [],
   "source": [
    "\n",
    "# 単純移動平均（SMA）を取得する関数\n",
    "#上記のdfデータフレーム\n",
    "#numいくつの平均を求めるか\n",
    "def getMA( df,num ):\n",
    " \n",
    "    tmp = []\n",
    "    avg = np.array([])\n",
    "    for i in range(len(df) - num + 1):\n",
    "        for j in range(num):\n",
    "            #print(df['Close'][i+j])\n",
    "            tmp.append( df['Close'][i+j])\n",
    "            \n",
    "         # 平均値計算\n",
    "        value = np.average(tmp)\n",
    "        avg = np.append(avg,value)\n",
    "        tmp = []\n",
    "    \n",
    "    return avg"
   ]
  },
  {
   "cell_type": "code",
   "execution_count": 8,
   "metadata": {},
   "outputs": [],
   "source": [
    "#ゴールデン・デッドクロス判定\n",
    "def golden_dead(data_df1):\n",
    "    golden=np.zeros(len(data_df1['Cross']),dtype=int)\n",
    "    dead=np.zeros(len(data_df1['Cross']),dtype=int)\n",
    "    for i in range(len(data_df1['Cross'])-1):\n",
    "        x = data_df1['Cross'][i]\n",
    "        y = data_df1['Cross'][i+1]\n",
    "        if ((x <= 0) & (y<=0)) |((x >= 0) & (y>=0)):\n",
    "            pass\n",
    "        elif ((x <= 0) & (y>=0)) :\n",
    "            golden=np.insert(golden,i+1,1)\n",
    "            golden=np.delete(golden,i+2)\n",
    "        elif ((x >= 0) & (y<=0)) :\n",
    "            dead=np.insert(dead,i+1,1)\n",
    "            dead=np.delete(dead,i+2)\n",
    "\n",
    "    return golden,dead\n",
    "    "
   ]
  },
  {
   "cell_type": "code",
   "execution_count": 9,
   "metadata": {},
   "outputs": [],
   "source": [
    "#上下判定\n",
    "def up_down(data_df1):\n",
    "    up=np.zeros(len(data_df1['Close']),dtype=int)\n",
    "    mid_up=np.zeros(len(data_df1['Close']),dtype=int)\n",
    "    down=np.zeros(len(data_df1['Close']),dtype=int)\n",
    "    mid_down=np.zeros(len(data_df1['Close']),dtype=int)\n",
    "    for i in range(len(data_df1['Close'])-1):\n",
    "        x = data_df1['Close'][i]\n",
    "        y = data_df1['Close'][i+1]\n",
    "#         if (0<=(y-x)<=0.5):\n",
    "#             mid_up=np.insert(mid_up,i+1,1)\n",
    "#             min_up=np.delete(mid_up,i+2)\n",
    "#         elif (-0.5<=(y-x)<0):\n",
    "#             mid_down=np.insert(mid_down,i+1,1)\n",
    "#             min_down=np.delete(mid_down,i+2)\n",
    "        if ((y-x)>0):\n",
    "            up=np.insert(up,i+1,1)\n",
    "            up=np.delete(up,i+2)\n",
    "        elif ((y-x)<=0) :\n",
    "            down=np.insert(down,i+1,1)\n",
    "            down=np.delete(down,i+2)\n",
    "\n",
    "    return up,down"
   ]
  },
  {
   "cell_type": "code",
   "execution_count": 10,
   "metadata": {},
   "outputs": [],
   "source": [
    "#関数の使い方\n",
    "today = datetime.datetime.today() \n",
    "back_day = today - datetime.timedelta(days=400)\n",
    "trade_name = 'xrp_jpy'\n",
    "span = '12hour'\n",
    "num = 5"
   ]
  },
  {
   "cell_type": "code",
   "execution_count": 11,
   "metadata": {},
   "outputs": [
    {
     "name": "stdout",
     "output_type": "stream",
     "text": [
      "     index    Open    High     Low   Close        Volume           Timestamp\n",
      "0      0.0  34.375  34.375  34.375  34.375  0.000000e+00 2017-05-24 21:00:00\n",
      "1      1.0  34.375  35.500  34.000  34.000  3.072000e+03 2017-05-25 09:00:00\n",
      "2      2.0  34.000  36.000  31.000  35.000  6.133000e+03 2017-05-25 21:00:00\n",
      "3      3.0  35.000  40.000  30.200  40.000  9.901000e+03 2017-05-26 09:00:00\n",
      "4      4.0  40.000  40.000  30.500  36.000  1.254100e+04 2017-05-26 21:00:00\n",
      "5      5.0  36.000  36.000  20.000  20.000  9.026198e+04 2017-05-27 09:00:00\n",
      "6      6.0  20.000  36.000  20.000  27.000  4.969786e+03 2017-05-27 21:00:00\n",
      "7      7.0  27.000  29.000  27.000  29.000  1.358398e+04 2017-05-28 09:00:00\n",
      "8      8.0  29.000  29.000  20.500  29.000  7.202677e+03 2017-05-28 21:00:00\n",
      "9      9.0  29.000  29.550  25.500  25.500  1.124225e+04 2017-05-29 09:00:00\n",
      "10    10.0  25.500  27.900  25.500  25.501  1.260000e+03 2017-05-29 21:00:00\n",
      "11    11.0  25.501  27.500  25.501  27.000  4.440000e+02 2017-05-30 09:00:00\n",
      "12    12.0  27.000  27.900  27.000  27.900  1.205000e+03 2017-05-30 21:00:00\n",
      "13    13.0  27.900  27.900  26.000  26.000  6.100000e+01 2017-05-31 09:00:00\n",
      "14    14.0  26.000  29.000  26.000  29.000  1.221780e+04 2017-05-31 21:00:00\n",
      "15    15.0  29.000  35.000  27.100  35.000  6.078444e+04 2017-06-01 09:00:00\n",
      "16    16.0  35.000  37.800  34.798  37.800  1.621089e+04 2017-06-01 21:00:00\n",
      "17    17.0  37.800  48.000  34.000  36.483  5.729496e+04 2017-06-02 09:00:00\n",
      "18    18.0  36.483  36.483  33.000  36.400  2.070054e+04 2017-06-02 21:00:00\n",
      "19    19.0  36.400  36.400  33.000  33.000  3.221016e+04 2017-06-03 09:00:00\n",
      "20    20.0  33.000  34.400  31.000  31.000  4.003635e+04 2017-06-03 21:00:00\n",
      "21    21.0  31.000  35.000  31.000  32.999  6.314220e+03 2017-06-04 09:00:00\n",
      "22    22.0  32.999  36.390  32.210  35.800  2.104037e+04 2017-06-04 21:00:00\n",
      "23    23.0  35.800  35.800  32.210  32.220  4.128600e+04 2017-06-05 09:00:00\n",
      "24    24.0  32.220  32.990  32.218  32.218  1.815400e+04 2017-06-05 21:00:00\n",
      "25    25.0  32.218  32.600  31.000  31.690  1.056689e+05 2017-06-06 09:00:00\n",
      "26    26.0  31.690  32.700  31.010  31.500  7.414540e+04 2017-06-06 21:00:00\n",
      "27    27.0  31.500  37.000  28.900  31.200  2.160505e+05 2017-06-07 09:00:00\n",
      "28    28.0  31.199  32.999  31.000  31.000  4.365276e+04 2017-06-07 21:00:00\n",
      "29    29.0  31.000  33.000  30.700  32.100  1.578128e+05 2017-06-08 09:00:00\n",
      "..     ...     ...     ...     ...     ...           ...                 ...\n",
      "970  527.0  59.517  75.010  55.184  60.998  1.667752e+08 2018-09-21 21:00:00\n",
      "971  528.0  60.950  66.980  53.000  62.965  2.202914e+08 2018-09-22 09:00:00\n",
      "972  529.0  62.951  65.950  60.200  63.703  1.002101e+08 2018-09-22 21:00:00\n",
      "973  530.0  63.703  66.666  63.000  65.885  1.027084e+08 2018-09-23 09:00:00\n",
      "974  531.0  65.885  65.898  62.689  64.260  7.772953e+07 2018-09-23 21:00:00\n",
      "975  532.0  64.266  64.750  56.199  57.900  1.223316e+08 2018-09-24 09:00:00\n",
      "976  533.0  57.900  60.000  54.120  55.515  9.152962e+07 2018-09-24 21:00:00\n",
      "977  534.0  55.499  55.678  49.188  50.201  1.794683e+08 2018-09-25 09:00:00\n",
      "978  535.0  50.201  62.004  49.801  58.900  1.332797e+08 2018-09-25 21:00:00\n",
      "979  536.0  58.900  63.855  54.600  63.685  2.120843e+08 2018-09-26 09:00:00\n",
      "980  537.0  63.685  63.980  56.000  57.780  1.453665e+08 2018-09-26 21:00:00\n",
      "981  538.0  57.779  60.980  57.342  58.900  1.017905e+08 2018-09-27 09:00:00\n",
      "982  539.0  58.890  62.500  58.516  61.203  8.462102e+07 2018-09-27 21:00:00\n",
      "983  540.0  61.325  62.000  58.600  59.489  8.910766e+07 2018-09-28 09:00:00\n",
      "984  541.0  59.450  61.996  58.900  61.138  7.384659e+07 2018-09-28 21:00:00\n",
      "985  542.0  61.187  65.501  59.666  63.500  9.953029e+07 2018-09-29 09:00:00\n",
      "986  543.0  63.502  66.300  62.499  64.761  1.130391e+08 2018-09-29 21:00:00\n",
      "987  544.0  64.762  70.000  63.734  69.250  1.648735e+08 2018-09-30 09:00:00\n",
      "988  545.0  69.250  69.598  63.400  65.950  1.261272e+08 2018-09-30 21:00:00\n",
      "989  546.0  65.950  68.898  65.291  65.817  1.032096e+08 2018-10-01 09:00:00\n",
      "990  547.0  65.817  67.160  60.492  65.140  1.890289e+08 2018-10-01 21:00:00\n",
      "991  548.0  65.140  65.500  62.294  63.045  7.882499e+07 2018-10-02 09:00:00\n",
      "992  549.0  63.045  64.648  57.200  57.600  1.317778e+08 2018-10-02 21:00:00\n",
      "993  550.0  57.598  61.800  57.000  60.390  1.303197e+08 2018-10-03 09:00:00\n",
      "994  551.0  60.391  60.888  58.589  60.001  7.354091e+07 2018-10-03 21:00:00\n",
      "995  552.0  60.003  62.701  59.800  60.230  8.873191e+07 2018-10-04 09:00:00\n",
      "996  553.0  60.230  61.181  59.611  60.018  4.175793e+07 2018-10-04 21:00:00\n",
      "997  554.0  60.008  60.512  58.011  58.840  6.402522e+07 2018-10-05 09:00:00\n",
      "998  555.0  58.803  59.997  57.510  58.900  4.667886e+07 2018-10-05 21:00:00\n",
      "999  556.0  58.902  59.219  58.300  58.859  1.432167e+07 2018-10-06 09:00:00\n",
      "\n",
      "[1000 rows x 7 columns]\n"
     ]
    }
   ],
   "source": [
    "#基本データの取得\n",
    "old = time.time()\n",
    "data_df1 =  make_df(trade_name,span,back_day,today)\n",
    "data_df1['Timestamp'] = data_df1['Timestamp'].apply(read_date)\n",
    "#indexの割り振り\n",
    "data_df1 = data_df1.reset_index()\n",
    "#df1の値は全てstrなのでTimestamp以外floatにキャストする\n",
    "#Timestampは文字列のままでいいので削除することを指定\n",
    "execlude = ['Timestamp']\n",
    "cast = [col for col in data_df1.columns if col not in execlude]\n",
    "for item in cast:\n",
    "    data_df1 = data_df1.astype({item: float})\n",
    "print(data_df1)"
   ]
  },
  {
   "cell_type": "code",
   "execution_count": 12,
   "metadata": {},
   "outputs": [],
   "source": [
    "# #移動平均線np\n",
    "# MA5 = getMA( data_df1,num)\n",
    "# MA25 = getMA( data_df1,num+20)\n",
    "# zero5 = np.zeros(num-1,dtype = float )\n",
    "# zero25 = np.zeros(num+20-1,dtype = float )\n",
    "# MA5 = np.insert(MA5, 0, zero5)\n",
    "# MA25 = np.insert(MA25, 0, zero25)\n",
    "# print(MA25,MA5)\n",
    "# print(MA25.shape,type(MA25),MA5.shape,type(MA5))"
   ]
  },
  {
   "cell_type": "code",
   "execution_count": 13,
   "metadata": {},
   "outputs": [],
   "source": [
    "# #自作変数を作成する\n",
    "# data_df1['High-Low']=data_df1['High']-data_df1['Low']\n",
    "# data_df1['Close-Open']=data_df1['Close']-data_df1['Open']\n",
    "# data_df1['Similarity'] = data_df1['Close-Open'] / (data_df1['High-Low'] + 0.000001)\n",
    "# data_df1['(High-Low)*Volume '] = data_df1['High-Low']*data_df1['Volume']\n",
    "# data_df1['(Close-Open)*Volume '] = data_df1['Close-Open']*data_df1['Volume']\n",
    "# data_df1['High-Low']\n",
    "# data_df1['MA5'] = MA5\n",
    "# data_df1['MA25'] = MA25\n",
    "# data_df1['Cross'] = MA5 - MA25\n",
    "# data_df1['index'] = data_df1.index + 1"
   ]
  },
  {
   "cell_type": "code",
   "execution_count": 14,
   "metadata": {},
   "outputs": [],
   "source": [
    "# data_df1['golden'],data_df1['dead']  = golden_dead(data_df1)"
   ]
  },
  {
   "cell_type": "code",
   "execution_count": 15,
   "metadata": {},
   "outputs": [],
   "source": [
    "# #data_df1['up'],data_df1['mid_up'],data_df1['min_down'],data_df1['down'] = up_down(data_df1)\n",
    "# a,b = up_down(data_df1)\n",
    "# # print(len(a),len(b))\n",
    "# data_df1['up'],data_df1['down'] = up_down(data_df1)\n"
   ]
  },
  {
   "cell_type": "code",
   "execution_count": 16,
   "metadata": {},
   "outputs": [],
   "source": [
    "# #data作成までの時間\n",
    "# print('かかった時間：{0}'.format(time.time()-old))\n",
    "# #作成変数の表示\n",
    "# data_df1.loc[len(data_df1)-9:]"
   ]
  },
  {
   "cell_type": "code",
   "execution_count": 17,
   "metadata": {},
   "outputs": [
    {
     "name": "stdout",
     "output_type": "stream",
     "text": [
      "['Open', 'High', 'Low', 'Close', 'Volume']\n",
      "(1000, 5)\n"
     ]
    }
   ],
   "source": [
    "#次のCloseを予測する機械学習\n",
    "#使わない変数を除外\n",
    "exe_cols = ['index','Timestamp']\n",
    "feature_cols = [col for col in data_df1.columns if col not in exe_cols]\n",
    "print(feature_cols)\n",
    "#機械学習用にnp配列に変換\n",
    "data_np= np.array(data_df1[feature_cols])\n",
    "print(data_np.shape)"
   ]
  },
  {
   "cell_type": "code",
   "execution_count": 18,
   "metadata": {
    "scrolled": false
   },
   "outputs": [
    {
     "name": "stdout",
     "output_type": "stream",
     "text": [
      "[ 34.     35.     40.     36.     20.     27.     29.     29.     25.5\n",
      "  25.501  27.     27.9    26.     29.     35.     37.8    36.483  36.4\n",
      "  33.     31.     32.999  35.8    32.22   32.218  31.69   31.5    31.2\n",
      "  31.     32.1    31.799  32.03   31.8    29.801  29.5    28.901  29.999\n",
      "  28.1    31.498  29.773  30.     30.702  30.957  28.66   27.579  28.1\n",
      "  28.351  29.12   29.645  28.55   29.51   30.1    29.138  35.152  36.\n",
      "  32.9    30.5    30.61   31.289  31.3    32.6    33.01   31.78   31.19\n",
      "  30.7    29.9    29.079  28.95   29.708  29.34   30.35   28.469  28.62\n",
      "  29.486  28.5    28.565  27.8    27.694  28.4    28.125  28.49   28.5\n",
      "  28.485  28.3    28.12   28.238  28.319  27.21   26.569  25.72   25.869\n",
      "  26.596  26.14   25.615  21.631  21.324  20.     21.554  21.933  23.\n",
      "  22.3    21.841  20.514  19.66   19.438  15.516  16.819  16.796  19.3\n",
      "  19.79   20.52   20.5    19.11   19.579  21.     21.279  19.951  20.41\n",
      "  21.64   21.654  21.85   21.725  21.532  19.896  19.819  19.777  19.329\n",
      "  19.441  19.     17.9    18.704  18.798  18.89   18.54   18.316  18.13\n",
      "  18.4    18.469  19.851  19.88   19.062  18.743  19.4    19.159  19.698\n",
      "  19.6    20.26   20.446  20.106  20.05   19.7    19.83   21.301  20.62\n",
      "  21.443  21.5    20.2    20.11   19.948  20.     19.     18.7    19.999\n",
      "  19.05   19.599  18.5    17.78   17.399  18.1    17.701  17.601  17.7\n",
      "  17.49   17.391  17.7    17.     17.759  17.58   21.35   21.2    26.75\n",
      "  31.9    27.5    29.6    24.     24.     23.051  24.3    23.95   22.002\n",
      "  21.501  21.999  24.469  23.99   24.     24.42   25.159  25.848  29.95\n",
      "  27.99   28.     26.497  25.994  26.189  26.499  24.5    23.501  24.348\n",
      "  24.     24.84   25.332  24.6    24.801  24.601  24.401  23.65   23.976\n",
      "  23.     23.5    23.999  24.3    24.201  23.303  22.     22.986  21.\n",
      "  17.4    17.998  20.199  19.9    19.746  20.5    19.4    20.7    21.25\n",
      "  20.901  20.848  20.999  21.309  20.8    19.801  19.4    19.9    20.09\n",
      "  20.488  19.867  19.601  20.19   20.52   20.3    20.9    22.5    23.496\n",
      "  21.95   22.     21.7    21.92   22.205  22.648  22.3    22.8    22.301\n",
      "  22.505  22.89   23.     23.198  23.601  25.     26.8    26.851  26.884\n",
      "  26.749  26.531  28.026  29.99   29.15   27.521  27.803  29.     28.501\n",
      "  28.722  29.3    28.661  27.5    28.832  29.4    28.873  28.901  29.056\n",
      "  30.81   29.     28.55   26.8    25.8    25.299  23.731  24.499  24.5\n",
      "  24.01   23.01   23.84   23.684  22.955  22.849  22.495  23.29   23.\n",
      "  22.798  22.9    23.569  23.45   22.84   23.077  22.8    22.501  22.749\n",
      "  23.     22.994  22.8    22.7    22.9    22.5    22.001  22.12   23.061\n",
      "  23.065  23.503  23.1    23.001  22.972  22.961  23.2    23.502  23.231\n",
      "  23.441  23.7    24.998  24.999  24.956  24.2    23.501  23.12   23.72\n",
      "  22.5    22.885  23.499  23.3    23.667  24.07   23.953  23.9    23.49\n",
      "  25.299  26.329  25.7    25.7    25.602  26.079  26.155  27.12   27.795\n",
      "  27.351  26.596  26.599  26.65   26.744  27.1    27.1    27.128  27.16\n",
      "  27.671  27.604  27.886  27.995  27.995  29.291  32.705  30.301  28.356\n",
      "  28.499  28.798  27.323  28.4    27.97   27.856  28.602  28.47   28.072\n",
      "  28.076  27.464  27.1    25.911  25.501  26.101  26.7    27.9    28.5\n",
      "  28.976  28.5    27.355  27.     28.59   28.5    31.3    42.887  55.65\n",
      "  54.243  64.599  96.104  85.7    85.085  88.7    85.     84.459  83.004\n",
      "  85.525  87.558  90.     90.521  87.4    85.705 114.697 138.5   120.99\n",
      " 128.    127.5   124.917 113.899 119.997 118.1   115.002 116.174 123.5\n",
      " 126.9   140.975 139.975 150.652 183.1   232.595 259.    220.391 236.\n",
      " 244.442 238.001 243.    244.999 258.612 283.    326.898 379.5   358.873\n",
      " 352.002 312.428 325.    323.139 324.    334.901 318.    309.987 290.999\n",
      " 265.    243.488 241.003 215.51  239.4   251.999 248.    250.24  246.6\n",
      " 227.1   230.48  224.932 198.17  177.    139.899 119.    153.55  169.\n",
      " 182.084 189.81  178.    174.94  180.401 168.2   160.    154.257 151.\n",
      " 137.    152.9   153.799 148.432 146.299 146.    123.599 126.8   126.999\n",
      " 136.104 136.75  147.48  138.6   139.    131.802 119.016 121.175 123.98\n",
      " 112.6   101.43   76.7    96.902  95.8   102.8    95.5    89.699  81.51\n",
      "  72.99   70.999  85.4    85.299  78.987  85.32   85.01   89.81  106.79\n",
      " 117.7   112.795 108.444 107.5   113.4   117.    110.001 108.388 110.9\n",
      " 119.25  117.924 119.9   117.595 119.4   120.751 126.897 119.73  117.\n",
      " 120.697 120.14  119.202 113.386 110.35  105.48  102.8    97.18  104.601\n",
      " 102.9    98.801 100.     98.216  97.6    96.576  99.422 101.2   100.198\n",
      "  97.693  95.799  96.9    97.606  95.499  95.658  95.76   95.27   94.964\n",
      " 103.    109.845 101.089 100.     97.28   97.1    91.499  91.8    87.25\n",
      "  83.3    89.301  87.872  84.289  86.013  87.96   88.26   84.81   84.039\n",
      "  83.614  80.894  74.479  76.32   73.6    73.102  73.101  72.05   67.97\n",
      "  64.2    69.609  70.279  78.5    73.931  75.579  75.198  72.923  68.93\n",
      "  69.4    67.     67.668  67.     67.     66.29   67.384  63.199  62.6\n",
      "  61.09   61.1    61.799  61.497  56.779  53.     53.8    53.095  54.413\n",
      "  53.89   51.24   51.374  53.099  52.63   56.1    59.286  54.189  53.05\n",
      "  52.41   53.001  50.576  50.903  51.6    51.946  52.802  53.5    52.2\n",
      "  52.668  51.701  52.42   52.621  56.102  58.5    69.65   70.1    69.9\n",
      "  68.98   69.282  72.9    75.597  71.214  71.462  72.379  70.72   73.558\n",
      "  75.8    77.098  85.499  93.711 100.299  90.199  94.2    96.454  92.8\n",
      "  94.801  95.5   100.421 102.4    91.     86.999  87.304  92.5    92.887\n",
      "  88.2    91.101  93.5    93.138  94.278  92.848  91.283  90.374  91.41\n",
      "  93.659  94.23   93.302  95.9    98.16   97.122  98.101  98.3    93.699\n",
      "  94.43   89.662  89.8    86.304  87.404  87.06   86.916  86.104  81.8\n",
      "  72.     74.118  75.609  75.399  75.677  81.068  79.5    80.419  81.351\n",
      "  76.618  77.1    77.967  76.6    73.037  74.55   75.084  74.949  74.898\n",
      "  76.001  77.662  76.752  75.548  74.186  71.353  68.199  65.492  66.996\n",
      "  69.37   67.65   66.801  67.681  67.382  66.801  66.6    62.6    59.979\n",
      "  65.     65.2    67.011  65.738  66.54   66.748  66.9    67.999  70.344\n",
      "  70.229  72.3    76.098  70.8    72.055  72.7    74.094  73.984  74.425\n",
      "  75.092  74.585  72.9    73.934  74.03   72.679  68.144  64.5    64.09\n",
      "  66.802  65.756  62.2    60.34   59.15   61.333  61.9    60.876  59.377\n",
      "  59.14   59.192  59.281  58.634  56.648  58.94   60.393  60.799  58.879\n",
      "  59.714  59.931  59.3    56.799  54.225  54.595  54.453  51.719  52.447\n",
      "  53.909  53.35   52.835  50.63   51.072  51.931  50.929  50.08   47.41\n",
      "  50.002  51.3    51.688  51.065  51.148  50.728  54.081  54.738  53.602\n",
      "  53.35   54.186  54.13   52.901  52.32   52.702  52.     53.15   53.294\n",
      "  52.815  52.904  52.602  50.142  49.468  49.86   50.555  48.875  49.299\n",
      "  49.732  49.259  49.135  49.248  50.14   50.138  52.66   54.901  52.99\n",
      "  56.599  57.357  54.702  54.68   53.6    51.74   50.057  50.2    50.819\n",
      "  50.553  50.     50.284  49.765  50.599  50.79   50.38   50.89   51.365\n",
      "  50.035  49.9    50.521  50.308  50.356  50.21   50.285  50.     49.429\n",
      "  48.695  48.4    49.811  49.711  48.654  48.153  48.879  48.93   48.7\n",
      "  48.063  47.961  48.432  47.74   45.791  45.748  42.2    39.14   36.902\n",
      "  38.041  38.395  36.924  35.625  32.769  33.2    34.035  32.966  33.763\n",
      "  30.649  28.905  30.27   31.79   30.987  32.388  32.649  34.895  41.001\n",
      "  38.35   36.299  38.55   38.035  37.4    34.816  36.775  36.78   37.45\n",
      "  35.15   35.4    36.35   36.09   36.206  36.139  36.368  35.994  35.953\n",
      "  36.55   37.47   38.751  39.084  38.654  38.479  36.301  37.26   36.72\n",
      "  37.144  37.59   38.49   37.651  38.027  37.167  37.232  37.38   36.885\n",
      "  33.78   30.98   31.743  33.335  32.095  31.93   32.362  30.88   31.61\n",
      "  30.7    30.395  29.989  29.22   29.24   28.541  30.021  30.497  31.256\n",
      "  30.978  30.93   31.25   31.429  31.27   31.4    31.391  30.24   34.7\n",
      "  35.769  35.412  36.159  40.514  50.4    59.51   60.998  62.965  63.703\n",
      "  65.885  64.26   57.9    55.515  50.201  58.9    63.685  57.78   58.9\n",
      "  61.203  59.489  61.138  63.5    64.761  69.25   65.95   65.817  65.14\n",
      "  63.045  57.6    60.39   60.001  60.23   60.018  58.84   58.9    58.859] (999,)\n",
      "[[3.43750000e+01 3.43750000e+01 3.43750000e+01 3.43750000e+01\n",
      "  0.00000000e+00]\n",
      " [3.43750000e+01 3.55000000e+01 3.40000000e+01 3.40000000e+01\n",
      "  3.07200020e+03]\n",
      " [3.40000000e+01 3.60000000e+01 3.10000000e+01 3.50000000e+01\n",
      "  6.13299990e+03]\n",
      " ...\n",
      " [6.02300000e+01 6.11810000e+01 5.96110000e+01 6.00180000e+01\n",
      "  4.17579305e+07]\n",
      " [6.00080000e+01 6.05120000e+01 5.80110000e+01 5.88400000e+01\n",
      "  6.40252201e+07]\n",
      " [5.88030000e+01 5.99970000e+01 5.75100000e+01 5.89000000e+01\n",
      "  4.66788622e+07]] (999, 5)\n"
     ]
    }
   ],
   "source": [
    "Y = np.array(data_df1['Close'])#1次元\n",
    "Y = np.delete(Y,0)\n",
    "#print(Y,Y.shape)\n",
    "X = data_np[:len(Y),0:]\n",
    "#print(X[:],X.shape)"
   ]
  },
  {
   "cell_type": "code",
   "execution_count": 19,
   "metadata": {},
   "outputs": [
    {
     "name": "stdout",
     "output_type": "stream",
     "text": [
      "994\n"
     ]
    }
   ],
   "source": [
    "# 学習では、29/30を使うものとします。これは情報の偏りを防ぐためのものであり、全体でも構いません\n",
    "L = int(len(X)//(200/199))\n",
    "print(L)\n",
    "train_x = X[10:L,:]\n",
    "train_y = Y[10:L]"
   ]
  },
  {
   "cell_type": "code",
   "execution_count": 20,
   "metadata": {},
   "outputs": [],
   "source": [
    "# 残りの全てをテストデータとします\n",
    "test_x = X[L:len(X),:]\n",
    "test_y = Y[L:len(Y)]"
   ]
  },
  {
   "cell_type": "code",
   "execution_count": null,
   "metadata": {},
   "outputs": [],
   "source": []
  },
  {
   "cell_type": "code",
   "execution_count": 21,
   "metadata": {},
   "outputs": [
    {
     "name": "stderr",
     "output_type": "stream",
     "text": [
      "C:\\Users\\ibuki\\Anaconda3\\envs\\py36\\lib\\site-packages\\h5py\\__init__.py:36: FutureWarning: Conversion of the second argument of issubdtype from `float` to `np.floating` is deprecated. In future, it will be treated as `np.float64 == np.dtype(float).type`.\n",
      "  from ._conv import register_converters as _register_converters\n"
     ]
    }
   ],
   "source": [
    "#ニューラルネットワークを組む時のライブラリ\n",
    "from sklearn.preprocessing import MinMaxScaler\n",
    "from sklearn.metrics import mean_absolute_error\n",
    "import tensorflow as tf"
   ]
  },
  {
   "cell_type": "code",
   "execution_count": 22,
   "metadata": {},
   "outputs": [
    {
     "name": "stdout",
     "output_type": "stream",
     "text": [
      "999 999\n",
      "       Open    High     Low   Close        Volume  Close_tomorrow\n",
      "990  65.817  67.160  60.492  65.140  1.890289e+08          63.045\n",
      "991  65.140  65.500  62.294  63.045  7.882499e+07          57.600\n",
      "992  63.045  64.648  57.200  57.600  1.317778e+08          60.390\n",
      "993  57.598  61.800  57.000  60.390  1.303197e+08          60.001\n",
      "994  60.391  60.888  58.589  60.001  7.354091e+07          60.230\n",
      "995  60.003  62.701  59.800  60.230  8.873191e+07          60.018\n",
      "996  60.230  61.181  59.611  60.018  4.175793e+07          58.840\n",
      "997  60.008  60.512  58.011  58.840  6.402522e+07          58.900\n",
      "998  58.803  59.997  57.510  58.900  4.667886e+07          58.859\n",
      "999\n",
      "6\n"
     ]
    },
    {
     "name": "stderr",
     "output_type": "stream",
     "text": [
      "C:\\Users\\ibuki\\Anaconda3\\envs\\py36\\lib\\site-packages\\ipykernel_launcher.py:5: SettingWithCopyWarning: \n",
      "A value is trying to be set on a copy of a slice from a DataFrame.\n",
      "Try using .loc[row_indexer,col_indexer] = value instead\n",
      "\n",
      "See the caveats in the documentation: http://pandas.pydata.org/pandas-docs/stable/indexing.html#indexing-view-versus-copy\n",
      "  \"\"\"\n"
     ]
    }
   ],
   "source": [
    "df_2 = data_df1[:len(Y)]\n",
    "del df_2['index']\n",
    "del df_2['Timestamp']\n",
    "print(len(Y),len(df_2))\n",
    "df_2['Close_tomorrow'] = Y\n",
    "print(df_2[len(df_2)-9:])\n",
    "# データセットのサイズを確認\n",
    "print(df_2.shape[0])\n",
    "print(df_2.shape[1])"
   ]
  },
  {
   "cell_type": "code",
   "execution_count": 23,
   "metadata": {
    "scrolled": true
   },
   "outputs": [],
   "source": [
    "n = df_2.shape[0]\n",
    "p = df_2.shape[1]\n",
    " \n",
    "# 訓練データとテストデータへ切り分け\n",
    "train_start = 30\n",
    "train_end = int(np.floor(0.95*n))\n",
    "test_start = train_end + 1\n",
    "test_end = n\n",
    "data_train = df_2[train_start: train_end]\n",
    "data_test = df_2[test_start:test_end]"
   ]
  },
  {
   "cell_type": "code",
   "execution_count": 26,
   "metadata": {},
   "outputs": [
    {
     "name": "stdout",
     "output_type": "stream",
     "text": [
      "      Open    High     Low   Close       Volume  Close_tomorrow\n",
      "30  32.100  32.998  31.000  31.799   74039.2787          32.030\n",
      "31  31.799  32.998  31.751  32.030  143676.7695          31.800\n",
      "32  32.030  32.537  31.800  31.800  234524.3268          29.801\n",
      "33  31.800  32.200  29.500  29.801   38337.6534          29.500\n",
      "34  29.504  30.652  29.500  29.500  148610.7275          28.901\n",
      "       Open    High     Low   Close        Volume  Close_tomorrow\n",
      "994  60.391  60.888  58.589  60.001  7.354091e+07          60.230\n",
      "995  60.003  62.701  59.800  60.230  8.873191e+07          60.018\n",
      "996  60.230  61.181  59.611  60.018  4.175793e+07          58.840\n",
      "997  60.008  60.512  58.011  58.840  6.402522e+07          58.900\n",
      "998  58.803  59.997  57.510  58.900  4.667886e+07          58.859\n"
     ]
    }
   ],
   "source": [
    "print(data_train[:5])\n",
    "\n",
    "print(data_test[len(data_test)-5:])"
   ]
  },
  {
   "cell_type": "code",
   "execution_count": null,
   "metadata": {},
   "outputs": [],
   "source": []
  },
  {
   "cell_type": "code",
   "execution_count": 27,
   "metadata": {},
   "outputs": [
    {
     "name": "stdout",
     "output_type": "stream",
     "text": [
      "919\n",
      "(919, 6) (49, 6)\n"
     ]
    }
   ],
   "source": [
    "# データの正規化\n",
    "scaler = MinMaxScaler()\n",
    "print(len(data_train))\n",
    "scaler.fit(data_train)\n",
    "data_train_norm = scaler.transform(data_train)\n",
    "data_test_norm = scaler.transform(data_test)\n",
    "print(data_train_norm.shape,data_test_norm.shape)"
   ]
  },
  {
   "cell_type": "code",
   "execution_count": 28,
   "metadata": {},
   "outputs": [
    {
     "name": "stdout",
     "output_type": "stream",
     "text": [
      "<class 'numpy.ndarray'>\n",
      "(919, 5)\n",
      "(919, 1) (49, 5) (49, 1)\n"
     ]
    }
   ],
   "source": [
    "# 特徴量とターゲットへ切り分け\n",
    "print(type(data_train_norm))\n",
    "X_train = data_train_norm[:,:data_train_norm.shape[1]-1]\n",
    "y_train = data_train_norm[:,data_train_norm.shape[1]-1:]\n",
    "X_test = data_test_norm[:, :data_train_norm.shape[1]-1]\n",
    "y_test = data_test_norm[:, data_train_norm.shape[1]-1:]\n",
    "print(X_train.shape,y_train.shape,X_test.shape,y_test.shape)\n",
    "\n",
    "# y_test=np.insert(y_test,0,0)\n",
    "# y_test=np.delete(y_test,len(y_test)-1)\n",
    "\n",
    "# y_test=y_test.reshape(y_test.shape[0],1)\n",
    "# #print(X_train[:,[3]])\n",
    "\n",
    "# print(X_test[:,[3]]-y_test)"
   ]
  },
  {
   "cell_type": "code",
   "execution_count": 56,
   "metadata": {},
   "outputs": [],
   "source": [
    "y_test = y_test.reshape(y_test.shape[0], 1)\n",
    "test_inv = np.concatenate(( X_test,y_test), axis=1)\n",
    "test_inv = scaler.inverse_transform(test_inv)"
   ]
  },
  {
   "cell_type": "code",
   "execution_count": 42,
   "metadata": {
    "scrolled": true
   },
   "outputs": [
    {
     "name": "stdout",
     "output_type": "stream",
     "text": [
      "      Open    High   Low   Close        Volume  Close_tomorrow\n",
      "950  29.22  29.759  28.3  29.240  6.368997e+07          28.541\n",
      "951  29.24  29.484  28.3  28.541  5.413600e+07          30.021 49\n"
     ]
    }
   ],
   "source": [
    "print(data_test[:2],len(y_test))\n",
    " \n",
    "# 正規化後のテストデータ\n",
    "#print(y_test, X_test[0])\n",
    " \n",
    "# 正規化から戻したデータ\n",
    "#print(test_inv[:2])"
   ]
  },
  {
   "cell_type": "code",
   "execution_count": 43,
   "metadata": {},
   "outputs": [
    {
     "name": "stderr",
     "output_type": "stream",
     "text": [
      "C:\\Users\\ibuki\\Anaconda3\\envs\\py36\\lib\\site-packages\\tensorflow\\python\\client\\session.py:1645: UserWarning: An interactive session is already active. This can cause out-of-memory errors in some cases. You must explicitly call `InteractiveSession.close()` to release resources held by the other session(s).\n",
      "  warnings.warn('An interactive session is already active. This can '\n"
     ]
    }
   ],
   "source": [
    "n_stocks = X_train.shape[1]\n",
    "y_stocks = y_train.shape[1]\n",
    "# ニューロンの数を設定\n",
    "n_neurons_1 = 256\n",
    "n_neurons_2 = 128\n",
    " \n",
    "# セッションの開始\n",
    "net = tf.InteractiveSession()\n",
    " \n",
    "# プレースホルダーの作成\n",
    "X = tf.placeholder(dtype=tf.float32, shape=[None,n_stocks])\n",
    "Y = tf.placeholder(dtype=tf.float32, shape=[None,y_stocks])\n",
    " \n",
    "# 初期化\n",
    "sigma = 1\n",
    "weight_initializer = tf.variance_scaling_initializer(mode=\"fan_avg\", distribution=\"uniform\", scale=sigma)\n",
    "bias_initializer = tf.zeros_initializer()\n",
    " "
   ]
  },
  {
   "cell_type": "code",
   "execution_count": 44,
   "metadata": {},
   "outputs": [],
   "source": [
    "#隠れ層の重み\n",
    "W_hidden_1 = tf.Variable(weight_initializer([n_stocks, n_neurons_1]))\n",
    "bias_hidden_1 = tf.Variable(bias_initializer([n_neurons_1]))\n",
    "W_hidden_2 = tf.Variable(weight_initializer([n_neurons_1, n_neurons_2]))\n",
    "bias_hidden_2 = tf.Variable(bias_initializer([n_neurons_2]))\n",
    " "
   ]
  },
  {
   "cell_type": "code",
   "execution_count": 45,
   "metadata": {},
   "outputs": [],
   "source": [
    "#出力の重み\n",
    "W_out = tf.Variable(weight_initializer([n_neurons_2, 1]))\n",
    "bias_out = tf.Variable(bias_initializer([1]))"
   ]
  },
  {
   "cell_type": "code",
   "execution_count": 46,
   "metadata": {},
   "outputs": [],
   "source": [
    "# 隠れ層の設定（ReLU＝活性化関数）\n",
    "hidden_1 = tf.nn.relu(tf.add(tf.matmul(X, W_hidden_1), bias_hidden_1))\n",
    "hidden_2 = tf.nn.relu(tf.add(tf.matmul(hidden_1, W_hidden_2), bias_hidden_2))\n",
    "\n",
    "\n",
    "\n",
    "\n",
    "# 出力層の設定\n",
    "out = tf.transpose(tf.add(tf.matmul(hidden_2, W_out), bias_out))"
   ]
  },
  {
   "cell_type": "code",
   "execution_count": 47,
   "metadata": {},
   "outputs": [],
   "source": [
    "# コスト関数\n",
    "mse = tf.reduce_mean(tf.squared_difference(out, Y))\n",
    " \n",
    "# 最適化関数\n",
    "opt = tf.train.AdamOptimizer().minimize(mse)\n",
    " \n",
    "# 初期化\n",
    "net.run(tf.global_variables_initializer())"
   ]
  },
  {
   "cell_type": "code",
   "execution_count": 48,
   "metadata": {},
   "outputs": [],
   "source": [
    "# ニューラルネットワークの設定\n",
    "batch_size = 128\n",
    "mse_train = []\n",
    "mse_test = []\n",
    " \n",
    "# 訓練開始！500回の反復処理\n",
    "epochs = 500\n",
    "for e in range(epochs):\n",
    "    net.run(opt, feed_dict={X: X_train, Y: y_train})"
   ]
  },
  {
   "cell_type": "code",
   "execution_count": 49,
   "metadata": {},
   "outputs": [
    {
     "name": "stdout",
     "output_type": "stream",
     "text": [
      "<class 'numpy.ndarray'>\n",
      "(49, 1) (49, 5)\n",
      "[[0.12701592 0.12694934 0.12668982 0.12714954 0.12639007 0.12707894\n",
      "  0.12693325 0.12621802 0.12627167 0.12601644 0.12662242 0.12644151\n",
      "  0.12688701 0.12647864 0.12706648 0.12718968 0.12692168 0.12784407\n",
      "  0.13005325 0.12980911 0.12648953 0.13108234 0.12587336 0.12587428\n",
      "  0.12688649 0.12460575 0.12610866 0.1284188  0.12585568 0.13016786\n",
      "  0.12480951 0.1252613  0.12684754 0.12632492 0.12690394 0.12595552\n",
      "  0.12452137 0.12406452 0.12392084 0.1260415  0.12639719 0.12688792\n",
      "  0.12484908 0.12473513 0.12675843 0.12657936 0.1273195  0.12673804\n",
      "  0.12706953]]\n"
     ]
    }
   ],
   "source": [
    "# テストデータで予測\n",
    "pred_test = net.run(out, feed_dict={X: X_test})\n",
    " \n",
    "# 予測データの最初の2つを表示\n",
    "print(type(pred_test))\n",
    "print(pred_test.T.shape,X_test.shape)\n",
    "print(pred_test[0:2])"
   ]
  },
  {
   "cell_type": "code",
   "execution_count": 60,
   "metadata": {},
   "outputs": [
    {
     "name": "stdout",
     "output_type": "stream",
     "text": [
      "(49, 5) (49, 1) <class 'numpy.ndarray'>\n",
      "[[  0.           0.           0.           0.           0.\n",
      "  -33.20676208]\n",
      " [  0.           0.           0.           0.           0.\n",
      "  -31.70252861]\n",
      " [  0.           0.           0.           0.           0.\n",
      "  -31.13206798]\n",
      " [  0.           0.           0.           0.           0.\n",
      "  -30.54039715]\n",
      " [  0.           0.           0.           0.           0.\n",
      "  -30.54196314]\n",
      " [  0.           0.           0.           0.           0.\n",
      "  -30.84069926]\n",
      " [  0.           0.           0.           0.           0.\n",
      "  -30.46767092]\n",
      " [  0.           0.           0.           0.           0.\n",
      "  -30.02834013]\n",
      " [  0.           0.           0.           0.           0.\n",
      "  -30.20686575]\n",
      " [  0.           0.           0.           0.           0.\n",
      "  -29.98396717]\n",
      " [  0.           0.           0.           0.           0.\n",
      "  -30.21353621]\n",
      " [  0.           0.           0.           0.           0.\n",
      "  -31.29868604]\n",
      " [  0.           0.           0.           0.           0.\n",
      "  -27.00084092]\n",
      " [  0.           0.           0.           0.           0.\n",
      "  -25.78320211]\n",
      " [  0.           0.           0.           0.           0.\n",
      "  -26.35416498]\n",
      " [  0.           0.           0.           0.           0.\n",
      "  -25.65200883]\n",
      " [  0.           0.           0.           0.           0.\n",
      "  -21.19946207]\n",
      " [  0.           0.           0.           0.           0.\n",
      "  -11.64919431]\n",
      " [  0.           0.           0.           0.           0.\n",
      "   -3.34330287]\n",
      " [  0.           0.           0.           0.           0.\n",
      "   -1.76643959]\n",
      " [  0.           0.           0.           0.           0.\n",
      "    1.4088331 ]\n",
      " [  0.           0.           0.           0.           0.\n",
      "    0.47512517]\n",
      " [  0.           0.           0.           0.           0.\n",
      "    4.553112  ]\n",
      " [  0.           0.           0.           0.           0.\n",
      "    2.92777573]\n",
      " [  0.           0.           0.           0.           0.\n",
      "   -3.80065109]\n",
      " [  0.           0.           0.           0.           0.\n",
      "   -5.35550023]\n",
      " [  0.           0.           0.           0.           0.\n",
      "  -11.21653497]\n",
      " [  0.           0.           0.           0.           0.\n",
      "   -3.35838967]\n",
      " [  0.           0.           0.           0.           0.\n",
      "    2.35954461]\n",
      " [  0.           0.           0.           0.           0.\n",
      "   -5.11501719]\n",
      " [  0.           0.           0.           0.           0.\n",
      "   -2.04466505]\n",
      " [  0.           0.           0.           0.           0.\n",
      "    0.09388852]\n",
      " [  0.           0.           0.           0.           0.\n",
      "   -2.19747331]\n",
      " [  0.           0.           0.           0.           0.\n",
      "   -0.35825035]\n",
      " [  0.           0.           0.           0.           0.\n",
      "    1.79299766]\n",
      " [  0.           0.           0.           0.           0.\n",
      "    3.39920526]\n",
      " [  0.           0.           0.           0.           0.\n",
      "    8.41021195]\n",
      " [  0.           0.           0.           0.           0.\n",
      "    5.27649975]\n",
      " [  0.           0.           0.           0.           0.\n",
      "    5.19579859]\n",
      " [  0.           0.           0.           0.           0.\n",
      "    3.74691002]\n",
      " [  0.           0.           0.           0.           0.\n",
      "    1.52244429]\n",
      " [  0.           0.           0.           0.           0.\n",
      "   -4.10117177]\n",
      " [  0.           0.           0.           0.           0.\n",
      "   -0.56906791]\n",
      " [  0.           0.           0.           0.           0.\n",
      "   -0.91659223]\n",
      " [  0.           0.           0.           0.           0.\n",
      "   -1.42403908]\n",
      " [  0.           0.           0.           0.           0.\n",
      "   -1.57086147]\n",
      " [  0.           0.           0.           0.           0.\n",
      "   -3.01826083]\n",
      " [  0.           0.           0.           0.           0.\n",
      "   -2.74661935]\n",
      " [  0.           0.           0.           0.           0.\n",
      "   -2.90827685]]\n"
     ]
    }
   ],
   "source": [
    "# 予測値をテストデータに戻そう（値も正規化からインバース）\n",
    "print(X_test.shape,pred_test.T.shape,type(pred_test))\n",
    "pred_tested = np.concatenate(( X_test,pred_test.T), axis=1)\n",
    "#print(pred_tested)\n",
    "pred_inv = scaler.inverse_transform(pred_tested)\n",
    "print(test_inv-pred_inv)"
   ]
  },
  {
   "cell_type": "code",
   "execution_count": 61,
   "metadata": {},
   "outputs": [
    {
     "data": {
      "text/html": [
       "<div>\n",
       "<style scoped>\n",
       "    .dataframe tbody tr th:only-of-type {\n",
       "        vertical-align: middle;\n",
       "    }\n",
       "\n",
       "    .dataframe tbody tr th {\n",
       "        vertical-align: top;\n",
       "    }\n",
       "\n",
       "    .dataframe thead th {\n",
       "        text-align: right;\n",
       "    }\n",
       "</style>\n",
       "<table border=\"1\" class=\"dataframe\">\n",
       "  <thead>\n",
       "    <tr style=\"text-align: right;\">\n",
       "      <th></th>\n",
       "      <th>Open</th>\n",
       "      <th>High</th>\n",
       "      <th>Low</th>\n",
       "      <th>Close</th>\n",
       "      <th>Volume</th>\n",
       "      <th>Close_tomorrow</th>\n",
       "    </tr>\n",
       "  </thead>\n",
       "  <tbody>\n",
       "    <tr>\n",
       "      <th>994</th>\n",
       "      <td>60.391</td>\n",
       "      <td>60.888</td>\n",
       "      <td>58.589</td>\n",
       "      <td>60.001</td>\n",
       "      <td>7.354091e+07</td>\n",
       "      <td>60.230</td>\n",
       "    </tr>\n",
       "    <tr>\n",
       "      <th>995</th>\n",
       "      <td>60.003</td>\n",
       "      <td>62.701</td>\n",
       "      <td>59.800</td>\n",
       "      <td>60.230</td>\n",
       "      <td>8.873191e+07</td>\n",
       "      <td>60.018</td>\n",
       "    </tr>\n",
       "    <tr>\n",
       "      <th>996</th>\n",
       "      <td>60.230</td>\n",
       "      <td>61.181</td>\n",
       "      <td>59.611</td>\n",
       "      <td>60.018</td>\n",
       "      <td>4.175793e+07</td>\n",
       "      <td>58.840</td>\n",
       "    </tr>\n",
       "    <tr>\n",
       "      <th>997</th>\n",
       "      <td>60.008</td>\n",
       "      <td>60.512</td>\n",
       "      <td>58.011</td>\n",
       "      <td>58.840</td>\n",
       "      <td>6.402522e+07</td>\n",
       "      <td>58.900</td>\n",
       "    </tr>\n",
       "    <tr>\n",
       "      <th>998</th>\n",
       "      <td>58.803</td>\n",
       "      <td>59.997</td>\n",
       "      <td>57.510</td>\n",
       "      <td>58.900</td>\n",
       "      <td>4.667886e+07</td>\n",
       "      <td>58.859</td>\n",
       "    </tr>\n",
       "  </tbody>\n",
       "</table>\n",
       "</div>"
      ],
      "text/plain": [
       "       Open    High     Low   Close        Volume  Close_tomorrow\n",
       "994  60.391  60.888  58.589  60.001  7.354091e+07          60.230\n",
       "995  60.003  62.701  59.800  60.230  8.873191e+07          60.018\n",
       "996  60.230  61.181  59.611  60.018  4.175793e+07          58.840\n",
       "997  60.008  60.512  58.011  58.840  6.402522e+07          58.900\n",
       "998  58.803  59.997  57.510  58.900  4.667886e+07          58.859"
      ]
     },
     "execution_count": 61,
     "metadata": {},
     "output_type": "execute_result"
    }
   ],
   "source": [
    "# 元データの最後尾\n",
    "data_test.tail()\n"
   ]
  },
  {
   "cell_type": "code",
   "execution_count": 62,
   "metadata": {},
   "outputs": [
    {
     "name": "stdout",
     "output_type": "stream",
     "text": [
      "[[6.00080000e+01 6.05120000e+01 5.80110000e+01 5.88400000e+01\n",
      "  6.40252201e+07 5.89000000e+01]\n",
      " [5.88030000e+01 5.99970000e+01 5.75100000e+01 5.89000000e+01\n",
      "  4.66788622e+07 5.88590000e+01]]\n",
      "[[6.00080000e+01 6.05120000e+01 5.80110000e+01 5.88400000e+01\n",
      "  6.40252201e+07 6.16466193e+01]\n",
      " [5.88030000e+01 5.99970000e+01 5.75100000e+01 5.89000000e+01\n",
      "  4.66788622e+07 6.17672769e+01]]\n"
     ]
    }
   ],
   "source": [
    "# テストデータの最後のデータ（正規化を戻した後）\n",
    "print(test_inv[len(data_test)-2:])\n",
    " \n",
    "# モデルが予測したデータ\n",
    "print(pred_inv[len(data_test)-2:,:])"
   ]
  },
  {
   "cell_type": "code",
   "execution_count": 63,
   "metadata": {},
   "outputs": [
    {
     "name": "stdout",
     "output_type": "stream",
     "text": [
      "[[65.14 ]\n",
      " [63.045]\n",
      " [57.6  ]\n",
      " [60.39 ]\n",
      " [60.001]\n",
      " [60.23 ]\n",
      " [60.018]\n",
      " [58.84 ]\n",
      " [58.9  ]\n",
      " [58.859]]\n"
     ]
    }
   ],
   "source": [
    "print(test_inv[len(data_test)-10:,n_stocks:])"
   ]
  },
  {
   "cell_type": "code",
   "execution_count": 64,
   "metadata": {},
   "outputs": [],
   "source": [
    "# Plot拡大\n",
    "plt.plot(range(0,10), test_inv[len(data_test)-10:,n_stocks:], label='Actual price', color='blue', marker = 'o')\n",
    "plt.plot(range(0,10), pred_inv[len(data_test)-10:,n_stocks:], label='Predicted price', color='red', marker ='x')\n",
    "plt.xlabel('1Hours')\n",
    "plt.ylabel('Price ($)')\n",
    "plt.title('xrp_jpy')\n",
    "plt.grid(True)\n",
    "plt.legend()\n",
    "plt.savefig('NN_xpr_jpy.png')\n",
    "plt.close()\n",
    "plt.show()"
   ]
  },
  {
   "cell_type": "code",
   "execution_count": 55,
   "metadata": {},
   "outputs": [
    {
     "name": "stdout",
     "output_type": "stream",
     "text": [
      "(49, 1) (49, 6)\n"
     ]
    }
   ],
   "source": [
    "print(y_test.shape,pred_inv.shape)"
   ]
  },
  {
   "cell_type": "code",
   "execution_count": null,
   "metadata": {},
   "outputs": [],
   "source": []
  }
 ],
 "metadata": {
  "kernelspec": {
   "display_name": "Python 3",
   "language": "python",
   "name": "python3"
  },
  "language_info": {
   "codemirror_mode": {
    "name": "ipython",
    "version": 3
   },
   "file_extension": ".py",
   "mimetype": "text/x-python",
   "name": "python",
   "nbconvert_exporter": "python",
   "pygments_lexer": "ipython3",
   "version": "3.6.5"
  }
 },
 "nbformat": 4,
 "nbformat_minor": 2
}
