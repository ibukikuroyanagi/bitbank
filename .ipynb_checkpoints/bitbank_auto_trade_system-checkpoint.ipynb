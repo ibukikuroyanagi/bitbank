{
 "cells": [
  {
   "cell_type": "code",
   "execution_count": 1,
   "metadata": {},
   "outputs": [],
   "source": [
    "#python_bitbankccのパッケージをインポート\n",
    "import python_bitbankcc \n",
    "import datetime\n",
    "import os \n",
    "import time\n",
    "import numpy as np\n",
    "import pandas as pd\n",
    "import sys"
   ]
  },
  {
   "cell_type": "code",
   "execution_count": 2,
   "metadata": {},
   "outputs": [
    {
     "name": "stdout",
     "output_type": "stream",
     "text": [
      "<class 'dict'>\n",
      "sell:40.900\n",
      "buy:40.840\n"
     ]
    }
   ],
   "source": [
    "# public API classのオブジェクトを取得\n",
    "pub = python_bitbankcc.public()\n",
    "\n",
    "# ティッカー情報を取得\n",
    "value = pub.get_ticker( 'xrp_jpy' )\n",
    "print(type(value))\n",
    "#現在の売り注文の最安値\n",
    "print('sell:' + value['sell'])\n",
    "#現在の買い注文の最安値\n",
    "print('buy:' + value['buy'])"
   ]
  },
  {
   "cell_type": "code",
   "execution_count": 3,
   "metadata": {},
   "outputs": [
    {
     "name": "stdout",
     "output_type": "stream",
     "text": [
      "<class 'dict'>\n",
      "sell = 40.900 :現在の売り注文の最安値\n",
      "buy = 40.840 :現在の買い注文の最安値\n",
      "high = 42.003 :過去24時間の最高値取引価格\n",
      "low = 34.880 :過去24時間の最安値取引価格\n",
      "last = 40.900 :最新取引価格\n",
      "vol = 185815505.5425 :過去24時間の出来高\n",
      "timestamp = 1537458193523 :なんかの時間\n",
      "2018-09-21 00:43:13.523000\n"
     ]
    }
   ],
   "source": [
    "print(type(value))\n",
    "ticker_inf=['現在の売り注文の最安値','現在の買い注文の最安値','過去24時間の最高値取引価格',\n",
    "            '過去24時間の最安値取引価格','最新取引価格','過去24時間の出来高','なんかの時間']\n",
    "data_name=[]\n",
    "values = []\n",
    "for key,val in value.items():\n",
    "    data_name.append(key)\n",
    "    values.append(val)\n",
    "information = list(zip(data_name,values,ticker_inf))\n",
    "for key,val,inf in information:\n",
    "    print(f'{key} = {val} :{inf}')\n",
    "print(datetime.datetime.fromtimestamp(value['timestamp']/1000))#これで表示できる\n",
    "#print(information)"
   ]
  },
  {
   "cell_type": "code",
   "execution_count": 4,
   "metadata": {},
   "outputs": [],
   "source": [
    "# value = pub.get_ticker( '' )\n",
    "# pair = ['btc_jpy', 'xrp_jpy', 'ltc_btc', 'eth_btc', 'mona_jpy', 'mona_btc', 'bcc_jpy', 'bcc_btc']"
   ]
  },
  {
   "cell_type": "code",
   "execution_count": 5,
   "metadata": {},
   "outputs": [
    {
     "name": "stdout",
     "output_type": "stream",
     "text": [
      "<class 'dict'>\n",
      "取引ID:18591952\n",
      "売買情報:buy\n",
      "約定価格:40.900\n",
      "数量:6831.5886\n",
      "約定日時:2018-09-21 00:43:10.897000\n"
     ]
    }
   ],
   "source": [
    "# 全約定履歴を取得\n",
    "records = pub.get_transactions( 'xrp_jpy' )\n",
    "print(type(records))\n",
    "# for key,val in records.items():\n",
    "#     print(f'{key} = {val}')\n",
    "#     print()\n",
    "#約定履歴の一例\n",
    "trans_ex = records['transactions'][0]\n",
    "print('取引ID:' + str(trans_ex['transaction_id']))\n",
    "print('売買情報:' + trans_ex['side'])\n",
    "print('約定価格:' + trans_ex['price'])\n",
    "print('数量:' + trans_ex['amount'])\n",
    "print('約定日時:' + str(datetime.datetime.fromtimestamp(trans_ex['executed_at']/1000)))"
   ]
  },
  {
   "cell_type": "code",
   "execution_count": 6,
   "metadata": {},
   "outputs": [
    {
     "name": "stdout",
     "output_type": "stream",
     "text": [
      "candle type:5min\n",
      "始値：95.899\n",
      "高値：95.900\n",
      "安値：94.800\n",
      "終値：94.973\n",
      "出来高：1184813.9545\n",
      "対象時刻：2018-05-04 09:00:00\n",
      "95.899\n",
      "2018-05-05 08:55:00\n",
      "288\n",
      "<class 'list'>\n",
      "1\n"
     ]
    }
   ],
   "source": [
    "# ロウソク足データを取得\n",
    "value = pub.get_candlestick( 'xrp_jpy',  '5min', '20180504' )\n",
    "\n",
    "#ローソク足情報の一例(2018/5/4 午前9時の1時間足)\n",
    "candle = value['candlestick'][0]\n",
    "print('candle type:' + candle['type'])\n",
    "print('始値：' + candle['ohlcv'][0][0])\n",
    "print('高値：' + candle['ohlcv'][0][1])\n",
    "print('安値：' + candle['ohlcv'][0][2])\n",
    "print('終値：' + candle['ohlcv'][0][3])\n",
    "print('出来高：' + candle['ohlcv'][0][4])\n",
    "print('対象時刻：' + str(datetime.datetime.fromtimestamp(candle['ohlcv'][0][5]/1000)))\n",
    "\n",
    "print(candle['ohlcv'][0][0])\n",
    "print(datetime.datetime.fromtimestamp(candle['ohlcv'][-1][-1]/1000))\n",
    "print(len(candle['ohlcv']))\n",
    "print(type(candle['ohlcv']))\n",
    "print(len(value['candlestick']))\n"
   ]
  },
  {
   "cell_type": "code",
   "execution_count": 7,
   "metadata": {},
   "outputs": [],
   "source": [
    "# 使い方\n",
    "# value = get_candlestick( 'ペア', 'ローソク足のタイプ', 'YYYYMMDD 型の日付' )\n",
    "# ローソク足のタイプ例⇒1min, 5min, 15min, 30min, 1hour, 4hour, 8hour, 12hour, 1day, 1week\n",
    "# YYYYMMDD 型(YYYY型でも良い)の日付例⇒20180504, 2017等"
   ]
  },
  {
   "cell_type": "code",
   "execution_count": 8,
   "metadata": {},
   "outputs": [
    {
     "name": "stdout",
     "output_type": "stream",
     "text": [
      "24\n",
      "      Open    High     Low   Close         Volume      Timestamp\n",
      "0   95.899  95.900  94.753  95.080   5475452.3220  1525392000000\n",
      "1   95.002  95.589  94.900  95.032   2362278.6563  1525395600000\n",
      "2   95.049  95.280  94.602  94.660   1461114.6318  1525399200000\n",
      "3   94.650  94.909  94.000  94.234   3609725.1403  1525402800000\n",
      "4   94.222  95.000  94.200  94.800   2204347.4719  1525406400000\n",
      "5   94.763  94.889  94.200  94.599   1411605.0284  1525410000000\n",
      "6   94.596  94.890  94.300  94.700   1191310.9785  1525413600000\n",
      "7   94.710  94.820  94.370  94.600   1594166.2711  1525417200000\n",
      "8   94.600  98.100  94.300  98.100  10202275.8253  1525420800000\n",
      "9   98.105  98.105  96.511  96.531   9805689.4862  1525424400000\n",
      "10  96.531  96.979  96.250  96.800   4315433.0632  1525428000000\n",
      "11  96.800  98.201  96.402  98.160   7894228.9333  1525431600000\n",
      "12  98.117  98.502  97.222  97.581   6450074.0942  1525435200000\n",
      "13  97.581  98.100  97.300  97.699   5705631.4390  1525438800000\n",
      "14  97.700  97.886  97.500  97.840   2697940.2144  1525442400000\n",
      "15  97.840  97.900  96.500  96.900   6139205.6510  1525446000000\n",
      "16  96.900  97.300  96.510  97.089   3473046.0648  1525449600000\n",
      "17  97.140  97.498  96.800  96.814   1624333.1012  1525453200000\n",
      "18  96.900  97.000  96.553  96.907    651503.1214  1525456800000\n",
      "19  96.906  97.198  96.617  97.102    297260.7833  1525460400000\n",
      "20  97.102  97.500  97.101  97.490    581573.7832  1525464000000\n",
      "21  97.490  97.952  97.326  97.770   1816478.9639  1525467600000\n",
      "22  97.770  97.877  97.300  97.501   1319591.4843  1525471200000\n",
      "23  97.501  97.530  97.000  97.122   1842617.8133  1525474800000\n"
     ]
    }
   ],
   "source": [
    "#ここで仮想通貨の2年分のtrain_test_dataを取得する　簡単のために5min足にする\n",
    "\n",
    "def get_candle(trade_name,span,back_day):\n",
    "    # ロウソク足データを取得\n",
    "    value = pub.get_candlestick( trade_name,span, back_day )\n",
    "    candle = value['candlestick'][0]\n",
    "    #print(candle['ohlcv'][0])\n",
    "    dataframe = pd.DataFrame(candle['ohlcv'],columns=[\"Open\", \"High\",\"Low\",\"Close\",\"Volume\",\"Timestamp\"])\n",
    "    return dataframe\n",
    "\n",
    "df1 = get_candle( 'xrp_jpy',  '1hour', '20180504')\n",
    "print(len(df1))\n",
    "print(df1)\n",
    "\n",
    "#今から指定した日までの足をとる\n",
    "# def conect_data(name,time,day):\n",
    "    \n",
    "# pd.concat([df1, df2, df3])\n",
    "\n"
   ]
  },
  {
   "cell_type": "code",
   "execution_count": 9,
   "metadata": {},
   "outputs": [
    {
     "name": "stdout",
     "output_type": "stream",
     "text": [
      "20180921\n"
     ]
    }
   ],
   "source": [
    "date = datetime.date.today()\n",
    "day = '{year}{month:02}{day:02}'.format(year = date.year,month = date.month,day = date.day)\n",
    "print(day)\n",
    "\n",
    "# timestamp = ''\n",
    "# for i in range(3):\n",
    "#     timestamp += str(date[i])\n"
   ]
  },
  {
   "cell_type": "code",
   "execution_count": 10,
   "metadata": {},
   "outputs": [
    {
     "name": "stdout",
     "output_type": "stream",
     "text": [
      "True True\n",
      "tomorrow -> 20180922\n",
      "yesterday -> 20180909\n",
      "True\n"
     ]
    }
   ],
   "source": [
    "today = datetime.date.today()\n",
    "tomorrow = today + datetime.timedelta(days=1)\n",
    "yesterday = today - datetime.timedelta(days=12)\n",
    "#today = datetime.datetime.strftime(today, '%Y%m%d')\n",
    "print(today == (tomorrow -datetime.timedelta(days=1)),( datetime.datetime.strptime('20180921', '%Y%m%d')) != today)\n",
    "print(\"tomorrow -> \" + datetime.datetime.strftime(tomorrow, '%Y%m%d'))\n",
    "print(\"yesterday -> \" + datetime.datetime.strftime(yesterday, '%Y%m%d'))\n",
    "\n",
    "if today < tomorrow:\n",
    "    print('True')"
   ]
  },
  {
   "cell_type": "code",
   "execution_count": 16,
   "metadata": {},
   "outputs": [
    {
     "name": "stdout",
     "output_type": "stream",
     "text": [
      "      Open    High     Low   Close         Volume      Timestamp\n",
      "11  37.498  40.514  37.498  40.514  12749364.9162  1537441200000\n",
      "12  40.514  41.203  39.500  40.011  21232517.0398  1537444800000\n",
      "13  40.012  42.003  40.000  41.795  28480329.3094  1537448400000\n",
      "14  41.795  41.800  40.756  40.756  17639517.2502  1537452000000\n",
      "15  40.756  41.619  40.530  41.590  12712701.2292  1537455600000\n"
     ]
    }
   ],
   "source": [
    "\n",
    "def make_df(trade_name,span,back_day,today):#back_day,todayはdatetime\n",
    "    i = 1\n",
    "    while back_day <= today - datetime.timedelta(days=1):\n",
    "        if i == 1:\n",
    "            df1 = get_candle(trade_name,span,datetime.datetime.strftime(back_day, '%Y%m%d'))\n",
    "            back_day = back_day + datetime.timedelta(days=1)\n",
    "            #print(back_day,len(df1))\n",
    "            i += 1\n",
    "        else:\n",
    "            df2 = get_candle(trade_name,span,datetime.datetime.strftime(back_day, '%Y%m%d'))\n",
    "            df1 = pd.concat([df1, df2])\n",
    "            back_day = back_day + datetime.timedelta(days=1)\n",
    "            #print(back_day,len(df1))\n",
    "            i += 1\n",
    "    \n",
    "    return df1\n",
    "\n",
    "back_day = today - datetime.timedelta(days=10)\n",
    "trade_name = 'xrp_jpy'\n",
    "span = '1hour'\n",
    "df1 =  make_df(trade_name,span,back_day,today)\n",
    "print(df1.tail())"
   ]
  },
  {
   "cell_type": "code",
   "execution_count": null,
   "metadata": {},
   "outputs": [],
   "source": []
  }
 ],
 "metadata": {
  "kernelspec": {
   "display_name": "Python 3",
   "language": "python",
   "name": "python3"
  },
  "language_info": {
   "codemirror_mode": {
    "name": "ipython",
    "version": 3
   },
   "file_extension": ".py",
   "mimetype": "text/x-python",
   "name": "python",
   "nbconvert_exporter": "python",
   "pygments_lexer": "ipython3",
   "version": "3.6.5"
  }
 },
 "nbformat": 4,
 "nbformat_minor": 2
}
