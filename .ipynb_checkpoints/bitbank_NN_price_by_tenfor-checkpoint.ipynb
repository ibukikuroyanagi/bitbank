{
 "cells": [
  {
   "cell_type": "code",
   "execution_count": 1,
   "metadata": {},
   "outputs": [],
   "source": [
    "#ニューラルネットワークで価格予想\n",
    "#価格取得\n",
    "#テンソルフローで\n",
    "#\n",
    "#\n",
    "#\n",
    "#\n",
    "#\n",
    "#\n",
    "#\n",
    "#\n",
    "#\n",
    "#\n",
    "#\n",
    "#\n",
    "##"
   ]
  },
  {
   "cell_type": "code",
   "execution_count": null,
   "metadata": {},
   "outputs": [],
   "source": [
    "#python_bitbankccのパッケージをインポート\n",
    "#cloud9で起動するときのコマンド\n",
    "#jupyter notebook --ip $IP --port $PORT --no-browser\n",
    "import python_bitbankcc \n",
    "import datetime\n",
    "import os \n",
    "import time\n",
    "import numpy as np\n",
    "import pandas as pd\n",
    "import sys\n",
    "from dateutil.relativedelta import relativedelta\n",
    "#トレンドラインを引くため\n",
    "from scipy.stats import linregress"
   ]
  },
  {
   "cell_type": "code",
   "execution_count": 2,
   "metadata": {},
   "outputs": [],
   "source": [
    "#機械学習用のモジュール\n",
    "import matplotlib as mpl\n",
    "mpl.use('Agg')\n",
    "import matplotlib.pyplot as plt\n",
    "from sklearn import linear_model\n",
    "% matplotlib inline\n",
    "from __future__ import print_function\n",
    "import copy\n",
    "import matplotlib\n",
    "matplotlib.style.use('ggplot')\n",
    "import time\n",
    "from sklearn.linear_model import LinearRegression\n",
    "from sklearn.tree import DecisionTreeRegressor\n",
    "from sklearn.ensemble import RandomForestRegressor\n",
    "\n",
    "from sklearn.model_selection import GridSearchCV\n",
    "from sklearn.model_selection import train_test_split\n",
    "from sklearn.metrics import mean_squared_error"
   ]
  },
  {
   "cell_type": "code",
   "execution_count": 3,
   "metadata": {},
   "outputs": [],
   "source": [
    "# public API classのオブジェクトを取得\n",
    "pub = python_bitbankcc.public()"
   ]
  },
  {
   "cell_type": "code",
   "execution_count": 4,
   "metadata": {},
   "outputs": [],
   "source": [
    "#APIから基本データの取得、dataframeへ挿入\n",
    "def get_candle(trade_name,span,back_day):\n",
    "    # ロウソク足データを取得\n",
    "    value = pub.get_candlestick( trade_name,span, back_day )\n",
    "    candle = value['candlestick'][0]\n",
    "    #print(candle['ohlcv'][0])\n",
    "    dataframe = pd.DataFrame(candle['ohlcv'],columns=[\"Open\", \"High\",\"Low\",\"Close\",\"Volume\",\"Timestamp\"])\n",
    "    return dataframe\n"
   ]
  },
  {
   "cell_type": "code",
   "execution_count": 5,
   "metadata": {},
   "outputs": [],
   "source": [
    "#指定した日から今日までの基本データをdataframeにして取得\n",
    "#back_day,todayはdatetime\n",
    "# span = ['1min', '5min', '15min', '30min', '1hour', '4hour', '8hour', '12hour', '1day', '1week']\n",
    "#trade_name = ['btc_jpy', 'xrp_jpy', 'ltc_btc', 'eth_btc', 'mona_jpy', 'mona_btc', 'bcc_jpy', 'bcc_btc']\n",
    "\n",
    "def make_df(trade_name,span,back_day,today):\n",
    "    i = 1\n",
    "    if (span =='1min')or(span== '5min')or(span== '15min')or(span== '30min')or(span== '1hour'):\n",
    "        #基準が９時なので、そこを合わせてあげる\n",
    "        if 0 <= today.hour < 9:\n",
    "            k = 1\n",
    "        elif 9 <= today.hour <= 23:\n",
    "            k = 0\n",
    "\n",
    "        while back_day <= today - datetime.timedelta(days=k):\n",
    "            if i == 1:\n",
    "                df1 = get_candle(trade_name,span,datetime.datetime.strftime(back_day, '%Y%m%d'))\n",
    "                back_day = back_day + datetime.timedelta(days=1)\n",
    "                #print(back_day,len(df1))\n",
    "                i += 1\n",
    "            else:\n",
    "                df2 = get_candle(trade_name,span,datetime.datetime.strftime(back_day, '%Y%m%d'))\n",
    "                df1 = pd.concat([df1, df2])\n",
    "                back_day = back_day + datetime.timedelta(days=1)\n",
    "                #print(back_day,len(df1))\n",
    "                i += 1\n",
    "    else:\n",
    "        \n",
    "        today = datetime.date(today.year, today.month, today.day)\n",
    "        back_day = datetime.date(back_day.year, back_day.month, back_day.day)\n",
    "\n",
    "\n",
    "        while back_day <= today:\n",
    "            if i == 1:\n",
    "                df1 = get_candle(trade_name,span,datetime.datetime.strftime(back_day, '%Y'))\n",
    "                back_day = back_day + relativedelta(years=1)\n",
    "                i += 1\n",
    "            else:\n",
    "                df2 = get_candle(trade_name,span,datetime.datetime.strftime(back_day, '%Y'))\n",
    "                df1 = pd.concat([df1, df2])\n",
    "                back_day = back_day +  relativedelta(years=1)\n",
    "                i += 1\n",
    "            \n",
    "\n",
    "    return df1\n",
    "\n"
   ]
  },
  {
   "cell_type": "code",
   "execution_count": 6,
   "metadata": {},
   "outputs": [],
   "source": [
    "def read_date(x):\n",
    "    return datetime.datetime.fromtimestamp(x/1000)\n"
   ]
  },
  {
   "cell_type": "code",
   "execution_count": 7,
   "metadata": {},
   "outputs": [],
   "source": [
    "# 単純移動平均（SMA）を取得する関数\n",
    "#上記のdfデータフレーム\n",
    "#numいくつの平均を求めるか\n",
    "def getMA( df,num ):\n",
    " \n",
    "    tmp = []\n",
    "    avg = np.array([])\n",
    "    for i in range(len(df) - num + 1):\n",
    "        for j in range(num):\n",
    "            #print(df['Close'][i+j])\n",
    "            tmp.append( df['Close'][i+j])\n",
    "            \n",
    "         # 平均値計算\n",
    "        value = np.average(tmp)\n",
    "        avg = np.append(avg,value)\n",
    "        tmp = []\n",
    "    \n",
    "    return avg"
   ]
  },
  {
   "cell_type": "code",
   "execution_count": 8,
   "metadata": {},
   "outputs": [],
   "source": [
    "#ゴールデン・デッドクロス判定\n",
    "def golden_dead(data_df1):\n",
    "    golden=np.zeros(len(data_df1['Cross']),dtype=int)\n",
    "    dead=np.zeros(len(data_df1['Cross']),dtype=int)\n",
    "    for i in range(len(data_df1['Cross'])-1):\n",
    "        x = data_df1['Cross'][i]\n",
    "        y = data_df1['Cross'][i+1]\n",
    "        if ((x <= 0) & (y<=0)) |((x >= 0) & (y>=0)):\n",
    "            pass\n",
    "        elif ((x <= 0) & (y>=0)) :\n",
    "            golden=np.insert(golden,i+1,1)\n",
    "            golden=np.delete(golden,i+2)\n",
    "        elif ((x >= 0) & (y<=0)) :\n",
    "            dead=np.insert(dead,i+1,1)\n",
    "            dead=np.delete(dead,i+2)\n",
    "\n",
    "    return golden,dead\n",
    "    "
   ]
  },
  {
   "cell_type": "code",
   "execution_count": null,
   "metadata": {},
   "outputs": [],
   "source": [
    "def make_onehot_rabel(df):\n",
    "    data = df.copy()\n",
    "    data.loc[data['Close_tomorrow']-data['Close'] > 1.0 , 'long'] = 1\n",
    "    data.loc[~(data['Close_tomorrow']-data['Close'] > 1.0) , 'long'] = 0\n",
    "\n",
    "    data.loc[(data['Close_tomorrow']-data['Close'] >= 0.3 )&(data['Close_tomorrow']-data['Close'] <= 1.0 ), 'sem_long']=1\n",
    "    data.loc[~((data['Close_tomorrow']-data['Close'] >= 0.3 )&(data['Close_tomorrow']-data['Close'] <= 1.0 )), 'sem_long']=0\n",
    "\n",
    "    data.loc[(data['Close_tomorrow']-data['Close'] >= -0.3 )&(data['Close_tomorrow']-data['Close'] < 0.3 ), 'range']=1\n",
    "    data.loc[~((data['Close_tomorrow']-data['Close'] >= -0.3 )&(data['Close_tomorrow']-data['Close'] < 0.3 )), 'range']=0\n",
    "\n",
    "    data.loc[(data['Close_tomorrow']-data['Close'] >= -1.0 )&(data['Close_tomorrow']-data['Close'] < -0.3 ), 'sem_short']=1\n",
    "    data.loc[~((data['Close_tomorrow']-data['Close'] >= -1.0 )&(data['Close_tomorrow']-data['Close'] < -0.3 )), 'sem_short']=0\n",
    "\n",
    "    data.loc[data['Close_tomorrow']-data['Close'] < -1.0 , 'short'] = 1\n",
    "    data.loc[~(data['Close_tomorrow']-data['Close'] < -1.0) , 'short'] = 0\n",
    "    \n",
    "    a= np.array(data['long'])\n",
    "    b=np.array(data['sem_long'])\n",
    "    c=np.array(data['range'])\n",
    "    d=np.array(data['sem_short'])\n",
    "    e=np.array(data['short'])\n",
    "    a=a[:, np.newaxis]\n",
    "    b=b[:, np.newaxis]\n",
    "    c=c[:, np.newaxis]\n",
    "    d=d[:, np.newaxis]\n",
    "    e=e[:, np.newaxis]\n",
    "    \n",
    "    onehot_rabel=np.concatenate([a,b,c,d,e], axis=1)\n",
    "    \n",
    "    return onehot_rabel"
   ]
  },
  {
   "cell_type": "code",
   "execution_count": 10,
   "metadata": {},
   "outputs": [],
   "source": [
    "#関数の使い方\n",
    "today = datetime.datetime.today() \n",
    "back_day = today - datetime.timedelta(days=80)\n",
    "trade_name = 'xrp_jpy'\n",
    "span = '1hour'\n",
    "num = 5"
   ]
  },
  {
   "cell_type": "code",
   "execution_count": 11,
   "metadata": {},
   "outputs": [
    {
     "name": "stdout",
     "output_type": "stream",
     "text": [
      "      index    Open    High     Low   Close        Volume           Timestamp\n",
      "1916   20.0  52.110  52.136  51.700  51.801  1.073857e+06 2018-10-11 05:00:00\n",
      "1917   21.0  51.785  51.940  51.680  51.711  2.319175e+06 2018-10-11 06:00:00\n",
      "1918   22.0  51.719  51.869  51.041  51.239  7.148382e+06 2018-10-11 07:00:00\n",
      "1919   23.0  51.239  51.600  51.177  51.545  4.090120e+06 2018-10-11 08:00:00\n",
      "1920    0.0  51.545  51.545  51.000  51.160  2.812949e+06 2018-10-11 09:00:00\n"
     ]
    }
   ],
   "source": [
    "#基本データの取得\n",
    "old = time.time()\n",
    "data_df1 =  make_df(trade_name,span,back_day,today)\n",
    "data_df1['Timestamp'] = data_df1['Timestamp'].apply(read_date)\n",
    "#indexの割り振り\n",
    "data_df1 = data_df1.reset_index()\n",
    "#df1の値は全てstrなのでTimestamp以外floatにキャストする\n",
    "#Timestampは文字列のままでいいので削除することを指定\n",
    "execlude = ['Timestamp']\n",
    "cast = [col for col in data_df1.columns if col not in execlude]\n",
    "for item in cast:\n",
    "    data_df1 = data_df1.astype({item: float})\n",
    "print(data_df1.tail())"
   ]
  },
  {
   "cell_type": "code",
   "execution_count": 12,
   "metadata": {},
   "outputs": [],
   "source": [
    "#移動平均線np\n",
    "MA5 = getMA( data_df1,num)\n",
    "MA25 = getMA( data_df1,num+20)\n",
    "zero5 = np.zeros(num-1,dtype = float )\n",
    "zero25 = np.zeros(num+20-1,dtype = float )\n",
    "MA5 = np.insert(MA5, 0, zero5)\n",
    "MA25 = np.insert(MA25, 0, zero25)\n",
    "print(MA25,MA5)\n",
    "print(MA25.shape,type(MA25),MA5.shape,type(MA5))"
   ]
  },
  {
   "cell_type": "code",
   "execution_count": 13,
   "metadata": {},
   "outputs": [],
   "source": [
    "#自作変数を作成する\n",
    "data_df1['High-Low']=data_df1['High']-data_df1['Low']\n",
    "data_df1['Close-Open']=data_df1['Close']-data_df1['Open']\n",
    "data_df1['Similarity'] = data_df1['Close-Open'] / (data_df1['High-Low'] + 0.000001)\n",
    "data_df1['(High-Low)*Volume '] = data_df1['High-Low']*data_df1['Volume']\n",
    "data_df1['(Close-Open)*Volume '] = data_df1['Close-Open']*data_df1['Volume']\n",
    "data_df1['High-Low']\n",
    "data_df1['Cross'] = MA5 - MA25\n",
    "data_df1['index'] = data_df1.index + 1"
   ]
  },
  {
   "cell_type": "code",
   "execution_count": 14,
   "metadata": {},
   "outputs": [],
   "source": [
    "#ゴールデンクロス、デッドクロス判定ラベル\n",
    "data_df1['golden'],data_df1['dead']  = golden_dead(data_df1)"
   ]
  },
  {
   "cell_type": "code",
   "execution_count": 16,
   "metadata": {},
   "outputs": [],
   "source": [
    "#data作成までの時間\n",
    "print('かかった時間：{0}'.format(time.time()-old))\n",
    "#作成変数の表示\n",
    "data_df1.loc[len(data_df1)-5:]"
   ]
  },
  {
   "cell_type": "code",
   "execution_count": 17,
   "metadata": {},
   "outputs": [
    {
     "name": "stdout",
     "output_type": "stream",
     "text": [
      "['Open', 'High', 'Low', 'Close', 'Volume']\n",
      "(1921, 5)\n"
     ]
    }
   ],
   "source": [
    "#次のCloseを予測する機械学習\n",
    "#使わない変数を除外\n",
    "exe_cols = ['index','Timestamp']\n",
    "feature_cols = [col for col in data_df1.columns if col not in exe_cols]\n",
    "print(feature_cols)\n",
    "#機械学習用にnp配列に変換\n",
    "data_np= np.array(data_df1[feature_cols])\n",
    "print(data_np.shape)"
   ]
  },
  {
   "cell_type": "code",
   "execution_count": 18,
   "metadata": {
    "scrolled": false
   },
   "outputs": [],
   "source": [
    "Y = np.array(data_df1['Close'])#1次元\n",
    "Y = np.delete(Y,0)\n",
    "X = data_np[:len(Y),0:]"
   ]
  },
  {
   "cell_type": "code",
   "execution_count": 19,
   "metadata": {},
   "outputs": [
    {
     "name": "stdout",
     "output_type": "stream",
     "text": [
      "1910\n"
     ]
    }
   ],
   "source": [
    "# 学習では、29/30を使うものとします。これは情報の偏りを防ぐためのものであり、全体でも構いません\n",
    "L = int(len(X)//(200/199))\n",
    "print(L)\n",
    "train_x = X[10:L,:]\n",
    "train_y = Y[10:L]"
   ]
  },
  {
   "cell_type": "code",
   "execution_count": 20,
   "metadata": {},
   "outputs": [],
   "source": [
    "# 残りの全てをテストデータとします\n",
    "test_x = X[L:len(X),:]\n",
    "test_y = Y[L:len(Y)]"
   ]
  },
  {
   "cell_type": "code",
   "execution_count": null,
   "metadata": {},
   "outputs": [],
   "source": []
  },
  {
   "cell_type": "code",
   "execution_count": 21,
   "metadata": {},
   "outputs": [
    {
     "name": "stderr",
     "output_type": "stream",
     "text": [
      "C:\\Users\\ibuki\\Anaconda3\\envs\\py36\\lib\\site-packages\\h5py\\__init__.py:36: FutureWarning: Conversion of the second argument of issubdtype from `float` to `np.floating` is deprecated. In future, it will be treated as `np.float64 == np.dtype(float).type`.\n",
      "  from ._conv import register_converters as _register_converters\n"
     ]
    }
   ],
   "source": [
    "#ニューラルネットワークを組む時のライブラリ\n",
    "from sklearn.preprocessing import MinMaxScaler\n",
    "from sklearn.metrics import mean_absolute_error\n",
    "import tensorflow as tf"
   ]
  },
  {
   "cell_type": "code",
   "execution_count": null,
   "metadata": {},
   "outputs": [],
   "source": [
    "#onehot_rabelを作成ただし、ｎｐ配列\n",
    "onehot_rabel=make_onehot_rabel(data_df1)"
   ]
  },
  {
   "cell_type": "code",
   "execution_count": 22,
   "metadata": {
    "scrolled": true
   },
   "outputs": [
    {
     "name": "stdout",
     "output_type": "stream",
     "text": [
      "1920 1920\n",
      "        Open    High     Low   Close        Volume  Close_tomorrow\n",
      "1911  52.291  52.309  51.851  52.112  8.314890e+06          51.949\n",
      "1912  52.145  52.145  51.870  51.949  3.054025e+06          52.099\n",
      "1913  51.929  52.296  51.700  52.099  2.857686e+06          52.128\n",
      "1914  52.099  52.300  51.815  52.128  1.553057e+06          52.010\n",
      "1915  52.190  52.235  51.900  52.010  8.293128e+05          51.801\n",
      "1916  52.110  52.136  51.700  51.801  1.073857e+06          51.711\n",
      "1917  51.785  51.940  51.680  51.711  2.319175e+06          51.239\n",
      "1918  51.719  51.869  51.041  51.239  7.148382e+06          51.545\n",
      "1919  51.239  51.600  51.177  51.545  4.090120e+06          51.160\n",
      "1920\n",
      "6\n"
     ]
    },
    {
     "name": "stderr",
     "output_type": "stream",
     "text": [
      "C:\\Users\\ibuki\\Anaconda3\\envs\\py36\\lib\\site-packages\\ipykernel_launcher.py:5: SettingWithCopyWarning: \n",
      "A value is trying to be set on a copy of a slice from a DataFrame.\n",
      "Try using .loc[row_indexer,col_indexer] = value instead\n",
      "\n",
      "See the caveats in the documentation: http://pandas.pydata.org/pandas-docs/stable/indexing.html#indexing-view-versus-copy\n",
      "  \"\"\"\n"
     ]
    }
   ],
   "source": [
    "df_2 = data_df1[:len(Y)]\n",
    "del df_2['index']\n",
    "del df_2['Timestamp']\n",
    "print(len(Y),len(df_2))\n",
    "df_2['Close_tomorrow'] = Y\n",
    "print(df_2[len(df_2)-9:])\n",
    "# データセットのサイズを確認\n",
    "print(df_2.shape[0])\n",
    "print(df_2.shape[1])"
   ]
  },
  {
   "cell_type": "code",
   "execution_count": 23,
   "metadata": {
    "scrolled": true
   },
   "outputs": [],
   "source": [
    "n = df_2.shape[0]\n",
    "p = df_2.shape[1]\n",
    " \n",
    "# 訓練データとテストデータへ切り分け\n",
    "train_start = 30\n",
    "train_end = int(np.floor(0.95*n))\n",
    "test_start = train_end + 1\n",
    "test_end = n\n",
    "data_train = df_2[train_start: train_end]\n",
    "data_test = df_2[test_start:test_end]"
   ]
  },
  {
   "cell_type": "code",
   "execution_count": 24,
   "metadata": {},
   "outputs": [
    {
     "name": "stdout",
     "output_type": "stream",
     "text": [
      "      Open    High     Low   Close        Volume  Close_tomorrow\n",
      "30  49.768  51.000  49.703  50.300  1.260947e+07          50.344\n",
      "31  50.298  50.700  50.220  50.344  5.814376e+06          50.276\n",
      "32  50.336  50.494  49.999  50.276  4.617078e+06          50.574\n",
      "33  50.271  50.650  50.102  50.574  3.796543e+06          50.770\n",
      "34  50.569  50.922  50.400  50.770  6.977877e+06          50.599\n",
      "        Open    High     Low   Close        Volume  Close_tomorrow\n",
      "1915  52.190  52.235  51.900  52.010  8.293128e+05          51.801\n",
      "1916  52.110  52.136  51.700  51.801  1.073857e+06          51.711\n",
      "1917  51.785  51.940  51.680  51.711  2.319175e+06          51.239\n",
      "1918  51.719  51.869  51.041  51.239  7.148382e+06          51.545\n",
      "1919  51.239  51.600  51.177  51.545  4.090120e+06          51.160\n"
     ]
    }
   ],
   "source": [
    "print(data_train[:5])\n",
    "\n",
    "print(data_test[len(data_test)-5:])"
   ]
  },
  {
   "cell_type": "code",
   "execution_count": null,
   "metadata": {},
   "outputs": [],
   "source": []
  },
  {
   "cell_type": "code",
   "execution_count": 25,
   "metadata": {},
   "outputs": [
    {
     "name": "stdout",
     "output_type": "stream",
     "text": [
      "1794\n",
      "(1794, 6) (95, 6)\n"
     ]
    }
   ],
   "source": [
    "# データの正規化\n",
    "scaler = MinMaxScaler()\n",
    "print(len(data_train))\n",
    "scaler.fit(data_train)\n",
    "data_train_norm = scaler.transform(data_train)\n",
    "data_test_norm = scaler.transform(data_test)\n",
    "print(data_train_norm.shape,data_test_norm.shape)"
   ]
  },
  {
   "cell_type": "code",
   "execution_count": 26,
   "metadata": {},
   "outputs": [
    {
     "name": "stdout",
     "output_type": "stream",
     "text": [
      "<class 'numpy.ndarray'>\n",
      "(1794, 5) (1794, 1) (95, 5) (95, 1)\n"
     ]
    }
   ],
   "source": [
    "# 特徴量とターゲットへ切り分け\n",
    "print(type(data_train_norm))\n",
    "X_train = data_train_norm[:,:data_train_norm.shape[1]-1]\n",
    "y_train = data_train_norm[:,data_train_norm.shape[1]-1:]\n",
    "X_test = data_test_norm[:, :data_train_norm.shape[1]-1]\n",
    "y_test = data_test_norm[:, data_train_norm.shape[1]-1:]\n",
    "print(X_train.shape,y_train.shape,X_test.shape,y_test.shape)\n",
    "\n",
    "# y_test=np.insert(y_test,0,0)\n",
    "# y_test=np.delete(y_test,len(y_test)-1)\n",
    "\n",
    "# y_test=y_test.reshape(y_test.shape[0],1)\n",
    "# #print(X_train[:,[3]])\n",
    "\n",
    "# print(X_test[:,[3]]-y_test)"
   ]
  },
  {
   "cell_type": "code",
   "execution_count": 27,
   "metadata": {},
   "outputs": [],
   "source": [
    "y_test = y_test.reshape(y_test.shape[0], 1)\n",
    "test_inv = np.concatenate(( X_test,y_test), axis=1)\n",
    "test_inv = scaler.inverse_transform(test_inv)"
   ]
  },
  {
   "cell_type": "code",
   "execution_count": 28,
   "metadata": {
    "scrolled": true
   },
   "outputs": [
    {
     "name": "stdout",
     "output_type": "stream",
     "text": [
      "        Open    High     Low   Close        Volume  Close_tomorrow\n",
      "1825  54.802  55.197  54.371  54.790  9.617294e+06          54.513\n",
      "1826  54.790  54.807  54.295  54.513  6.389220e+06          54.363 95\n"
     ]
    }
   ],
   "source": [
    "print(data_test[:2],len(y_test))\n",
    " \n",
    "# 正規化後のテストデータ\n",
    "#print(y_test, X_test[0])\n",
    " \n",
    "# 正規化から戻したデータ\n",
    "#print(test_inv[:2])"
   ]
  },
  {
   "cell_type": "code",
   "execution_count": 29,
   "metadata": {},
   "outputs": [],
   "source": [
    "n_stocks = X_train.shape[1]\n",
    "y_stocks = y_train.shape[1]\n",
    "# ニューロンの数を設定\n",
    "n_neurons_1 = 256\n",
    "n_neurons_2 = 128\n",
    " \n",
    "# セッションの開始\n",
    "net = tf.InteractiveSession()\n",
    " \n",
    "# プレースホルダーの作成\n",
    "X = tf.placeholder(dtype=tf.float32, shape=[None,n_stocks])\n",
    "Y = tf.placeholder(dtype=tf.float32, shape=[None,y_stocks])\n",
    " \n",
    "# 初期化\n",
    "sigma = 1\n",
    "weight_initializer = tf.variance_scaling_initializer(mode=\"fan_avg\", distribution=\"uniform\", scale=sigma)\n",
    "bias_initializer = tf.zeros_initializer()\n",
    " "
   ]
  },
  {
   "cell_type": "code",
   "execution_count": 30,
   "metadata": {},
   "outputs": [],
   "source": [
    "#隠れ層の重み\n",
    "W_hidden_1 = tf.Variable(weight_initializer([n_stocks, n_neurons_1]))\n",
    "bias_hidden_1 = tf.Variable(bias_initializer([n_neurons_1]))\n",
    "W_hidden_2 = tf.Variable(weight_initializer([n_neurons_1, n_neurons_2]))\n",
    "bias_hidden_2 = tf.Variable(bias_initializer([n_neurons_2]))\n",
    " "
   ]
  },
  {
   "cell_type": "code",
   "execution_count": 31,
   "metadata": {},
   "outputs": [],
   "source": [
    "#出力の重み\n",
    "W_out = tf.Variable(weight_initializer([n_neurons_2, 1]))\n",
    "bias_out = tf.Variable(bias_initializer([1]))"
   ]
  },
  {
   "cell_type": "code",
   "execution_count": 32,
   "metadata": {},
   "outputs": [],
   "source": [
    "# 隠れ層の設定（ReLU＝活性化関数）\n",
    "hidden_1 = tf.nn.relu(tf.add(tf.matmul(X, W_hidden_1), bias_hidden_1))\n",
    "hidden_2 = tf.nn.relu(tf.add(tf.matmul(hidden_1, W_hidden_2), bias_hidden_2))\n",
    "\n",
    "# 出力層の設定\n",
    "out = tf.transpose(tf.add(tf.matmul(hidden_2, W_out), bias_out))"
   ]
  },
  {
   "cell_type": "code",
   "execution_count": 33,
   "metadata": {},
   "outputs": [],
   "source": [
    "# コスト関数\n",
    "mse = tf.reduce_mean(tf.squared_difference(out, Y))\n",
    " \n",
    "# 最適化関数\n",
    "opt = tf.train.AdamOptimizer().minimize(mse)\n",
    " \n",
    "# 初期化\n",
    "net.run(tf.global_variables_initializer())"
   ]
  },
  {
   "cell_type": "code",
   "execution_count": 34,
   "metadata": {},
   "outputs": [],
   "source": [
    "# ニューラルネットワークの設定\n",
    "batch_size = 128\n",
    "mse_train = []\n",
    "mse_test = []\n",
    " \n",
    "# 訓練開始！500回の反復処理\n",
    "epochs = 500\n",
    "for e in range(epochs):\n",
    "    net.run(opt, feed_dict={X: X_train, Y: y_train})"
   ]
  },
  {
   "cell_type": "code",
   "execution_count": 35,
   "metadata": {},
   "outputs": [
    {
     "name": "stdout",
     "output_type": "stream",
     "text": [
      "<class 'numpy.ndarray'>\n",
      "(95, 1) (95, 5)\n",
      "[[0.32435778 0.32425424 0.32426235 0.3230385  0.323369   0.3242876\n",
      "  0.32424065 0.32437497 0.32431927 0.3234298  0.32353315 0.3237865\n",
      "  0.32429975 0.32390794 0.32395956 0.32396445 0.32354727 0.32429245\n",
      "  0.323864   0.32376996 0.32409295 0.32415664 0.32306987 0.32614964\n",
      "  0.32559738 0.32517424 0.32378763 0.32450166 0.323674   0.3243989\n",
      "  0.3239027  0.32297006 0.32344607 0.32430425 0.32400241 0.32633796\n",
      "  0.32691586 0.32391503 0.32394347 0.32370993 0.3243619  0.3240558\n",
      "  0.323431   0.32415795 0.32417926 0.32398266 0.32428572 0.3229522\n",
      "  0.32396558 0.32390216 0.3242298  0.32411557 0.32348266 0.32436427\n",
      "  0.32387254 0.32393068 0.32411674 0.324234   0.32393795 0.32478333\n",
      "  0.32681376 0.32433382 0.32434943 0.3240849  0.32410154 0.32395992\n",
      "  0.32373795 0.32422447 0.32401496 0.32266507 0.32327592 0.3240215\n",
      "  0.32383588 0.3239914  0.3247106  0.32365432 0.32518497 0.32576415\n",
      "  0.32406816 0.32411808 0.3241392  0.3242887  0.3244734  0.3239726\n",
      "  0.32425493 0.3243113  0.32491648 0.32419202 0.32358298 0.32367977\n",
      "  0.32395497 0.32365966 0.32388148 0.3234671  0.32412687]]\n"
     ]
    }
   ],
   "source": [
    "# テストデータで予測\n",
    "pred_test = net.run(out, feed_dict={X: X_test})\n",
    " \n",
    "# 予測データの最初の2つを表示\n",
    "print(type(pred_test))\n",
    "print(pred_test.T.shape,X_test.shape)\n",
    "print(pred_test[0:2])"
   ]
  },
  {
   "cell_type": "code",
   "execution_count": 36,
   "metadata": {},
   "outputs": [
    {
     "name": "stdout",
     "output_type": "stream",
     "text": [
      "(95, 5) (95, 1) <class 'numpy.ndarray'>\n",
      "[[ 0.          0.          0.          0.          0.         11.42044689]\n",
      " [ 0.          0.          0.          0.          0.         11.27516987]\n",
      " [ 0.          0.          0.          0.          0.         10.77680008]\n",
      " [ 0.          0.          0.          0.          0.         10.46663023]\n",
      " [ 0.          0.          0.          0.          0.         10.75255312]\n",
      " [ 0.          0.          0.          0.          0.         10.48964857]\n",
      " [ 0.          0.          0.          0.          0.         10.11278981]\n",
      " [ 0.          0.          0.          0.          0.         10.92666245]\n",
      " [ 0.          0.          0.          0.          0.         10.55120339]\n",
      " [ 0.          0.          0.          0.          0.         10.6807797 ]\n",
      " [ 0.          0.          0.          0.          0.         10.79306487]\n",
      " [ 0.          0.          0.          0.          0.         10.94350757]\n",
      " [ 0.          0.          0.          0.          0.         10.66009388]\n",
      " [ 0.          0.          0.          0.          0.         10.64696752]\n",
      " [ 0.          0.          0.          0.          0.         10.52561283]\n",
      " [ 0.          0.          0.          0.          0.         10.76938987]\n",
      " [ 0.          0.          0.          0.          0.         10.69442046]\n",
      " [ 0.          0.          0.          0.          0.         10.40342696]\n",
      " [ 0.          0.          0.          0.          0.         10.50597146]\n",
      " [ 0.          0.          0.          0.          0.         10.75826211]\n",
      " [ 0.          0.          0.          0.          0.         10.73752761]\n",
      " [ 0.          0.          0.          0.          0.         11.61862231]\n",
      " [ 0.          0.          0.          0.          0.         12.46919865]\n",
      " [ 0.          0.          0.          0.          0.         11.92670561]\n",
      " [ 0.          0.          0.          0.          0.         12.14489892]\n",
      " [ 0.          0.          0.          0.          0.         11.86520142]\n",
      " [ 0.          0.          0.          0.          0.         12.00245591]\n",
      " [ 0.          0.          0.          0.          0.         11.89888312]\n",
      " [ 0.          0.          0.          0.          0.         11.93563977]\n",
      " [ 0.          0.          0.          0.          0.         11.52957075]\n",
      " [ 0.          0.          0.          0.          0.         10.9282068 ]\n",
      " [ 0.          0.          0.          0.          0.         11.27075169]\n",
      " [ 0.          0.          0.          0.          0.         11.6990374 ]\n",
      " [ 0.          0.          0.          0.          0.         11.70988859]\n",
      " [ 0.          0.          0.          0.          0.         12.67565784]\n",
      " [ 0.          0.          0.          0.          0.         12.43911479]\n",
      " [ 0.          0.          0.          0.          0.         12.19575229]\n",
      " [ 0.          0.          0.          0.          0.         12.44664395]\n",
      " [ 0.          0.          0.          0.          0.         12.21934697]\n",
      " [ 0.          0.          0.          0.          0.         12.22800019]\n",
      " [ 0.          0.          0.          0.          0.         12.06625928]\n",
      " [ 0.          0.          0.          0.          0.         12.57122293]\n",
      " [ 0.          0.          0.          0.          0.         12.52972532]\n",
      " [ 0.          0.          0.          0.          0.         12.39556249]\n",
      " [ 0.          0.          0.          0.          0.         12.08759043]\n",
      " [ 0.          0.          0.          0.          0.         12.2505592 ]\n",
      " [ 0.          0.          0.          0.          0.         11.53473422]\n",
      " [ 0.          0.          0.          0.          0.         11.48856604]\n",
      " [ 0.          0.          0.          0.          0.         11.6243382 ]\n",
      " [ 0.          0.          0.          0.          0.         11.65223127]\n",
      " [ 0.          0.          0.          0.          0.         11.80728468]\n",
      " [ 0.          0.          0.          0.          0.         11.41949573]\n",
      " [ 0.          0.          0.          0.          0.         11.4513679 ]\n",
      " [ 0.          0.          0.          0.          0.         11.56715051]\n",
      " [ 0.          0.          0.          0.          0.         11.32658263]\n",
      " [ 0.          0.          0.          0.          0.         11.11593021]\n",
      " [ 0.          0.          0.          0.          0.         11.18944271]\n",
      " [ 0.          0.          0.          0.          0.         11.07209299]\n",
      " [ 0.          0.          0.          0.          0.         10.62859848]\n",
      " [ 0.          0.          0.          0.          0.         10.08803427]\n",
      " [ 0.          0.          0.          0.          0.         10.48141001]\n",
      " [ 0.          0.          0.          0.          0.         10.55853995]\n",
      " [ 0.          0.          0.          0.          0.         10.40682756]\n",
      " [ 0.          0.          0.          0.          0.         10.62989468]\n",
      " [ 0.          0.          0.          0.          0.         10.75913606]\n",
      " [ 0.          0.          0.          0.          0.         10.69059651]\n",
      " [ 0.          0.          0.          0.          0.         10.70372224]\n",
      " [ 0.          0.          0.          0.          0.         10.55052803]\n",
      " [ 0.          0.          0.          0.          0.         11.10908548]\n",
      " [ 0.          0.          0.          0.          0.         10.88466504]\n",
      " [ 0.          0.          0.          0.          0.         10.62279891]\n",
      " [ 0.          0.          0.          0.          0.         10.51578774]\n",
      " [ 0.          0.          0.          0.          0.         10.33125485]\n",
      " [ 0.          0.          0.          0.          0.          9.94016086]\n",
      " [ 0.          0.          0.          0.          0.          9.61135151]\n",
      " [ 0.          0.          0.          0.          0.          9.01553706]\n",
      " [ 0.          0.          0.          0.          0.          9.42471199]\n",
      " [ 0.          0.          0.          0.          0.          9.51329103]\n",
      " [ 0.          0.          0.          0.          0.          9.52065873]\n",
      " [ 0.          0.          0.          0.          0.          9.58538153]\n",
      " [ 0.          0.          0.          0.          0.          9.88741763]\n",
      " [ 0.          0.          0.          0.          0.          9.67059826]\n",
      " [ 0.          0.          0.          0.          0.          9.75617194]\n",
      " [ 0.          0.          0.          0.          0.          9.62501736]\n",
      " [ 0.          0.          0.          0.          0.          9.2001386 ]\n",
      " [ 0.          0.          0.          0.          0.          9.02156775]\n",
      " [ 0.          0.          0.          0.          0.          8.83095993]\n",
      " [ 0.          0.          0.          0.          0.          9.01400855]\n",
      " [ 0.          0.          0.          0.          0.          9.07079175]\n",
      " [ 0.          0.          0.          0.          0.          8.94837602]\n",
      " [ 0.          0.          0.          0.          0.          8.72682219]\n",
      " [ 0.          0.          0.          0.          0.          8.6502937 ]\n",
      " [ 0.          0.          0.          0.          0.          8.16817478]\n",
      " [ 0.          0.          0.          0.          0.          8.49307758]\n",
      " [ 0.          0.          0.          0.          0.          8.07798047]]\n"
     ]
    }
   ],
   "source": [
    "# 予測値をテストデータに戻そう（値も正規化からインバース）\n",
    "print(X_test.shape,pred_test.T.shape,type(pred_test))\n",
    "pred_tested = np.concatenate(( X_test,pred_test.T), axis=1)\n",
    "#print(pred_tested)\n",
    "pred_inv = scaler.inverse_transform(pred_tested)\n",
    "print(test_inv-pred_inv)"
   ]
  },
  {
   "cell_type": "code",
   "execution_count": 37,
   "metadata": {},
   "outputs": [
    {
     "data": {
      "text/html": [
       "<div>\n",
       "<style scoped>\n",
       "    .dataframe tbody tr th:only-of-type {\n",
       "        vertical-align: middle;\n",
       "    }\n",
       "\n",
       "    .dataframe tbody tr th {\n",
       "        vertical-align: top;\n",
       "    }\n",
       "\n",
       "    .dataframe thead th {\n",
       "        text-align: right;\n",
       "    }\n",
       "</style>\n",
       "<table border=\"1\" class=\"dataframe\">\n",
       "  <thead>\n",
       "    <tr style=\"text-align: right;\">\n",
       "      <th></th>\n",
       "      <th>Open</th>\n",
       "      <th>High</th>\n",
       "      <th>Low</th>\n",
       "      <th>Close</th>\n",
       "      <th>Volume</th>\n",
       "      <th>Close_tomorrow</th>\n",
       "    </tr>\n",
       "  </thead>\n",
       "  <tbody>\n",
       "    <tr>\n",
       "      <th>1915</th>\n",
       "      <td>52.190</td>\n",
       "      <td>52.235</td>\n",
       "      <td>51.900</td>\n",
       "      <td>52.010</td>\n",
       "      <td>8.293128e+05</td>\n",
       "      <td>51.801</td>\n",
       "    </tr>\n",
       "    <tr>\n",
       "      <th>1916</th>\n",
       "      <td>52.110</td>\n",
       "      <td>52.136</td>\n",
       "      <td>51.700</td>\n",
       "      <td>51.801</td>\n",
       "      <td>1.073857e+06</td>\n",
       "      <td>51.711</td>\n",
       "    </tr>\n",
       "    <tr>\n",
       "      <th>1917</th>\n",
       "      <td>51.785</td>\n",
       "      <td>51.940</td>\n",
       "      <td>51.680</td>\n",
       "      <td>51.711</td>\n",
       "      <td>2.319175e+06</td>\n",
       "      <td>51.239</td>\n",
       "    </tr>\n",
       "    <tr>\n",
       "      <th>1918</th>\n",
       "      <td>51.719</td>\n",
       "      <td>51.869</td>\n",
       "      <td>51.041</td>\n",
       "      <td>51.239</td>\n",
       "      <td>7.148382e+06</td>\n",
       "      <td>51.545</td>\n",
       "    </tr>\n",
       "    <tr>\n",
       "      <th>1919</th>\n",
       "      <td>51.239</td>\n",
       "      <td>51.600</td>\n",
       "      <td>51.177</td>\n",
       "      <td>51.545</td>\n",
       "      <td>4.090120e+06</td>\n",
       "      <td>51.160</td>\n",
       "    </tr>\n",
       "  </tbody>\n",
       "</table>\n",
       "</div>"
      ],
      "text/plain": [
       "        Open    High     Low   Close        Volume  Close_tomorrow\n",
       "1915  52.190  52.235  51.900  52.010  8.293128e+05          51.801\n",
       "1916  52.110  52.136  51.700  51.801  1.073857e+06          51.711\n",
       "1917  51.785  51.940  51.680  51.711  2.319175e+06          51.239\n",
       "1918  51.719  51.869  51.041  51.239  7.148382e+06          51.545\n",
       "1919  51.239  51.600  51.177  51.545  4.090120e+06          51.160"
      ]
     },
     "execution_count": 37,
     "metadata": {},
     "output_type": "execute_result"
    }
   ],
   "source": [
    "# 元データの最後尾\n",
    "data_test.tail()\n"
   ]
  },
  {
   "cell_type": "code",
   "execution_count": 38,
   "metadata": {},
   "outputs": [
    {
     "name": "stdout",
     "output_type": "stream",
     "text": [
      "[[5.17190000e+01 5.18690000e+01 5.10410000e+01 5.12390000e+01\n",
      "  7.14838191e+06 5.15450000e+01]\n",
      " [5.12390000e+01 5.16000000e+01 5.11770000e+01 5.15450000e+01\n",
      "  4.09011997e+06 5.11600000e+01]]\n",
      "[[5.17190000e+01 5.18690000e+01 5.10410000e+01 5.12390000e+01\n",
      "  7.14838191e+06 4.30519224e+01]\n",
      " [5.12390000e+01 5.16000000e+01 5.11770000e+01 5.15450000e+01\n",
      "  4.09011997e+06 4.30820195e+01]]\n"
     ]
    }
   ],
   "source": [
    "# テストデータの最後のデータ（正規化を戻した後）\n",
    "print(test_inv[len(data_test)-2:])\n",
    " \n",
    "# モデルが予測したデータ\n",
    "print(pred_inv[len(data_test)-2:,:])"
   ]
  },
  {
   "cell_type": "code",
   "execution_count": 39,
   "metadata": {},
   "outputs": [
    {
     "name": "stdout",
     "output_type": "stream",
     "text": [
      "[[52.112]\n",
      " [51.949]\n",
      " [52.099]\n",
      " [52.128]\n",
      " [52.01 ]\n",
      " [51.801]\n",
      " [51.711]\n",
      " [51.239]\n",
      " [51.545]\n",
      " [51.16 ]]\n"
     ]
    }
   ],
   "source": [
    "print(test_inv[len(data_test)-10:,n_stocks:])"
   ]
  },
  {
   "cell_type": "code",
   "execution_count": 40,
   "metadata": {},
   "outputs": [],
   "source": [
    "# Plot拡大\n",
    "plt.plot(range(0,10), test_inv[len(data_test)-10:,n_stocks:], label='Actual price', color='blue', marker = 'o')\n",
    "plt.plot(range(0,10), pred_inv[len(data_test)-10:,n_stocks:], label='Predicted price', color='red', marker ='x')\n",
    "plt.xlabel('1Hours')\n",
    "plt.ylabel('Price ($)')\n",
    "plt.title('xrp_jpy')\n",
    "plt.grid(True)\n",
    "plt.legend()\n",
    "plt.savefig('NN_xpr_jpy.png')\n",
    "plt.close()\n",
    "plt.show()"
   ]
  },
  {
   "cell_type": "code",
   "execution_count": 41,
   "metadata": {},
   "outputs": [
    {
     "name": "stdout",
     "output_type": "stream",
     "text": [
      "(95, 1) (95, 6)\n"
     ]
    }
   ],
   "source": [
    "print(y_test.shape,pred_inv.shape)"
   ]
  },
  {
   "cell_type": "code",
   "execution_count": 42,
   "metadata": {},
   "outputs": [],
   "source": [
    "#上下判定\n",
    "def up_down(data_df1):\n",
    "    up=np.zeros(len(data_df1['Close']),dtype=int)\n",
    "    mid_up=np.zeros(len(data_df1['Close']),dtype=int)\n",
    "    down=np.zeros(len(data_df1['Close']),dtype=int)\n",
    "    mid_down=np.zeros(len(data_df1['Close']),dtype=int)\n",
    "    for i in range(len(data_df1['Close'])-1):\n",
    "        x = data_df1['Close'][i]\n",
    "        y = data_df1['Close'][i+1]\n",
    "#         if (0<=(y-x)<=0.5):\n",
    "#             mid_up=np.insert(mid_up,i+1,1)\n",
    "#             min_up=np.delete(mid_up,i+2)\n",
    "#         elif (-0.5<=(y-x)<0):\n",
    "#             mid_down=np.insert(mid_down,i+1,1)\n",
    "#             min_down=np.delete(mid_down,i+2)\n",
    "        if ((y-x)>0):\n",
    "            up=np.insert(up,i+1,1)\n",
    "            up=np.delete(up,i+2)\n",
    "        elif ((y-x)<=0) :\n",
    "            down=np.insert(down,i+1,1)\n",
    "            down=np.delete(down,i+2)\n",
    "\n",
    "    return up,down"
   ]
  },
  {
   "cell_type": "code",
   "execution_count": 43,
   "metadata": {},
   "outputs": [],
   "source": [
    "def make_onehot_rabel(df):\n",
    "    data = df.copy()\n",
    "    data.loc[data['Close_tomorrow']-data['Close'] > 1.0 , 'long'] = 1\n",
    "    data.loc[~(data['Close_tomorrow']-data['Close'] > 1.0) , 'long'] = 0\n",
    "\n",
    "    data.loc[(data['Close_tomorrow']-data['Close'] >= 0.3 )&(data['Close_tomorrow']-data['Close'] <= 1.0 ), 'sem_long']=1\n",
    "    data.loc[~((data['Close_tomorrow']-data['Close'] >= 0.3 )&(data['Close_tomorrow']-data['Close'] <= 1.0 )), 'sem_long']=0\n",
    "\n",
    "    data.loc[(data['Close_tomorrow']-data['Close'] >= -0.3 )&(data['Close_tomorrow']-data['Close'] < 0.3 ), 'range']=1\n",
    "    data.loc[~((data['Close_tomorrow']-data['Close'] >= -0.3 )&(data['Close_tomorrow']-data['Close'] < 0.3 )), 'range']=0\n",
    "\n",
    "    data.loc[(data['Close_tomorrow']-data['Close'] >= -1.0 )&(data['Close_tomorrow']-data['Close'] < -0.3 ), 'sem_short']=1\n",
    "    data.loc[~((data['Close_tomorrow']-data['Close'] >= -1.0 )&(data['Close_tomorrow']-data['Close'] < -0.3 )), 'sem_short']=0\n",
    "\n",
    "    data.loc[data['Close_tomorrow']-data['Close'] < -1.0 , 'short'] = 1\n",
    "    data.loc[~(data['Close_tomorrow']-data['Close'] < -1.0) , 'short'] = 0\n",
    "    \n",
    "    a= np.array(data['long'])\n",
    "    b=np.array(data['sem_long'])\n",
    "    c=np.array(data['range'])\n",
    "    d=np.array(data['sem_short'])\n",
    "    e=np.array(data['short'])\n",
    "    a=a[:, np.newaxis]\n",
    "    b=b[:, np.newaxis]\n",
    "    c=c[:, np.newaxis]\n",
    "    d=d[:, np.newaxis]\n",
    "    e=e[:, np.newaxis]\n",
    "    \n",
    "    onehot_rabel=np.concatenate([a,b,c,d,e], axis=1)\n",
    "    \n",
    "    return onehot_rabel"
   ]
  },
  {
   "cell_type": "code",
   "execution_count": 66,
   "metadata": {},
   "outputs": [
    {
     "data": {
      "text/html": [
       "<div>\n",
       "<style scoped>\n",
       "    .dataframe tbody tr th:only-of-type {\n",
       "        vertical-align: middle;\n",
       "    }\n",
       "\n",
       "    .dataframe tbody tr th {\n",
       "        vertical-align: top;\n",
       "    }\n",
       "\n",
       "    .dataframe thead th {\n",
       "        text-align: right;\n",
       "    }\n",
       "</style>\n",
       "<table border=\"1\" class=\"dataframe\">\n",
       "  <thead>\n",
       "    <tr style=\"text-align: right;\">\n",
       "      <th></th>\n",
       "      <th>Open</th>\n",
       "      <th>High</th>\n",
       "      <th>Low</th>\n",
       "      <th>Close</th>\n",
       "      <th>Volume</th>\n",
       "      <th>Close_tomorrow</th>\n",
       "      <th>long</th>\n",
       "      <th>sem_long</th>\n",
       "      <th>range</th>\n",
       "      <th>sem_short</th>\n",
       "      <th>short</th>\n",
       "    </tr>\n",
       "  </thead>\n",
       "  <tbody>\n",
       "    <tr>\n",
       "      <th>1915</th>\n",
       "      <td>52.190</td>\n",
       "      <td>52.235</td>\n",
       "      <td>51.900</td>\n",
       "      <td>52.010</td>\n",
       "      <td>8.293128e+05</td>\n",
       "      <td>51.801</td>\n",
       "      <td>0.0</td>\n",
       "      <td>0.0</td>\n",
       "      <td>1.0</td>\n",
       "      <td>0.0</td>\n",
       "      <td>0.0</td>\n",
       "    </tr>\n",
       "    <tr>\n",
       "      <th>1916</th>\n",
       "      <td>52.110</td>\n",
       "      <td>52.136</td>\n",
       "      <td>51.700</td>\n",
       "      <td>51.801</td>\n",
       "      <td>1.073857e+06</td>\n",
       "      <td>51.711</td>\n",
       "      <td>0.0</td>\n",
       "      <td>0.0</td>\n",
       "      <td>1.0</td>\n",
       "      <td>0.0</td>\n",
       "      <td>0.0</td>\n",
       "    </tr>\n",
       "    <tr>\n",
       "      <th>1917</th>\n",
       "      <td>51.785</td>\n",
       "      <td>51.940</td>\n",
       "      <td>51.680</td>\n",
       "      <td>51.711</td>\n",
       "      <td>2.319175e+06</td>\n",
       "      <td>51.239</td>\n",
       "      <td>0.0</td>\n",
       "      <td>0.0</td>\n",
       "      <td>0.0</td>\n",
       "      <td>1.0</td>\n",
       "      <td>0.0</td>\n",
       "    </tr>\n",
       "    <tr>\n",
       "      <th>1918</th>\n",
       "      <td>51.719</td>\n",
       "      <td>51.869</td>\n",
       "      <td>51.041</td>\n",
       "      <td>51.239</td>\n",
       "      <td>7.148382e+06</td>\n",
       "      <td>51.545</td>\n",
       "      <td>0.0</td>\n",
       "      <td>1.0</td>\n",
       "      <td>0.0</td>\n",
       "      <td>0.0</td>\n",
       "      <td>0.0</td>\n",
       "    </tr>\n",
       "    <tr>\n",
       "      <th>1919</th>\n",
       "      <td>51.239</td>\n",
       "      <td>51.600</td>\n",
       "      <td>51.177</td>\n",
       "      <td>51.545</td>\n",
       "      <td>4.090120e+06</td>\n",
       "      <td>51.160</td>\n",
       "      <td>0.0</td>\n",
       "      <td>0.0</td>\n",
       "      <td>0.0</td>\n",
       "      <td>1.0</td>\n",
       "      <td>0.0</td>\n",
       "    </tr>\n",
       "  </tbody>\n",
       "</table>\n",
       "</div>"
      ],
      "text/plain": [
       "        Open    High     Low   Close        Volume  Close_tomorrow  long  \\\n",
       "1915  52.190  52.235  51.900  52.010  8.293128e+05          51.801   0.0   \n",
       "1916  52.110  52.136  51.700  51.801  1.073857e+06          51.711   0.0   \n",
       "1917  51.785  51.940  51.680  51.711  2.319175e+06          51.239   0.0   \n",
       "1918  51.719  51.869  51.041  51.239  7.148382e+06          51.545   0.0   \n",
       "1919  51.239  51.600  51.177  51.545  4.090120e+06          51.160   0.0   \n",
       "\n",
       "      sem_long  range  sem_short  short  \n",
       "1915       0.0    1.0        0.0    0.0  \n",
       "1916       0.0    1.0        0.0    0.0  \n",
       "1917       0.0    0.0        1.0    0.0  \n",
       "1918       1.0    0.0        0.0    0.0  \n",
       "1919       0.0    0.0        1.0    0.0  "
      ]
     },
     "execution_count": 66,
     "metadata": {},
     "output_type": "execute_result"
    }
   ],
   "source": [
    "data[len(data)-5:]"
   ]
  },
  {
   "cell_type": "code",
   "execution_count": 64,
   "metadata": {},
   "outputs": [
    {
     "name": "stdout",
     "output_type": "stream",
     "text": [
      "<class 'numpy.ndarray'> (1920, 1) (1920, 1) (1920, 1) (1920, 1) (1920, 1)\n"
     ]
    }
   ],
   "source": [
    "a= np.array(data['long'])\n",
    "b=np.array(data['sem_long'])\n",
    "c=np.array(data['range'])\n",
    "d=np.array(data['sem_short'])\n",
    "e=np.array(data['short'])\n",
    "a=a[:, np.newaxis]\n",
    "b=b[:, np.newaxis]\n",
    "c=c[:, np.newaxis]\n",
    "d=d[:, np.newaxis]\n",
    "e=e[:, np.newaxis]\n",
    "print(type(a),a.shape,b.shape,c.shape,d.shape,e.shape)"
   ]
  },
  {
   "cell_type": "code",
   "execution_count": 67,
   "metadata": {},
   "outputs": [
    {
     "name": "stdout",
     "output_type": "stream",
     "text": [
      "[[0. 0. 1. 0. 0.]\n",
      " [0. 1. 0. 0. 0.]\n",
      " [0. 0. 1. 0. 0.]\n",
      " ...\n",
      " [0. 0. 0. 1. 0.]\n",
      " [0. 1. 0. 0. 0.]\n",
      " [0. 0. 0. 1. 0.]]\n"
     ]
    }
   ],
   "source": [
    "one_hot_rabel=np.concatenate([a,b,c,d,e], axis=1)\n",
    "print(one_hot_rabel)"
   ]
  },
  {
   "cell_type": "code",
   "execution_count": null,
   "metadata": {},
   "outputs": [],
   "source": []
  }
 ],
 "metadata": {
  "kernelspec": {
   "display_name": "Python 3",
   "language": "python",
   "name": "python3"
  },
  "language_info": {
   "codemirror_mode": {
    "name": "ipython",
    "version": 3
   },
   "file_extension": ".py",
   "mimetype": "text/x-python",
   "name": "python",
   "nbconvert_exporter": "python",
   "pygments_lexer": "ipython3",
   "version": "3.6.5"
  }
 },
 "nbformat": 4,
 "nbformat_minor": 2
}
