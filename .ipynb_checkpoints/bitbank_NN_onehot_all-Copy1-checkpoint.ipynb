{
 "cells": [
  {
   "cell_type": "code",
   "execution_count": 1,
   "metadata": {},
   "outputs": [],
   "source": [
    "#ニューラルネットワークでonehot-labels判定\n",
    "#データ取得\n",
    "#データ格納\n",
    "#移動平均線\n",
    "#ゴールデン・デッドクロス\n",
    "#ボリンジャーバンド\n",
    "#ボリンジャーバンドで価格幅\n",
    "#"
   ]
  },
  {
   "cell_type": "code",
   "execution_count": 2,
   "metadata": {},
   "outputs": [],
   "source": [
    "#python_bitbankccのパッケージをインポート\n",
    "#cloud9で起動するときのコマンド\n",
    "#jupyter notebook --ip $IP --port $PORT --no-browser\n",
    "import python_bitbankcc \n",
    "import datetime\n",
    "import os \n",
    "import time\n",
    "import numpy as np\n",
    "import pandas as pd\n",
    "import sys\n",
    "from dateutil.relativedelta import relativedelta\n",
    "#トレンドラインを引くため\n",
    "from scipy.stats import linregress"
   ]
  },
  {
   "cell_type": "code",
   "execution_count": 3,
   "metadata": {},
   "outputs": [],
   "source": [
    "#機械学習用のモジュール\n",
    "import matplotlib as mpl\n",
    "mpl.use('Agg')\n",
    "import matplotlib.pyplot as plt\n",
    "from sklearn import linear_model\n",
    "% matplotlib inline\n",
    "from __future__ import print_function\n",
    "import copy\n",
    "import matplotlib\n",
    "matplotlib.style.use('ggplot')\n",
    "import time\n",
    "from sklearn.linear_model import LinearRegression\n",
    "from sklearn.tree import DecisionTreeRegressor\n",
    "from sklearn.ensemble import RandomForestRegressor\n",
    "from sklearn.model_selection import GridSearchCV\n",
    "from sklearn.model_selection import train_test_split\n",
    "from sklearn.metrics import mean_squared_error"
   ]
  },
  {
   "cell_type": "code",
   "execution_count": 4,
   "metadata": {},
   "outputs": [],
   "source": [
    "# public API classのオブジェクトを取得\n",
    "pub = python_bitbankcc.public()"
   ]
  },
  {
   "cell_type": "code",
   "execution_count": 5,
   "metadata": {},
   "outputs": [],
   "source": [
    "#APIから基本データの取得、dataframeへ挿入\n",
    "def get_candle(trade_name,span,back_day):\n",
    "    # ロウソク足データを取得\n",
    "    value = pub.get_candlestick( trade_name,span, back_day )\n",
    "    candle = value['candlestick'][0]\n",
    "    #print(candle['ohlcv'][0])\n",
    "    dataframe = pd.DataFrame(candle['ohlcv'],columns=[\"Open\", \"High\",\"Low\",\"Close\",\"Volume\",\"Timestamp\"])\n",
    "    return dataframe\n"
   ]
  },
  {
   "cell_type": "code",
   "execution_count": 6,
   "metadata": {},
   "outputs": [],
   "source": [
    "#指定した日から今日までの基本データをdataframeにして取得\n",
    "#back_day,todayはdatetime\n",
    "# span = ['1min', '5min', '15min', '30min', '1hour', '4hour', '8hour', '12hour', '1day', '1week']\n",
    "#trade_name = ['btc_jpy', 'xrp_jpy', 'ltc_btc', 'eth_btc', 'mona_jpy', 'mona_btc', 'bcc_jpy', 'bcc_btc']\n",
    "\n",
    "def make_df(trade_name,span,back_day,today):\n",
    "    i = 1\n",
    "    if (span =='1min')or(span== '5min')or(span== '15min')or(span== '30min')or(span== '1hour'):\n",
    "        #基準が９時なので、そこを合わせてあげる\n",
    "        if 0 <= today.hour < 9:\n",
    "            k = 1\n",
    "        elif 9 <= today.hour <= 23:\n",
    "            k = 0\n",
    "\n",
    "        while back_day <= today - datetime.timedelta(days=k):\n",
    "            if i == 1:\n",
    "                df1 = get_candle(trade_name,span,datetime.datetime.strftime(back_day, '%Y%m%d'))\n",
    "                back_day = back_day + datetime.timedelta(days=1)\n",
    "                #print(back_day,len(df1))\n",
    "                i += 1\n",
    "            else:\n",
    "                df2 = get_candle(trade_name,span,datetime.datetime.strftime(back_day, '%Y%m%d'))\n",
    "                df1 = pd.concat([df1, df2])\n",
    "                back_day = back_day + datetime.timedelta(days=1)\n",
    "                #print(back_day,len(df1))\n",
    "                i += 1\n",
    "    else:\n",
    "        \n",
    "        today = datetime.date(today.year, today.month, today.day)\n",
    "        back_day = datetime.date(back_day.year, back_day.month, back_day.day)\n",
    "\n",
    "\n",
    "        while back_day <= today:\n",
    "            if i == 1:\n",
    "                df1 = get_candle(trade_name,span,datetime.datetime.strftime(back_day, '%Y'))\n",
    "                back_day = back_day + relativedelta(years=1)\n",
    "                i += 1\n",
    "            else:\n",
    "                df2 = get_candle(trade_name,span,datetime.datetime.strftime(back_day, '%Y'))\n",
    "                df1 = pd.concat([df1, df2])\n",
    "                back_day = back_day +  relativedelta(years=1)\n",
    "                i += 1\n",
    "            \n",
    "\n",
    "    return df1\n",
    "\n"
   ]
  },
  {
   "cell_type": "code",
   "execution_count": 7,
   "metadata": {},
   "outputs": [],
   "source": [
    "def read_date(x):\n",
    "    return datetime.datetime.fromtimestamp(x/1000)\n"
   ]
  },
  {
   "cell_type": "code",
   "execution_count": 8,
   "metadata": {},
   "outputs": [],
   "source": [
    "# 単純移動平均（SMA）を取得する関数\n",
    "#上記のdfデータフレーム\n",
    "#numいくつの平均を求めるか\n",
    "def getMA( df,num,feature ):\n",
    " \n",
    "    tmp = []\n",
    "    avg = np.array([])\n",
    "    for i in range(len(df) - num + 1):\n",
    "        for j in range(num):\n",
    "            #print(df['Close'][i+j])\n",
    "            tmp.append( df[feature][i+j])\n",
    "            \n",
    "         # 平均値計算\n",
    "        value = np.average(tmp)\n",
    "        avg = np.append(avg,value)\n",
    "        tmp = []\n",
    "    \n",
    "    return avg"
   ]
  },
  {
   "cell_type": "code",
   "execution_count": 9,
   "metadata": {},
   "outputs": [],
   "source": [
    "def getSTD( df,num,feature ):\n",
    " \n",
    "    tmp = []\n",
    "    std = np.array([])\n",
    "    for i in range(len(df) - num + 1):\n",
    "        for j in range(num):\n",
    "            #print(df['Close'][i+j])\n",
    "            tmp.append( df[feature][i+j])\n",
    "            \n",
    "         # 平均値計算\n",
    "        value = np.std(tmp)\n",
    "        std = np.append(std,value)\n",
    "        tmp = []\n",
    "    \n",
    "    return std"
   ]
  },
  {
   "cell_type": "code",
   "execution_count": 10,
   "metadata": {},
   "outputs": [],
   "source": [
    "#ゴールデン・デッドクロス判定\n",
    "def golden_dead(data_df1):\n",
    "    golden=np.zeros(len(data_df1['Cross']),dtype=int)\n",
    "    dead=np.zeros(len(data_df1['Cross']),dtype=int)\n",
    "    for i in range(len(data_df1['Cross'])-1):\n",
    "        x = data_df1['Cross'][i]\n",
    "        y = data_df1['Cross'][i+1]\n",
    "        if ((x <= 0) & (y<=0)) |((x >= 0) & (y>=0)):\n",
    "            pass\n",
    "        elif ((x <= 0) & (y>=0)) :\n",
    "            golden=np.insert(golden,i+1,1)\n",
    "            golden=np.delete(golden,i+2)\n",
    "        elif ((x >= 0) & (y<=0)) :\n",
    "            dead=np.insert(dead,i+1,1)\n",
    "            dead=np.delete(dead,i+2)\n",
    "\n",
    "    return golden,dead\n",
    "    "
   ]
  },
  {
   "cell_type": "code",
   "execution_count": null,
   "metadata": {},
   "outputs": [],
   "source": []
  },
  {
   "cell_type": "code",
   "execution_count": 11,
   "metadata": {},
   "outputs": [],
   "source": [
    "def make_onehot_label(df,MA5,STD5):\n",
    "    data = df.copy()\n",
    "    \n",
    "    data.loc[data['sub'] > MA5 + STD5*2 , 'long'] = 1\n",
    "    data.loc[~(data['sub'] > MA5 + STD5*2) , 'long'] = 0\n",
    "\n",
    "    data.loc[(data['sub'] >= MA5 + STD5/2 )&(data['sub'] <= MA5 + STD5*2), 'sem_long']=1\n",
    "    data.loc[~((data['sub'] >= MA5 + STD5/2 )&(data['sub'] <= MA5 + STD5*2)), 'sem_long']=0\n",
    "\n",
    "    data.loc[(data['sub'] >= MA5 - STD5/2 )&(data['sub'] < MA5 + STD5/2 ), 'range']=1\n",
    "    data.loc[~((data['sub'] >= MA5 - STD5/2 )&(data['sub'] < MA5 + STD5/2 )), 'range']=0\n",
    "\n",
    "    data.loc[(data['sub'] >= MA5 - STD5*2 )&(data['sub'] < MA5 - STD5/2 ), 'sem_short']=1\n",
    "    data.loc[~((data['sub'] >= MA5 - STD5*2 )&(data['sub'] < MA5 - STD5/2 )), 'sem_short']=0\n",
    "\n",
    "    data.loc[data['sub'] < MA5 - STD5*2 , 'short'] = 1\n",
    "    data.loc[~(data['sub'] < MA5 - STD5*2) , 'short'] = 0\n",
    "    \n",
    "    \n",
    "    data['labels'] = np.array([2 for i in range(len(df)) ])\n",
    "    data.loc[data['sub']> MA5 - STD5*2 , 'labels'] = 0\n",
    "    data.loc[((data['sub']) >= MA5 + STD5/2 )&(data['sub'] <= MA5 + STD5*2), 'labels']=1\n",
    "    data.loc[(data['sub']>= MA5 - STD5/2 )&(data['sub'] < MA5 + STD5/2 ), 'labels']=2\n",
    "    data.loc[(data['sub'] >= MA5 - STD5*2 )&(data['sub'] < MA5 - STD5/2 ), 'labels']=3\n",
    "    data.loc[data['sub'] < MA5 - STD5*2, 'short'] = 4\n",
    "\n",
    "    \n",
    "    a= np.array(data['long'])\n",
    "    b=np.array(data['sem_long'])\n",
    "    c=np.array(data['range'])\n",
    "    d=np.array(data['sem_short'])\n",
    "    e=np.array(data['short'])\n",
    "    a=a[:, np.newaxis]\n",
    "    b=b[:, np.newaxis]\n",
    "    c=c[:, np.newaxis]\n",
    "    d=d[:, np.newaxis]\n",
    "    e=e[:, np.newaxis]\n",
    "    \n",
    "    onehot_label=np.concatenate([a,b,c,d,e], axis=1)\n",
    "    \n",
    "    return onehot_label,np.array(data['labels'],dtype=int)"
   ]
  },
  {
   "cell_type": "code",
   "execution_count": null,
   "metadata": {},
   "outputs": [],
   "source": []
  },
  {
   "cell_type": "code",
   "execution_count": 12,
   "metadata": {},
   "outputs": [],
   "source": [
    "#関数の使い方\n",
    "today = datetime.datetime.today() \n",
    "back_day = today - datetime.timedelta(days=30)\n",
    "trade_name = 'xrp_jpy'\n",
    "span = '5min'\n",
    "num = 5"
   ]
  },
  {
   "cell_type": "code",
   "execution_count": 13,
   "metadata": {},
   "outputs": [
    {
     "name": "stdout",
     "output_type": "stream",
     "text": [
      "      index    Open    High     Low   Close       Volume           Timestamp\n",
      "8551  199.0  49.075  49.120  49.051  49.116   62493.4381 2018-10-24 01:35:00\n",
      "8552  200.0  49.117  49.151  49.076  49.097  117277.9795 2018-10-24 01:40:00\n",
      "8553  201.0  49.096  49.119  49.069  49.119   38500.1352 2018-10-24 01:45:00\n",
      "8554  202.0  49.115  49.119  49.027  49.027  135076.2661 2018-10-24 01:50:00\n",
      "8555  203.0  49.037  49.072  49.010  49.015  114394.7664 2018-10-24 01:55:00\n"
     ]
    }
   ],
   "source": [
    "#基本データの取得\n",
    "old = time.time()\n",
    "data_df1 =  make_df(trade_name,span,back_day,today)\n",
    "data_df1['Timestamp'] = data_df1['Timestamp'].apply(read_date)\n",
    "#indexの割り振り\n",
    "data_df1 = data_df1.reset_index()\n",
    "#df1の値は全てstrなのでTimestamp以外floatにキャストする\n",
    "#Timestampは文字列のままでいいので削除することを指定\n",
    "execlude = ['Timestamp']\n",
    "cast = [col for col in data_df1.columns if col not in execlude]\n",
    "for item in cast:\n",
    "    data_df1 = data_df1.astype({item: float})\n",
    "print(data_df1.tail())"
   ]
  },
  {
   "cell_type": "code",
   "execution_count": 14,
   "metadata": {},
   "outputs": [
    {
     "name": "stdout",
     "output_type": "stream",
     "text": [
      "[ 0.       0.       0.      ... 49.0708  49.07008 49.06908] [ 0.      0.      0.     ... 49.097  49.084  49.0748]\n",
      "(8556,) <class 'numpy.ndarray'> (8556,) <class 'numpy.ndarray'>\n"
     ]
    }
   ],
   "source": [
    "#移動平均線np\n",
    "MA5 = getMA( data_df1,num,'Close')\n",
    "MA25 = getMA( data_df1,num+20,'Close')\n",
    "zero5 = np.zeros(num-1,dtype = float )\n",
    "zero25 = np.zeros(num+20-1,dtype = float )\n",
    "MA5 = np.insert(MA5, 0, zero5)\n",
    "MA25 = np.insert(MA25, 0, zero25)\n",
    "print(MA25,MA5)\n",
    "print(MA25.shape,type(MA25),MA5.shape,type(MA5))"
   ]
  },
  {
   "cell_type": "code",
   "execution_count": 15,
   "metadata": {},
   "outputs": [
    {
     "name": "stdout",
     "output_type": "stream",
     "text": [
      "[0.         0.         0.         ... 0.02081346 0.03520227 0.04473209] (8556,) <class 'numpy.ndarray'>\n"
     ]
    }
   ],
   "source": [
    "#標準偏差計算\n",
    "STD5 = getSTD( data_df1,num,'Close')\n",
    "zero5 = np.zeros(num-1,dtype = float )\n",
    "STD5 = np.insert(STD5, 0, zero5)\n",
    "print(STD5,STD5.shape,type(STD5))"
   ]
  },
  {
   "cell_type": "code",
   "execution_count": null,
   "metadata": {},
   "outputs": [],
   "source": []
  },
  {
   "cell_type": "code",
   "execution_count": null,
   "metadata": {},
   "outputs": [],
   "source": []
  },
  {
   "cell_type": "code",
   "execution_count": 16,
   "metadata": {},
   "outputs": [],
   "source": [
    "#自作変数を作成する\n",
    "data_df1['High-Low']=data_df1['High']-data_df1['Low']\n",
    "data_df1['Close-Open']=data_df1['Close']-data_df1['Open']\n",
    "data_df1['Similarity'] = data_df1['Close-Open'] / (data_df1['High-Low'] + 0.000001)\n",
    "data_df1['(High-Low)*Volume '] = data_df1['High-Low']*data_df1['Volume']\n",
    "data_df1['(Close-Open)*Volume '] = data_df1['Close-Open']*data_df1['Volume']\n",
    "data_df1['High-Low']\n",
    "data_df1['MA5'] =MA5\n",
    "data_df1['MA25'] = MA25\n",
    "data_df1['Cross'] = MA5 - MA25\n",
    "data_df1['index'] = data_df1.index + 1\n",
    "data_df1['STD5'] = STD5\n",
    "data_df1['bbd_p1']= MA5 + (STD5 * 1)\n",
    "data_df1['bbd_p2']= MA5 + (STD5 * 2)\n",
    "data_df1['bbd_p3']= MA5 + (STD5 * 3)\n",
    "data_df1['bbd_m1']= MA5 - (STD5 * 1)\n",
    "data_df1['bbd_m2']= MA5 - (STD5 * 2)\n",
    "data_df1['bbd_m3']= MA5 - (STD5 * 3)\n",
    "\n"
   ]
  },
  {
   "cell_type": "code",
   "execution_count": null,
   "metadata": {},
   "outputs": [],
   "source": []
  },
  {
   "cell_type": "code",
   "execution_count": null,
   "metadata": {},
   "outputs": [],
   "source": []
  },
  {
   "cell_type": "code",
   "execution_count": 17,
   "metadata": {},
   "outputs": [],
   "source": [
    "# sigmas = np.array([STD5])\n",
    "# print(type(sigmas),sigmas.shape,sigmas)\n",
    "# items = np.insert(sigmas.T, sigmas.shape[0],MA5 , axis=1)\n",
    "# print(items.shape)\n",
    "# print(items)"
   ]
  },
  {
   "cell_type": "code",
   "execution_count": 18,
   "metadata": {},
   "outputs": [],
   "source": [
    "#ゴールデンクロス、デッドクロス判定ラベル\n",
    "data_df1['golden'],data_df1['dead']  = golden_dead(data_df1)"
   ]
  },
  {
   "cell_type": "code",
   "execution_count": 19,
   "metadata": {},
   "outputs": [
    {
     "name": "stdout",
     "output_type": "stream",
     "text": [
      "かかった時間：28.89731454849243\n"
     ]
    },
    {
     "data": {
      "text/html": [
       "<div>\n",
       "<style scoped>\n",
       "    .dataframe tbody tr th:only-of-type {\n",
       "        vertical-align: middle;\n",
       "    }\n",
       "\n",
       "    .dataframe tbody tr th {\n",
       "        vertical-align: top;\n",
       "    }\n",
       "\n",
       "    .dataframe thead th {\n",
       "        text-align: right;\n",
       "    }\n",
       "</style>\n",
       "<table border=\"1\" class=\"dataframe\">\n",
       "  <thead>\n",
       "    <tr style=\"text-align: right;\">\n",
       "      <th></th>\n",
       "      <th>index</th>\n",
       "      <th>Open</th>\n",
       "      <th>High</th>\n",
       "      <th>Low</th>\n",
       "      <th>Close</th>\n",
       "      <th>Volume</th>\n",
       "      <th>Timestamp</th>\n",
       "      <th>High-Low</th>\n",
       "      <th>Close-Open</th>\n",
       "      <th>Similarity</th>\n",
       "      <th>...</th>\n",
       "      <th>Cross</th>\n",
       "      <th>STD5</th>\n",
       "      <th>bbd_p1</th>\n",
       "      <th>bbd_p2</th>\n",
       "      <th>bbd_p3</th>\n",
       "      <th>bbd_m1</th>\n",
       "      <th>bbd_m2</th>\n",
       "      <th>bbd_m3</th>\n",
       "      <th>golden</th>\n",
       "      <th>dead</th>\n",
       "    </tr>\n",
       "  </thead>\n",
       "  <tbody>\n",
       "    <tr>\n",
       "      <th>8551</th>\n",
       "      <td>8552</td>\n",
       "      <td>49.075</td>\n",
       "      <td>49.120</td>\n",
       "      <td>49.051</td>\n",
       "      <td>49.116</td>\n",
       "      <td>62493.4381</td>\n",
       "      <td>2018-10-24 01:35:00</td>\n",
       "      <td>0.069</td>\n",
       "      <td>0.041</td>\n",
       "      <td>0.594194</td>\n",
       "      <td>...</td>\n",
       "      <td>0.04860</td>\n",
       "      <td>0.024418</td>\n",
       "      <td>49.128018</td>\n",
       "      <td>49.152436</td>\n",
       "      <td>49.176854</td>\n",
       "      <td>49.079182</td>\n",
       "      <td>49.054764</td>\n",
       "      <td>49.030346</td>\n",
       "      <td>0</td>\n",
       "      <td>0</td>\n",
       "    </tr>\n",
       "    <tr>\n",
       "      <th>8552</th>\n",
       "      <td>8553</td>\n",
       "      <td>49.117</td>\n",
       "      <td>49.151</td>\n",
       "      <td>49.076</td>\n",
       "      <td>49.097</td>\n",
       "      <td>117277.9795</td>\n",
       "      <td>2018-10-24 01:40:00</td>\n",
       "      <td>0.075</td>\n",
       "      <td>-0.020</td>\n",
       "      <td>-0.266663</td>\n",
       "      <td>...</td>\n",
       "      <td>0.03176</td>\n",
       "      <td>0.021702</td>\n",
       "      <td>49.119502</td>\n",
       "      <td>49.141203</td>\n",
       "      <td>49.162905</td>\n",
       "      <td>49.076098</td>\n",
       "      <td>49.054397</td>\n",
       "      <td>49.032695</td>\n",
       "      <td>0</td>\n",
       "      <td>0</td>\n",
       "    </tr>\n",
       "    <tr>\n",
       "      <th>8553</th>\n",
       "      <td>8554</td>\n",
       "      <td>49.096</td>\n",
       "      <td>49.119</td>\n",
       "      <td>49.069</td>\n",
       "      <td>49.119</td>\n",
       "      <td>38500.1352</td>\n",
       "      <td>2018-10-24 01:45:00</td>\n",
       "      <td>0.050</td>\n",
       "      <td>0.023</td>\n",
       "      <td>0.459991</td>\n",
       "      <td>...</td>\n",
       "      <td>0.02620</td>\n",
       "      <td>0.020813</td>\n",
       "      <td>49.117813</td>\n",
       "      <td>49.138627</td>\n",
       "      <td>49.159440</td>\n",
       "      <td>49.076187</td>\n",
       "      <td>49.055373</td>\n",
       "      <td>49.034560</td>\n",
       "      <td>0</td>\n",
       "      <td>0</td>\n",
       "    </tr>\n",
       "    <tr>\n",
       "      <th>8554</th>\n",
       "      <td>8555</td>\n",
       "      <td>49.115</td>\n",
       "      <td>49.119</td>\n",
       "      <td>49.027</td>\n",
       "      <td>49.027</td>\n",
       "      <td>135076.2661</td>\n",
       "      <td>2018-10-24 01:50:00</td>\n",
       "      <td>0.092</td>\n",
       "      <td>-0.088</td>\n",
       "      <td>-0.956511</td>\n",
       "      <td>...</td>\n",
       "      <td>0.01392</td>\n",
       "      <td>0.035202</td>\n",
       "      <td>49.119202</td>\n",
       "      <td>49.154405</td>\n",
       "      <td>49.189607</td>\n",
       "      <td>49.048798</td>\n",
       "      <td>49.013595</td>\n",
       "      <td>48.978393</td>\n",
       "      <td>0</td>\n",
       "      <td>0</td>\n",
       "    </tr>\n",
       "    <tr>\n",
       "      <th>8555</th>\n",
       "      <td>8556</td>\n",
       "      <td>49.037</td>\n",
       "      <td>49.072</td>\n",
       "      <td>49.010</td>\n",
       "      <td>49.015</td>\n",
       "      <td>114394.7664</td>\n",
       "      <td>2018-10-24 01:55:00</td>\n",
       "      <td>0.062</td>\n",
       "      <td>-0.022</td>\n",
       "      <td>-0.354833</td>\n",
       "      <td>...</td>\n",
       "      <td>0.00572</td>\n",
       "      <td>0.044732</td>\n",
       "      <td>49.119532</td>\n",
       "      <td>49.164264</td>\n",
       "      <td>49.208996</td>\n",
       "      <td>49.030068</td>\n",
       "      <td>48.985336</td>\n",
       "      <td>48.940604</td>\n",
       "      <td>0</td>\n",
       "      <td>0</td>\n",
       "    </tr>\n",
       "  </tbody>\n",
       "</table>\n",
       "<p>5 rows × 22 columns</p>\n",
       "</div>"
      ],
      "text/plain": [
       "      index    Open    High     Low   Close       Volume           Timestamp  \\\n",
       "8551   8552  49.075  49.120  49.051  49.116   62493.4381 2018-10-24 01:35:00   \n",
       "8552   8553  49.117  49.151  49.076  49.097  117277.9795 2018-10-24 01:40:00   \n",
       "8553   8554  49.096  49.119  49.069  49.119   38500.1352 2018-10-24 01:45:00   \n",
       "8554   8555  49.115  49.119  49.027  49.027  135076.2661 2018-10-24 01:50:00   \n",
       "8555   8556  49.037  49.072  49.010  49.015  114394.7664 2018-10-24 01:55:00   \n",
       "\n",
       "      High-Low  Close-Open  Similarity  ...     Cross      STD5     bbd_p1  \\\n",
       "8551     0.069       0.041    0.594194  ...   0.04860  0.024418  49.128018   \n",
       "8552     0.075      -0.020   -0.266663  ...   0.03176  0.021702  49.119502   \n",
       "8553     0.050       0.023    0.459991  ...   0.02620  0.020813  49.117813   \n",
       "8554     0.092      -0.088   -0.956511  ...   0.01392  0.035202  49.119202   \n",
       "8555     0.062      -0.022   -0.354833  ...   0.00572  0.044732  49.119532   \n",
       "\n",
       "         bbd_p2     bbd_p3     bbd_m1     bbd_m2     bbd_m3  golden  dead  \n",
       "8551  49.152436  49.176854  49.079182  49.054764  49.030346       0     0  \n",
       "8552  49.141203  49.162905  49.076098  49.054397  49.032695       0     0  \n",
       "8553  49.138627  49.159440  49.076187  49.055373  49.034560       0     0  \n",
       "8554  49.154405  49.189607  49.048798  49.013595  48.978393       0     0  \n",
       "8555  49.164264  49.208996  49.030068  48.985336  48.940604       0     0  \n",
       "\n",
       "[5 rows x 22 columns]"
      ]
     },
     "execution_count": 19,
     "metadata": {},
     "output_type": "execute_result"
    }
   ],
   "source": [
    "#data作成までの時間\n",
    "print('かかった時間：{0}'.format(time.time()-old))\n",
    "#作成変数の表示\n",
    "data_df1.loc[len(data_df1)-5:]"
   ]
  },
  {
   "cell_type": "code",
   "execution_count": null,
   "metadata": {},
   "outputs": [],
   "source": []
  },
  {
   "cell_type": "code",
   "execution_count": 20,
   "metadata": {
    "scrolled": false
   },
   "outputs": [
    {
     "name": "stdout",
     "output_type": "stream",
     "text": [
      "(8555,) (8555, 23)\n"
     ]
    }
   ],
   "source": [
    "tomorrow = np.array(data_df1['Close'])#1次元\n",
    "tomorrow = np.delete(tomorrow,0)\n",
    "df_new = data_df1.drop(index=[len(data_df1)-1])\n",
    "df_new['Close_tomorrow'] = tomorrow\n",
    "print(tomorrow.shape,df_new.shape)"
   ]
  },
  {
   "cell_type": "code",
   "execution_count": 21,
   "metadata": {},
   "outputs": [],
   "source": [
    "df_new['sub'] = df_new['Close_tomorrow']-df_new['Close'] "
   ]
  },
  {
   "cell_type": "code",
   "execution_count": 22,
   "metadata": {},
   "outputs": [
    {
     "name": "stdout",
     "output_type": "stream",
     "text": [
      "(8555,) <class 'numpy.ndarray'> (8555,) <class 'numpy.ndarray'>\n"
     ]
    }
   ],
   "source": [
    "ma5_sub = getMA( df_new,num,'sub')\n",
    "std_sub = getSTD( df_new,num,'sub')\n",
    "\n",
    "zero5 = np.zeros(num-1,dtype = float )\n",
    "ma5_sub = np.insert(ma5_sub, 0, zero5)\n",
    "std_sub = np.insert(std_sub, 0, zero5)\n",
    "print(ma5_sub.shape,type(ma5_sub),std_sub.shape,type(std_sub))"
   ]
  },
  {
   "cell_type": "code",
   "execution_count": 23,
   "metadata": {},
   "outputs": [
    {
     "name": "stdout",
     "output_type": "stream",
     "text": [
      "['Volume', 'High-Low', 'Close-Open', 'Similarity', '(High-Low)*Volume ', '(Close-Open)*Volume ', 'Cross', 'STD5', 'golden', 'dead', 'Close_tomorrow', 'sub']\n",
      "(8555, 12)\n"
     ]
    }
   ],
   "source": [
    "#onehot_rabelを予測するニューラルネットワーク（keras）\n",
    "#使わない変数を除外\n",
    "exe_cols = ['index','Timestamp','Open','Close','High','Low','bbd_p1','bbd_p2','bbd_p3','bbd_m1','bbd_m2','bbd_m3']\n",
    "feature_cols = [col for col in df_new.columns if col not in exe_cols]\n",
    "print(feature_cols)\n",
    "#NN学習用(train)にnp配列に変換\n",
    "data_np= np.array(df_new[feature_cols])\n",
    "print(data_np.shape)"
   ]
  },
  {
   "cell_type": "code",
   "execution_count": null,
   "metadata": {},
   "outputs": [],
   "source": []
  },
  {
   "cell_type": "code",
   "execution_count": 24,
   "metadata": {},
   "outputs": [
    {
     "name": "stdout",
     "output_type": "stream",
     "text": [
      "(8555, 5) (8555, 12) (8555,)\n"
     ]
    }
   ],
   "source": [
    "#学習用npデータ完成\n",
    "X = data_np[:len(tomorrow),0:]\n",
    "Y,labels = make_onehot_label(df_new,ma5_sub,std_sub)\n",
    "print(Y.shape,X.shape,labels.shape)"
   ]
  },
  {
   "cell_type": "code",
   "execution_count": null,
   "metadata": {},
   "outputs": [],
   "source": []
  },
  {
   "cell_type": "code",
   "execution_count": 25,
   "metadata": {},
   "outputs": [
    {
     "name": "stdout",
     "output_type": "stream",
     "text": [
      "8127\n",
      "(8117, 12) (8117, 5)\n"
     ]
    }
   ],
   "source": [
    "# 学習では、29/30を使うものとします。これは情報の偏りを防ぐためのものであり、全体でも構いません\n",
    "L = int(len(X)//(100/95))\n",
    "print(L)\n",
    "train_x = X[10:L,:]\n",
    "train_y = Y[10:L]\n",
    "labels_train = labels[10:L]\n",
    "print(train_x.shape,train_y.shape)"
   ]
  },
  {
   "cell_type": "code",
   "execution_count": null,
   "metadata": {},
   "outputs": [],
   "source": []
  },
  {
   "cell_type": "code",
   "execution_count": 26,
   "metadata": {},
   "outputs": [],
   "source": [
    "# 残りの全てをテストデータとします\n",
    "test_x = X[L:len(X),:]\n",
    "test_y = Y[L:len(Y)]\n",
    "labels_test = labels[L:len(labels)]"
   ]
  },
  {
   "cell_type": "code",
   "execution_count": 27,
   "metadata": {},
   "outputs": [
    {
     "name": "stderr",
     "output_type": "stream",
     "text": [
      "C:\\Users\\ibuki\\Anaconda3\\envs\\py36\\lib\\site-packages\\h5py\\__init__.py:36: FutureWarning: Conversion of the second argument of issubdtype from `float` to `np.floating` is deprecated. In future, it will be treated as `np.float64 == np.dtype(float).type`.\n",
      "  from ._conv import register_converters as _register_converters\n",
      "Using TensorFlow backend.\n"
     ]
    }
   ],
   "source": [
    "from keras.layers import Activation, Dense\n",
    "from keras.layers.normalization import BatchNormalization\n",
    "from keras.models import Sequential\n",
    "from keras.utils.np_utils import to_categorical\n",
    "from sklearn.metrics import classification_report, confusion_matrix"
   ]
  },
  {
   "cell_type": "code",
   "execution_count": null,
   "metadata": {},
   "outputs": [],
   "source": []
  },
  {
   "cell_type": "code",
   "execution_count": 28,
   "metadata": {},
   "outputs": [],
   "source": [
    "model = Sequential()\n",
    "model.add(Dense(5,activation='relu', input_dim=X.shape[1]))\n",
    "model.add(BatchNormalization())\n",
    "model.add(Activation('relu'))\n",
    "model.add(Dense(16))\n",
    "model.add(BatchNormalization())\n",
    "model.add(Activation('relu'))\n",
    "model.add(Dense(128))\n",
    "model.add(Activation('relu'))\n",
    "model.add(BatchNormalization())\n",
    "model.add(Dense(5))\n",
    "model.add(BatchNormalization())\n",
    "model.add(Activation('softmax'))\n",
    "model.compile(optimizer='adam',\n",
    "              loss='categorical_crossentropy',\n",
    "              metrics=['accuracy'])"
   ]
  },
  {
   "cell_type": "code",
   "execution_count": 29,
   "metadata": {},
   "outputs": [
    {
     "name": "stdout",
     "output_type": "stream",
     "text": [
      "Epoch 1/128\n",
      "8117/8117 [==============================] - 3s 386us/step - loss: 1.6253 - acc: 0.3257\n",
      "Epoch 2/128\n",
      "8117/8117 [==============================] - 0s 28us/step - loss: 1.5325 - acc: 0.3601\n",
      "Epoch 3/128\n",
      "8117/8117 [==============================] - 0s 26us/step - loss: 1.4899 - acc: 0.3689\n",
      "Epoch 4/128\n",
      "8117/8117 [==============================] - 0s 26us/step - loss: 1.4512 - acc: 0.3706\n",
      "Epoch 5/128\n",
      "8117/8117 [==============================] - 0s 27us/step - loss: 1.4181 - acc: 0.3726\n",
      "Epoch 6/128\n",
      "8117/8117 [==============================] - 0s 28us/step - loss: 1.3889 - acc: 0.3764\n",
      "Epoch 7/128\n",
      "8117/8117 [==============================] - 0s 25us/step - loss: 1.3633 - acc: 0.3712\n",
      "Epoch 8/128\n",
      "8117/8117 [==============================] - 0s 26us/step - loss: 1.3422 - acc: 0.3706\n",
      "Epoch 9/128\n",
      "8117/8117 [==============================] - 0s 26us/step - loss: 1.3219 - acc: 0.3677\n",
      "Epoch 10/128\n",
      "8117/8117 [==============================] - 0s 27us/step - loss: 1.3023 - acc: 0.3734\n",
      "Epoch 11/128\n",
      "8117/8117 [==============================] - 0s 27us/step - loss: 1.2854 - acc: 0.3749\n",
      "Epoch 12/128\n",
      "8117/8117 [==============================] - 0s 27us/step - loss: 1.2721 - acc: 0.3778\n",
      "Epoch 13/128\n",
      "8117/8117 [==============================] - 0s 28us/step - loss: 1.2574 - acc: 0.3772\n",
      "Epoch 14/128\n",
      "8117/8117 [==============================] - 0s 30us/step - loss: 1.2461 - acc: 0.3776\n",
      "Epoch 15/128\n",
      "8117/8117 [==============================] - 0s 28us/step - loss: 1.2328 - acc: 0.3795\n",
      "Epoch 16/128\n",
      "8117/8117 [==============================] - 0s 32us/step - loss: 1.2242 - acc: 0.3804\n",
      "Epoch 17/128\n",
      "8117/8117 [==============================] - 0s 27us/step - loss: 1.2164 - acc: 0.3797\n",
      "Epoch 18/128\n",
      "8117/8117 [==============================] - 0s 31us/step - loss: 1.2075 - acc: 0.3809\n",
      "Epoch 19/128\n",
      "8117/8117 [==============================] - 0s 27us/step - loss: 1.1987 - acc: 0.3849\n",
      "Epoch 20/128\n",
      "8117/8117 [==============================] - 0s 26us/step - loss: 1.1931 - acc: 0.3804\n",
      "Epoch 21/128\n",
      "8117/8117 [==============================] - 0s 26us/step - loss: 1.1867 - acc: 0.3845\n",
      "Epoch 22/128\n",
      "8117/8117 [==============================] - 0s 27us/step - loss: 1.1793 - acc: 0.3845\n",
      "Epoch 23/128\n",
      "8117/8117 [==============================] - 0s 27us/step - loss: 1.1753 - acc: 0.3863\n",
      "Epoch 24/128\n",
      "8117/8117 [==============================] - 0s 25us/step - loss: 1.1691 - acc: 0.3804\n",
      "Epoch 25/128\n",
      "8117/8117 [==============================] - 0s 25us/step - loss: 1.1645 - acc: 0.3921\n",
      "Epoch 26/128\n",
      "8117/8117 [==============================] - 0s 25us/step - loss: 1.1607 - acc: 0.3863\n",
      "Epoch 27/128\n",
      "8117/8117 [==============================] - 0s 25us/step - loss: 1.1565 - acc: 0.3843\n",
      "Epoch 28/128\n",
      "8117/8117 [==============================] - 0s 26us/step - loss: 1.1524 - acc: 0.3839\n",
      "Epoch 29/128\n",
      "8117/8117 [==============================] - 0s 26us/step - loss: 1.1489 - acc: 0.3775\n",
      "Epoch 30/128\n",
      "8117/8117 [==============================] - 0s 25us/step - loss: 1.1460 - acc: 0.3855\n",
      "Epoch 31/128\n",
      "8117/8117 [==============================] - 0s 29us/step - loss: 1.1430 - acc: 0.3918\n",
      "Epoch 32/128\n",
      "8117/8117 [==============================] - 0s 28us/step - loss: 1.1404 - acc: 0.3803: 0s - loss: 1.1464 - acc: 0.\n",
      "Epoch 33/128\n",
      "8117/8117 [==============================] - 0s 30us/step - loss: 1.1380 - acc: 0.3838\n",
      "Epoch 34/128\n",
      "8117/8117 [==============================] - 0s 25us/step - loss: 1.1351 - acc: 0.3813\n",
      "Epoch 35/128\n",
      "8117/8117 [==============================] - 0s 30us/step - loss: 1.1313 - acc: 0.3867\n",
      "Epoch 36/128\n",
      "8117/8117 [==============================] - 0s 25us/step - loss: 1.1305 - acc: 0.3827\n",
      "Epoch 37/128\n",
      "8117/8117 [==============================] - 0s 27us/step - loss: 1.1277 - acc: 0.3825\n",
      "Epoch 38/128\n",
      "8117/8117 [==============================] - 0s 25us/step - loss: 1.1275 - acc: 0.3882\n",
      "Epoch 39/128\n",
      "8117/8117 [==============================] - 0s 26us/step - loss: 1.1241 - acc: 0.3801\n",
      "Epoch 40/128\n",
      "8117/8117 [==============================] - 0s 28us/step - loss: 1.1221 - acc: 0.3840\n",
      "Epoch 41/128\n",
      "8117/8117 [==============================] - 0s 31us/step - loss: 1.1199 - acc: 0.3840\n",
      "Epoch 42/128\n",
      "8117/8117 [==============================] - 0s 25us/step - loss: 1.1191 - acc: 0.3825\n",
      "Epoch 43/128\n",
      "8117/8117 [==============================] - 0s 29us/step - loss: 1.1178 - acc: 0.3851\n",
      "Epoch 44/128\n",
      "8117/8117 [==============================] - 0s 28us/step - loss: 1.1162 - acc: 0.3884\n",
      "Epoch 45/128\n",
      "8117/8117 [==============================] - 0s 28us/step - loss: 1.1157 - acc: 0.3813\n",
      "Epoch 46/128\n",
      "8117/8117 [==============================] - 0s 30us/step - loss: 1.1120 - acc: 0.3844\n",
      "Epoch 47/128\n",
      "8117/8117 [==============================] - 0s 30us/step - loss: 1.1132 - acc: 0.3861\n",
      "Epoch 48/128\n",
      "8117/8117 [==============================] - 0s 27us/step - loss: 1.1113 - acc: 0.3872\n",
      "Epoch 49/128\n",
      "8117/8117 [==============================] - 0s 26us/step - loss: 1.1102 - acc: 0.3862\n",
      "Epoch 50/128\n",
      "8117/8117 [==============================] - 0s 30us/step - loss: 1.1082 - acc: 0.3855\n",
      "Epoch 51/128\n",
      "8117/8117 [==============================] - 0s 29us/step - loss: 1.1078 - acc: 0.3849\n",
      "Epoch 52/128\n",
      "8117/8117 [==============================] - 0s 29us/step - loss: 1.1059 - acc: 0.3844\n",
      "Epoch 53/128\n",
      "8117/8117 [==============================] - 0s 26us/step - loss: 1.1060 - acc: 0.3844\n",
      "Epoch 54/128\n",
      "8117/8117 [==============================] - 0s 26us/step - loss: 1.1047 - acc: 0.3949\n",
      "Epoch 55/128\n",
      "8117/8117 [==============================] - 0s 25us/step - loss: 1.1043 - acc: 0.3880\n",
      "Epoch 56/128\n",
      "8117/8117 [==============================] - 0s 26us/step - loss: 1.1036 - acc: 0.3849\n",
      "Epoch 57/128\n",
      "8117/8117 [==============================] - 0s 24us/step - loss: 1.1024 - acc: 0.3900\n",
      "Epoch 58/128\n",
      "8117/8117 [==============================] - 0s 25us/step - loss: 1.1017 - acc: 0.3925\n",
      "Epoch 59/128\n",
      "8117/8117 [==============================] - 0s 25us/step - loss: 1.1009 - acc: 0.3897\n",
      "Epoch 60/128\n",
      "8117/8117 [==============================] - 0s 27us/step - loss: 1.0997 - acc: 0.3880\n",
      "Epoch 61/128\n",
      "8117/8117 [==============================] - 0s 27us/step - loss: 1.0985 - acc: 0.3909\n",
      "Epoch 62/128\n",
      "8117/8117 [==============================] - 0s 30us/step - loss: 1.0995 - acc: 0.3920\n",
      "Epoch 63/128\n",
      "8117/8117 [==============================] - 0s 27us/step - loss: 1.0989 - acc: 0.3855\n",
      "Epoch 64/128\n",
      "8117/8117 [==============================] - 0s 25us/step - loss: 1.0971 - acc: 0.3866\n",
      "Epoch 65/128\n",
      "8117/8117 [==============================] - 0s 30us/step - loss: 1.0968 - acc: 0.3840\n",
      "Epoch 66/128\n",
      "8117/8117 [==============================] - 0s 28us/step - loss: 1.0973 - acc: 0.3862\n",
      "Epoch 67/128\n",
      "8117/8117 [==============================] - 0s 25us/step - loss: 1.0963 - acc: 0.3937\n",
      "Epoch 68/128\n",
      "8117/8117 [==============================] - 0s 25us/step - loss: 1.0955 - acc: 0.3900\n",
      "Epoch 69/128\n",
      "8117/8117 [==============================] - 0s 25us/step - loss: 1.0953 - acc: 0.3803\n",
      "Epoch 70/128\n",
      "8117/8117 [==============================] - 0s 26us/step - loss: 1.0945 - acc: 0.3870\n",
      "Epoch 71/128\n",
      "8117/8117 [==============================] - 0s 30us/step - loss: 1.0947 - acc: 0.3804\n",
      "Epoch 72/128\n",
      "8117/8117 [==============================] - 0s 25us/step - loss: 1.0934 - acc: 0.3828\n",
      "Epoch 73/128\n",
      "8117/8117 [==============================] - 0s 25us/step - loss: 1.0941 - acc: 0.3899\n",
      "Epoch 74/128\n",
      "8117/8117 [==============================] - 0s 25us/step - loss: 1.0926 - acc: 0.3868\n",
      "Epoch 75/128\n",
      "8117/8117 [==============================] - 0s 25us/step - loss: 1.0921 - acc: 0.3899\n",
      "Epoch 76/128\n",
      "8117/8117 [==============================] - 0s 25us/step - loss: 1.0912 - acc: 0.3902\n",
      "Epoch 77/128\n",
      "8117/8117 [==============================] - 0s 25us/step - loss: 1.0916 - acc: 0.3867\n",
      "Epoch 78/128\n",
      "8117/8117 [==============================] - 0s 25us/step - loss: 1.0907 - acc: 0.3898\n",
      "Epoch 79/128\n",
      "8117/8117 [==============================] - 0s 25us/step - loss: 1.0912 - acc: 0.3828\n",
      "Epoch 80/128\n",
      "8117/8117 [==============================] - 0s 25us/step - loss: 1.0912 - acc: 0.3873\n",
      "Epoch 81/128\n",
      "8117/8117 [==============================] - 0s 25us/step - loss: 1.0905 - acc: 0.3845\n",
      "Epoch 82/128\n",
      "8117/8117 [==============================] - 0s 24us/step - loss: 1.0899 - acc: 0.3898\n",
      "Epoch 83/128\n",
      "8117/8117 [==============================] - 0s 27us/step - loss: 1.0895 - acc: 0.3861\n",
      "Epoch 84/128\n",
      "8117/8117 [==============================] - 0s 26us/step - loss: 1.0898 - acc: 0.3889\n",
      "Epoch 85/128\n",
      "8117/8117 [==============================] - 0s 25us/step - loss: 1.0891 - acc: 0.3866\n",
      "Epoch 86/128\n",
      "8117/8117 [==============================] - 0s 27us/step - loss: 1.0885 - acc: 0.3887\n",
      "Epoch 87/128\n",
      "8117/8117 [==============================] - 0s 27us/step - loss: 1.0889 - acc: 0.3884\n",
      "Epoch 88/128\n",
      "8117/8117 [==============================] - 0s 27us/step - loss: 1.0881 - acc: 0.3937\n",
      "Epoch 89/128\n",
      "8117/8117 [==============================] - 0s 26us/step - loss: 1.0867 - acc: 0.3887\n",
      "Epoch 90/128\n",
      "8117/8117 [==============================] - 0s 28us/step - loss: 1.0872 - acc: 0.3875\n",
      "Epoch 91/128\n",
      "8117/8117 [==============================] - 0s 28us/step - loss: 1.0858 - acc: 0.3942\n",
      "Epoch 92/128\n",
      "8117/8117 [==============================] - 0s 26us/step - loss: 1.0863 - acc: 0.3912\n",
      "Epoch 93/128\n",
      "8117/8117 [==============================] - 0s 27us/step - loss: 1.0857 - acc: 0.3893\n",
      "Epoch 94/128\n",
      "8117/8117 [==============================] - 0s 27us/step - loss: 1.0856 - acc: 0.3865\n",
      "Epoch 95/128\n",
      "8117/8117 [==============================] - 0s 27us/step - loss: 1.0869 - acc: 0.3871\n",
      "Epoch 96/128\n",
      "8117/8117 [==============================] - 0s 27us/step - loss: 1.0860 - acc: 0.3920\n",
      "Epoch 97/128\n",
      "8117/8117 [==============================] - 0s 25us/step - loss: 1.0853 - acc: 0.3905\n",
      "Epoch 98/128\n",
      "8117/8117 [==============================] - 0s 25us/step - loss: 1.0849 - acc: 0.3881\n",
      "Epoch 99/128\n",
      "8117/8117 [==============================] - 0s 25us/step - loss: 1.0847 - acc: 0.3950\n",
      "Epoch 100/128\n",
      "8117/8117 [==============================] - 0s 28us/step - loss: 1.0846 - acc: 0.3877\n",
      "Epoch 101/128\n",
      "8117/8117 [==============================] - 0s 26us/step - loss: 1.0842 - acc: 0.3868\n",
      "Epoch 102/128\n",
      "8117/8117 [==============================] - 0s 25us/step - loss: 1.0827 - acc: 0.3873\n",
      "Epoch 103/128\n",
      "8117/8117 [==============================] - 0s 27us/step - loss: 1.0831 - acc: 0.3925\n",
      "Epoch 104/128\n",
      "8117/8117 [==============================] - 0s 26us/step - loss: 1.0845 - acc: 0.3958\n",
      "Epoch 105/128\n",
      "8117/8117 [==============================] - 0s 27us/step - loss: 1.0835 - acc: 0.3831\n",
      "Epoch 106/128\n",
      "8117/8117 [==============================] - 0s 26us/step - loss: 1.0829 - acc: 0.3872\n",
      "Epoch 107/128\n",
      "8117/8117 [==============================] - 0s 26us/step - loss: 1.0821 - acc: 0.3990\n",
      "Epoch 108/128\n",
      "8117/8117 [==============================] - 0s 27us/step - loss: 1.0838 - acc: 0.3919\n",
      "Epoch 109/128\n",
      "8117/8117 [==============================] - 0s 30us/step - loss: 1.0827 - acc: 0.3947\n",
      "Epoch 110/128\n",
      "8117/8117 [==============================] - 0s 29us/step - loss: 1.0828 - acc: 0.3891\n",
      "Epoch 111/128\n",
      "8117/8117 [==============================] - 0s 30us/step - loss: 1.0816 - acc: 0.3884\n",
      "Epoch 112/128\n",
      "8117/8117 [==============================] - 0s 29us/step - loss: 1.0820 - acc: 0.3913\n",
      "Epoch 113/128\n",
      "8117/8117 [==============================] - 0s 29us/step - loss: 1.0819 - acc: 0.3792\n",
      "Epoch 114/128\n",
      "8117/8117 [==============================] - 0s 28us/step - loss: 1.0816 - acc: 0.3888\n",
      "Epoch 115/128\n",
      "8117/8117 [==============================] - 0s 25us/step - loss: 1.0825 - acc: 0.3910\n",
      "Epoch 116/128\n",
      "8117/8117 [==============================] - 0s 26us/step - loss: 1.0813 - acc: 0.3908: 0s - loss: 1.0808 - acc: 0.39\n",
      "Epoch 117/128\n",
      "8117/8117 [==============================] - 0s 26us/step - loss: 1.0813 - acc: 0.3909\n",
      "Epoch 118/128\n",
      "8117/8117 [==============================] - 0s 26us/step - loss: 1.0808 - acc: 0.3857\n",
      "Epoch 119/128\n",
      "8117/8117 [==============================] - 0s 25us/step - loss: 1.0829 - acc: 0.3875\n",
      "Epoch 120/128\n",
      "8117/8117 [==============================] - 0s 25us/step - loss: 1.0803 - acc: 0.3928\n",
      "Epoch 121/128\n",
      "8117/8117 [==============================] - 0s 26us/step - loss: 1.0807 - acc: 0.3941\n",
      "Epoch 122/128\n",
      "8117/8117 [==============================] - 0s 25us/step - loss: 1.0813 - acc: 0.3905\n",
      "Epoch 123/128\n",
      "8117/8117 [==============================] - 0s 28us/step - loss: 1.0797 - acc: 0.3937\n",
      "Epoch 124/128\n",
      "8117/8117 [==============================] - 0s 28us/step - loss: 1.0796 - acc: 0.3920\n",
      "Epoch 125/128\n",
      "8117/8117 [==============================] - 0s 26us/step - loss: 1.0791 - acc: 0.3903\n",
      "Epoch 126/128\n",
      "8117/8117 [==============================] - 0s 26us/step - loss: 1.0800 - acc: 0.3898\n",
      "Epoch 127/128\n",
      "8117/8117 [==============================] - 0s 26us/step - loss: 1.0803 - acc: 0.3903\n",
      "Epoch 128/128\n",
      "8117/8117 [==============================] - 0s 30us/step - loss: 1.0793 - acc: 0.3884\n"
     ]
    },
    {
     "data": {
      "text/plain": [
       "<keras.callbacks.History at 0x22029a50860>"
      ]
     },
     "execution_count": 29,
     "metadata": {},
     "output_type": "execute_result"
    }
   ],
   "source": [
    "model.fit(train_x, train_y, epochs=128, batch_size=128)"
   ]
  },
  {
   "cell_type": "code",
   "execution_count": 30,
   "metadata": {},
   "outputs": [
    {
     "name": "stdout",
     "output_type": "stream",
     "text": [
      "accuracy: 0.34\n"
     ]
    }
   ],
   "source": [
    "_, acc = model.evaluate(test_x,test_y, verbose=0)\n",
    "print('accuracy: {:.2f}'.format(acc))"
   ]
  },
  {
   "cell_type": "code",
   "execution_count": 31,
   "metadata": {},
   "outputs": [
    {
     "name": "stdout",
     "output_type": "stream",
     "text": [
      "             precision    recall  f1-score   support\n",
      "\n",
      "          1       0.43      0.31      0.36       139\n",
      "          2       0.31      0.51      0.39       141\n",
      "          3       0.33      0.22      0.26       148\n",
      "\n",
      "avg / total       0.36      0.34      0.33       428\n",
      "\n"
     ]
    }
   ],
   "source": [
    "labels_pred = model.predict_classes(test_x, verbose=0)\n",
    "#print(confusion_matrix(labels_test, labels_pred))\n",
    "print(classification_report(labels_test, labels_pred))"
   ]
  },
  {
   "cell_type": "code",
   "execution_count": 32,
   "metadata": {},
   "outputs": [
    {
     "name": "stdout",
     "output_type": "stream",
     "text": [
      "[2 3 3 3 1 1 1 2 2 2 2 1 3 3 3 1 2 1 2 1 2 3 3 2 1 1 2 3 2 3]\n",
      "20    64.311\n",
      "21    64.264\n",
      "22    64.140\n",
      "23    64.022\n",
      "24    64.049\n",
      "25    64.040\n",
      "26    64.189\n",
      "27    64.160\n",
      "28    64.170\n",
      "29    64.189\n",
      "30    64.208\n",
      "31    64.236\n",
      "32    64.192\n",
      "33    64.146\n",
      "34    64.089\n",
      "35    64.148\n",
      "36    64.140\n",
      "37    64.187\n",
      "38    64.207\n",
      "39    64.600\n",
      "Name: Close_tomorrow, dtype: float64\n",
      "(428,)\n",
      "[2 2 2 ... 1 2 3] (8117,)\n"
     ]
    }
   ],
   "source": [
    "print(labels[20:50])\n",
    "print(df_new['Close_tomorrow'][20:40])\n",
    "print(labels_test.shape)\n",
    "print(labels_train,labels_train.shape)"
   ]
  },
  {
   "cell_type": "code",
   "execution_count": 34,
   "metadata": {},
   "outputs": [
    {
     "name": "stdout",
     "output_type": "stream",
     "text": [
      "[2 2 2 1 2 2 1 2 2 1 2 2 1 3 2 2 2 2 2 3 2 1 2 2 2 2 1 2 1 3 2 2 2 2 1 1 1\n",
      " 3 1 1 2 2 1 3 3 3 2 1 3 2 1 1 1 2 1 2 3 2 1 2 2 1 1 3 2 2 3 1 2 1 2 2 1 2\n",
      " 2 1 1 2 1 2 2 2 2 2 1 3 3 2 2 2 2 2 2 1 2 1 3 3 1 2 3 3 2 3 1 3 1 1 1 1 3\n",
      " 3 1 1 3 2 2 3 3 1 2 3 2 2 3 1 2 2 3 2 2 2 3 2 2 2 2 2 2 2 2 2 2 2 2 2 2 2\n",
      " 2 2 2 2 2 2 2 2 2 2 2 2 2 2 2 2 2 2 2 2 2 2 2 2 2 2 2 2 2 2 2 2 2 2 2 2 2\n",
      " 2 3 3 1 2 2 2 2 2 2 2 2 2 2 2 2 2 2 2 2 2 2 2 2 2 2 2 2 2 3 2 2 2 2 2 2 2\n",
      " 2 2 2 1 2 2 1 2 2 3 2 2 3 3 1 1 2 2 2 2 1 1 1 1 1 1 2 3 2 1 1 1 2 2 2 2 2\n",
      " 2 2 2 2 2 1 1 2 2 1 1 3 1 3 1 2 2 2 2 2 1 2 2 3 3 2 2 2 2 2 2 2 2 2 2 1 2\n",
      " 1 2 2 2 1 2 1 1 2 1 3 2 2 2 2 2 2 2 2 2 3 1 3 3 1 3 3 3 1 3 3 3 3 3 3 2 1\n",
      " 1 1 2 1 2 3 3 3 3 3 3 1 2 3 3 1 1 1 3 3 1 2 1 1 3 3 3 1 3 2 1 1 3 1 3 3 1\n",
      " 3 1 3 3 3 3 3 3 3 1 3 3 3 3 2 3 1 3 3 1 1 3 1 3 1 3 3 2 3 3 1 3 3 3 1 1 3\n",
      " 3 3 3 3 1 1 1 2 2 2 2 2 2 2 2 1 2 2 2 2 2] (428,)\n"
     ]
    }
   ],
   "source": [
    "print(labels_pred,labels_pred.shape)"
   ]
  },
  {
   "cell_type": "code",
   "execution_count": 35,
   "metadata": {},
   "outputs": [
    {
     "name": "stdout",
     "output_type": "stream",
     "text": [
      "(428,) (428,) <class 'numpy.ndarray'> <class 'numpy.ndarray'>\n",
      "[2 3 3 1 1 3 1 2 2 1 3 3 2 2 1 3 1 2 2 2 3 1 2 1 3 3 2 2 1 2 3 1 1 3 3 2 1\n",
      " 2 2 1 2 3 1 2 2 2 3 1 2 3 3 3 1 3 1 1 2 3 1 2 3 3 1 2 2 1 3 2 2 2 1 3 1 2\n",
      " 3 3 1 2 1 2 3 1 2 2 2 1 2 2 3 2 1 2 3 3 3 1 1 2 3 1 1 2 2 3 2 2 2 3 2 1 1\n",
      " 3 1 1 1 2 1 1 3 2 1 3 2 1 3 1 3 2 2 2 1 1 3 3 2 1 1 1 3 3 3 2 1 1 3 3 3 2\n",
      " 3 2 1 2 1 1 2 3 3 1 2 3 1 2 2 2 3 1 1 1 3 3 3 1 1 1 2 1 3 3 2 2 1 2 1 3 3\n",
      " 1 2 2 2 1 3 2 3 1 2 2 3 2 1 3 1 2 3 3 2 2 3 1 1 3 2 1 2 1 3 3 2 2 3 2 3 1\n",
      " 1 1 3 3 3 2 2 1 1 1 3 1 2 3 2 2 1 2 3 3 3 2 3 3 2 1 1 3 3 3 2 1 1 2 1 3 3\n",
      " 3 1 3 2 3 3 1 2 3 3 1 3 1 2 2 1 2 2 3 3 1 1 1 3 2 3 3 3 2 1 2 3 1 3 2 1 2\n",
      " 1 3 1 3 1 2 2 1 3 1 2 3 3 2 1 1 3 2 1 3 2 1 1 3 2 2 2 2 3 1 2 1 2 3 3 2 2\n",
      " 3 3 3 3 1 3 1 1 1 2 3 3 2 1 2 2 3 2 1 3 3 3 1 1 1 1 2 3 3 3 1 1 2 2 2 3 2\n",
      " 1 1 2 1 1 3 2 3 3 3 1 2 2 3 2 2 1 1 3 3 1 3 3 3 2 1 3 1 2 3 1 2 2 3 3 1 1\n",
      " 1 2 3 3 3 2 1 2 1 2 1 2 3 3 3 3 1 2 1 3 2]\n",
      "[2 2 2 1 2 2 1 2 2 1 2 2 1 3 2 2 2 2 2 3 2 1 2 2 2 2 1 2 1 3 2 2 2 2 1 1 1\n",
      " 3 1 1 2 2 1 3 3 3 2 1 3 2 1 1 1 2 1 2 3 2 1 2 2 1 1 3 2 2 3 1 2 1 2 2 1 2\n",
      " 2 1 1 2 1 2 2 2 2 2 1 3 3 2 2 2 2 2 2 1 2 1 3 3 1 2 3 3 2 3 1 3 1 1 1 1 3\n",
      " 3 1 1 3 2 2 3 3 1 2 3 2 2 3 1 2 2 3 2 2 2 3 2 2 2 2 2 2 2 2 2 2 2 2 2 2 2\n",
      " 2 2 2 2 2 2 2 2 2 2 2 2 2 2 2 2 2 2 2 2 2 2 2 2 2 2 2 2 2 2 2 2 2 2 2 2 2\n",
      " 2 3 3 1 2 2 2 2 2 2 2 2 2 2 2 2 2 2 2 2 2 2 2 2 2 2 2 2 2 3 2 2 2 2 2 2 2\n",
      " 2 2 2 1 2 2 1 2 2 3 2 2 3 3 1 1 2 2 2 2 1 1 1 1 1 1 2 3 2 1 1 1 2 2 2 2 2\n",
      " 2 2 2 2 2 1 1 2 2 1 1 3 1 3 1 2 2 2 2 2 1 2 2 3 3 2 2 2 2 2 2 2 2 2 2 1 2\n",
      " 1 2 2 2 1 2 1 1 2 1 3 2 2 2 2 2 2 2 2 2 3 1 3 3 1 3 3 3 1 3 3 3 3 3 3 2 1\n",
      " 1 1 2 1 2 3 3 3 3 3 3 1 2 3 3 1 1 1 3 3 1 2 1 1 3 3 3 1 3 2 1 1 3 1 3 3 1\n",
      " 3 1 3 3 3 3 3 3 3 1 3 3 3 3 2 3 1 3 3 1 1 3 1 3 1 3 3 2 3 3 1 3 3 3 1 1 3\n",
      " 3 3 3 3 1 1 1 2 2 2 2 2 2 2 2 1 2 2 2 2 2]\n"
     ]
    }
   ],
   "source": [
    "print(labels_test.shape, labels_pred.shape,type(labels_test), type(labels_pred))\n",
    "print(labels_test)\n",
    "print(labels_pred)"
   ]
  },
  {
   "cell_type": "code",
   "execution_count": 36,
   "metadata": {},
   "outputs": [
    {
     "name": "stdout",
     "output_type": "stream",
     "text": [
      "int32 int64\n"
     ]
    }
   ],
   "source": [
    "print(labels_test.dtype, labels_pred.dtype)"
   ]
  },
  {
   "cell_type": "code",
   "execution_count": 37,
   "metadata": {},
   "outputs": [
    {
     "name": "stdout",
     "output_type": "stream",
     "text": [
      "labels:8555\n",
      "欠損値:0\n"
     ]
    }
   ],
   "source": [
    "a = 0\n",
    "print('labels:'+str(len(labels)))\n",
    "for item in labels:\n",
    "    if item < 0 or item > 5: \n",
    "        print(item)\n",
    "        a += 1\n",
    "#     if item != 0 & item != 1 & item != 2 & item != 3 & item != 4:\n",
    "#         print(item)\n",
    "#         a += 1\n",
    "print('欠損値:'+str(a))\n"
   ]
  },
  {
   "cell_type": "code",
   "execution_count": 38,
   "metadata": {},
   "outputs": [
    {
     "name": "stdout",
     "output_type": "stream",
     "text": [
      "60    0.069\n",
      "61   -0.100\n",
      "62   -0.120\n",
      "63   -0.249\n",
      "64   -0.027\n",
      "65    0.032\n",
      "66   -0.001\n",
      "67    0.126\n",
      "68    0.069\n",
      "69   -0.089\n",
      "70   -0.157\n",
      "71    0.057\n",
      "72   -0.070\n",
      "73   -0.030\n",
      "74    0.139\n",
      "75    0.000\n",
      "76   -0.130\n",
      "77    0.038\n",
      "78   -0.160\n",
      "79   -0.898\n",
      "80    0.320\n",
      "81   -0.373\n",
      "82   -0.097\n",
      "83    0.243\n",
      "84   -0.263\n",
      "85    0.587\n",
      "86    0.138\n",
      "87   -0.185\n",
      "88   -0.053\n",
      "89    0.022\n",
      "90   -0.236\n",
      "91   -0.005\n",
      "92    0.296\n",
      "93   -0.114\n",
      "94    0.382\n",
      "95   -0.360\n",
      "96   -0.361\n",
      "97    0.060\n",
      "98    0.068\n",
      "99   -0.069\n",
      "dtype: float64\n"
     ]
    }
   ],
   "source": [
    "a = df_new['Close_tomorrow']-df_new['Close']\n",
    "print(a[60:100])\n"
   ]
  },
  {
   "cell_type": "code",
   "execution_count": 39,
   "metadata": {},
   "outputs": [
    {
     "ename": "KeyError",
     "evalue": "\"['bbd_1p' 'bbp_1m' 'MA5'] not in index\"",
     "output_type": "error",
     "traceback": [
      "\u001b[1;31m---------------------------------------------------------------------------\u001b[0m",
      "\u001b[1;31mKeyError\u001b[0m                                  Traceback (most recent call last)",
      "\u001b[1;32m<ipython-input-39-68e501a7fa9c>\u001b[0m in \u001b[0;36m<module>\u001b[1;34m()\u001b[0m\n\u001b[1;32m----> 1\u001b[1;33m \u001b[0mdf_new\u001b[0m\u001b[1;33m[\u001b[0m\u001b[1;33m[\u001b[0m\u001b[1;34m'Close'\u001b[0m\u001b[1;33m,\u001b[0m \u001b[1;34m'bbd_1p'\u001b[0m\u001b[1;33m,\u001b[0m \u001b[1;34m'bbp_1m'\u001b[0m\u001b[1;33m,\u001b[0m \u001b[1;34m'MA5'\u001b[0m\u001b[1;33m]\u001b[0m\u001b[1;33m]\u001b[0m\u001b[1;33m.\u001b[0m\u001b[0mplot\u001b[0m\u001b[1;33m(\u001b[0m\u001b[1;33m)\u001b[0m\u001b[1;33m\u001b[0m\u001b[0m\n\u001b[0m\u001b[0;32m      2\u001b[0m \u001b[0mplt\u001b[0m\u001b[1;33m.\u001b[0m\u001b[0mtitle\u001b[0m\u001b[1;33m(\u001b[0m\u001b[1;34m'Bollinger Band'\u001b[0m\u001b[1;33m)\u001b[0m\u001b[1;33m\u001b[0m\u001b[0m\n\u001b[0;32m      3\u001b[0m \u001b[0mplt\u001b[0m\u001b[1;33m.\u001b[0m\u001b[0mylabel\u001b[0m\u001b[1;33m(\u001b[0m\u001b[1;34m'XPR_JPY'\u001b[0m\u001b[1;33m)\u001b[0m\u001b[1;33m\u001b[0m\u001b[0m\n\u001b[0;32m      4\u001b[0m \u001b[0mn4\u001b[0m\u001b[1;33m=\u001b[0m\u001b[1;34m'Bollinger Band.png'\u001b[0m\u001b[1;33m\u001b[0m\u001b[0m\n\u001b[0;32m      5\u001b[0m \u001b[0mplt\u001b[0m\u001b[1;33m.\u001b[0m\u001b[0msavefig\u001b[0m\u001b[1;33m(\u001b[0m\u001b[0mn4\u001b[0m\u001b[1;33m)\u001b[0m\u001b[1;33m\u001b[0m\u001b[0m\n",
      "\u001b[1;32m~\\Anaconda3\\envs\\py36\\lib\\site-packages\\pandas\\core\\frame.py\u001b[0m in \u001b[0;36m__getitem__\u001b[1;34m(self, key)\u001b[0m\n\u001b[0;32m   2677\u001b[0m         \u001b[1;32mif\u001b[0m \u001b[0misinstance\u001b[0m\u001b[1;33m(\u001b[0m\u001b[0mkey\u001b[0m\u001b[1;33m,\u001b[0m \u001b[1;33m(\u001b[0m\u001b[0mSeries\u001b[0m\u001b[1;33m,\u001b[0m \u001b[0mnp\u001b[0m\u001b[1;33m.\u001b[0m\u001b[0mndarray\u001b[0m\u001b[1;33m,\u001b[0m \u001b[0mIndex\u001b[0m\u001b[1;33m,\u001b[0m \u001b[0mlist\u001b[0m\u001b[1;33m)\u001b[0m\u001b[1;33m)\u001b[0m\u001b[1;33m:\u001b[0m\u001b[1;33m\u001b[0m\u001b[0m\n\u001b[0;32m   2678\u001b[0m             \u001b[1;31m# either boolean or fancy integer index\u001b[0m\u001b[1;33m\u001b[0m\u001b[1;33m\u001b[0m\u001b[0m\n\u001b[1;32m-> 2679\u001b[1;33m             \u001b[1;32mreturn\u001b[0m \u001b[0mself\u001b[0m\u001b[1;33m.\u001b[0m\u001b[0m_getitem_array\u001b[0m\u001b[1;33m(\u001b[0m\u001b[0mkey\u001b[0m\u001b[1;33m)\u001b[0m\u001b[1;33m\u001b[0m\u001b[0m\n\u001b[0m\u001b[0;32m   2680\u001b[0m         \u001b[1;32melif\u001b[0m \u001b[0misinstance\u001b[0m\u001b[1;33m(\u001b[0m\u001b[0mkey\u001b[0m\u001b[1;33m,\u001b[0m \u001b[0mDataFrame\u001b[0m\u001b[1;33m)\u001b[0m\u001b[1;33m:\u001b[0m\u001b[1;33m\u001b[0m\u001b[0m\n\u001b[0;32m   2681\u001b[0m             \u001b[1;32mreturn\u001b[0m \u001b[0mself\u001b[0m\u001b[1;33m.\u001b[0m\u001b[0m_getitem_frame\u001b[0m\u001b[1;33m(\u001b[0m\u001b[0mkey\u001b[0m\u001b[1;33m)\u001b[0m\u001b[1;33m\u001b[0m\u001b[0m\n",
      "\u001b[1;32m~\\Anaconda3\\envs\\py36\\lib\\site-packages\\pandas\\core\\frame.py\u001b[0m in \u001b[0;36m_getitem_array\u001b[1;34m(self, key)\u001b[0m\n\u001b[0;32m   2721\u001b[0m             \u001b[1;32mreturn\u001b[0m \u001b[0mself\u001b[0m\u001b[1;33m.\u001b[0m\u001b[0m_take\u001b[0m\u001b[1;33m(\u001b[0m\u001b[0mindexer\u001b[0m\u001b[1;33m,\u001b[0m \u001b[0maxis\u001b[0m\u001b[1;33m=\u001b[0m\u001b[1;36m0\u001b[0m\u001b[1;33m)\u001b[0m\u001b[1;33m\u001b[0m\u001b[0m\n\u001b[0;32m   2722\u001b[0m         \u001b[1;32melse\u001b[0m\u001b[1;33m:\u001b[0m\u001b[1;33m\u001b[0m\u001b[0m\n\u001b[1;32m-> 2723\u001b[1;33m             \u001b[0mindexer\u001b[0m \u001b[1;33m=\u001b[0m \u001b[0mself\u001b[0m\u001b[1;33m.\u001b[0m\u001b[0mloc\u001b[0m\u001b[1;33m.\u001b[0m\u001b[0m_convert_to_indexer\u001b[0m\u001b[1;33m(\u001b[0m\u001b[0mkey\u001b[0m\u001b[1;33m,\u001b[0m \u001b[0maxis\u001b[0m\u001b[1;33m=\u001b[0m\u001b[1;36m1\u001b[0m\u001b[1;33m)\u001b[0m\u001b[1;33m\u001b[0m\u001b[0m\n\u001b[0m\u001b[0;32m   2724\u001b[0m             \u001b[1;32mreturn\u001b[0m \u001b[0mself\u001b[0m\u001b[1;33m.\u001b[0m\u001b[0m_take\u001b[0m\u001b[1;33m(\u001b[0m\u001b[0mindexer\u001b[0m\u001b[1;33m,\u001b[0m \u001b[0maxis\u001b[0m\u001b[1;33m=\u001b[0m\u001b[1;36m1\u001b[0m\u001b[1;33m)\u001b[0m\u001b[1;33m\u001b[0m\u001b[0m\n\u001b[0;32m   2725\u001b[0m \u001b[1;33m\u001b[0m\u001b[0m\n",
      "\u001b[1;32m~\\Anaconda3\\envs\\py36\\lib\\site-packages\\pandas\\core\\indexing.py\u001b[0m in \u001b[0;36m_convert_to_indexer\u001b[1;34m(self, obj, axis, is_setter)\u001b[0m\n\u001b[0;32m   1325\u001b[0m                 \u001b[1;32mif\u001b[0m \u001b[0mmask\u001b[0m\u001b[1;33m.\u001b[0m\u001b[0many\u001b[0m\u001b[1;33m(\u001b[0m\u001b[1;33m)\u001b[0m\u001b[1;33m:\u001b[0m\u001b[1;33m\u001b[0m\u001b[0m\n\u001b[0;32m   1326\u001b[0m                     raise KeyError('{mask} not in index'\n\u001b[1;32m-> 1327\u001b[1;33m                                    .format(mask=objarr[mask]))\n\u001b[0m\u001b[0;32m   1328\u001b[0m \u001b[1;33m\u001b[0m\u001b[0m\n\u001b[0;32m   1329\u001b[0m                 \u001b[1;32mreturn\u001b[0m \u001b[0mcom\u001b[0m\u001b[1;33m.\u001b[0m\u001b[0m_values_from_object\u001b[0m\u001b[1;33m(\u001b[0m\u001b[0mindexer\u001b[0m\u001b[1;33m)\u001b[0m\u001b[1;33m\u001b[0m\u001b[0m\n",
      "\u001b[1;31mKeyError\u001b[0m: \"['bbd_1p' 'bbp_1m' 'MA5'] not in index\""
     ]
    }
   ],
   "source": [
    "df_new[['Close', 'bbd_1p', 'bbp_1m', 'MA5']].plot()\n",
    "plt.title('Bollinger Band')\n",
    "plt.ylabel('XPR_JPY')\n",
    "n4='Bollinger Band.png'\n",
    "plt.savefig(n4)\n",
    "plt.close()\n",
    "plt.show()"
   ]
  },
  {
   "cell_type": "code",
   "execution_count": null,
   "metadata": {},
   "outputs": [],
   "source": []
  },
  {
   "cell_type": "code",
   "execution_count": null,
   "metadata": {},
   "outputs": [],
   "source": []
  }
 ],
 "metadata": {
  "kernelspec": {
   "display_name": "Python 3",
   "language": "python",
   "name": "python3"
  },
  "language_info": {
   "codemirror_mode": {
    "name": "ipython",
    "version": 3
   },
   "file_extension": ".py",
   "mimetype": "text/x-python",
   "name": "python",
   "nbconvert_exporter": "python",
   "pygments_lexer": "ipython3",
   "version": "3.6.5"
  }
 },
 "nbformat": 4,
 "nbformat_minor": 2
}
