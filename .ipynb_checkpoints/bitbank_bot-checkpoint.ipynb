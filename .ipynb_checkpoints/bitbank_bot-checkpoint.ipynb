{
 "cells": [
  {
   "cell_type": "code",
   "execution_count": 1,
   "metadata": {},
   "outputs": [
    {
     "name": "stdout",
     "output_type": "stream",
     "text": [
      "●通貨：jpy\n",
      "保有量：2914.8800\n",
      "●通貨：btc\n",
      "保有量：0.00000000\n",
      "●通貨：ltc\n",
      "保有量：0.00000000\n",
      "●通貨：xrp\n",
      "保有量：140.000000\n",
      "●通貨：eth\n",
      "保有量：0.00000000\n",
      "●通貨：mona\n",
      "保有量：0.00000000\n",
      "●通貨：bcc\n",
      "保有量：0.00000000\n"
     ]
    }
   ],
   "source": [
    "import python_bitbankcc\n",
    "API_KEY = 'b01c351e-a1be-4a0d-b38d-3b7aed04a400'\n",
    "API_SECRET = 'af4139a526a5ec392e6cd5b5d7deda86773a4444b4eb1560ec9e8ad97efc6a84'\n",
    "\n",
    "prv = python_bitbankcc.private(API_KEY, API_SECRET)\n",
    "\n",
    "balances = prv.get_asset()\n",
    "for data in balances['assets']:\n",
    "\n",
    "    print('●通貨：' + data['asset'])\n",
    "    \n",
    "    print('保有量：' + data['onhand_amount'])    \n"
   ]
  },
  {
   "cell_type": "code",
   "execution_count": 2,
   "metadata": {},
   "outputs": [
    {
     "name": "stdout",
     "output_type": "stream",
     "text": [
      "{'sell': '31.489', 'buy': '31.477', 'high': '32.494', 'low': '30.027', 'last': '31.477', 'vol': '103992284.2709', 'timestamp': 1536488520999}\n",
      "sell:31.489\n",
      "buy:31.477\n",
      "high:32.494\n",
      "low:30.027\n"
     ]
    }
   ],
   "source": [
    "pub = python_bitbankcc.public()\n",
    "value = pub.get_ticker(\n",
    "    'xrp_jpy' # ペア\n",
    ")\n",
    "print(value)\n",
    "\n",
    "#現在の売り注文の最安値\n",
    "print('sell:' + value['sell'])\n",
    "\n",
    "#現在の買い注文の最高値\n",
    "print('buy:' + value['buy'])\n",
    "\n",
    "\n",
    "#過去24時間の最高値取引価格\n",
    "print('high:' + value['high'])\n",
    "\n",
    "\n",
    "#過去24時間の最安値取引価格\n",
    "print('low:' + value['low'])"
   ]
  },
  {
   "cell_type": "code",
   "execution_count": 17,
   "metadata": {},
   "outputs": [
    {
     "name": "stdout",
     "output_type": "stream",
     "text": [
      "The trade of btc_jpy is not activing\n",
      "The trade of xrp_jpy is not activing\n",
      "The trade of ltc_btc is not activing\n",
      "The trade of eth_btc is not activing\n",
      "The trade of mona_jpy is not activing\n",
      "The trade of mona_btc is not activing\n",
      "The trade of bcc_jpy is not activing\n",
      "The trade of bcc_btc is not activing\n"
     ]
    }
   ],
   "source": [
    "#現在の注文状況を確認する\n",
    "pair = ['btc_jpy', 'xrp_jpy', 'ltc_btc', 'eth_btc', 'mona_jpy', 'mona_btc', 'bcc_jpy', 'bcc_btc']\n",
    "\n",
    "for name in pair:\n",
    "    activeOrders = prv.get_active_orders(name)\n",
    "    flag = activeOrders.get('orders')\n",
    "    if len(flag) < 1:\n",
    "        print('The trade of {0} is not activing'.format(name))\n",
    "    else:\n",
    "        print(activeOrders)"
   ]
  },
  {
   "cell_type": "code",
   "execution_count": 18,
   "metadata": {},
   "outputs": [],
   "source": [
    "#注文処理\n",
    "def Order(orderInfo):\n",
    "    #Order\n",
    "    value = prv.order(\n",
    "        orderInfo[\"pair\"], # ペア\n",
    "        orderInfo[\"price\"], # 価格\n",
    "        orderInfo[\"amount\"], # 注文枚数\n",
    "        orderInfo[\"orderSide\"], # 注文サイド 売 or 買(buy or sell)\n",
    "        orderInfo[\"orderType\"] # 注文タイプ 指値 or 成行(limit or market))\n",
    "    )    \n",
    "    return value\n",
    "\n",
    "#注文データ\n",
    "buyOrderInfo = {\"pair\":\"xrp_jpy\",#ペア\n",
    "             \"amount\":20,#注文枚数\n",
    "             \"price\":31.2,#注文価格\n",
    "             \"orderSide\":\"buy\", #buy or sell\n",
    "             \"orderType\":\"limit\" #指値注文の場合はlimit\n",
    "             }\n",
    "sellOrderInfo = {\"pair\":\"xrp_jpy\",#ペア\n",
    "             \"amount\":10,#注文枚数\n",
    "             \"price\":31.7,#注文価格\n",
    "             \"orderSide\":\"sell\", #buy or sell\n",
    "             \"orderType\":\"limit\" #指値注文の場合はlimit\n",
    "             }\n",
    "#注文を行う\n",
    "buyInfo = Order(buyOrderInfo)\n",
    "#sellInfo = Order(sellOrderInfo)\n",
    "\n",
    "\n"
   ]
  },
  {
   "cell_type": "code",
   "execution_count": null,
   "metadata": {},
   "outputs": [],
   "source": []
  }
 ],
 "metadata": {
  "kernelspec": {
   "display_name": "Python 3",
   "language": "python",
   "name": "python3"
  },
  "language_info": {
   "codemirror_mode": {
    "name": "ipython",
    "version": 3
   },
   "file_extension": ".py",
   "mimetype": "text/x-python",
   "name": "python",
   "nbconvert_exporter": "python",
   "pygments_lexer": "ipython3",
   "version": "3.6.5"
  }
 },
 "nbformat": 4,
 "nbformat_minor": 2
}
