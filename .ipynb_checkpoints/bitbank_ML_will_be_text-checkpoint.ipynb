{
 "cells": [
  {
   "cell_type": "code",
   "execution_count": 1,
   "metadata": {},
   "outputs": [],
   "source": [
    "#python_bitbankccのパッケージをインポート\n",
    "#cloud9で起動するときのコマンド\n",
    "#jupyter notebook --ip $IP --port $PORT --no-browser\n",
    "import python_bitbankcc \n",
    "import datetime\n",
    "import os \n",
    "import time\n",
    "import numpy as np\n",
    "import pandas as pd\n",
    "import sys\n",
    "from dateutil.relativedelta import relativedelta"
   ]
  },
  {
   "cell_type": "code",
   "execution_count": 2,
   "metadata": {},
   "outputs": [],
   "source": [
    "#機械学習用のモジュール\n",
    "import matplotlib as mpl\n",
    "mpl.use('Agg')\n",
    "import matplotlib.pyplot as plt\n",
    "from sklearn import linear_model\n",
    "% matplotlib inline\n",
    "from __future__ import print_function\n",
    "import copy\n",
    "import matplotlib\n",
    "matplotlib.style.use('ggplot')\n",
    "\n",
    "from sklearn.linear_model import LinearRegression\n",
    "from sklearn.tree import DecisionTreeRegressor\n",
    "from sklearn.ensemble import RandomForestRegressor\n",
    "\n",
    "from sklearn.model_selection import GridSearchCV\n",
    "from sklearn.model_selection import train_test_split\n",
    "from sklearn.metrics import mean_squared_error"
   ]
  },
  {
   "cell_type": "code",
   "execution_count": 3,
   "metadata": {},
   "outputs": [],
   "source": [
    "# public API classのオブジェクトを取得\n",
    "pub = python_bitbankcc.public()"
   ]
  },
  {
   "cell_type": "code",
   "execution_count": 4,
   "metadata": {},
   "outputs": [],
   "source": [
    "#APIから基本データの取得、dataframeへ挿入\n",
    "def get_candle(trade_name,span,back_day):\n",
    "    # ロウソク足データを取得\n",
    "    pub = python_bitbankcc.public()\n",
    "    value = pub.get_candlestick( trade_name,span, back_day )\n",
    "    candle = value['candlestick'][0]\n",
    "    #print(candle['ohlcv'][0])\n",
    "    dataframe = pd.DataFrame(candle['ohlcv'],columns=[\"Open\", \"High\",\"Low\",\"Close\",\"Volume\",\"Timestamp\"])\n",
    "    return dataframe\n"
   ]
  },
  {
   "cell_type": "code",
   "execution_count": 5,
   "metadata": {},
   "outputs": [],
   "source": [
    "#指定した日から今日までの基本データをdataframeにして取得\n",
    "#back_day,todayはdatetime\n",
    "# span = ['1min', '5min', '15min', '30min', '1hour', '4hour', '8hour', '12hour', '1day', '1week']\n",
    "#trade_name = ['btc_jpy', 'xrp_jpy', 'ltc_btc', 'eth_btc', 'mona_jpy', 'mona_btc', 'bcc_jpy', 'bcc_btc']\n",
    "\n",
    "def make_df(trade_name,span,back_day,today):\n",
    "    i = 1\n",
    "    if (span =='1min')or(span== '5min')or(span== '15min')or(span== '30min')or(span== '1hour'):\n",
    "        #基準が９時なので、そこを合わせてあげる\n",
    "        if 0 <= today.hour < 9:\n",
    "            k = 1\n",
    "        elif 9 <= today.hour <= 23:\n",
    "            k = 0\n",
    "\n",
    "        while back_day <= today - datetime.timedelta(days=k):\n",
    "            if i == 1:\n",
    "                df1 = get_candle(trade_name,span,datetime.datetime.strftime(back_day, '%Y%m%d'))\n",
    "                back_day = back_day + datetime.timedelta(days=1)\n",
    "                #print(back_day,len(df1))\n",
    "                i += 1\n",
    "            else:\n",
    "                df2 = get_candle(trade_name,span,datetime.datetime.strftime(back_day, '%Y%m%d'))\n",
    "                df1 = pd.concat([df1, df2])\n",
    "                back_day = back_day + datetime.timedelta(days=1)\n",
    "                #print(back_day,len(df1))\n",
    "                i += 1\n",
    "    else:\n",
    "        \n",
    "        today = datetime.date(today.year, today.month, today.day)\n",
    "        back_day = datetime.date(back_day.year, back_day.month, back_day.day)\n",
    "\n",
    "\n",
    "        while back_day <= today:\n",
    "            if i == 1:\n",
    "                df1 = get_candle(trade_name,span,datetime.datetime.strftime(back_day, '%Y'))\n",
    "                back_day = back_day + relativedelta(years=1)\n",
    "                i += 1\n",
    "            else:\n",
    "                df2 = get_candle(trade_name,span,datetime.datetime.strftime(back_day, '%Y'))\n",
    "                df1 = pd.concat([df1, df2])\n",
    "                back_day = back_day +  relativedelta(years=1)\n",
    "                i += 1\n",
    "            \n",
    "\n",
    "    return df1\n",
    "\n"
   ]
  },
  {
   "cell_type": "code",
   "execution_count": 6,
   "metadata": {},
   "outputs": [],
   "source": [
    "def read_date(x):\n",
    "    return datetime.datetime.fromtimestamp(x/1000)\n"
   ]
  },
  {
   "cell_type": "code",
   "execution_count": 7,
   "metadata": {},
   "outputs": [],
   "source": [
    "\n",
    "# 単純移動平均（SMA）を取得する関数\n",
    "#上記のdfデータフレーム\n",
    "#numいくつの平均を求めるか\n",
    "def getMA( df,num ):\n",
    " \n",
    "    tmp = []\n",
    "    avg = np.array([])\n",
    "    for i in range(len(df) - num + 1):\n",
    "        for j in range(num):\n",
    "            #print(df['Close'][i+j])\n",
    "            tmp.append( df['Close'][i+j])\n",
    "            \n",
    "         # 平均値計算\n",
    "        value = np.average(tmp)\n",
    "        avg = np.append(avg,value)\n",
    "        tmp = []\n",
    "    \n",
    "    return avg"
   ]
  },
  {
   "cell_type": "code",
   "execution_count": 8,
   "metadata": {},
   "outputs": [],
   "source": [
    "def getSTD( df,num ):\n",
    " \n",
    "    tmp = []\n",
    "    std = np.array([])\n",
    "    for i in range(len(df) - num + 1):\n",
    "        for j in range(num):\n",
    "            #print(df['Close'][i+j])\n",
    "            tmp.append( df['Close'][i+j])\n",
    "            \n",
    "         # 平均値計算\n",
    "        value = np.std(tmp)\n",
    "        std = np.append(std,value)\n",
    "        tmp = []\n",
    "    \n",
    "    return std"
   ]
  },
  {
   "cell_type": "code",
   "execution_count": 9,
   "metadata": {},
   "outputs": [],
   "source": [
    "#正解かどうかを可視化する ゴールデン・デッドクロス判定\n",
    "def golden_dead(data_df1):\n",
    "    golden=np.zeros(len(data_df1['Cross']),dtype=int)\n",
    "    dead=np.zeros(len(data_df1['Cross']),dtype=int)\n",
    "    for i in range(len(data_df1['Cross'])-1):\n",
    "        x = data_df1['Cross'][i]\n",
    "        y = data_df1['Cross'][i+1]\n",
    "        if ((x <= 0) & (y<=0)) |((x >= 0) & (y>=0)):\n",
    "            pass\n",
    "        elif ((x <= 0) & (y>=0)) :\n",
    "            golden=np.insert(golden,i+1,1)\n",
    "            golden=np.delete(golden,i+2)\n",
    "        elif ((x >= 0) & (y<=0)) :\n",
    "            dead=np.insert(dead,i+1,1)\n",
    "            dead=np.delete(dead,i+2)\n",
    "\n",
    "    return golden,dead\n",
    "    "
   ]
  },
  {
   "cell_type": "code",
   "execution_count": 10,
   "metadata": {},
   "outputs": [],
   "source": [
    "#関数の使い方\n",
    "today = datetime.datetime.today() \n",
    "back_day = today - datetime.timedelta(days=200)\n",
    "trade_name = 'xrp_jpy'\n",
    "span = '1hour'\n",
    "num = 5"
   ]
  },
  {
   "cell_type": "code",
   "execution_count": 11,
   "metadata": {},
   "outputs": [
    {
     "name": "stdout",
     "output_type": "stream",
     "text": [
      "      index    Open    High     Low   Close        Volume           Timestamp\n",
      "0       0.0  53.065  54.700  53.000  54.400  3.840467e+06 2018-03-31 09:00:00\n",
      "1       1.0  54.332  55.802  53.812  55.704  4.568674e+06 2018-03-31 10:00:00\n",
      "2       2.0  55.704  56.200  54.650  55.402  6.129927e+06 2018-03-31 11:00:00\n",
      "3       3.0  55.402  55.498  54.136  54.221  2.934375e+06 2018-03-31 12:00:00\n",
      "4       4.0  54.221  55.350  54.130  54.900  2.495468e+06 2018-03-31 13:00:00\n",
      "5       5.0  54.840  55.005  53.600  53.750  2.507258e+06 2018-03-31 14:00:00\n",
      "6       6.0  53.786  54.200  53.100  53.200  2.625376e+06 2018-03-31 15:00:00\n",
      "7       7.0  53.102  53.742  53.100  53.350  1.513584e+06 2018-03-31 16:00:00\n",
      "8       8.0  53.350  54.200  53.350  53.628  2.148779e+06 2018-03-31 17:00:00\n",
      "9       9.0  53.601  54.200  53.200  54.022  2.086983e+06 2018-03-31 18:00:00\n",
      "10     10.0  54.100  54.988  53.850  54.451  4.349989e+06 2018-03-31 19:00:00\n",
      "11     11.0  54.451  54.960  54.200  54.413  3.083111e+06 2018-03-31 20:00:00\n",
      "12     12.0  54.416  55.352  54.300  55.000  4.182180e+06 2018-03-31 21:00:00\n",
      "13     13.0  55.000  55.014  54.105  54.150  3.324288e+06 2018-03-31 22:00:00\n",
      "14     14.0  54.151  54.400  53.720  54.260  3.346216e+06 2018-03-31 23:00:00\n",
      "15     15.0  54.301  54.800  54.154  54.500  1.435987e+06 2018-04-01 00:00:00\n",
      "16     16.0  54.501  55.188  54.500  55.150  1.592191e+06 2018-04-01 01:00:00\n",
      "17     17.0  55.149  55.312  54.570  54.900  1.648864e+06 2018-04-01 02:00:00\n",
      "18     18.0  54.894  55.200  54.513  54.532  6.972378e+05 2018-04-01 03:00:00\n",
      "19     19.0  54.530  54.653  54.299  54.482  7.377899e+05 2018-04-01 04:00:00\n",
      "20     20.0  54.530  54.549  53.722  53.800  8.742821e+05 2018-04-01 05:00:00\n",
      "21     21.0  53.874  54.600  53.600  54.079  8.138185e+05 2018-04-01 06:00:00\n",
      "22     22.0  54.079  54.210  53.700  54.051  6.386875e+05 2018-04-01 07:00:00\n",
      "23     23.0  54.111  54.150  53.400  53.890  9.780470e+05 2018-04-01 08:00:00\n",
      "24      0.0  53.889  54.350  53.889  54.040  9.168695e+05 2018-04-01 09:00:00\n",
      "25      1.0  54.001  54.350  54.000  54.161  4.092572e+05 2018-04-01 10:00:00\n",
      "26      2.0  54.161  54.161  53.541  53.723  1.239711e+06 2018-04-01 11:00:00\n",
      "27      3.0  53.724  53.867  53.500  53.501  8.907508e+05 2018-04-01 12:00:00\n",
      "28      4.0  53.501  53.891  53.500  53.581  6.548366e+05 2018-04-01 13:00:00\n",
      "29      5.0  53.658  53.800  53.480  53.540  4.749215e+05 2018-04-01 14:00:00\n",
      "...     ...     ...     ...     ...     ...           ...                 ...\n",
      "4777    1.0  49.031  49.459  48.950  49.040  6.399702e+06 2018-10-16 10:00:00\n",
      "4778    2.0  49.040  49.347  48.821  49.328  5.016520e+06 2018-10-16 11:00:00\n",
      "4779    3.0  49.327  49.350  48.990  49.049  4.420512e+06 2018-10-16 12:00:00\n",
      "4780    4.0  49.049  49.291  48.998  49.199  2.975738e+06 2018-10-16 13:00:00\n",
      "4781    5.0  49.199  51.658  49.152  50.798  2.011423e+07 2018-10-16 14:00:00\n",
      "4782    6.0  50.755  51.400  50.158  50.282  1.752328e+07 2018-10-16 15:00:00\n",
      "4783    7.0  50.263  50.650  50.137  50.363  7.370631e+06 2018-10-16 16:00:00\n",
      "4784    8.0  50.370  50.402  49.410  49.977  1.489373e+07 2018-10-16 17:00:00\n",
      "4785    9.0  49.960  50.300  49.800  49.998  7.167726e+06 2018-10-16 18:00:00\n",
      "4786   10.0  49.974  50.500  49.953  50.427  7.414253e+06 2018-10-16 19:00:00\n",
      "4787   11.0  50.429  50.600  50.180  50.468  9.959621e+06 2018-10-16 20:00:00\n",
      "4788   12.0  50.455  50.499  49.904  50.150  9.278651e+06 2018-10-16 21:00:00\n",
      "4789   13.0  50.150  50.570  50.100  50.250  1.023516e+07 2018-10-16 22:00:00\n",
      "4790   14.0  50.231  50.477  50.000  50.139  6.206553e+06 2018-10-16 23:00:00\n",
      "4791   15.0  50.139  50.390  50.134  50.286  4.070499e+06 2018-10-17 00:00:00\n",
      "4792   16.0  50.293  50.320  50.000  50.242  3.447365e+06 2018-10-17 01:00:00\n",
      "4793   17.0  50.242  51.000  50.151  50.700  6.634672e+06 2018-10-17 02:00:00\n",
      "4794   18.0  50.698  51.215  50.685  50.915  3.996236e+06 2018-10-17 03:00:00\n",
      "4795   19.0  50.915  51.200  50.691  51.080  2.760004e+06 2018-10-17 04:00:00\n",
      "4796   20.0  51.085  52.000  51.082  51.798  9.421807e+06 2018-10-17 05:00:00\n",
      "4797   21.0  51.798  52.200  51.401  51.950  8.445546e+06 2018-10-17 06:00:00\n",
      "4798   22.0  51.950  52.201  51.551  51.882  8.735511e+06 2018-10-17 07:00:00\n",
      "4799   23.0  51.898  52.800  51.771  52.427  1.268276e+07 2018-10-17 08:00:00\n",
      "4800    0.0  52.501  52.501  51.800  52.050  9.794627e+06 2018-10-17 09:00:00\n",
      "4801    1.0  52.062  52.352  51.820  51.845  6.755216e+06 2018-10-17 10:00:00\n",
      "4802    2.0  51.845  51.893  51.429  51.595  7.347193e+06 2018-10-17 11:00:00\n",
      "4803    3.0  51.579  52.160  51.569  51.932  7.300044e+06 2018-10-17 12:00:00\n",
      "4804    4.0  51.938  52.345  51.825  52.282  6.028683e+06 2018-10-17 13:00:00\n",
      "4805    5.0  52.280  53.197  52.272  52.498  2.030274e+07 2018-10-17 14:00:00\n",
      "4806    6.0  52.497  52.747  52.250  52.330  5.395514e+06 2018-10-17 15:00:00\n",
      "\n",
      "[4807 rows x 7 columns]\n"
     ]
    }
   ],
   "source": [
    "#基本データの取得\n",
    "old = time.time()\n",
    "data_df1 =  make_df(trade_name,span,back_day,today)\n",
    "data_df1['Timestamp'] = data_df1['Timestamp'].apply(read_date)\n",
    "#indexの割り振り\n",
    "data_df1 = data_df1.reset_index()\n",
    "#df1の値は全てstrなのでTimestamp以外floatにキャストする\n",
    "#Timestampは文字列のままでいいので削除することを指定\n",
    "execlude = ['Timestamp']\n",
    "cast = [col for col in data_df1.columns if col not in execlude]\n",
    "for item in cast:\n",
    "    data_df1 = data_df1.astype({item: float})\n",
    "print(data_df1)"
   ]
  },
  {
   "cell_type": "code",
   "execution_count": 12,
   "metadata": {},
   "outputs": [
    {
     "name": "stdout",
     "output_type": "stream",
     "text": [
      "[ 0.       0.       0.      ... 50.9214  51.05336 51.11464] [ 0.      0.      0.     ... 51.9408 52.0304 52.1274]\n",
      "(4807,) <class 'numpy.ndarray'> (4807,) <class 'numpy.ndarray'>\n"
     ]
    }
   ],
   "source": [
    "#移動平均線np\n",
    "MA5 = getMA( data_df1,num)\n",
    "MA25 = getMA( data_df1,num+20)\n",
    "zero5 = np.zeros(num-1,dtype = float )\n",
    "zero25 = np.zeros(num+20-1,dtype = float )\n",
    "MA5 = np.insert(MA5, 0, zero5)\n",
    "MA25 = np.insert(MA25, 0, zero25)\n",
    "print(MA25,MA5)\n",
    "print(MA25.shape,type(MA25),MA5.shape,type(MA5))"
   ]
  },
  {
   "cell_type": "code",
   "execution_count": 13,
   "metadata": {},
   "outputs": [
    {
     "name": "stdout",
     "output_type": "stream",
     "text": [
      "[0.         0.         0.         ... 0.22679277 0.32111717 0.32370456] (4807,) <class 'numpy.ndarray'>\n"
     ]
    }
   ],
   "source": [
    "#標準偏差計算\n",
    "STD5 = getSTD( data_df1,num)\n",
    "zero5 = np.zeros(num-1,dtype = float )\n",
    "STD5 = np.insert(STD5, 0, zero5)\n",
    "print(STD5,STD5.shape,type(STD5))"
   ]
  },
  {
   "cell_type": "code",
   "execution_count": 14,
   "metadata": {},
   "outputs": [],
   "source": [
    "#自作変数を作成する\n",
    "data_df1['High-Low']=data_df1['High']-data_df1['Low']\n",
    "data_df1['Close-Open']=data_df1['Close']-data_df1['Open']\n",
    "data_df1['Similarity'] = data_df1['Close-Open'] / (data_df1['High-Low'] + 0.000001)\n",
    "data_df1['(High-Low)*Volume '] = data_df1['High-Low']*data_df1['Volume']\n",
    "data_df1['(Close-Open)*Volume '] = data_df1['Close-Open']*data_df1['Volume']\n",
    "data_df1['High-Low']\n",
    "data_df1['MA5'] = MA5\n",
    "data_df1['MA25'] = MA25\n",
    "data_df1['Cross'] = MA5 - MA25\n",
    "data_df1['bbd_p1']= MA5 + (STD5 * 1)\n",
    "data_df1['bbd_p2']= MA5 + (STD5 * 2)\n",
    "data_df1['bbd_p3']= MA5 + (STD5 * 3)\n",
    "data_df1['bbd_m1']= MA5 - (STD5 * 1)\n",
    "data_df1['bbd_m2']= MA5 - (STD5 * 2)\n",
    "data_df1['bbd_m3']= MA5 - (STD5 * 3)"
   ]
  },
  {
   "cell_type": "code",
   "execution_count": 15,
   "metadata": {},
   "outputs": [],
   "source": [
    "data_df1['golden'],data_df1['dead']  = golden_dead(data_df1)"
   ]
  },
  {
   "cell_type": "code",
   "execution_count": 16,
   "metadata": {},
   "outputs": [
    {
     "name": "stdout",
     "output_type": "stream",
     "text": [
      "47.64020872116089\n"
     ]
    },
    {
     "data": {
      "text/html": [
       "<div>\n",
       "<style scoped>\n",
       "    .dataframe tbody tr th:only-of-type {\n",
       "        vertical-align: middle;\n",
       "    }\n",
       "\n",
       "    .dataframe tbody tr th {\n",
       "        vertical-align: top;\n",
       "    }\n",
       "\n",
       "    .dataframe thead th {\n",
       "        text-align: right;\n",
       "    }\n",
       "</style>\n",
       "<table border=\"1\" class=\"dataframe\">\n",
       "  <thead>\n",
       "    <tr style=\"text-align: right;\">\n",
       "      <th></th>\n",
       "      <th>index</th>\n",
       "      <th>Open</th>\n",
       "      <th>High</th>\n",
       "      <th>Low</th>\n",
       "      <th>Close</th>\n",
       "      <th>Volume</th>\n",
       "      <th>Timestamp</th>\n",
       "      <th>High-Low</th>\n",
       "      <th>Close-Open</th>\n",
       "      <th>Similarity</th>\n",
       "      <th>...</th>\n",
       "      <th>MA25</th>\n",
       "      <th>Cross</th>\n",
       "      <th>bbd_p1</th>\n",
       "      <th>bbd_p2</th>\n",
       "      <th>bbd_p3</th>\n",
       "      <th>bbd_m1</th>\n",
       "      <th>bbd_m2</th>\n",
       "      <th>bbd_m3</th>\n",
       "      <th>golden</th>\n",
       "      <th>dead</th>\n",
       "    </tr>\n",
       "  </thead>\n",
       "  <tbody>\n",
       "    <tr>\n",
       "      <th>4802</th>\n",
       "      <td>2.0</td>\n",
       "      <td>51.845</td>\n",
       "      <td>51.893</td>\n",
       "      <td>51.429</td>\n",
       "      <td>51.595</td>\n",
       "      <td>7.347193e+06</td>\n",
       "      <td>2018-10-17 11:00:00</td>\n",
       "      <td>0.464</td>\n",
       "      <td>-0.250</td>\n",
       "      <td>-0.538792</td>\n",
       "      <td>...</td>\n",
       "      <td>50.68792</td>\n",
       "      <td>1.27188</td>\n",
       "      <td>52.235017</td>\n",
       "      <td>52.510235</td>\n",
       "      <td>52.785452</td>\n",
       "      <td>51.684583</td>\n",
       "      <td>51.409365</td>\n",
       "      <td>51.134148</td>\n",
       "      <td>0</td>\n",
       "      <td>0</td>\n",
       "    </tr>\n",
       "    <tr>\n",
       "      <th>4803</th>\n",
       "      <td>3.0</td>\n",
       "      <td>51.579</td>\n",
       "      <td>52.160</td>\n",
       "      <td>51.569</td>\n",
       "      <td>51.932</td>\n",
       "      <td>7.300044e+06</td>\n",
       "      <td>2018-10-17 12:00:00</td>\n",
       "      <td>0.591</td>\n",
       "      <td>0.353</td>\n",
       "      <td>0.597292</td>\n",
       "      <td>...</td>\n",
       "      <td>50.79208</td>\n",
       "      <td>1.17772</td>\n",
       "      <td>52.242909</td>\n",
       "      <td>52.516018</td>\n",
       "      <td>52.789127</td>\n",
       "      <td>51.696691</td>\n",
       "      <td>51.423582</td>\n",
       "      <td>51.150473</td>\n",
       "      <td>0</td>\n",
       "      <td>0</td>\n",
       "    </tr>\n",
       "    <tr>\n",
       "      <th>4804</th>\n",
       "      <td>4.0</td>\n",
       "      <td>51.938</td>\n",
       "      <td>52.345</td>\n",
       "      <td>51.825</td>\n",
       "      <td>52.282</td>\n",
       "      <td>6.028683e+06</td>\n",
       "      <td>2018-10-17 13:00:00</td>\n",
       "      <td>0.520</td>\n",
       "      <td>0.344</td>\n",
       "      <td>0.661537</td>\n",
       "      <td>...</td>\n",
       "      <td>50.92140</td>\n",
       "      <td>1.01940</td>\n",
       "      <td>52.167593</td>\n",
       "      <td>52.394386</td>\n",
       "      <td>52.621178</td>\n",
       "      <td>51.714007</td>\n",
       "      <td>51.487214</td>\n",
       "      <td>51.260422</td>\n",
       "      <td>0</td>\n",
       "      <td>0</td>\n",
       "    </tr>\n",
       "    <tr>\n",
       "      <th>4805</th>\n",
       "      <td>5.0</td>\n",
       "      <td>52.280</td>\n",
       "      <td>53.197</td>\n",
       "      <td>52.272</td>\n",
       "      <td>52.498</td>\n",
       "      <td>2.030274e+07</td>\n",
       "      <td>2018-10-17 14:00:00</td>\n",
       "      <td>0.925</td>\n",
       "      <td>0.218</td>\n",
       "      <td>0.235675</td>\n",
       "      <td>...</td>\n",
       "      <td>51.05336</td>\n",
       "      <td>0.97704</td>\n",
       "      <td>52.351517</td>\n",
       "      <td>52.672634</td>\n",
       "      <td>52.993752</td>\n",
       "      <td>51.709283</td>\n",
       "      <td>51.388166</td>\n",
       "      <td>51.067048</td>\n",
       "      <td>0</td>\n",
       "      <td>0</td>\n",
       "    </tr>\n",
       "    <tr>\n",
       "      <th>4806</th>\n",
       "      <td>6.0</td>\n",
       "      <td>52.497</td>\n",
       "      <td>52.747</td>\n",
       "      <td>52.250</td>\n",
       "      <td>52.330</td>\n",
       "      <td>5.395514e+06</td>\n",
       "      <td>2018-10-17 15:00:00</td>\n",
       "      <td>0.497</td>\n",
       "      <td>-0.167</td>\n",
       "      <td>-0.336015</td>\n",
       "      <td>...</td>\n",
       "      <td>51.11464</td>\n",
       "      <td>1.01276</td>\n",
       "      <td>52.451105</td>\n",
       "      <td>52.774809</td>\n",
       "      <td>53.098514</td>\n",
       "      <td>51.803695</td>\n",
       "      <td>51.479991</td>\n",
       "      <td>51.156286</td>\n",
       "      <td>0</td>\n",
       "      <td>0</td>\n",
       "    </tr>\n",
       "  </tbody>\n",
       "</table>\n",
       "<p>5 rows × 23 columns</p>\n",
       "</div>"
      ],
      "text/plain": [
       "      index    Open    High     Low   Close        Volume           Timestamp  \\\n",
       "4802    2.0  51.845  51.893  51.429  51.595  7.347193e+06 2018-10-17 11:00:00   \n",
       "4803    3.0  51.579  52.160  51.569  51.932  7.300044e+06 2018-10-17 12:00:00   \n",
       "4804    4.0  51.938  52.345  51.825  52.282  6.028683e+06 2018-10-17 13:00:00   \n",
       "4805    5.0  52.280  53.197  52.272  52.498  2.030274e+07 2018-10-17 14:00:00   \n",
       "4806    6.0  52.497  52.747  52.250  52.330  5.395514e+06 2018-10-17 15:00:00   \n",
       "\n",
       "      High-Low  Close-Open  Similarity  ...       MA25    Cross     bbd_p1  \\\n",
       "4802     0.464      -0.250   -0.538792  ...   50.68792  1.27188  52.235017   \n",
       "4803     0.591       0.353    0.597292  ...   50.79208  1.17772  52.242909   \n",
       "4804     0.520       0.344    0.661537  ...   50.92140  1.01940  52.167593   \n",
       "4805     0.925       0.218    0.235675  ...   51.05336  0.97704  52.351517   \n",
       "4806     0.497      -0.167   -0.336015  ...   51.11464  1.01276  52.451105   \n",
       "\n",
       "         bbd_p2     bbd_p3     bbd_m1     bbd_m2     bbd_m3  golden  dead  \n",
       "4802  52.510235  52.785452  51.684583  51.409365  51.134148       0     0  \n",
       "4803  52.516018  52.789127  51.696691  51.423582  51.150473       0     0  \n",
       "4804  52.394386  52.621178  51.714007  51.487214  51.260422       0     0  \n",
       "4805  52.672634  52.993752  51.709283  51.388166  51.067048       0     0  \n",
       "4806  52.774809  53.098514  51.803695  51.479991  51.156286       0     0  \n",
       "\n",
       "[5 rows x 23 columns]"
      ]
     },
     "execution_count": 16,
     "metadata": {},
     "output_type": "execute_result"
    }
   ],
   "source": [
    "#data作成までの時間\n",
    "print(time.time()-old)\n",
    "#作成変数の表示\n",
    "data_df1.loc[len(data_df1)-5:]"
   ]
  },
  {
   "cell_type": "code",
   "execution_count": 17,
   "metadata": {},
   "outputs": [],
   "source": [
    "data_df1[['Close', 'bbd_p2', 'bbd_m2', 'MA5']][len(data_df1)-20:].plot()\n",
    "plt.title('Bollinger Band')\n",
    "plt.ylabel('XRP_JPY')\n",
    "n4='Bollinger Band.png'\n",
    "plt.savefig(n4)\n",
    "plt.close()\n",
    "plt.show()"
   ]
  },
  {
   "cell_type": "code",
   "execution_count": null,
   "metadata": {},
   "outputs": [],
   "source": []
  },
  {
   "cell_type": "code",
   "execution_count": 18,
   "metadata": {},
   "outputs": [
    {
     "name": "stdout",
     "output_type": "stream",
     "text": [
      "['Open', 'High', 'Low', 'Close', 'Volume', 'High-Low', 'Close-Open', 'Similarity', '(High-Low)*Volume ', '(Close-Open)*Volume ', 'MA5', 'MA25', 'Cross', 'bbd_p1', 'bbd_p2', 'bbd_p3', 'bbd_m1', 'bbd_m2', 'bbd_m3', 'golden', 'dead']\n",
      "(4807, 21)\n"
     ]
    }
   ],
   "source": [
    "#次のCloseを予測する機械学習\n",
    "#使わない変数を除外\n",
    "exe_cols = ['index','Timestamp']\n",
    "feature_cols = [col for col in data_df1.columns if col not in exe_cols]\n",
    "print(feature_cols)\n",
    "#機械学習用にnp配列に変換\n",
    "data_np= np.array(data_df1[feature_cols])\n",
    "print(data_np.shape)"
   ]
  },
  {
   "cell_type": "code",
   "execution_count": 19,
   "metadata": {},
   "outputs": [
    {
     "name": "stdout",
     "output_type": "stream",
     "text": [
      "[55.704 55.402 54.221 ... 52.282 52.498 52.33 ] (4806,)\n",
      "[[53.065      54.7        53.         ...  0.          0.\n",
      "   0.        ]\n",
      " [54.332      55.802      53.812      ...  0.          0.\n",
      "   0.        ]\n",
      " [55.704      56.2        54.65       ...  0.          0.\n",
      "   0.        ]\n",
      " ...\n",
      " [51.579      52.16       51.569      ... 51.15047281  0.\n",
      "   0.        ]\n",
      " [51.938      52.345      51.825      ... 51.26042169  0.\n",
      "   0.        ]\n",
      " [52.28       53.197      52.272      ... 51.06704848  0.\n",
      "   0.        ]] (4806, 21)\n"
     ]
    }
   ],
   "source": [
    "Y = np.array(data_df1['Close'])#1次元\n",
    "Y = np.delete(Y,0)\n",
    "print(Y,Y.shape)\n",
    "X = data_np[:len(Y),0:]\n",
    "print(X[:],X.shape)"
   ]
  },
  {
   "cell_type": "code",
   "execution_count": 20,
   "metadata": {},
   "outputs": [
    {
     "name": "stdout",
     "output_type": "stream",
     "text": [
      "4781\n"
     ]
    }
   ],
   "source": [
    "# 学習では、29/30を使うものとします。これは情報の偏りを防ぐためのものであり、全体でも構いません\n",
    "L = int(len(X)//(200/199))\n",
    "print(L)\n",
    "train_x = X[10:L,:]\n",
    "train_y = Y[10:L]"
   ]
  },
  {
   "cell_type": "code",
   "execution_count": 21,
   "metadata": {},
   "outputs": [],
   "source": [
    "# 残りの全てをテストデータとします\n",
    "test_x = X[L:len(X),:]\n",
    "test_y = Y[L:len(Y)]"
   ]
  },
  {
   "cell_type": "code",
   "execution_count": 22,
   "metadata": {},
   "outputs": [
    {
     "name": "stdout",
     "output_type": "stream",
     "text": [
      "LinearRegression MSE 0.09073685832472485\n"
     ]
    }
   ],
   "source": [
    "# LinearRegression を使用して線形回帰モデルで学習させよう。\n",
    "model = linear_model.LinearRegression(normalize=True)\n",
    "model.fit(train_x,train_y)\n",
    "# pred_y に対して、テストデータを使用して学習結果を代入\n",
    "pred_y = model.predict(test_x)\n",
    "lm_mse = mean_squared_error(test_y,pred_y)\n",
    "print('LinearRegression MSE',lm_mse)"
   ]
  },
  {
   "cell_type": "code",
   "execution_count": 23,
   "metadata": {},
   "outputs": [
    {
     "name": "stdout",
     "output_type": "stream",
     "text": [
      " DecisionTreeRegressor MSE: 0.21372019999999953\n"
     ]
    }
   ],
   "source": [
    "#決定木を実行し、MSEを算出\n",
    "dtr = DecisionTreeRegressor()\n",
    "dtr.fit(train_x,train_y)\n",
    "dtr_y_pred2 = dtr.predict(test_x)\n",
    "dtr_mse = mean_squared_error(test_y,dtr_y_pred2)\n",
    "print(' DecisionTreeRegressor MSE:',dtr_mse)"
   ]
  },
  {
   "cell_type": "code",
   "execution_count": 24,
   "metadata": {},
   "outputs": [
    {
     "name": "stdout",
     "output_type": "stream",
     "text": [
      " RandomForestRegressor MSE: 0.15094442360000135\n",
      "     pred_y  test_y     RMS\n",
      "0   50.3437  50.282 -0.0617\n",
      "1   50.5569  50.363 -0.1939\n",
      "2   50.6494  49.977 -0.6724\n",
      "3   50.0507  49.998 -0.0527\n",
      "4   49.9533  50.427  0.4737\n",
      "5   50.4296  50.468  0.0384\n",
      "6   50.4405  50.150 -0.2905\n",
      "7   50.1168  50.250  0.1332\n",
      "8   50.2512  50.139 -0.1122\n",
      "9   49.9948  50.286  0.2912\n",
      "10  50.2634  50.242 -0.0214\n",
      "11  50.1772  50.700  0.5228\n",
      "12  50.5595  50.915  0.3555\n",
      "13  50.9236  51.080  0.1564\n",
      "14  50.9207  51.798  0.8773\n",
      "15  51.6602  51.950  0.2898\n",
      "16  51.9727  51.882 -0.0907\n",
      "17  51.6732  52.427  0.7538\n",
      "18  52.6170  52.050 -0.5670\n",
      "19  52.1522  51.845 -0.3072\n",
      "20  51.8493  51.595 -0.2543\n",
      "21  51.3431  51.932  0.5889\n",
      "22  52.0774  52.282  0.2046\n",
      "23  52.2229  52.498  0.2751\n",
      "24  52.5588  52.330 -0.2288\n"
     ]
    }
   ],
   "source": [
    "# ランダムフォレストを実行し、MSEを算出\n",
    "rf = RandomForestRegressor()\n",
    "rf.fit(train_x,train_y)\n",
    "rf_y_pred2 = rf.predict(test_x)\n",
    "rf_mse = mean_squared_error(test_y,rf_y_pred2)\n",
    "print(' RandomForestRegressor MSE:',rf_mse)\n",
    "pred_y = rf_y_pred2\n",
    "# 予測結果を出力します\n",
    "result = pd.DataFrame(pred_y)\n",
    "result.columns = ['pred_y']\n",
    "result['test_y'] = test_y\n",
    "#２乗平均誤差ではなく、ただの差\n",
    "result['RMS'] = (result['test_y']-result['pred_y'])#*(result['test_y']-result['pred_y'])\n",
    "print(result.loc[:])"
   ]
  },
  {
   "cell_type": "code",
   "execution_count": 25,
   "metadata": {},
   "outputs": [],
   "source": [
    "# 変数増加法を実行する関数\n",
    "def get_gfs_feature_indices(X, y, features, clf):\n",
    "    X_train_, X_test_, y_train_, y_test_ = \\\n",
    "        train_test_split(X, y, test_size=0.3, shuffle=False)\n",
    "    feature_indices = {feature: idx for idx, feature in enumerate(features)}\n",
    "    features = set(features)\n",
    "    last_mse = np.inf\n",
    "    chosen_features = set()\n",
    "    while len(chosen_features) < len(features):\n",
    "        mse_features = []\n",
    "        for feature in (features - chosen_features):\n",
    "            candidates = chosen_features.union(set([feature]))\n",
    "            indices = [feature_indices[feature] for feature in candidates]\n",
    "            clf.fit(X_train_[:, indices], y_train_)\n",
    "            y_pred = clf.predict(X_test_[:, indices])\n",
    "            mse = mean_squared_error(y_test_, y_pred)\n",
    "            mse_features += [(mse, feature)]\n",
    "        mse, feature = min(mse_features)\n",
    "        if mse >= last_mse:\n",
    "            break\n",
    "        last_mse = mse\n",
    "        print('Newly Added Feature: {},\\tMSE Score: {}'.format(feature, mse))\n",
    "        chosen_features.add(feature)\n",
    "    return [feature_indices[feature] for feature in chosen_features]"
   ]
  },
  {
   "cell_type": "code",
   "execution_count": 26,
   "metadata": {},
   "outputs": [
    {
     "name": "stdout",
     "output_type": "stream",
     "text": [
      "['a', 'b', 'c', 'd', 'e', 'f', 'g', 'h', 'i', 'j', 'k', 'l', 'm'] 13\n",
      "Newly Added Feature: d,\tMSE Score: 0.7382765596299639\n",
      "Newly Added Feature: k,\tMSE Score: 0.7343757592455821\n",
      "Newly Added Feature: h,\tMSE Score: 0.7329322504359049\n",
      "Newly Added Feature: m,\tMSE Score: 0.7326109128007104\n",
      "Newly Added Feature: i,\tMSE Score: 0.732544962297537\n",
      "Newly Added Feature: b,\tMSE Score: 0.7324974626692677\n",
      "Newly Added Feature: l,\tMSE Score: 0.7324974626615219\n",
      "[10, 3, 7, 8, 12, 1, 11]\n",
      "Newly Added Feature: d,\tMSE Score: 1.2698282475011644\n",
      "[3]\n",
      "Newly Added Feature: d,\tMSE Score: 0.9899024312677054\n",
      "Newly Added Feature: j,\tMSE Score: 0.9231550032908529\n",
      "[3, 9]\n"
     ]
    }
   ],
   "source": [
    "# 上記関数を使用して変数増加法を実行し、MSEを算出\n",
    "#feature_cols = list('abcdefghij')\n",
    "feature_cols = list('abcdefghijklm')\n",
    "print(feature_cols,len(feature_cols))\n",
    "\n",
    "selected_feature_index_by_LinearRegression = get_gfs_feature_indices(X=train_x,y=train_y,features=feature_cols,clf=LinearRegression())\n",
    "print(selected_feature_index_by_LinearRegression)\n",
    "selected_feature_index_by_DecisionTreeRegressor = get_gfs_feature_indices(X=train_x,y=train_y,features=feature_cols,clf=DecisionTreeRegressor())\n",
    "print(selected_feature_index_by_DecisionTreeRegressor)\n",
    "selected_feature_index_by_RandomForestRegressor = get_gfs_feature_indices(X=train_x,y=train_y,features=feature_cols,clf= RandomForestRegressor())\n",
    "print(selected_feature_index_by_RandomForestRegressor)"
   ]
  },
  {
   "cell_type": "code",
   "execution_count": 27,
   "metadata": {},
   "outputs": [
    {
     "name": "stdout",
     "output_type": "stream",
     "text": [
      "[10, 3, 7, 8, 12, 1, 11]\n",
      "LinearRegression MSE:  0.09482096758340303\n"
     ]
    }
   ],
   "source": [
    "#線形回帰　特徴量選択済\n",
    "lr = linear_model.LinearRegression(normalize=True)\n",
    "print( selected_feature_index_by_LinearRegression)\n",
    "lr.fit(train_x[:, selected_feature_index_by_LinearRegression], train_y)\n",
    "y_pred_lr = lr.predict(test_x[:, selected_feature_index_by_LinearRegression])\n",
    "lr_mse = mean_squared_error(test_y, y_pred_lr)\n",
    "print('LinearRegression MSE: ', lr_mse)"
   ]
  },
  {
   "cell_type": "code",
   "execution_count": 28,
   "metadata": {},
   "outputs": [
    {
     "name": "stdout",
     "output_type": "stream",
     "text": [
      "DecisionTreeRegressor MSE:  0.19930213000000002\n"
     ]
    }
   ],
   "source": [
    "#決定木\n",
    "dtr = DecisionTreeRegressor(random_state=1234)\n",
    "dtr.fit(train_x,train_y)\n",
    "dtr.fit(train_x[:, selected_feature_index_by_DecisionTreeRegressor], train_y)\n",
    "y_pred_dtr = dtr.predict(test_x[:, selected_feature_index_by_DecisionTreeRegressor])\n",
    "dtr_mse = mean_squared_error(test_y, y_pred_dtr)\n",
    "print('DecisionTreeRegressor MSE: ', dtr_mse)"
   ]
  },
  {
   "cell_type": "code",
   "execution_count": 29,
   "metadata": {},
   "outputs": [
    {
     "name": "stdout",
     "output_type": "stream",
     "text": [
      "RandomForest MSE:  0.15971193599999786\n"
     ]
    }
   ],
   "source": [
    "#ランダムフォレスト\n",
    "rf = RandomForestRegressor(random_state=1234)\n",
    "rf.fit(train_x[:, selected_feature_index_by_RandomForestRegressor], train_y)\n",
    "y_pred_rf = rf.predict(test_x[:, selected_feature_index_by_RandomForestRegressor])\n",
    "rf_mse = mean_squared_error(test_y, y_pred_rf)\n",
    "print('RandomForest MSE: ', rf_mse)"
   ]
  },
  {
   "cell_type": "code",
   "execution_count": 30,
   "metadata": {},
   "outputs": [
    {
     "name": "stdout",
     "output_type": "stream",
     "text": [
      "Fitting 3 folds for each of 9 candidates, totalling 27 fits\n"
     ]
    },
    {
     "name": "stderr",
     "output_type": "stream",
     "text": [
      "[Parallel(n_jobs=1)]: Done  27 out of  27 | elapsed:    4.5s finished\n"
     ]
    },
    {
     "data": {
      "text/plain": [
       "GridSearchCV(cv=3, error_score='raise',\n",
       "       estimator=RandomForestRegressor(bootstrap=True, criterion='mse', max_depth=None,\n",
       "           max_features='auto', max_leaf_nodes=None,\n",
       "           min_impurity_decrease=0.0, min_impurity_split=None,\n",
       "           min_samples_leaf=1, min_samples_split=2,\n",
       "           min_weight_fraction_leaf=0.0, n_estimators=10, n_jobs=1,\n",
       "           oob_score=False, random_state=1234, verbose=0, warm_start=False),\n",
       "       fit_params=None, iid=True, n_jobs=1,\n",
       "       param_grid={'n_estimators': [15, 20, 25], 'max_depth': [6, 10, 20]},\n",
       "       pre_dispatch='2*n_jobs', refit=True, return_train_score='warn',\n",
       "       scoring='neg_mean_squared_error', verbose=1)"
      ]
     },
     "execution_count": 30,
     "metadata": {},
     "output_type": "execute_result"
    }
   ],
   "source": [
    "params = {'n_estimators': [15,20,25], 'max_depth': [6,10,20]}\n",
    "gscv = GridSearchCV(rf, param_grid=params, verbose=1,\n",
    "                    cv=3, scoring='neg_mean_squared_error')\n",
    "gscv.fit(train_x[:, selected_feature_index_by_RandomForestRegressor], train_y)"
   ]
  },
  {
   "cell_type": "code",
   "execution_count": 31,
   "metadata": {},
   "outputs": [],
   "source": [
    "a = gscv.best_params_"
   ]
  },
  {
   "cell_type": "code",
   "execution_count": 32,
   "metadata": {},
   "outputs": [
    {
     "name": "stdout",
     "output_type": "stream",
     "text": [
      "{'max_depth': 10, 'n_estimators': 25}\n"
     ]
    }
   ],
   "source": [
    "print(a)\n",
    "n_estimators = a.get('n_estimators')\n",
    "max_depth = a.get('max_depth')"
   ]
  },
  {
   "cell_type": "code",
   "execution_count": 33,
   "metadata": {},
   "outputs": [
    {
     "name": "stdout",
     "output_type": "stream",
     "text": [
      "RandomForest MSE:  0.11019492038502461\n"
     ]
    }
   ],
   "source": [
    "rf = RandomForestRegressor(n_estimators=n_estimators, max_depth=max_depth,random_state=1234)\n",
    "rf.fit(train_x[:, selected_feature_index_by_RandomForestRegressor], train_y)\n",
    "y_pred_rf = rf.predict(test_x[:, selected_feature_index_by_RandomForestRegressor])\n",
    "rf_mse = mean_squared_error(test_y, y_pred_rf)\n",
    "print('RandomForest MSE: ', rf_mse)"
   ]
  },
  {
   "cell_type": "code",
   "execution_count": 34,
   "metadata": {},
   "outputs": [
    {
     "name": "stdout",
     "output_type": "stream",
     "text": [
      "    y_pred_rf  test_y       RMS\n",
      "0   50.945491  50.282 -0.663491\n",
      "1   50.296314  50.363  0.066686\n",
      "2   50.289499  49.977 -0.312499\n",
      "3   49.884836  49.998  0.113164\n",
      "4   49.897330  50.427  0.529670\n",
      "5   50.311011  50.468  0.156989\n",
      "6   50.390606  50.150 -0.240606\n",
      "7   50.222463  50.250  0.027537\n",
      "8   50.275176  50.139 -0.136176\n",
      "9   50.122635  50.286  0.163365\n",
      "10  50.289499  50.242 -0.047499\n",
      "11  50.283971  50.700  0.416029\n",
      "12  50.956479  50.915 -0.041479\n",
      "13  50.952500  51.080  0.127500\n",
      "14  50.993744  51.798  0.804256\n",
      "15  52.144092  51.950 -0.194092\n",
      "16  52.078172  51.882 -0.196172\n",
      "17  51.915406  52.427  0.511594\n",
      "18  52.375971  52.050 -0.325971\n",
      "19  52.036495  51.845 -0.191495\n",
      "20  51.876303  51.595 -0.281303\n",
      "21  51.488036  51.932  0.443964\n",
      "22  52.037006  52.282  0.244994\n",
      "23  52.150139  52.498  0.347861\n",
      "24  52.441583  52.330 -0.111583\n"
     ]
    }
   ],
   "source": [
    "# 予測結果を出力します。これはランダムフォレスト\n",
    "result = pd.DataFrame(y_pred_rf)\n",
    "result.columns = ['y_pred_rf']\n",
    "result['test_y'] = test_y\n",
    "#２乗平均誤差ではなく、ただの差\n",
    "result['RMS'] = (result['test_y']-result['y_pred_rf'])#*(result['test_y']-result['pred_y'])\n",
    "print(result.loc[:])"
   ]
  },
  {
   "cell_type": "code",
   "execution_count": 35,
   "metadata": {},
   "outputs": [],
   "source": [
    "# Plot\n",
    "plt.plot(range(0,len(result)), test_y, label='Actual price', color='blue')\n",
    "plt.plot(range(0,len(result)), y_pred_rf, label='Predicted price', color='red')\n",
    "plt.xlabel(span)\n",
    "plt.ylabel('Price (\\)')\n",
    "n1 = '{0} Price by RandomForest'.format(trade_name)\n",
    "plt.title(n1)\n",
    "plt.grid(True)\n",
    "plt.legend()\n",
    "n2='{0}1 by RandomForest.png'.format(trade_name)\n",
    "plt.savefig(n2)\n",
    "plt.close()\n",
    "plt.show()"
   ]
  },
  {
   "cell_type": "code",
   "execution_count": 36,
   "metadata": {},
   "outputs": [],
   "source": [
    "# Plot拡大\n",
    "plt.plot(range(0,len(result[0:15])), test_y[len(test_y)-15:], label='Actual price', color='blue', marker = 'o')\n",
    "plt.plot(range(0,len(result[0:15])), y_pred_rf[len(test_y)-15:], label='Predicted price', color='red', marker ='x')\n",
    "plt.xlabel(span)\n",
    "plt.ylabel('Price (\\)')\n",
    "n3='{0} Price by RandomForest'.format(trade_name)\n",
    "plt.title(n3)\n",
    "plt.grid(True)\n",
    "plt.legend()\n",
    "n4='{0}2 by RandomForest.png'.format(trade_name)\n",
    "plt.savefig(n4)\n",
    "plt.close()\n",
    "plt.show()"
   ]
  },
  {
   "cell_type": "code",
   "execution_count": 37,
   "metadata": {},
   "outputs": [
    {
     "name": "stdout",
     "output_type": "stream",
     "text": [
      "    y_pred_lr  test_y       RMS\n",
      "0   50.774088  50.282 -0.492088\n",
      "1   50.219992  50.363  0.143008\n",
      "2   50.345578  49.977 -0.368578\n",
      "3   49.992678  49.998  0.005322\n",
      "4   50.036911  50.427  0.390089\n",
      "5   50.468189  50.468 -0.000189\n",
      "6   50.470005  50.150 -0.320005\n",
      "7   50.139338  50.250  0.110662\n",
      "8   50.271452  50.139 -0.132452\n",
      "9   50.148678  50.286  0.137322\n",
      "10  50.324027  50.242 -0.082027\n",
      "11  50.243841  50.700  0.456159\n",
      "12  50.704549  50.915  0.210451\n",
      "13  50.900258  51.080  0.179742\n",
      "14  51.069024  51.798  0.728976\n",
      "15  51.781643  51.950  0.168357\n",
      "16  51.916803  51.882 -0.034803\n",
      "17  51.856774  52.427  0.570226\n",
      "18  52.421303  52.050 -0.371303\n",
      "19  52.024281  51.845 -0.179281\n",
      "20  51.842168  51.595 -0.247168\n",
      "21  51.608526  51.932  0.323474\n",
      "22  51.977166  52.282  0.304834\n",
      "23  52.300878  52.498  0.197122\n",
      "24  52.484218  52.330 -0.154218\n"
     ]
    }
   ],
   "source": [
    "# 予測結果を出力します。これは線形回帰\n",
    "result = pd.DataFrame(y_pred_lr)\n",
    "result.columns = ['y_pred_lr']\n",
    "result['test_y'] = test_y\n",
    "#２乗平均誤差ではなく、ただの差\n",
    "result['RMS'] = (result['test_y']-result['y_pred_lr'])\n",
    "print(result.loc[:])"
   ]
  },
  {
   "cell_type": "code",
   "execution_count": 38,
   "metadata": {},
   "outputs": [
    {
     "name": "stdout",
     "output_type": "stream",
     "text": [
      "    y_pred_lr  test_y       RMS\n",
      "0   50.774088  50.282 -0.492088\n",
      "1   50.219992  50.363  0.143008\n",
      "2   50.345578  49.977 -0.368578\n",
      "3   49.992678  49.998  0.005322\n",
      "4   50.036911  50.427  0.390089\n",
      "5   50.468189  50.468 -0.000189\n",
      "6   50.470005  50.150 -0.320005\n",
      "7   50.139338  50.250  0.110662\n",
      "8   50.271452  50.139 -0.132452\n",
      "9   50.148678  50.286  0.137322\n",
      "10  50.324027  50.242 -0.082027\n",
      "11  50.243841  50.700  0.456159\n",
      "12  50.704549  50.915  0.210451\n",
      "13  50.900258  51.080  0.179742\n",
      "14  51.069024  51.798  0.728976\n",
      "15  51.781643  51.950  0.168357\n",
      "16  51.916803  51.882 -0.034803\n",
      "17  51.856774  52.427  0.570226\n",
      "18  52.421303  52.050 -0.371303\n",
      "19  52.024281  51.845 -0.179281\n",
      "20  51.842168  51.595 -0.247168\n",
      "21  51.608526  51.932  0.323474\n",
      "22  51.977166  52.282  0.304834\n",
      "23  52.300878  52.498  0.197122\n",
      "24  52.484218  52.330 -0.154218\n"
     ]
    }
   ],
   "source": [
    "# 予測結果を出力します。これはランダムフォレスト\n",
    "result = pd.DataFrame(y_pred_lr)\n",
    "result.columns = ['y_pred_lr']\n",
    "result['test_y'] = test_y\n",
    "#２乗平均誤差ではなく、ただの差\n",
    "result['RMS'] = (result['test_y']-result['y_pred_lr'])\n",
    "print(result.loc[:])"
   ]
  },
  {
   "cell_type": "code",
   "execution_count": 39,
   "metadata": {},
   "outputs": [],
   "source": [
    "# Plot\n",
    "plt.plot(range(0,len(result)), test_y, label='Actual price', color='blue')\n",
    "plt.plot(range(0,len(result)), y_pred_lr, label='Predicted price', color='red')\n",
    "plt.xlabel(span)\n",
    "plt.ylabel('Price (\\)')\n",
    "n1 = '{0} Price by LinearRegression'.format(trade_name)\n",
    "plt.title(n1)\n",
    "plt.grid(True)\n",
    "plt.legend()\n",
    "n2='{0}1LinearRegression by .png'.format(trade_name)\n",
    "plt.savefig(n2)\n",
    "plt.close()\n",
    "plt.show()"
   ]
  },
  {
   "cell_type": "code",
   "execution_count": 40,
   "metadata": {},
   "outputs": [],
   "source": [
    "# Plot拡大\n",
    "plt.plot(range(0,len(result[0:15])), test_y[len(test_y)-15:], label='Actual price', color='blue', marker = 'o')\n",
    "plt.plot(range(0,len(result[0:15])), y_pred_lr[len(test_y)-15:], label='Predicted price', color='red', marker ='x')\n",
    "plt.xlabel(span)\n",
    "plt.ylabel('Price (\\)')\n",
    "n3='{0} Price by LinearRegression'.format(trade_name)\n",
    "plt.title(n3)\n",
    "plt.grid(True)\n",
    "plt.legend()\n",
    "n4='{0}2LinearRegression by .png'.format(trade_name)\n",
    "plt.savefig(n4)\n",
    "plt.close()\n",
    "plt.show()"
   ]
  },
  {
   "cell_type": "code",
   "execution_count": null,
   "metadata": {},
   "outputs": [],
   "source": [
    "\n"
   ]
  },
  {
   "cell_type": "code",
   "execution_count": null,
   "metadata": {},
   "outputs": [],
   "source": []
  }
 ],
 "metadata": {
  "kernelspec": {
   "display_name": "Python 3",
   "language": "python",
   "name": "python3"
  },
  "language_info": {
   "codemirror_mode": {
    "name": "ipython",
    "version": 3
   },
   "file_extension": ".py",
   "mimetype": "text/x-python",
   "name": "python",
   "nbconvert_exporter": "python",
   "pygments_lexer": "ipython3",
   "version": "3.6.5"
  }
 },
 "nbformat": 4,
 "nbformat_minor": 2
}
