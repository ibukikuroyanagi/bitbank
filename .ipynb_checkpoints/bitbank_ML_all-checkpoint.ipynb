{
 "cells": [
  {
   "cell_type": "code",
   "execution_count": 1,
   "metadata": {},
   "outputs": [],
   "source": [
    "#できること一覧\n",
    "#データ取得\n",
    "#dataframeに格納\n",
    "#時間可視化\n",
    "#移動平均線\n",
    "#ゴールデン・デッドクロス\n",
    "#上下判定\n",
    "#ボリンジャーバンド\n",
    "#トレンドラインを作成（支持線・抵抗線・直近）\n",
    "#機械学習（ランダムフォレスト）\n",
    "#gfs\n",
    "#グラフ\n",
    "\n"
   ]
  },
  {
   "cell_type": "code",
   "execution_count": 2,
   "metadata": {},
   "outputs": [],
   "source": [
    "#python_bitbankccのパッケージをインポート\n",
    "#cloud9で起動するときのコマンド\n",
    "#jupyter notebook --ip $IP --port $PORT --no-browser\n",
    "import python_bitbankcc \n",
    "import datetime\n",
    "import os \n",
    "import time\n",
    "import numpy as np\n",
    "import pandas as pd\n",
    "import sys\n",
    "from dateutil.relativedelta import relativedelta\n",
    "#トレンドラインを引くため\n",
    "from scipy.stats import linregress\n",
    "#正規化\n",
    "from sklearn.preprocessing import MinMaxScaler"
   ]
  },
  {
   "cell_type": "code",
   "execution_count": 3,
   "metadata": {},
   "outputs": [],
   "source": [
    "#機械学習用のモジュール\n",
    "import matplotlib as mpl\n",
    "mpl.use('Agg')\n",
    "import matplotlib.pyplot as plt\n",
    "from sklearn import linear_model\n",
    "% matplotlib inline\n",
    "from __future__ import print_function\n",
    "import copy\n",
    "import matplotlib\n",
    "matplotlib.style.use('ggplot')\n",
    "\n",
    "from sklearn.linear_model import LinearRegression\n",
    "from sklearn.tree import DecisionTreeRegressor\n",
    "from sklearn.ensemble import RandomForestRegressor\n",
    "\n",
    "from sklearn.model_selection import GridSearchCV\n",
    "from sklearn.model_selection import train_test_split\n",
    "from sklearn.metrics import mean_squared_error"
   ]
  },
  {
   "cell_type": "code",
   "execution_count": 4,
   "metadata": {},
   "outputs": [],
   "source": [
    "# public API classのオブジェクトを取得\n",
    "pub = python_bitbankcc.public()"
   ]
  },
  {
   "cell_type": "code",
   "execution_count": 5,
   "metadata": {},
   "outputs": [],
   "source": [
    "#APIから基本データの取得、dataframeへ挿入\n",
    "def get_candle(trade_name,span,back_day):\n",
    "    # ロウソク足データを取得\n",
    "    pub = python_bitbankcc.public()\n",
    "    value = pub.get_candlestick( trade_name,span, back_day )\n",
    "    candle = value['candlestick'][0]\n",
    "    #print(candle['ohlcv'][0])\n",
    "    dataframe = pd.DataFrame(candle['ohlcv'],columns=[\"Open\", \"High\",\"Low\",\"Close\",\"Volume\",\"Timestamp\"])\n",
    "    return dataframe\n"
   ]
  },
  {
   "cell_type": "code",
   "execution_count": 6,
   "metadata": {},
   "outputs": [],
   "source": [
    "#指定した日から今日までの基本データをdataframeにして取得\n",
    "#back_day,todayはdatetime\n",
    "# span = ['1min', '5min', '15min', '30min', '1hour', '4hour', '8hour', '12hour', '1day', '1week']\n",
    "#trade_name = ['btc_jpy', 'xrp_jpy', 'ltc_btc', 'eth_btc', 'mona_jpy', 'mona_btc', 'bcc_jpy', 'bcc_btc']\n",
    "\n",
    "def make_df(trade_name,span,back_day,today):\n",
    "    i = 1\n",
    "    if (span =='1min')or(span== '5min')or(span== '15min')or(span== '30min')or(span== '1hour'):\n",
    "        #基準が９時なので、そこを合わせてあげる\n",
    "        if 0 <= today.hour < 9:\n",
    "            k = 1\n",
    "        elif 9 <= today.hour <= 23:\n",
    "            k = 0\n",
    "\n",
    "        while back_day <= today - datetime.timedelta(days=k):\n",
    "            if i == 1:\n",
    "                df1 = get_candle(trade_name,span,datetime.datetime.strftime(back_day, '%Y%m%d'))\n",
    "                back_day = back_day + datetime.timedelta(days=1)\n",
    "                #print(back_day,len(df1))\n",
    "                i += 1\n",
    "            else:\n",
    "                df2 = get_candle(trade_name,span,datetime.datetime.strftime(back_day, '%Y%m%d'))\n",
    "                df1 = pd.concat([df1, df2])\n",
    "                back_day = back_day + datetime.timedelta(days=1)\n",
    "                #print(back_day,len(df1))\n",
    "                i += 1\n",
    "    else:\n",
    "        \n",
    "        today = datetime.date(today.year, today.month, today.day)\n",
    "        back_day = datetime.date(back_day.year, back_day.month, back_day.day)\n",
    "\n",
    "\n",
    "        while back_day <= today:\n",
    "            if i == 1:\n",
    "                df1 = get_candle(trade_name,span,datetime.datetime.strftime(back_day, '%Y'))\n",
    "                back_day = back_day + relativedelta(years=1)\n",
    "                i += 1\n",
    "            else:\n",
    "                df2 = get_candle(trade_name,span,datetime.datetime.strftime(back_day, '%Y'))\n",
    "                df1 = pd.concat([df1, df2])\n",
    "                back_day = back_day +  relativedelta(years=1)\n",
    "                i += 1\n",
    "            \n",
    "\n",
    "    return df1\n",
    "\n"
   ]
  },
  {
   "cell_type": "code",
   "execution_count": 7,
   "metadata": {},
   "outputs": [],
   "source": [
    "def read_date(x):\n",
    "    return datetime.datetime.fromtimestamp(x/1000)\n"
   ]
  },
  {
   "cell_type": "code",
   "execution_count": 8,
   "metadata": {},
   "outputs": [],
   "source": [
    "\n",
    "# 単純移動平均（SMA）を取得する関数\n",
    "#上記のdfデータフレーム\n",
    "#numいくつの平均を求めるか\n",
    "def getMA( df,num ):\n",
    " \n",
    "    tmp = []\n",
    "    avg = np.array([])\n",
    "    for i in range(len(df) - num + 1):\n",
    "        for j in range(num):\n",
    "            #print(df['Close'][i+j])\n",
    "            tmp.append( df['Close'][i+j])\n",
    "            \n",
    "         # 平均値計算\n",
    "        value = np.average(tmp)\n",
    "        avg = np.append(avg,value)\n",
    "        tmp = []\n",
    "    \n",
    "    return avg"
   ]
  },
  {
   "cell_type": "code",
   "execution_count": 9,
   "metadata": {},
   "outputs": [],
   "source": [
    "def getSTD( df,num ):\n",
    " \n",
    "    tmp = []\n",
    "    std = np.array([])\n",
    "    for i in range(len(df) - num + 1):\n",
    "        for j in range(num):\n",
    "            #print(df['Close'][i+j])\n",
    "            tmp.append( df['Close'][i+j])\n",
    "            \n",
    "         # 平均値計算\n",
    "        value = np.std(tmp)\n",
    "        std = np.append(std,value)\n",
    "        tmp = []\n",
    "    \n",
    "    return std"
   ]
  },
  {
   "cell_type": "code",
   "execution_count": 10,
   "metadata": {},
   "outputs": [],
   "source": [
    "#ゴールデン・デッドクロス判定\n",
    "def golden_dead(data_df1):\n",
    "    golden=np.zeros(len(data_df1['Cross']),dtype=int)\n",
    "    dead=np.zeros(len(data_df1['Cross']),dtype=int)\n",
    "    for i in range(len(data_df1['Cross'])-1):\n",
    "        x = data_df1['Cross'][i]\n",
    "        y = data_df1['Cross'][i+1]\n",
    "        if ((x <= 0) & (y<=0)) |((x >= 0) & (y>=0)):\n",
    "            pass\n",
    "        elif ((x <= 0) & (y>=0)) :\n",
    "            golden=np.insert(golden,i+1,1)\n",
    "            golden=np.delete(golden,i+2)\n",
    "        elif ((x >= 0) & (y<=0)) :\n",
    "            dead=np.insert(dead,i+1,1)\n",
    "            dead=np.delete(dead,i+2)\n",
    "\n",
    "    return golden,dead\n",
    "    "
   ]
  },
  {
   "cell_type": "code",
   "execution_count": 11,
   "metadata": {},
   "outputs": [],
   "source": [
    "#highトレンドラインを作成する関数\n",
    "#df データフレーム\n",
    "#num どれだけ前から\n",
    "def make_high_trend_line(df,num):\n",
    "    slope= np.zeros(num-1,dtype=float)\n",
    "    intercept = np.zeros(num-1,dtype=float)\n",
    "    for i in range(len(df)-num+1):        \n",
    "        df_fin = df.copy()\n",
    "        df_fin = df_fin[i:i+num]\n",
    "        df_high = df.copy()\n",
    "        df_high = df_high[i:i+num]\n",
    "    \n",
    "        # 高値のトレンドライン\n",
    "        while len(df_high)>3:\n",
    "            reg_1 = linregress(x=df_high['index'],y=df_high['High'])\n",
    "            df_high  =  df_high.loc[df_high['High']>reg_1[0]*df_high['index']+reg_1[1]]\n",
    "\n",
    "        if len(df_high)<=1:\n",
    "            pass\n",
    "        else:\n",
    "            reg_1 = linregress(x=df_high['index'],y=df_high['High'])\n",
    "        \n",
    "        slope = np.append(slope,reg_1[0])\n",
    "        intercept  = np.append(intercept ,reg_1[1])\n",
    "    return slope,intercept    "
   ]
  },
  {
   "cell_type": "code",
   "execution_count": 12,
   "metadata": {},
   "outputs": [],
   "source": [
    "#lowトレンドラインを作成する関数\n",
    "#df データフレーム\n",
    "#num どれだけ前から\n",
    "def make_low_trend_line(df,num):\n",
    "    slope= np.zeros(num-1,dtype=float)\n",
    "    intercept = np.zeros(num-1,dtype=float)\n",
    "    for i in range(len(df)-num+1):        \n",
    "        df_fin = df.copy()\n",
    "        df_fin = df_fin[i:i+num]\n",
    "        df_low = df.copy()\n",
    "        df_low = df_low[i:i+num]\n",
    "\n",
    "    # 安値のトレンドライン\n",
    "        while len(df_low)>3: \n",
    "            reg_2 = linregress( x = df_low['index'], y = df_low['Low']   )\n",
    "            df_low = df_low.loc[df_low['Low'] < reg_2[0] * df_low['index'] + reg_2[1]]\n",
    "\n",
    "        if len(df_low)<=1:\n",
    "            pass\n",
    "        else:\n",
    "            reg_2 = linregress(x = df_low['index'],y = df_low['Low'])\n",
    "            \n",
    "        slope = np.append(slope,reg_2[0])\n",
    "        intercept  = np.append(intercept ,reg_2[1])\n",
    "    return slope,intercept    "
   ]
  },
  {
   "cell_type": "code",
   "execution_count": 13,
   "metadata": {},
   "outputs": [],
   "source": [
    "#slope,傾き　intercept,切片　df、データフレーム\n",
    "def make_trend_value(slope,intercept,df):\n",
    "    index = np.array(df['index'])\n",
    "    trend_value = slope*index + intercept\n",
    "    return trend_value"
   ]
  },
  {
   "cell_type": "code",
   "execution_count": 14,
   "metadata": {},
   "outputs": [],
   "source": [
    "#関数の使い方\n",
    "today = datetime.datetime.today() \n",
    "back_day = today - datetime.timedelta(days=90)\n",
    "trade_name = 'xrp_jpy'\n",
    "span = '30min'\n",
    "num = 5"
   ]
  },
  {
   "cell_type": "code",
   "execution_count": 15,
   "metadata": {},
   "outputs": [
    {
     "name": "stdout",
     "output_type": "stream",
     "text": [
      "27.59193444252014\n",
      "      index    Open    High     Low   Close        Volume           Timestamp\n",
      "4343   23.0  33.693  33.850  33.600  33.780  2.907404e+06 2018-12-07 20:30:00\n",
      "4344   24.0  33.780  34.127  33.551  33.943  5.991032e+06 2018-12-07 21:00:00\n",
      "4345   25.0  33.942  34.115  33.800  34.051  3.486517e+06 2018-12-07 21:30:00\n",
      "4346   26.0  34.011  34.130  33.900  34.050  4.512055e+06 2018-12-07 22:00:00\n",
      "4347   27.0  34.040  34.198  33.981  34.083  1.420519e+06 2018-12-07 22:30:00\n"
     ]
    }
   ],
   "source": [
    "#基本データの取得\n",
    "old = time.time()\n",
    "data_df1 =  make_df(trade_name,span,back_day,today)\n",
    "data_df1['Timestamp'] = data_df1['Timestamp'].apply(read_date)\n",
    "#indexの割り振り\n",
    "data_df1 = data_df1.reset_index()\n",
    "#df1の値は全てstrなのでTimestamp以外floatにキャストする\n",
    "#Timestampは文字列のままでいいので削除することを指定\n",
    "execlude = ['Timestamp']\n",
    "cast = [col for col in data_df1.columns if col not in execlude]\n",
    "for item in cast:\n",
    "    data_df1 = data_df1.astype({item: float})\n",
    "\n",
    "print(time.time()-old)\n",
    "print(data_df1.tail())"
   ]
  },
  {
   "cell_type": "code",
   "execution_count": 16,
   "metadata": {},
   "outputs": [
    {
     "name": "stdout",
     "output_type": "stream",
     "text": [
      "[ 0.       0.       0.      ... 33.76788 33.7898  33.81844] [ 0.      0.      0.     ... 33.8002 33.9034 33.9814]\n",
      "(4348,) <class 'numpy.ndarray'> (4348,) <class 'numpy.ndarray'>\n"
     ]
    }
   ],
   "source": [
    "#移動平均線np\n",
    "MA5 = getMA( data_df1,num)\n",
    "MA25 = getMA( data_df1,num+20)\n",
    "zero5 = np.zeros(num-1,dtype = float )\n",
    "zero25 = np.zeros(num+20-1,dtype = float )\n",
    "MA5 = np.insert(MA5, 0, zero5)\n",
    "MA25 = np.insert(MA25, 0, zero25)\n",
    "print(MA25,MA5)\n",
    "print(MA25.shape,type(MA25),MA5.shape,type(MA5))"
   ]
  },
  {
   "cell_type": "code",
   "execution_count": 17,
   "metadata": {},
   "outputs": [
    {
     "name": "stdout",
     "output_type": "stream",
     "text": [
      "[0.         0.         0.         ... 0.18223874 0.14445844 0.11127372] (4348,) <class 'numpy.ndarray'>\n"
     ]
    }
   ],
   "source": [
    "#標準偏差計算\n",
    "STD5 = getSTD( data_df1,num)\n",
    "zero5 = np.zeros(num-1,dtype = float )\n",
    "STD5 = np.insert(STD5, 0, zero5)\n",
    "print(STD5,STD5.shape,type(STD5))"
   ]
  },
  {
   "cell_type": "code",
   "execution_count": 18,
   "metadata": {},
   "outputs": [],
   "source": [
    "#自作変数を作成する\n",
    "data_df1['High-Low']=data_df1['High']-data_df1['Low']\n",
    "data_df1['Close-Open']=data_df1['Close']-data_df1['Open']\n",
    "data_df1['Similarity'] = data_df1['Close-Open'] / (data_df1['High-Low'] + 0.000001)\n",
    "data_df1['(High-Low)*Volume '] = data_df1['High-Low']*data_df1['Volume']\n",
    "data_df1['(Close-Open)*Volume '] = data_df1['Close-Open']*data_df1['Volume']\n",
    "data_df1['High-Low']\n",
    "data_df1['MA5'] = MA5\n",
    "data_df1['MA25'] = MA25\n",
    "data_df1['Cross'] = MA5 - MA25\n",
    "data_df1['index'] = data_df1.index + 1\n",
    "data_df1['bbd_p1']= MA5 + (STD5 * 1)\n",
    "data_df1['bbd_p2']= MA5 + (STD5 * 2)\n",
    "data_df1['bbd_p3']= MA5 + (STD5 * 3)\n",
    "data_df1['bbd_m1']= MA5 - (STD5 * 1)\n",
    "data_df1['bbd_m2']= MA5 - (STD5 * 2)\n",
    "data_df1['bbd_m3']= MA5 - (STD5 * 3)"
   ]
  },
  {
   "cell_type": "code",
   "execution_count": 19,
   "metadata": {},
   "outputs": [],
   "source": [
    "data_df1['golden'],data_df1['dead']  = golden_dead(data_df1)"
   ]
  },
  {
   "cell_type": "code",
   "execution_count": 20,
   "metadata": {},
   "outputs": [
    {
     "name": "stdout",
     "output_type": "stream",
     "text": [
      "46.2927520275116\n"
     ]
    }
   ],
   "source": [
    "old1 = time.time()\n",
    "slope1,intercept1 = make_high_trend_line(df=data_df1,num=32)\n",
    "print(time.time()-old1)"
   ]
  },
  {
   "cell_type": "code",
   "execution_count": 21,
   "metadata": {},
   "outputs": [
    {
     "name": "stdout",
     "output_type": "stream",
     "text": [
      "48.361074924468994\n"
     ]
    }
   ],
   "source": [
    "old1 = time.time()\n",
    "slope2,intercept2 = make_low_trend_line(df=data_df1,num=32)\n",
    "print(time.time()-old1)"
   ]
  },
  {
   "cell_type": "code",
   "execution_count": 22,
   "metadata": {},
   "outputs": [],
   "source": [
    "tr_high = make_trend_value(slope1,intercept1,data_df1)\n",
    "tr_low  = make_trend_value(slope2,intercept2,data_df1)"
   ]
  },
  {
   "cell_type": "code",
   "execution_count": 23,
   "metadata": {},
   "outputs": [],
   "source": [
    "data_df1['high_slope'] = slope1\n",
    "data_df1['low_slope'] = slope2\n",
    "data_df1['tr_high'] = tr_high\n",
    "data_df1['tr_low'] = tr_low\n",
    "data_df1['tr_mid'] = (tr_high + tr_low)/2"
   ]
  },
  {
   "cell_type": "code",
   "execution_count": 24,
   "metadata": {},
   "outputs": [
    {
     "name": "stdout",
     "output_type": "stream",
     "text": [
      "126.5589292049408\n"
     ]
    },
    {
     "data": {
      "text/html": [
       "<div>\n",
       "<style scoped>\n",
       "    .dataframe tbody tr th:only-of-type {\n",
       "        vertical-align: middle;\n",
       "    }\n",
       "\n",
       "    .dataframe tbody tr th {\n",
       "        vertical-align: top;\n",
       "    }\n",
       "\n",
       "    .dataframe thead th {\n",
       "        text-align: right;\n",
       "    }\n",
       "</style>\n",
       "<table border=\"1\" class=\"dataframe\">\n",
       "  <thead>\n",
       "    <tr style=\"text-align: right;\">\n",
       "      <th></th>\n",
       "      <th>index</th>\n",
       "      <th>Open</th>\n",
       "      <th>High</th>\n",
       "      <th>Low</th>\n",
       "      <th>Close</th>\n",
       "      <th>Volume</th>\n",
       "      <th>Timestamp</th>\n",
       "      <th>High-Low</th>\n",
       "      <th>Close-Open</th>\n",
       "      <th>Similarity</th>\n",
       "      <th>...</th>\n",
       "      <th>bbd_m1</th>\n",
       "      <th>bbd_m2</th>\n",
       "      <th>bbd_m3</th>\n",
       "      <th>golden</th>\n",
       "      <th>dead</th>\n",
       "      <th>high_slope</th>\n",
       "      <th>low_slope</th>\n",
       "      <th>tr_high</th>\n",
       "      <th>tr_low</th>\n",
       "      <th>tr_mid</th>\n",
       "    </tr>\n",
       "  </thead>\n",
       "  <tbody>\n",
       "    <tr>\n",
       "      <th>4339</th>\n",
       "      <td>4340</td>\n",
       "      <td>33.550</td>\n",
       "      <td>33.802</td>\n",
       "      <td>33.398</td>\n",
       "      <td>33.400</td>\n",
       "      <td>3.744676e+06</td>\n",
       "      <td>2018-12-07 18:30:00</td>\n",
       "      <td>0.404</td>\n",
       "      <td>-0.150</td>\n",
       "      <td>-0.371286</td>\n",
       "      <td>...</td>\n",
       "      <td>33.387344</td>\n",
       "      <td>33.074287</td>\n",
       "      <td>32.761231</td>\n",
       "      <td>0</td>\n",
       "      <td>0</td>\n",
       "      <td>-0.099731</td>\n",
       "      <td>-0.066214</td>\n",
       "      <td>34.309167</td>\n",
       "      <td>32.177000</td>\n",
       "      <td>33.243083</td>\n",
       "    </tr>\n",
       "    <tr>\n",
       "      <th>4340</th>\n",
       "      <td>4341</td>\n",
       "      <td>33.400</td>\n",
       "      <td>33.720</td>\n",
       "      <td>33.371</td>\n",
       "      <td>33.490</td>\n",
       "      <td>3.240997e+06</td>\n",
       "      <td>2018-12-07 19:00:00</td>\n",
       "      <td>0.349</td>\n",
       "      <td>0.090</td>\n",
       "      <td>0.257879</td>\n",
       "      <td>...</td>\n",
       "      <td>33.348348</td>\n",
       "      <td>33.129096</td>\n",
       "      <td>32.909844</td>\n",
       "      <td>0</td>\n",
       "      <td>0</td>\n",
       "      <td>-0.099731</td>\n",
       "      <td>-0.066214</td>\n",
       "      <td>34.209436</td>\n",
       "      <td>32.110786</td>\n",
       "      <td>33.160111</td>\n",
       "    </tr>\n",
       "    <tr>\n",
       "      <th>4341</th>\n",
       "      <td>4342</td>\n",
       "      <td>33.495</td>\n",
       "      <td>33.679</td>\n",
       "      <td>33.320</td>\n",
       "      <td>33.534</td>\n",
       "      <td>2.867224e+06</td>\n",
       "      <td>2018-12-07 19:30:00</td>\n",
       "      <td>0.359</td>\n",
       "      <td>0.039</td>\n",
       "      <td>0.108635</td>\n",
       "      <td>...</td>\n",
       "      <td>33.412249</td>\n",
       "      <td>33.348298</td>\n",
       "      <td>33.284346</td>\n",
       "      <td>0</td>\n",
       "      <td>0</td>\n",
       "      <td>-0.099731</td>\n",
       "      <td>-0.066214</td>\n",
       "      <td>34.109705</td>\n",
       "      <td>32.044571</td>\n",
       "      <td>33.077138</td>\n",
       "    </tr>\n",
       "    <tr>\n",
       "      <th>4342</th>\n",
       "      <td>4343</td>\n",
       "      <td>33.566</td>\n",
       "      <td>34.000</td>\n",
       "      <td>33.500</td>\n",
       "      <td>33.693</td>\n",
       "      <td>6.162830e+06</td>\n",
       "      <td>2018-12-07 20:00:00</td>\n",
       "      <td>0.500</td>\n",
       "      <td>0.127</td>\n",
       "      <td>0.253999</td>\n",
       "      <td>...</td>\n",
       "      <td>33.438570</td>\n",
       "      <td>33.343141</td>\n",
       "      <td>33.247711</td>\n",
       "      <td>0</td>\n",
       "      <td>0</td>\n",
       "      <td>-0.099297</td>\n",
       "      <td>-0.066214</td>\n",
       "      <td>34.047899</td>\n",
       "      <td>31.978357</td>\n",
       "      <td>33.013128</td>\n",
       "    </tr>\n",
       "    <tr>\n",
       "      <th>4343</th>\n",
       "      <td>4344</td>\n",
       "      <td>33.693</td>\n",
       "      <td>33.850</td>\n",
       "      <td>33.600</td>\n",
       "      <td>33.780</td>\n",
       "      <td>2.907404e+06</td>\n",
       "      <td>2018-12-07 20:30:00</td>\n",
       "      <td>0.250</td>\n",
       "      <td>0.087</td>\n",
       "      <td>0.347999</td>\n",
       "      <td>...</td>\n",
       "      <td>33.441282</td>\n",
       "      <td>33.303164</td>\n",
       "      <td>33.165045</td>\n",
       "      <td>0</td>\n",
       "      <td>0</td>\n",
       "      <td>-0.101284</td>\n",
       "      <td>-0.066214</td>\n",
       "      <td>33.903589</td>\n",
       "      <td>31.912143</td>\n",
       "      <td>32.907866</td>\n",
       "    </tr>\n",
       "    <tr>\n",
       "      <th>4344</th>\n",
       "      <td>4345</td>\n",
       "      <td>33.780</td>\n",
       "      <td>34.127</td>\n",
       "      <td>33.551</td>\n",
       "      <td>33.943</td>\n",
       "      <td>5.991032e+06</td>\n",
       "      <td>2018-12-07 21:00:00</td>\n",
       "      <td>0.576</td>\n",
       "      <td>0.163</td>\n",
       "      <td>0.282986</td>\n",
       "      <td>...</td>\n",
       "      <td>33.522813</td>\n",
       "      <td>33.357626</td>\n",
       "      <td>33.192439</td>\n",
       "      <td>0</td>\n",
       "      <td>0</td>\n",
       "      <td>-0.088723</td>\n",
       "      <td>-0.066214</td>\n",
       "      <td>34.105882</td>\n",
       "      <td>31.845929</td>\n",
       "      <td>32.975905</td>\n",
       "    </tr>\n",
       "    <tr>\n",
       "      <th>4345</th>\n",
       "      <td>4346</td>\n",
       "      <td>33.942</td>\n",
       "      <td>34.115</td>\n",
       "      <td>33.800</td>\n",
       "      <td>34.051</td>\n",
       "      <td>3.486517e+06</td>\n",
       "      <td>2018-12-07 21:30:00</td>\n",
       "      <td>0.315</td>\n",
       "      <td>0.109</td>\n",
       "      <td>0.346031</td>\n",
       "      <td>...</td>\n",
       "      <td>33.617961</td>\n",
       "      <td>33.435723</td>\n",
       "      <td>33.253484</td>\n",
       "      <td>1</td>\n",
       "      <td>0</td>\n",
       "      <td>-0.086033</td>\n",
       "      <td>-0.066214</td>\n",
       "      <td>34.115000</td>\n",
       "      <td>31.779714</td>\n",
       "      <td>32.947357</td>\n",
       "    </tr>\n",
       "    <tr>\n",
       "      <th>4346</th>\n",
       "      <td>4347</td>\n",
       "      <td>34.011</td>\n",
       "      <td>34.130</td>\n",
       "      <td>33.900</td>\n",
       "      <td>34.050</td>\n",
       "      <td>4.512055e+06</td>\n",
       "      <td>2018-12-07 22:00:00</td>\n",
       "      <td>0.230</td>\n",
       "      <td>0.039</td>\n",
       "      <td>0.169564</td>\n",
       "      <td>...</td>\n",
       "      <td>33.758942</td>\n",
       "      <td>33.614483</td>\n",
       "      <td>33.470025</td>\n",
       "      <td>0</td>\n",
       "      <td>0</td>\n",
       "      <td>-0.080248</td>\n",
       "      <td>0.002500</td>\n",
       "      <td>34.127299</td>\n",
       "      <td>33.050167</td>\n",
       "      <td>33.588733</td>\n",
       "    </tr>\n",
       "    <tr>\n",
       "      <th>4347</th>\n",
       "      <td>4348</td>\n",
       "      <td>34.040</td>\n",
       "      <td>34.198</td>\n",
       "      <td>33.981</td>\n",
       "      <td>34.083</td>\n",
       "      <td>1.420519e+06</td>\n",
       "      <td>2018-12-07 22:30:00</td>\n",
       "      <td>0.217</td>\n",
       "      <td>0.043</td>\n",
       "      <td>0.198156</td>\n",
       "      <td>...</td>\n",
       "      <td>33.870126</td>\n",
       "      <td>33.758853</td>\n",
       "      <td>33.647579</td>\n",
       "      <td>0</td>\n",
       "      <td>0</td>\n",
       "      <td>-0.072677</td>\n",
       "      <td>0.005000</td>\n",
       "      <td>34.198000</td>\n",
       "      <td>33.101000</td>\n",
       "      <td>33.649500</td>\n",
       "    </tr>\n",
       "  </tbody>\n",
       "</table>\n",
       "<p>9 rows × 28 columns</p>\n",
       "</div>"
      ],
      "text/plain": [
       "      index    Open    High     Low   Close        Volume           Timestamp  \\\n",
       "4339   4340  33.550  33.802  33.398  33.400  3.744676e+06 2018-12-07 18:30:00   \n",
       "4340   4341  33.400  33.720  33.371  33.490  3.240997e+06 2018-12-07 19:00:00   \n",
       "4341   4342  33.495  33.679  33.320  33.534  2.867224e+06 2018-12-07 19:30:00   \n",
       "4342   4343  33.566  34.000  33.500  33.693  6.162830e+06 2018-12-07 20:00:00   \n",
       "4343   4344  33.693  33.850  33.600  33.780  2.907404e+06 2018-12-07 20:30:00   \n",
       "4344   4345  33.780  34.127  33.551  33.943  5.991032e+06 2018-12-07 21:00:00   \n",
       "4345   4346  33.942  34.115  33.800  34.051  3.486517e+06 2018-12-07 21:30:00   \n",
       "4346   4347  34.011  34.130  33.900  34.050  4.512055e+06 2018-12-07 22:00:00   \n",
       "4347   4348  34.040  34.198  33.981  34.083  1.420519e+06 2018-12-07 22:30:00   \n",
       "\n",
       "      High-Low  Close-Open  Similarity    ...         bbd_m1     bbd_m2  \\\n",
       "4339     0.404      -0.150   -0.371286    ...      33.387344  33.074287   \n",
       "4340     0.349       0.090    0.257879    ...      33.348348  33.129096   \n",
       "4341     0.359       0.039    0.108635    ...      33.412249  33.348298   \n",
       "4342     0.500       0.127    0.253999    ...      33.438570  33.343141   \n",
       "4343     0.250       0.087    0.347999    ...      33.441282  33.303164   \n",
       "4344     0.576       0.163    0.282986    ...      33.522813  33.357626   \n",
       "4345     0.315       0.109    0.346031    ...      33.617961  33.435723   \n",
       "4346     0.230       0.039    0.169564    ...      33.758942  33.614483   \n",
       "4347     0.217       0.043    0.198156    ...      33.870126  33.758853   \n",
       "\n",
       "         bbd_m3  golden  dead  high_slope  low_slope    tr_high     tr_low  \\\n",
       "4339  32.761231       0     0   -0.099731  -0.066214  34.309167  32.177000   \n",
       "4340  32.909844       0     0   -0.099731  -0.066214  34.209436  32.110786   \n",
       "4341  33.284346       0     0   -0.099731  -0.066214  34.109705  32.044571   \n",
       "4342  33.247711       0     0   -0.099297  -0.066214  34.047899  31.978357   \n",
       "4343  33.165045       0     0   -0.101284  -0.066214  33.903589  31.912143   \n",
       "4344  33.192439       0     0   -0.088723  -0.066214  34.105882  31.845929   \n",
       "4345  33.253484       1     0   -0.086033  -0.066214  34.115000  31.779714   \n",
       "4346  33.470025       0     0   -0.080248   0.002500  34.127299  33.050167   \n",
       "4347  33.647579       0     0   -0.072677   0.005000  34.198000  33.101000   \n",
       "\n",
       "         tr_mid  \n",
       "4339  33.243083  \n",
       "4340  33.160111  \n",
       "4341  33.077138  \n",
       "4342  33.013128  \n",
       "4343  32.907866  \n",
       "4344  32.975905  \n",
       "4345  32.947357  \n",
       "4346  33.588733  \n",
       "4347  33.649500  \n",
       "\n",
       "[9 rows x 28 columns]"
      ]
     },
     "execution_count": 24,
     "metadata": {},
     "output_type": "execute_result"
    }
   ],
   "source": [
    "#data作成までの時間\n",
    "print(time.time()-old)\n",
    "#作成変数の表示\n",
    "data_df1.loc[len(data_df1)-9:]"
   ]
  },
  {
   "cell_type": "code",
   "execution_count": 25,
   "metadata": {},
   "outputs": [
    {
     "name": "stdout",
     "output_type": "stream",
     "text": [
      "['Open', 'High', 'Low', 'Close', 'Volume', 'High-Low', 'Close-Open', 'Similarity', '(High-Low)*Volume ', '(Close-Open)*Volume ', 'MA5', 'MA25', 'Cross', 'bbd_p1', 'bbd_p2', 'bbd_p3', 'bbd_m1', 'bbd_m2', 'bbd_m3', 'golden', 'dead', 'high_slope', 'low_slope', 'tr_high', 'tr_low', 'tr_mid']\n",
      "(4348, 26)\n"
     ]
    }
   ],
   "source": [
    "#次のCloseを予測する機械学習\n",
    "#使わない変数を除外\n",
    "exe_cols = ['index','Timestamp']\n",
    "feature_cols = [col for col in data_df1.columns if col not in exe_cols]\n",
    "print(feature_cols)\n",
    "#機械学習用にnp配列に変換\n",
    "data_np= np.array(data_df1[feature_cols])\n",
    "\n",
    "#機械学習用の特徴量\n",
    "print(data_np.shape)"
   ]
  },
  {
   "cell_type": "code",
   "execution_count": 26,
   "metadata": {},
   "outputs": [
    {
     "name": "stdout",
     "output_type": "stream",
     "text": [
      "[32.19  32.193 32.196 ... 34.051 34.05  34.083] (4347,)\n",
      "[[31.93       32.352      31.9        ...  0.          0.\n",
      "   0.        ]\n",
      " [32.346      32.48       32.19       ...  0.          0.\n",
      "   0.        ]\n",
      " [32.2        32.428      32.101      ...  0.          0.\n",
      "   0.        ]\n",
      " ...\n",
      " [33.78       34.127      33.551      ... 34.10588152 31.84592857\n",
      "  32.97590504]\n",
      " [33.942      34.115      33.8        ... 34.115      31.77971429\n",
      "  32.94735714]\n",
      " [34.011      34.13       33.9        ... 34.12729914 33.05016667\n",
      "  33.5887329 ]] (4347, 26)\n"
     ]
    }
   ],
   "source": [
    "Y = np.array(data_df1['Close'])#1次元\n",
    "Y = np.delete(Y,0)\n",
    "print(Y,Y.shape)\n",
    "X = data_np[:len(Y),0:]\n",
    "print(X[:],X.shape)"
   ]
  },
  {
   "cell_type": "code",
   "execution_count": 27,
   "metadata": {},
   "outputs": [
    {
     "name": "stdout",
     "output_type": "stream",
     "text": [
      "4325\n"
     ]
    }
   ],
   "source": [
    "# 学習では、29/30を使うものとします。これは情報の偏りを防ぐためのものであり、全体でも構いません\n",
    "L = int(len(X)//(200/199))\n",
    "print(L)\n",
    "train_x = X[50:L,:]\n",
    "train_y = Y[50:L]"
   ]
  },
  {
   "cell_type": "code",
   "execution_count": 28,
   "metadata": {},
   "outputs": [],
   "source": [
    "# 残りの全てをテストデータとします\n",
    "test_x = X[L:len(X),:]\n",
    "test_y = Y[L:len(Y)]"
   ]
  },
  {
   "cell_type": "code",
   "execution_count": 29,
   "metadata": {},
   "outputs": [],
   "source": [
    "#ランダムフォレストによる学習（パラメータの選択はしていない）\n",
    "rf = RandomForestRegressor(random_state=1234)"
   ]
  },
  {
   "cell_type": "code",
   "execution_count": 30,
   "metadata": {},
   "outputs": [
    {
     "name": "stdout",
     "output_type": "stream",
     "text": [
      "Fitting 3 folds for each of 9 candidates, totalling 27 fits\n"
     ]
    },
    {
     "name": "stderr",
     "output_type": "stream",
     "text": [
      "[Parallel(n_jobs=1)]: Done  27 out of  27 | elapsed:   37.8s finished\n"
     ]
    },
    {
     "data": {
      "text/plain": [
       "GridSearchCV(cv=3, error_score='raise',\n",
       "       estimator=RandomForestRegressor(bootstrap=True, criterion='mse', max_depth=None,\n",
       "           max_features='auto', max_leaf_nodes=None,\n",
       "           min_impurity_decrease=0.0, min_impurity_split=None,\n",
       "           min_samples_leaf=1, min_samples_split=2,\n",
       "           min_weight_fraction_leaf=0.0, n_estimators=10, n_jobs=1,\n",
       "           oob_score=False, random_state=1234, verbose=0, warm_start=False),\n",
       "       fit_params=None, iid=True, n_jobs=1,\n",
       "       param_grid={'n_estimators': [15, 20, 25], 'max_depth': [5, 17, 30]},\n",
       "       pre_dispatch='2*n_jobs', refit=True, return_train_score='warn',\n",
       "       scoring='neg_mean_squared_error', verbose=1)"
      ]
     },
     "execution_count": 30,
     "metadata": {},
     "output_type": "execute_result"
    }
   ],
   "source": [
    "params = {'n_estimators': [15,20,25], 'max_depth': [5,17,30]}\n",
    "gscv = GridSearchCV(rf, param_grid=params, verbose=1,\n",
    "                    cv=3, scoring='neg_mean_squared_error')\n",
    "gscv.fit(train_x, train_y)"
   ]
  },
  {
   "cell_type": "code",
   "execution_count": 31,
   "metadata": {},
   "outputs": [],
   "source": [
    "a = gscv.best_params_"
   ]
  },
  {
   "cell_type": "code",
   "execution_count": 32,
   "metadata": {},
   "outputs": [
    {
     "name": "stdout",
     "output_type": "stream",
     "text": [
      "{'max_depth': 17, 'n_estimators': 15}\n"
     ]
    }
   ],
   "source": [
    "print(a)\n",
    "n_estimators = a.get('n_estimators')\n",
    "max_depth = a.get('max_depth')"
   ]
  },
  {
   "cell_type": "code",
   "execution_count": 33,
   "metadata": {},
   "outputs": [
    {
     "name": "stdout",
     "output_type": "stream",
     "text": [
      "予測精度（低いほど良い）\n",
      "RandomForest MSE:  0.25529998080808175\n"
     ]
    }
   ],
   "source": [
    "rf = RandomForestRegressor(n_estimators=n_estimators, max_depth=max_depth,random_state=1234)\n",
    "rf.fit(train_x, train_y)\n",
    "y_pred_rf = rf.predict(test_x)\n",
    "rf_mse = mean_squared_error(test_y, y_pred_rf)\n",
    "print('予測精度（低いほど良い）')\n",
    "print('RandomForest MSE: ', rf_mse)"
   ]
  },
  {
   "cell_type": "code",
   "execution_count": 34,
   "metadata": {
    "scrolled": true
   },
   "outputs": [
    {
     "name": "stdout",
     "output_type": "stream",
     "text": [
      "１時間前の特徴量データを元に１時間後のCloseを予測・実際のCloseと比較\n",
      "実際の価格と予測した価格の誤差\n",
      "    y_pred_rf  test_y       RMS\n",
      "0   34.041600  33.319 -0.722600\n",
      "1   34.288133  33.076 -1.212133\n",
      "2   33.875533  33.503 -0.372533\n",
      "3   33.889600  33.650 -0.239600\n",
      "4   33.889600  34.200  0.310400\n",
      "5   33.535133  34.886  1.350867\n",
      "6   34.390600  34.202 -0.188600\n",
      "7   33.816867  33.828  0.011133\n",
      "8   33.823000  34.300  0.477000\n",
      "9   33.920467  34.154  0.233533\n",
      "10  33.823867  33.991  0.167133\n",
      "11  33.830133  33.404 -0.426133\n",
      "12  33.768667  33.553 -0.215667\n",
      "13  33.813200  33.400 -0.413200\n",
      "14  33.803400  33.490 -0.313400\n",
      "15  33.803400  33.534 -0.269400\n",
      "16  33.550133  33.693  0.142867\n",
      "17  33.566067  33.780  0.213933\n",
      "18  33.579000  33.943  0.364000\n",
      "19  33.699467  34.051  0.351533\n",
      "20  33.699467  34.050  0.350533\n",
      "21  33.699133  34.083  0.383867\n"
     ]
    }
   ],
   "source": [
    "# 予測結果を出力します。これはランダムフォレスト\n",
    "result = pd.DataFrame(y_pred_rf)\n",
    "result.columns = ['y_pred_rf']\n",
    "result['test_y'] = test_y\n",
    "#２乗平均誤差ではなく、ただの差\n",
    "result['RMS'] = (result['test_y']-result['y_pred_rf'])\n",
    "print('１時間前の特徴量データを元に１時間後のCloseを予測・実際のCloseと比較')\n",
    "print('実際の価格と予測した価格の誤差')\n",
    "print(result.loc[:])"
   ]
  },
  {
   "cell_type": "code",
   "execution_count": 35,
   "metadata": {},
   "outputs": [],
   "source": [
    "# Plot拡大\n",
    "plt.plot(range(0,len(result[0:15])), test_y[len(test_y)-15:], label='Actual price', color='blue', marker = 'o')\n",
    "plt.plot(range(0,len(result[0:15])), y_pred_rf[len(test_y)-15:], label='Predicted price', color='red', marker ='x')\n",
    "plt.xlabel(span)\n",
    "plt.ylabel('Price (\\)')\n",
    "n3='{0} Price by RandomForest'.format(trade_name)\n",
    "plt.title(n3)\n",
    "plt.grid(True)\n",
    "plt.legend()\n",
    "n4='{0}2 by RandomForest.png'.format(trade_name)\n",
    "plt.savefig(n4)\n",
    "plt.close()\n",
    "plt.show()"
   ]
  },
  {
   "cell_type": "code",
   "execution_count": 36,
   "metadata": {},
   "outputs": [],
   "source": [
    "# 変数増加法を実行する関数\n",
    "def get_gfs_feature_indices(X, y, features, clf):\n",
    "    X_train_, X_test_, y_train_, y_test_ = \\\n",
    "        train_test_split(X, y, test_size=0.3, shuffle=False)\n",
    "    feature_indices = {feature: idx for idx, feature in enumerate(features)}\n",
    "    features = set(features)\n",
    "    last_mse = np.inf\n",
    "    chosen_features = set()\n",
    "    while len(chosen_features) < len(features):\n",
    "        mse_features = []\n",
    "        for feature in (features - chosen_features):\n",
    "            candidates = chosen_features.union(set([feature]))\n",
    "            indices = [feature_indices[feature] for feature in candidates]\n",
    "            clf.fit(X_train_[:, indices], y_train_)\n",
    "            y_pred = clf.predict(X_test_[:, indices])\n",
    "            mse = mean_squared_error(y_test_, y_pred)\n",
    "            mse_features += [(mse, feature)]\n",
    "        mse, feature = min(mse_features)\n",
    "        if mse >= last_mse:\n",
    "            break\n",
    "        last_mse = mse\n",
    "        print('Newly Added Feature: {},\\tMSE Score: {}'.format(feature, mse))\n",
    "        chosen_features.add(feature)\n",
    "    return [feature_indices[feature] for feature in chosen_features]"
   ]
  },
  {
   "cell_type": "code",
   "execution_count": 37,
   "metadata": {},
   "outputs": [
    {
     "name": "stdout",
     "output_type": "stream",
     "text": [
      "['Open', 'High', 'Low', 'Close', 'Volume', 'High-Low', 'Close-Open', 'Similarity', '(High-Low)*Volume ', '(Close-Open)*Volume ', 'MA5', 'MA25', 'Cross', 'bbd_p1', 'bbd_p2', 'bbd_p3', 'bbd_m1', 'bbd_m2', 'bbd_m3', 'golden', 'dead', 'high_slope', 'low_slope', 'tr_high', 'tr_low', 'tr_mid'] 26\n",
      "Newly Added Feature: Close,\tMSE Score: 0.6922420954848981\n",
      "Newly Added Feature: Close-Open,\tMSE Score: 0.45682590143414004\n",
      "[3, 6]\n"
     ]
    }
   ],
   "source": [
    "# 上記関数を使用して変数増加法を実行し、MSEを算出\n",
    "#feature_cols =　['Open', 'High', 'Low', 'Close', 'Volume', 'High-Low', 'Close-Open', 'Similarity', '(High-Low)*Volume ', '(Close-Open)*Volume ', 'MA5', 'MA25', 'Cross', 'bbd_p1', 'bbd_p2', 'bbd_p3', 'bbd_m1', 'bbd_m2', 'bbd_m3', 'golden', 'dead', 'high_slope', 'low_slope', 'tr_high', 'tr_low', 'tr_mid']\n",
    "#feature_cols = list('abcdefghijklmnopqrstuv')\n",
    "print(feature_cols,len(feature_cols))\n",
    "selected_feature_index_by_RandomForestRegressor = get_gfs_feature_indices(X=train_x,y=train_y,features=feature_cols,clf= RandomForestRegressor())\n",
    "print(selected_feature_index_by_RandomForestRegressor)"
   ]
  },
  {
   "cell_type": "code",
   "execution_count": 38,
   "metadata": {},
   "outputs": [
    {
     "name": "stdout",
     "output_type": "stream",
     "text": [
      "予測精度（低いほど良い）\n",
      "RandomForest MSE:  0.4854597763636374\n"
     ]
    }
   ],
   "source": [
    "#ランダムフォレスト\n",
    "rf = RandomForestRegressor(random_state=1234)\n",
    "rf.fit(train_x[:, selected_feature_index_by_RandomForestRegressor], train_y)\n",
    "y_pred_rf = rf.predict(test_x[:, selected_feature_index_by_RandomForestRegressor])\n",
    "rf_mse = mean_squared_error(test_y, y_pred_rf)\n",
    "print('予測精度（低いほど良い）')\n",
    "print('RandomForest MSE: ', rf_mse)"
   ]
  },
  {
   "cell_type": "code",
   "execution_count": 39,
   "metadata": {},
   "outputs": [
    {
     "name": "stdout",
     "output_type": "stream",
     "text": [
      "Fitting 3 folds for each of 9 candidates, totalling 27 fits\n"
     ]
    },
    {
     "name": "stderr",
     "output_type": "stream",
     "text": [
      "[Parallel(n_jobs=1)]: Done  27 out of  27 | elapsed:    4.7s finished\n"
     ]
    },
    {
     "data": {
      "text/plain": [
       "GridSearchCV(cv=3, error_score='raise',\n",
       "       estimator=RandomForestRegressor(bootstrap=True, criterion='mse', max_depth=None,\n",
       "           max_features='auto', max_leaf_nodes=None,\n",
       "           min_impurity_decrease=0.0, min_impurity_split=None,\n",
       "           min_samples_leaf=1, min_samples_split=2,\n",
       "           min_weight_fraction_leaf=0.0, n_estimators=10, n_jobs=1,\n",
       "           oob_score=False, random_state=1234, verbose=0, warm_start=False),\n",
       "       fit_params=None, iid=True, n_jobs=1,\n",
       "       param_grid={'n_estimators': [15, 20, 25], 'max_depth': [6, 10, 20]},\n",
       "       pre_dispatch='2*n_jobs', refit=True, return_train_score='warn',\n",
       "       scoring='neg_mean_squared_error', verbose=1)"
      ]
     },
     "execution_count": 39,
     "metadata": {},
     "output_type": "execute_result"
    }
   ],
   "source": [
    "params = {'n_estimators': [15,20,25], 'max_depth': [6,10,20]}\n",
    "gscv = GridSearchCV(rf, param_grid=params, verbose=1,\n",
    "                    cv=3, scoring='neg_mean_squared_error')\n",
    "gscv.fit(train_x[:, selected_feature_index_by_RandomForestRegressor], train_y)"
   ]
  },
  {
   "cell_type": "code",
   "execution_count": 40,
   "metadata": {},
   "outputs": [],
   "source": [
    "a = gscv.best_params_"
   ]
  },
  {
   "cell_type": "code",
   "execution_count": 41,
   "metadata": {},
   "outputs": [
    {
     "name": "stdout",
     "output_type": "stream",
     "text": [
      "{'max_depth': 10, 'n_estimators': 15}\n"
     ]
    }
   ],
   "source": [
    "print(a)\n",
    "n_estimators = a.get('n_estimators')\n",
    "max_depth = a.get('max_depth')"
   ]
  },
  {
   "cell_type": "code",
   "execution_count": 42,
   "metadata": {},
   "outputs": [
    {
     "name": "stdout",
     "output_type": "stream",
     "text": [
      "予測精度（低いほど良い）\n",
      "RandomForest MSE:  0.4288436440404046\n"
     ]
    }
   ],
   "source": [
    "rf = RandomForestRegressor(n_estimators=n_estimators, max_depth=max_depth,random_state=1234)\n",
    "rf.fit(train_x[:, selected_feature_index_by_RandomForestRegressor], train_y)\n",
    "y_pred_rf_gfs = rf.predict(test_x[:, selected_feature_index_by_RandomForestRegressor])\n",
    "rf_mse = mean_squared_error(test_y, y_pred_rf_gfs)\n",
    "print('予測精度（低いほど良い）')\n",
    "print('RandomForest MSE: ', rf_mse)"
   ]
  },
  {
   "cell_type": "code",
   "execution_count": 43,
   "metadata": {},
   "outputs": [
    {
     "name": "stdout",
     "output_type": "stream",
     "text": [
      "１時間前の特徴量データを元に１時間後のCloseを予測・実際のCloseと比較\n",
      "実際の価格と予測した価格の誤差\n",
      "    y_pred_rf_gfs  test_y       RMS\n",
      "0       33.928733  33.319 -0.609733\n",
      "1       33.949200  33.076 -0.873200\n",
      "2       33.949200  33.503 -0.446200\n",
      "3       34.489067  33.650 -0.839067\n",
      "4       34.668400  34.200 -0.468400\n",
      "5       33.759200  34.886  1.126800\n",
      "6       34.505133  34.202 -0.303133\n",
      "7       33.578267  33.828  0.249733\n",
      "8       33.648600  34.300  0.651400\n",
      "9       34.009133  34.154  0.144867\n",
      "10      33.650267  33.991  0.340733\n",
      "11      33.650267  33.404 -0.246267\n",
      "12      33.934667  33.553 -0.381667\n",
      "13      34.675133  33.400 -1.275133\n",
      "14      34.010133  33.490 -0.520133\n",
      "15      34.675133  33.534 -1.141133\n",
      "16      34.666000  33.693 -0.973000\n",
      "17      34.668400  33.780 -0.888400\n",
      "18      33.964600  33.943 -0.021600\n",
      "19      33.936733  34.051  0.114267\n",
      "20      33.933333  34.050  0.116667\n",
      "21      33.927067  34.083  0.155933\n"
     ]
    }
   ],
   "source": [
    "# 予測結果を出力します。これはランダムフォレスト\n",
    "result = pd.DataFrame(y_pred_rf_gfs)\n",
    "result.columns = ['y_pred_rf_gfs']\n",
    "result['test_y'] = test_y\n",
    "#２乗平均誤差ではなく、ただの差\n",
    "result['RMS'] = (result['test_y']-result['y_pred_rf_gfs'])\n",
    "print('１時間前の特徴量データを元に１時間後のCloseを予測・実際のCloseと比較')\n",
    "print('実際の価格と予測した価格の誤差')\n",
    "print(result.loc[:])"
   ]
  },
  {
   "cell_type": "code",
   "execution_count": 44,
   "metadata": {},
   "outputs": [],
   "source": [
    "# Plot拡大\n",
    "plt.plot(range(0,len(result[0:15])), test_y[len(test_y)-15:], label='Actual price', color='blue', marker = 'o')\n",
    "plt.plot(range(0,len(result[0:15])), y_pred_rf_gfs[len(test_y)-15:], label='Predicted price', color='red', marker ='x')\n",
    "plt.xlabel(span)\n",
    "plt.ylabel('Price (\\)')\n",
    "n3='{0} Price by RandomForest gfs'.format(trade_name)\n",
    "plt.title(n3)\n",
    "plt.grid(True)\n",
    "plt.legend()\n",
    "n4='{0}2 by RandomForest gfs.png'.format(trade_name)\n",
    "plt.savefig(n4)\n",
    "plt.close()\n",
    "plt.show()"
   ]
  },
  {
   "cell_type": "code",
   "execution_count": null,
   "metadata": {},
   "outputs": [],
   "source": []
  }
 ],
 "metadata": {
  "kernelspec": {
   "display_name": "Python 3",
   "language": "python",
   "name": "python3"
  },
  "language_info": {
   "codemirror_mode": {
    "name": "ipython",
    "version": 3
   },
   "file_extension": ".py",
   "mimetype": "text/x-python",
   "name": "python",
   "nbconvert_exporter": "python",
   "pygments_lexer": "ipython3",
   "version": "3.6.5"
  }
 },
 "nbformat": 4,
 "nbformat_minor": 2
}
