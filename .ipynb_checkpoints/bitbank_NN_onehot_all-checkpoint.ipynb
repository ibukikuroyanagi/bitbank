{
 "cells": [
  {
   "cell_type": "code",
   "execution_count": 1,
   "metadata": {},
   "outputs": [],
   "source": [
    "#ニューラルネットワークでonehot-labels判定\n",
    "#データ取得\n",
    "#データ格納\n",
    "#移動平均線\n",
    "#ゴールデン・デッドクロス\n",
    "#ボリンジャーバンド\n",
    "#\n",
    "#"
   ]
  },
  {
   "cell_type": "code",
   "execution_count": null,
   "metadata": {},
   "outputs": [],
   "source": []
  },
  {
   "cell_type": "code",
   "execution_count": 2,
   "metadata": {},
   "outputs": [],
   "source": [
    "#python_bitbankccのパッケージをインポート\n",
    "#cloud9で起動するときのコマンド\n",
    "#jupyter notebook --ip $IP --port $PORT --no-browser\n",
    "import python_bitbankcc \n",
    "import datetime\n",
    "import os \n",
    "import time\n",
    "import numpy as np\n",
    "import pandas as pd\n",
    "import sys\n",
    "from dateutil.relativedelta import relativedelta\n",
    "#トレンドラインを引くため\n",
    "from scipy.stats import linregress"
   ]
  },
  {
   "cell_type": "code",
   "execution_count": 3,
   "metadata": {},
   "outputs": [],
   "source": [
    "#機械学習用のモジュール\n",
    "import matplotlib as mpl\n",
    "mpl.use('Agg')\n",
    "import matplotlib.pyplot as plt\n",
    "from sklearn import linear_model\n",
    "% matplotlib inline\n",
    "from __future__ import print_function\n",
    "import copy\n",
    "import matplotlib\n",
    "matplotlib.style.use('ggplot')\n",
    "import time\n",
    "from sklearn.linear_model import LinearRegression\n",
    "from sklearn.tree import DecisionTreeRegressor\n",
    "from sklearn.ensemble import RandomForestRegressor\n",
    "from sklearn.model_selection import GridSearchCV\n",
    "from sklearn.model_selection import train_test_split\n",
    "from sklearn.metrics import mean_squared_error"
   ]
  },
  {
   "cell_type": "code",
   "execution_count": 4,
   "metadata": {},
   "outputs": [],
   "source": [
    "# public API classのオブジェクトを取得\n",
    "pub = python_bitbankcc.public()"
   ]
  },
  {
   "cell_type": "code",
   "execution_count": 5,
   "metadata": {},
   "outputs": [],
   "source": [
    "#APIから基本データの取得、dataframeへ挿入\n",
    "def get_candle(trade_name,span,back_day):\n",
    "    # ロウソク足データを取得\n",
    "    value = pub.get_candlestick( trade_name,span, back_day )\n",
    "    candle = value['candlestick'][0]\n",
    "    #print(candle['ohlcv'][0])\n",
    "    dataframe = pd.DataFrame(candle['ohlcv'],columns=[\"Open\", \"High\",\"Low\",\"Close\",\"Volume\",\"Timestamp\"])\n",
    "    return dataframe\n"
   ]
  },
  {
   "cell_type": "code",
   "execution_count": 6,
   "metadata": {},
   "outputs": [],
   "source": [
    "#指定した日から今日までの基本データをdataframeにして取得\n",
    "#back_day,todayはdatetime\n",
    "# span = ['1min', '5min', '15min', '30min', '1hour', '4hour', '8hour', '12hour', '1day', '1week']\n",
    "#trade_name = ['btc_jpy', 'xrp_jpy', 'ltc_btc', 'eth_btc', 'mona_jpy', 'mona_btc', 'bcc_jpy', 'bcc_btc']\n",
    "\n",
    "def make_df(trade_name,span,back_day,today):\n",
    "    i = 1\n",
    "    if (span =='1min')or(span== '5min')or(span== '15min')or(span== '30min')or(span== '1hour'):\n",
    "        #基準が９時なので、そこを合わせてあげる\n",
    "        if 0 <= today.hour < 9:\n",
    "            k = 1\n",
    "        elif 9 <= today.hour <= 23:\n",
    "            k = 0\n",
    "\n",
    "        while back_day <= today - datetime.timedelta(days=k):\n",
    "            if i == 1:\n",
    "                df1 = get_candle(trade_name,span,datetime.datetime.strftime(back_day, '%Y%m%d'))\n",
    "                back_day = back_day + datetime.timedelta(days=1)\n",
    "                #print(back_day,len(df1))\n",
    "                i += 1\n",
    "            else:\n",
    "                df2 = get_candle(trade_name,span,datetime.datetime.strftime(back_day, '%Y%m%d'))\n",
    "                df1 = pd.concat([df1, df2])\n",
    "                back_day = back_day + datetime.timedelta(days=1)\n",
    "                #print(back_day,len(df1))\n",
    "                i += 1\n",
    "    else:\n",
    "        \n",
    "        today = datetime.date(today.year, today.month, today.day)\n",
    "        back_day = datetime.date(back_day.year, back_day.month, back_day.day)\n",
    "\n",
    "\n",
    "        while back_day <= today:\n",
    "            if i == 1:\n",
    "                df1 = get_candle(trade_name,span,datetime.datetime.strftime(back_day, '%Y'))\n",
    "                back_day = back_day + relativedelta(years=1)\n",
    "                i += 1\n",
    "            else:\n",
    "                df2 = get_candle(trade_name,span,datetime.datetime.strftime(back_day, '%Y'))\n",
    "                df1 = pd.concat([df1, df2])\n",
    "                back_day = back_day +  relativedelta(years=1)\n",
    "                i += 1\n",
    "            \n",
    "\n",
    "    return df1\n",
    "\n"
   ]
  },
  {
   "cell_type": "code",
   "execution_count": 7,
   "metadata": {},
   "outputs": [],
   "source": [
    "def read_date(x):\n",
    "    return datetime.datetime.fromtimestamp(x/1000)\n"
   ]
  },
  {
   "cell_type": "code",
   "execution_count": 8,
   "metadata": {},
   "outputs": [],
   "source": [
    "# 単純移動平均（SMA）を取得する関数\n",
    "#上記のdfデータフレーム\n",
    "#numいくつの平均を求めるか\n",
    "def getMA( df,num ):\n",
    " \n",
    "    tmp = []\n",
    "    avg = np.array([])\n",
    "    for i in range(len(df) - num + 1):\n",
    "        for j in range(num):\n",
    "            #print(df['Close'][i+j])\n",
    "            tmp.append( df['Close'][i+j])\n",
    "            \n",
    "         # 平均値計算\n",
    "        value = np.average(tmp)\n",
    "        avg = np.append(avg,value)\n",
    "        tmp = []\n",
    "    \n",
    "    return avg"
   ]
  },
  {
   "cell_type": "code",
   "execution_count": 9,
   "metadata": {},
   "outputs": [],
   "source": [
    "def getSTD( df,num ):\n",
    " \n",
    "    tmp = []\n",
    "    std = np.array([])\n",
    "    for i in range(len(df) - num + 1):\n",
    "        for j in range(num):\n",
    "            #print(df['Close'][i+j])\n",
    "            tmp.append( df['Close'][i+j])\n",
    "            \n",
    "         # 平均値計算\n",
    "        value = np.std(tmp)\n",
    "        std = np.append(std,value)\n",
    "        tmp = []\n",
    "    \n",
    "    return std"
   ]
  },
  {
   "cell_type": "code",
   "execution_count": 10,
   "metadata": {},
   "outputs": [],
   "source": [
    "#ゴールデン・デッドクロス判定\n",
    "def golden_dead(data_df1):\n",
    "    golden=np.zeros(len(data_df1['Cross']),dtype=int)\n",
    "    dead=np.zeros(len(data_df1['Cross']),dtype=int)\n",
    "    for i in range(len(data_df1['Cross'])-1):\n",
    "        x = data_df1['Cross'][i]\n",
    "        y = data_df1['Cross'][i+1]\n",
    "        if ((x <= 0) & (y<=0)) |((x >= 0) & (y>=0)):\n",
    "            pass\n",
    "        elif ((x <= 0) & (y>=0)) :\n",
    "            golden=np.insert(golden,i+1,1)\n",
    "            golden=np.delete(golden,i+2)\n",
    "        elif ((x >= 0) & (y<=0)) :\n",
    "            dead=np.insert(dead,i+1,1)\n",
    "            dead=np.delete(dead,i+2)\n",
    "\n",
    "    return golden,dead\n",
    "    "
   ]
  },
  {
   "cell_type": "code",
   "execution_count": 11,
   "metadata": {},
   "outputs": [],
   "source": [
    "def make_onehot_label(df):\n",
    "    data = df.copy()\n",
    "        \n",
    "    data.loc[data['Close_tomorrow']-data['Close'] > 1.0 , 'long'] = 1\n",
    "    data.loc[~(data['Close_tomorrow']-data['Close'] > 1.0) , 'long'] = 0\n",
    "\n",
    "    data.loc[(data['Close_tomorrow']-data['Close'] >= 0.2 )&(data['Close_tomorrow']-data['Close'] <= 1.0 ), 'sem_long']=1\n",
    "    data.loc[~((data['Close_tomorrow']-data['Close'] >= 0.2 )&(data['Close_tomorrow']-data['Close'] <= 1.0 )), 'sem_long']=0\n",
    "\n",
    "    data.loc[(data['Close_tomorrow']-data['Close'] >= -0.2 )&(data['Close_tomorrow']-data['Close'] < 0.2 ), 'range']=1\n",
    "    data.loc[~((data['Close_tomorrow']-data['Close'] >= -0.2 )&(data['Close_tomorrow']-data['Close'] < 0.2 )), 'range']=0\n",
    "\n",
    "    data.loc[(data['Close_tomorrow']-data['Close'] >= -1.0 )&(data['Close_tomorrow']-data['Close'] < -0.2 ), 'sem_short']=1\n",
    "    data.loc[~((data['Close_tomorrow']-data['Close'] >= -1.0 )&(data['Close_tomorrow']-data['Close'] < -0.2 )), 'sem_short']=0\n",
    "\n",
    "    data.loc[data['Close_tomorrow']-data['Close'] < -1.0 , 'short'] = 1\n",
    "    data.loc[~(data['Close_tomorrow']-data['Close'] < -1.0) , 'short'] = 0\n",
    "    \n",
    "    \n",
    "    data['labels'] = np.array([2 for i in range(len(df)) ])\n",
    "    data.loc[data['Close_tomorrow']-data['Close'] > 1.0 , 'labels'] = 0\n",
    "    data.loc[((data['Close_tomorrow']-data['Close']) >= 0.2 )&(data['Close_tomorrow']-data['Close'] <= 1.0 ), 'labels']=1\n",
    "    data.loc[(data['Close_tomorrow']-data['Close'] >= -0.2 )&(data['Close_tomorrow']-data['Close'] < 0.2 ), 'labels']=2\n",
    "    data.loc[(data['Close_tomorrow']-data['Close'] >= -1.0 )&(data['Close_tomorrow']-data['Close'] < -0.2 ), 'labels']=3\n",
    "    data.loc[data['Close_tomorrow']-data['Close'] < -1.0 , 'short'] = 4\n",
    "\n",
    "    \n",
    "    a= np.array(data['long'])\n",
    "    b=np.array(data['sem_long'])\n",
    "    c=np.array(data['range'])\n",
    "    d=np.array(data['sem_short'])\n",
    "    e=np.array(data['short'])\n",
    "    a=a[:, np.newaxis]\n",
    "    b=b[:, np.newaxis]\n",
    "    c=c[:, np.newaxis]\n",
    "    d=d[:, np.newaxis]\n",
    "    e=e[:, np.newaxis]\n",
    "    \n",
    "    onehot_label=np.concatenate([a,b,c,d,e], axis=1)\n",
    "    \n",
    "    return onehot_label,np.array(data['labels'],dtype=int)"
   ]
  },
  {
   "cell_type": "code",
   "execution_count": 12,
   "metadata": {},
   "outputs": [],
   "source": [
    "#関数の使い方\n",
    "today = datetime.datetime.today() \n",
    "back_day = today - datetime.timedelta(days=30)\n",
    "trade_name = 'xrp_jpy'\n",
    "span = '30min'\n",
    "num = 5"
   ]
  },
  {
   "cell_type": "code",
   "execution_count": 13,
   "metadata": {},
   "outputs": [
    {
     "name": "stdout",
     "output_type": "stream",
     "text": [
      "      index    Open    High     Low   Close       Volume           Timestamp\n",
      "1450   10.0  51.579  51.605  51.513  51.570  807414.6968 2018-10-21 14:00:00\n",
      "1451   11.0  51.570  51.570  51.451  51.490  723627.8439 2018-10-21 14:30:00\n",
      "1452   12.0  51.486  51.520  51.481  51.500  563279.6483 2018-10-21 15:00:00\n",
      "1453   13.0  51.507  51.507  51.390  51.414  745021.8868 2018-10-21 15:30:00\n",
      "1454   14.0  51.410  51.445  51.405  51.413  255924.1392 2018-10-21 16:00:00\n"
     ]
    }
   ],
   "source": [
    "#基本データの取得\n",
    "old = time.time()\n",
    "data_df1 =  make_df(trade_name,span,back_day,today)\n",
    "data_df1['Timestamp'] = data_df1['Timestamp'].apply(read_date)\n",
    "#indexの割り振り\n",
    "data_df1 = data_df1.reset_index()\n",
    "#df1の値は全てstrなのでTimestamp以外floatにキャストする\n",
    "#Timestampは文字列のままでいいので削除することを指定\n",
    "execlude = ['Timestamp']\n",
    "cast = [col for col in data_df1.columns if col not in execlude]\n",
    "for item in cast:\n",
    "    data_df1 = data_df1.astype({item: float})\n",
    "print(data_df1.tail())"
   ]
  },
  {
   "cell_type": "code",
   "execution_count": 14,
   "metadata": {},
   "outputs": [
    {
     "name": "stdout",
     "output_type": "stream",
     "text": [
      "[ 0.       0.       0.      ... 51.41312 51.42648 51.44024] [ 0.      0.      0.     ... 51.5252 51.5108 51.4774]\n",
      "(1455,) <class 'numpy.ndarray'> (1455,) <class 'numpy.ndarray'>\n"
     ]
    }
   ],
   "source": [
    "#移動平均線np\n",
    "MA5 = getMA( data_df1,num)\n",
    "MA25 = getMA( data_df1,num+20)\n",
    "zero5 = np.zeros(num-1,dtype = float )\n",
    "zero25 = np.zeros(num+20-1,dtype = float )\n",
    "MA5 = np.insert(MA5, 0, zero5)\n",
    "MA25 = np.insert(MA25, 0, zero25)\n",
    "print(MA25,MA5)\n",
    "print(MA25.shape,type(MA25),MA5.shape,type(MA5))"
   ]
  },
  {
   "cell_type": "code",
   "execution_count": 15,
   "metadata": {},
   "outputs": [
    {
     "name": "stdout",
     "output_type": "stream",
     "text": [
      "[0.         0.         0.         ... 0.04103852 0.06035362 0.05901051] (1455,) <class 'numpy.ndarray'>\n"
     ]
    }
   ],
   "source": [
    "#標準偏差計算\n",
    "STD5 = getSTD( data_df1,num)\n",
    "zero5 = np.zeros(num-1,dtype = float )\n",
    "STD5 = np.insert(STD5, 0, zero5)\n",
    "print(STD5,STD5.shape,type(STD5))"
   ]
  },
  {
   "cell_type": "code",
   "execution_count": 36,
   "metadata": {},
   "outputs": [],
   "source": [
    "#自作変数を作成する\n",
    "data_df1['High-Low']=data_df1['High']-data_df1['Low']\n",
    "data_df1['Close-Open']=data_df1['Close']-data_df1['Open']\n",
    "data_df1['Similarity'] = data_df1['Close-Open'] / (data_df1['High-Low'] + 0.000001)\n",
    "data_df1['(High-Low)*Volume '] = data_df1['High-Low']*data_df1['Volume']\n",
    "data_df1['(Close-Open)*Volume '] = data_df1['Close-Open']*data_df1['Volume']\n",
    "data_df1['High-Low']\n",
    "data_df1['Cross'] = MA5 - MA25\n",
    "data_df1['index'] = data_df1.index + 1\n",
    "data_df1['STD5'] = STD5\n",
    "data_df1['bbd_p1']= MA5 + (STD5 * 1)\n",
    "data_df1['bbd_p2']= MA5 + (STD5 * 2)\n",
    "data_df1['bbd_p3']= MA5 + (STD5 * 3)\n",
    "data_df1['bbd_m1']= MA5 - (STD5 * 1)\n",
    "data_df1['bbd_m2']= MA5 - (STD5 * 2)\n",
    "data_df1['bbd_m3']= MA5 - (STD5 * 3)"
   ]
  },
  {
   "cell_type": "code",
   "execution_count": 37,
   "metadata": {},
   "outputs": [],
   "source": [
    "#ゴールデンクロス、デッドクロス判定ラベル\n",
    "data_df1['golden'],data_df1['dead']  = golden_dead(data_df1)"
   ]
  },
  {
   "cell_type": "code",
   "execution_count": 38,
   "metadata": {},
   "outputs": [
    {
     "name": "stdout",
     "output_type": "stream",
     "text": [
      "かかった時間：234.00194430351257\n"
     ]
    },
    {
     "data": {
      "text/html": [
       "<div>\n",
       "<style scoped>\n",
       "    .dataframe tbody tr th:only-of-type {\n",
       "        vertical-align: middle;\n",
       "    }\n",
       "\n",
       "    .dataframe tbody tr th {\n",
       "        vertical-align: top;\n",
       "    }\n",
       "\n",
       "    .dataframe thead th {\n",
       "        text-align: right;\n",
       "    }\n",
       "</style>\n",
       "<table border=\"1\" class=\"dataframe\">\n",
       "  <thead>\n",
       "    <tr style=\"text-align: right;\">\n",
       "      <th></th>\n",
       "      <th>index</th>\n",
       "      <th>Open</th>\n",
       "      <th>High</th>\n",
       "      <th>Low</th>\n",
       "      <th>Close</th>\n",
       "      <th>Volume</th>\n",
       "      <th>Timestamp</th>\n",
       "      <th>High-Low</th>\n",
       "      <th>Close-Open</th>\n",
       "      <th>Similarity</th>\n",
       "      <th>...</th>\n",
       "      <th>Cross</th>\n",
       "      <th>bbd_p1</th>\n",
       "      <th>bbd_p2</th>\n",
       "      <th>bbd_p3</th>\n",
       "      <th>bbd_m1</th>\n",
       "      <th>bbd_m2</th>\n",
       "      <th>bbd_m3</th>\n",
       "      <th>golden</th>\n",
       "      <th>dead</th>\n",
       "      <th>STD5</th>\n",
       "    </tr>\n",
       "  </thead>\n",
       "  <tbody>\n",
       "    <tr>\n",
       "      <th>1450</th>\n",
       "      <td>1451</td>\n",
       "      <td>51.579</td>\n",
       "      <td>51.605</td>\n",
       "      <td>51.513</td>\n",
       "      <td>51.570</td>\n",
       "      <td>807414.6968</td>\n",
       "      <td>2018-10-21 14:00:00</td>\n",
       "      <td>0.092</td>\n",
       "      <td>-0.009</td>\n",
       "      <td>-0.097825</td>\n",
       "      <td>...</td>\n",
       "      <td>0.17168</td>\n",
       "      <td>51.611415</td>\n",
       "      <td>51.664431</td>\n",
       "      <td>51.717446</td>\n",
       "      <td>51.505385</td>\n",
       "      <td>51.452369</td>\n",
       "      <td>51.399354</td>\n",
       "      <td>0</td>\n",
       "      <td>0</td>\n",
       "      <td>0.053015</td>\n",
       "    </tr>\n",
       "    <tr>\n",
       "      <th>1451</th>\n",
       "      <td>1452</td>\n",
       "      <td>51.570</td>\n",
       "      <td>51.570</td>\n",
       "      <td>51.451</td>\n",
       "      <td>51.490</td>\n",
       "      <td>723627.8439</td>\n",
       "      <td>2018-10-21 14:30:00</td>\n",
       "      <td>0.119</td>\n",
       "      <td>-0.080</td>\n",
       "      <td>-0.672263</td>\n",
       "      <td>...</td>\n",
       "      <td>0.12548</td>\n",
       "      <td>51.568085</td>\n",
       "      <td>51.607569</td>\n",
       "      <td>51.647054</td>\n",
       "      <td>51.489115</td>\n",
       "      <td>51.449631</td>\n",
       "      <td>51.410146</td>\n",
       "      <td>0</td>\n",
       "      <td>0</td>\n",
       "      <td>0.039485</td>\n",
       "    </tr>\n",
       "    <tr>\n",
       "      <th>1452</th>\n",
       "      <td>1453</td>\n",
       "      <td>51.486</td>\n",
       "      <td>51.520</td>\n",
       "      <td>51.481</td>\n",
       "      <td>51.500</td>\n",
       "      <td>563279.6483</td>\n",
       "      <td>2018-10-21 15:00:00</td>\n",
       "      <td>0.039</td>\n",
       "      <td>0.014</td>\n",
       "      <td>0.358965</td>\n",
       "      <td>...</td>\n",
       "      <td>0.11208</td>\n",
       "      <td>51.566239</td>\n",
       "      <td>51.607277</td>\n",
       "      <td>51.648316</td>\n",
       "      <td>51.484161</td>\n",
       "      <td>51.443123</td>\n",
       "      <td>51.402084</td>\n",
       "      <td>0</td>\n",
       "      <td>0</td>\n",
       "      <td>0.041039</td>\n",
       "    </tr>\n",
       "    <tr>\n",
       "      <th>1453</th>\n",
       "      <td>1454</td>\n",
       "      <td>51.507</td>\n",
       "      <td>51.507</td>\n",
       "      <td>51.390</td>\n",
       "      <td>51.414</td>\n",
       "      <td>745021.8868</td>\n",
       "      <td>2018-10-21 15:30:00</td>\n",
       "      <td>0.117</td>\n",
       "      <td>-0.093</td>\n",
       "      <td>-0.794865</td>\n",
       "      <td>...</td>\n",
       "      <td>0.08432</td>\n",
       "      <td>51.571154</td>\n",
       "      <td>51.631507</td>\n",
       "      <td>51.691861</td>\n",
       "      <td>51.450446</td>\n",
       "      <td>51.390093</td>\n",
       "      <td>51.329739</td>\n",
       "      <td>0</td>\n",
       "      <td>0</td>\n",
       "      <td>0.060354</td>\n",
       "    </tr>\n",
       "    <tr>\n",
       "      <th>1454</th>\n",
       "      <td>1455</td>\n",
       "      <td>51.410</td>\n",
       "      <td>51.445</td>\n",
       "      <td>51.405</td>\n",
       "      <td>51.413</td>\n",
       "      <td>255924.1392</td>\n",
       "      <td>2018-10-21 16:00:00</td>\n",
       "      <td>0.040</td>\n",
       "      <td>0.003</td>\n",
       "      <td>0.074998</td>\n",
       "      <td>...</td>\n",
       "      <td>0.03716</td>\n",
       "      <td>51.536411</td>\n",
       "      <td>51.595421</td>\n",
       "      <td>51.654432</td>\n",
       "      <td>51.418389</td>\n",
       "      <td>51.359379</td>\n",
       "      <td>51.300368</td>\n",
       "      <td>0</td>\n",
       "      <td>0</td>\n",
       "      <td>0.059011</td>\n",
       "    </tr>\n",
       "  </tbody>\n",
       "</table>\n",
       "<p>5 rows × 22 columns</p>\n",
       "</div>"
      ],
      "text/plain": [
       "      index    Open    High     Low   Close       Volume           Timestamp  \\\n",
       "1450   1451  51.579  51.605  51.513  51.570  807414.6968 2018-10-21 14:00:00   \n",
       "1451   1452  51.570  51.570  51.451  51.490  723627.8439 2018-10-21 14:30:00   \n",
       "1452   1453  51.486  51.520  51.481  51.500  563279.6483 2018-10-21 15:00:00   \n",
       "1453   1454  51.507  51.507  51.390  51.414  745021.8868 2018-10-21 15:30:00   \n",
       "1454   1455  51.410  51.445  51.405  51.413  255924.1392 2018-10-21 16:00:00   \n",
       "\n",
       "      High-Low  Close-Open  Similarity    ...       Cross     bbd_p1  \\\n",
       "1450     0.092      -0.009   -0.097825    ...     0.17168  51.611415   \n",
       "1451     0.119      -0.080   -0.672263    ...     0.12548  51.568085   \n",
       "1452     0.039       0.014    0.358965    ...     0.11208  51.566239   \n",
       "1453     0.117      -0.093   -0.794865    ...     0.08432  51.571154   \n",
       "1454     0.040       0.003    0.074998    ...     0.03716  51.536411   \n",
       "\n",
       "         bbd_p2     bbd_p3     bbd_m1     bbd_m2     bbd_m3  golden  dead  \\\n",
       "1450  51.664431  51.717446  51.505385  51.452369  51.399354       0     0   \n",
       "1451  51.607569  51.647054  51.489115  51.449631  51.410146       0     0   \n",
       "1452  51.607277  51.648316  51.484161  51.443123  51.402084       0     0   \n",
       "1453  51.631507  51.691861  51.450446  51.390093  51.329739       0     0   \n",
       "1454  51.595421  51.654432  51.418389  51.359379  51.300368       0     0   \n",
       "\n",
       "          STD5  \n",
       "1450  0.053015  \n",
       "1451  0.039485  \n",
       "1452  0.041039  \n",
       "1453  0.060354  \n",
       "1454  0.059011  \n",
       "\n",
       "[5 rows x 22 columns]"
      ]
     },
     "execution_count": 38,
     "metadata": {},
     "output_type": "execute_result"
    }
   ],
   "source": [
    "#data作成までの時間\n",
    "print('かかった時間：{0}'.format(time.time()-old))\n",
    "#作成変数の表示\n",
    "data_df1.loc[len(data_df1)-5:]"
   ]
  },
  {
   "cell_type": "code",
   "execution_count": 39,
   "metadata": {},
   "outputs": [
    {
     "name": "stdout",
     "output_type": "stream",
     "text": [
      "['Volume', 'High-Low', 'Close-Open', 'Similarity', '(High-Low)*Volume ', '(Close-Open)*Volume ', 'Cross', 'bbd_p1', 'bbd_p2', 'bbd_p3', 'bbd_m1', 'bbd_m2', 'bbd_m3', 'golden', 'dead', 'STD5']\n",
      "(1455, 16)\n"
     ]
    }
   ],
   "source": [
    "#onehot_rabelを予測するニューラルネットワーク（keras）\n",
    "#使わない変数を除外\n",
    "exe_cols = ['index','Timestamp','Open','Close','High','Low']\n",
    "feature_cols = [col for col in data_df1.columns if col not in exe_cols]\n",
    "print(feature_cols)\n",
    "#NN学習用(train)にnp配列に変換\n",
    "data_np= np.array(data_df1[feature_cols])\n",
    "print(data_np.shape)"
   ]
  },
  {
   "cell_type": "code",
   "execution_count": 40,
   "metadata": {
    "scrolled": false
   },
   "outputs": [
    {
     "name": "stdout",
     "output_type": "stream",
     "text": [
      "(1454,) (1454, 23)\n"
     ]
    }
   ],
   "source": [
    "tomorrow = np.array(data_df1['Close'])#1次元\n",
    "tomorrow = np.delete(tomorrow,0)\n",
    "df_new = data_df1.drop(index=[len(data_df1)-1])\n",
    "df_new['Close_tomorrow'] = tomorrow\n",
    "print(tomorrow.shape,df_new.shape)"
   ]
  },
  {
   "cell_type": "code",
   "execution_count": null,
   "metadata": {},
   "outputs": [],
   "source": []
  },
  {
   "cell_type": "code",
   "execution_count": 41,
   "metadata": {},
   "outputs": [
    {
     "name": "stdout",
     "output_type": "stream",
     "text": [
      "(1454, 5) (1454, 16) (1454,)\n"
     ]
    }
   ],
   "source": [
    "#学習用npデータ完成\n",
    "X = data_np[:len(tomorrow),0:]\n",
    "Y,labels = make_onehot_label(df_new)\n",
    "print(Y.shape,X.shape,labels.shape)"
   ]
  },
  {
   "cell_type": "code",
   "execution_count": null,
   "metadata": {},
   "outputs": [],
   "source": []
  },
  {
   "cell_type": "code",
   "execution_count": 42,
   "metadata": {},
   "outputs": [
    {
     "name": "stdout",
     "output_type": "stream",
     "text": [
      "1381\n",
      "(1371, 16) (1371, 5)\n"
     ]
    }
   ],
   "source": [
    "# 学習では、29/30を使うものとします。これは情報の偏りを防ぐためのものであり、全体でも構いません\n",
    "L = int(len(X)//(100/95))\n",
    "print(L)\n",
    "train_x = X[10:L,:]\n",
    "train_y = Y[10:L]\n",
    "labels_train = labels[10:L]\n",
    "print(train_x.shape,train_y.shape)"
   ]
  },
  {
   "cell_type": "code",
   "execution_count": null,
   "metadata": {},
   "outputs": [],
   "source": []
  },
  {
   "cell_type": "code",
   "execution_count": 43,
   "metadata": {},
   "outputs": [],
   "source": [
    "# 残りの全てをテストデータとします\n",
    "test_x = X[L:len(X),:]\n",
    "test_y = Y[L:len(Y)]\n",
    "labels_test = labels[L:len(labels)]"
   ]
  },
  {
   "cell_type": "code",
   "execution_count": 44,
   "metadata": {},
   "outputs": [],
   "source": [
    "from keras.layers import Activation, Dense\n",
    "from keras.layers.normalization import BatchNormalization\n",
    "from keras.models import Sequential\n",
    "from keras.utils.np_utils import to_categorical\n",
    "from sklearn.metrics import classification_report, confusion_matrix"
   ]
  },
  {
   "cell_type": "code",
   "execution_count": null,
   "metadata": {},
   "outputs": [],
   "source": []
  },
  {
   "cell_type": "code",
   "execution_count": 45,
   "metadata": {},
   "outputs": [],
   "source": [
    "model = Sequential()\n",
    "model.add(Dense(5,activation='relu', input_dim=X.shape[1]))\n",
    "model.add(BatchNormalization())\n",
    "model.add(Activation('relu'))\n",
    "model.add(Dense(16))\n",
    "model.add(BatchNormalization())\n",
    "model.add(Activation('relu'))\n",
    "model.add(Dense(128))\n",
    "model.add(Activation('relu'))\n",
    "model.add(BatchNormalization())\n",
    "model.add(Dense(5))\n",
    "model.add(BatchNormalization())\n",
    "model.add(Activation('softmax'))\n",
    "model.compile(optimizer='adam',\n",
    "              loss='categorical_crossentropy',\n",
    "              metrics=['accuracy'])"
   ]
  },
  {
   "cell_type": "code",
   "execution_count": 46,
   "metadata": {},
   "outputs": [
    {
     "name": "stdout",
     "output_type": "stream",
     "text": [
      "Epoch 1/128\n",
      "1371/1371 [==============================] - 3s 2ms/step - loss: 2.0771 - acc: 0.2283\n",
      "Epoch 2/128\n",
      "1371/1371 [==============================] - 0s 33us/step - loss: 1.8396 - acc: 0.3662\n",
      "Epoch 3/128\n",
      "1371/1371 [==============================] - 0s 31us/step - loss: 1.7180 - acc: 0.4624\n",
      "Epoch 4/128\n",
      "1371/1371 [==============================] - 0s 25us/step - loss: 1.6919 - acc: 0.4785\n",
      "Epoch 5/128\n",
      "1371/1371 [==============================] - 0s 30us/step - loss: 1.6680 - acc: 0.4814\n",
      "Epoch 6/128\n",
      "1371/1371 [==============================] - 0s 30us/step - loss: 1.6654 - acc: 0.4894\n",
      "Epoch 7/128\n",
      "1371/1371 [==============================] - 0s 27us/step - loss: 1.6523 - acc: 0.4872\n",
      "Epoch 8/128\n",
      "1371/1371 [==============================] - 0s 29us/step - loss: 1.6531 - acc: 0.4792\n",
      "Epoch 9/128\n",
      "1371/1371 [==============================] - 0s 27us/step - loss: 1.6377 - acc: 0.4836\n",
      "Epoch 10/128\n",
      "1371/1371 [==============================] - 0s 26us/step - loss: 1.6416 - acc: 0.4748\n",
      "Epoch 11/128\n",
      "1371/1371 [==============================] - 0s 27us/step - loss: 1.6404 - acc: 0.4792\n",
      "Epoch 12/128\n",
      "1371/1371 [==============================] - 0s 26us/step - loss: 1.6232 - acc: 0.4799\n",
      "Epoch 13/128\n",
      "1371/1371 [==============================] - 0s 30us/step - loss: 1.6090 - acc: 0.4858\n",
      "Epoch 14/128\n",
      "1371/1371 [==============================] - 0s 29us/step - loss: 1.6144 - acc: 0.4792\n",
      "Epoch 15/128\n",
      "1371/1371 [==============================] - 0s 28us/step - loss: 1.6081 - acc: 0.4872\n",
      "Epoch 16/128\n",
      "1371/1371 [==============================] - 0s 29us/step - loss: 1.5995 - acc: 0.4829\n",
      "Epoch 17/128\n",
      "1371/1371 [==============================] - 0s 29us/step - loss: 1.5937 - acc: 0.4865\n",
      "Epoch 18/128\n",
      "1371/1371 [==============================] - 0s 26us/step - loss: 1.5967 - acc: 0.4843\n",
      "Epoch 19/128\n",
      "1371/1371 [==============================] - 0s 30us/step - loss: 1.5960 - acc: 0.4734\n",
      "Epoch 20/128\n",
      "1371/1371 [==============================] - 0s 28us/step - loss: 1.5720 - acc: 0.4843\n",
      "Epoch 21/128\n",
      "1371/1371 [==============================] - 0s 28us/step - loss: 1.5605 - acc: 0.4938\n",
      "Epoch 22/128\n",
      "1371/1371 [==============================] - 0s 26us/step - loss: 1.5807 - acc: 0.4902\n",
      "Epoch 23/128\n",
      "1371/1371 [==============================] - 0s 26us/step - loss: 1.5623 - acc: 0.4902\n",
      "Epoch 24/128\n",
      "1371/1371 [==============================] - 0s 33us/step - loss: 1.5433 - acc: 0.4880\n",
      "Epoch 25/128\n",
      "1371/1371 [==============================] - 0s 32us/step - loss: 1.5634 - acc: 0.4778\n",
      "Epoch 26/128\n",
      "1371/1371 [==============================] - 0s 30us/step - loss: 1.5460 - acc: 0.4894\n",
      "Epoch 27/128\n",
      "1371/1371 [==============================] - 0s 27us/step - loss: 1.5494 - acc: 0.4887\n",
      "Epoch 28/128\n",
      "1371/1371 [==============================] - 0s 29us/step - loss: 1.5609 - acc: 0.4887\n",
      "Epoch 29/128\n",
      "1371/1371 [==============================] - 0s 26us/step - loss: 1.5574 - acc: 0.4974\n",
      "Epoch 30/128\n",
      "1371/1371 [==============================] - 0s 32us/step - loss: 1.5562 - acc: 0.4880\n",
      "Epoch 31/128\n",
      "1371/1371 [==============================] - 0s 29us/step - loss: 1.5363 - acc: 0.4880\n",
      "Epoch 32/128\n",
      "1371/1371 [==============================] - 0s 26us/step - loss: 1.5416 - acc: 0.4916\n",
      "Epoch 33/128\n",
      "1371/1371 [==============================] - 0s 32us/step - loss: 1.5359 - acc: 0.4843\n",
      "Epoch 34/128\n",
      "1371/1371 [==============================] - 0s 26us/step - loss: 1.5273 - acc: 0.4850\n",
      "Epoch 35/128\n",
      "1371/1371 [==============================] - 0s 30us/step - loss: 1.5224 - acc: 0.4967\n",
      "Epoch 36/128\n",
      "1371/1371 [==============================] - 0s 27us/step - loss: 1.5273 - acc: 0.4872\n",
      "Epoch 37/128\n",
      "1371/1371 [==============================] - 0s 31us/step - loss: 1.5131 - acc: 0.4982\n",
      "Epoch 38/128\n",
      "1371/1371 [==============================] - 0s 39us/step - loss: 1.5316 - acc: 0.4748\n",
      "Epoch 39/128\n",
      "1371/1371 [==============================] - 0s 35us/step - loss: 1.5325 - acc: 0.4909\n",
      "Epoch 40/128\n",
      "1371/1371 [==============================] - 0s 32us/step - loss: 1.5142 - acc: 0.4829\n",
      "Epoch 41/128\n",
      "1371/1371 [==============================] - 0s 37us/step - loss: 1.5128 - acc: 0.4902\n",
      "Epoch 42/128\n",
      "1371/1371 [==============================] - 0s 29us/step - loss: 1.5203 - acc: 0.4865\n",
      "Epoch 43/128\n",
      "1371/1371 [==============================] - 0s 35us/step - loss: 1.5147 - acc: 0.4807\n",
      "Epoch 44/128\n",
      "1371/1371 [==============================] - 0s 37us/step - loss: 1.5139 - acc: 0.4960\n",
      "Epoch 45/128\n",
      "1371/1371 [==============================] - 0s 33us/step - loss: 1.5008 - acc: 0.4872\n",
      "Epoch 46/128\n",
      "1371/1371 [==============================] - 0s 32us/step - loss: 1.4976 - acc: 0.4931\n",
      "Epoch 47/128\n",
      "1371/1371 [==============================] - 0s 29us/step - loss: 1.4969 - acc: 0.4923\n",
      "Epoch 48/128\n",
      "1371/1371 [==============================] - 0s 34us/step - loss: 1.4877 - acc: 0.4982\n",
      "Epoch 49/128\n",
      "1371/1371 [==============================] - 0s 32us/step - loss: 1.4858 - acc: 0.4989\n",
      "Epoch 50/128\n",
      "1371/1371 [==============================] - 0s 34us/step - loss: 1.4801 - acc: 0.4945\n",
      "Epoch 51/128\n",
      "1371/1371 [==============================] - 0s 26us/step - loss: 1.4956 - acc: 0.4821\n",
      "Epoch 52/128\n",
      "1371/1371 [==============================] - 0s 26us/step - loss: 1.4792 - acc: 0.4872\n",
      "Epoch 53/128\n",
      "1371/1371 [==============================] - 0s 34us/step - loss: 1.4870 - acc: 0.4945\n",
      "Epoch 54/128\n",
      "1371/1371 [==============================] - 0s 35us/step - loss: 1.4817 - acc: 0.5062\n",
      "Epoch 55/128\n",
      "1371/1371 [==============================] - 0s 34us/step - loss: 1.4780 - acc: 0.4982\n",
      "Epoch 56/128\n",
      "1371/1371 [==============================] - 0s 33us/step - loss: 1.4903 - acc: 0.4953\n",
      "Epoch 57/128\n",
      "1371/1371 [==============================] - 0s 29us/step - loss: 1.4689 - acc: 0.5033\n",
      "Epoch 58/128\n",
      "1371/1371 [==============================] - 0s 25us/step - loss: 1.4722 - acc: 0.5026\n",
      "Epoch 59/128\n",
      "1371/1371 [==============================] - 0s 26us/step - loss: 1.4829 - acc: 0.4916\n",
      "Epoch 60/128\n",
      "1371/1371 [==============================] - 0s 30us/step - loss: 1.4599 - acc: 0.4982\n",
      "Epoch 61/128\n",
      "1371/1371 [==============================] - 0s 41us/step - loss: 1.4775 - acc: 0.4872\n",
      "Epoch 62/128\n",
      "1371/1371 [==============================] - 0s 41us/step - loss: 1.4753 - acc: 0.4945\n",
      "Epoch 63/128\n",
      "1371/1371 [==============================] - 0s 39us/step - loss: 1.4578 - acc: 0.4989\n",
      "Epoch 64/128\n",
      "1371/1371 [==============================] - 0s 36us/step - loss: 1.4597 - acc: 0.4829\n",
      "Epoch 65/128\n",
      "1371/1371 [==============================] - 0s 26us/step - loss: 1.4562 - acc: 0.4945\n",
      "Epoch 66/128\n",
      "1371/1371 [==============================] - 0s 25us/step - loss: 1.4578 - acc: 0.4931\n",
      "Epoch 67/128\n",
      "1371/1371 [==============================] - 0s 34us/step - loss: 1.4418 - acc: 0.4894\n",
      "Epoch 68/128\n",
      "1371/1371 [==============================] - 0s 34us/step - loss: 1.4641 - acc: 0.4974\n",
      "Epoch 69/128\n",
      "1371/1371 [==============================] - 0s 33us/step - loss: 1.4656 - acc: 0.4931\n",
      "Epoch 70/128\n",
      "1371/1371 [==============================] - 0s 31us/step - loss: 1.4656 - acc: 0.4996\n",
      "Epoch 71/128\n",
      "1371/1371 [==============================] - 0s 41us/step - loss: 1.4558 - acc: 0.5018\n",
      "Epoch 72/128\n",
      "1371/1371 [==============================] - 0s 28us/step - loss: 1.4576 - acc: 0.4996\n",
      "Epoch 73/128\n",
      "1371/1371 [==============================] - 0s 27us/step - loss: 1.4446 - acc: 0.4967\n",
      "Epoch 74/128\n",
      "1371/1371 [==============================] - 0s 26us/step - loss: 1.4524 - acc: 0.4938\n",
      "Epoch 75/128\n",
      "1371/1371 [==============================] - 0s 31us/step - loss: 1.4571 - acc: 0.4807\n",
      "Epoch 76/128\n",
      "1371/1371 [==============================] - 0s 36us/step - loss: 1.4480 - acc: 0.4974\n",
      "Epoch 77/128\n",
      "1371/1371 [==============================] - 0s 36us/step - loss: 1.4409 - acc: 0.5018\n",
      "Epoch 78/128\n",
      "1371/1371 [==============================] - 0s 34us/step - loss: 1.4395 - acc: 0.5128\n",
      "Epoch 79/128\n",
      "1371/1371 [==============================] - 0s 35us/step - loss: 1.4482 - acc: 0.4996\n",
      "Epoch 80/128\n",
      "1371/1371 [==============================] - 0s 26us/step - loss: 1.4635 - acc: 0.4894\n",
      "Epoch 81/128\n",
      "1371/1371 [==============================] - 0s 30us/step - loss: 1.4529 - acc: 0.4858\n",
      "Epoch 82/128\n",
      "1371/1371 [==============================] - 0s 28us/step - loss: 1.4408 - acc: 0.5026\n",
      "Epoch 83/128\n"
     ]
    },
    {
     "name": "stdout",
     "output_type": "stream",
     "text": [
      "1371/1371 [==============================] - 0s 27us/step - loss: 1.4520 - acc: 0.4960\n",
      "Epoch 84/128\n",
      "1371/1371 [==============================] - 0s 32us/step - loss: 1.4381 - acc: 0.4960\n",
      "Epoch 85/128\n",
      "1371/1371 [==============================] - 0s 26us/step - loss: 1.4356 - acc: 0.5018\n",
      "Epoch 86/128\n",
      "1371/1371 [==============================] - 0s 27us/step - loss: 1.4325 - acc: 0.4989\n",
      "Epoch 87/128\n",
      "1371/1371 [==============================] - ETA: 0s - loss: 1.3247 - acc: 0.453 - 0s 29us/step - loss: 1.4646 - acc: 0.4923\n",
      "Epoch 88/128\n",
      "1371/1371 [==============================] - 0s 31us/step - loss: 1.4410 - acc: 0.4938\n",
      "Epoch 89/128\n",
      "1371/1371 [==============================] - 0s 30us/step - loss: 1.4359 - acc: 0.5062\n",
      "Epoch 90/128\n",
      "1371/1371 [==============================] - 0s 30us/step - loss: 1.4378 - acc: 0.4996\n",
      "Epoch 91/128\n",
      "1371/1371 [==============================] - 0s 31us/step - loss: 1.4334 - acc: 0.5026\n",
      "Epoch 92/128\n",
      "1371/1371 [==============================] - 0s 29us/step - loss: 1.4351 - acc: 0.4974\n",
      "Epoch 93/128\n",
      "1371/1371 [==============================] - 0s 27us/step - loss: 1.4295 - acc: 0.5011\n",
      "Epoch 94/128\n",
      "1371/1371 [==============================] - 0s 30us/step - loss: 1.4392 - acc: 0.4960\n",
      "Epoch 95/128\n",
      "1371/1371 [==============================] - 0s 32us/step - loss: 1.4053 - acc: 0.5004\n",
      "Epoch 96/128\n",
      "1371/1371 [==============================] - 0s 27us/step - loss: 1.4287 - acc: 0.4945\n",
      "Epoch 97/128\n",
      "1371/1371 [==============================] - 0s 29us/step - loss: 1.4292 - acc: 0.4923\n",
      "Epoch 98/128\n",
      "1371/1371 [==============================] - 0s 28us/step - loss: 1.4138 - acc: 0.5026\n",
      "Epoch 99/128\n",
      "1371/1371 [==============================] - 0s 26us/step - loss: 1.4155 - acc: 0.4953\n",
      "Epoch 100/128\n",
      "1371/1371 [==============================] - 0s 29us/step - loss: 1.4363 - acc: 0.5026\n",
      "Epoch 101/128\n",
      "1371/1371 [==============================] - 0s 30us/step - loss: 1.4380 - acc: 0.5026\n",
      "Epoch 102/128\n",
      "1371/1371 [==============================] - 0s 31us/step - loss: 1.4307 - acc: 0.4945\n",
      "Epoch 103/128\n",
      "1371/1371 [==============================] - 0s 28us/step - loss: 1.4220 - acc: 0.4960\n",
      "Epoch 104/128\n",
      "1371/1371 [==============================] - 0s 29us/step - loss: 1.4299 - acc: 0.4938\n",
      "Epoch 105/128\n",
      "1371/1371 [==============================] - 0s 30us/step - loss: 1.4278 - acc: 0.4953\n",
      "Epoch 106/128\n",
      "1371/1371 [==============================] - 0s 30us/step - loss: 1.4388 - acc: 0.4880\n",
      "Epoch 107/128\n",
      "1371/1371 [==============================] - 0s 33us/step - loss: 1.4343 - acc: 0.4974\n",
      "Epoch 108/128\n",
      "1371/1371 [==============================] - 0s 32us/step - loss: 1.4049 - acc: 0.5018\n",
      "Epoch 109/128\n",
      "1371/1371 [==============================] - 0s 29us/step - loss: 1.4323 - acc: 0.4953\n",
      "Epoch 110/128\n",
      "1371/1371 [==============================] - 0s 35us/step - loss: 1.4182 - acc: 0.5026\n",
      "Epoch 111/128\n",
      "1371/1371 [==============================] - 0s 33us/step - loss: 1.4215 - acc: 0.5011\n",
      "Epoch 112/128\n",
      "1371/1371 [==============================] - 0s 37us/step - loss: 1.4371 - acc: 0.4916\n",
      "Epoch 113/128\n",
      "1371/1371 [==============================] - 0s 35us/step - loss: 1.4152 - acc: 0.5033\n",
      "Epoch 114/128\n",
      "1371/1371 [==============================] - 0s 32us/step - loss: 1.4234 - acc: 0.4916\n",
      "Epoch 115/128\n",
      "1371/1371 [==============================] - 0s 33us/step - loss: 1.4155 - acc: 0.4982\n",
      "Epoch 116/128\n",
      "1371/1371 [==============================] - 0s 31us/step - loss: 1.4200 - acc: 0.4843\n",
      "Epoch 117/128\n",
      "1371/1371 [==============================] - 0s 34us/step - loss: 1.4276 - acc: 0.4894\n",
      "Epoch 118/128\n",
      "1371/1371 [==============================] - 0s 31us/step - loss: 1.4216 - acc: 0.4923\n",
      "Epoch 119/128\n",
      "1371/1371 [==============================] - 0s 34us/step - loss: 1.4184 - acc: 0.4807\n",
      "Epoch 120/128\n",
      "1371/1371 [==============================] - 0s 30us/step - loss: 1.4146 - acc: 0.5033\n",
      "Epoch 121/128\n",
      "1371/1371 [==============================] - 0s 33us/step - loss: 1.4051 - acc: 0.5033\n",
      "Epoch 122/128\n",
      "1371/1371 [==============================] - 0s 30us/step - loss: 1.4072 - acc: 0.5004\n",
      "Epoch 123/128\n",
      "1371/1371 [==============================] - 0s 32us/step - loss: 1.4101 - acc: 0.4894\n",
      "Epoch 124/128\n",
      "1371/1371 [==============================] - 0s 25us/step - loss: 1.4019 - acc: 0.5018\n",
      "Epoch 125/128\n",
      "1371/1371 [==============================] - 0s 26us/step - loss: 1.4123 - acc: 0.4982\n",
      "Epoch 126/128\n",
      "1371/1371 [==============================] - 0s 26us/step - loss: 1.4066 - acc: 0.5084\n",
      "Epoch 127/128\n",
      "1371/1371 [==============================] - 0s 27us/step - loss: 1.3958 - acc: 0.5018\n",
      "Epoch 128/128\n",
      "1371/1371 [==============================] - 0s 26us/step - loss: 1.4113 - acc: 0.4945\n"
     ]
    },
    {
     "data": {
      "text/plain": [
       "<keras.callbacks.History at 0x1c90a579278>"
      ]
     },
     "execution_count": 46,
     "metadata": {},
     "output_type": "execute_result"
    }
   ],
   "source": [
    "model.fit(train_x, train_y, epochs=128, batch_size=128)"
   ]
  },
  {
   "cell_type": "code",
   "execution_count": 47,
   "metadata": {},
   "outputs": [
    {
     "name": "stdout",
     "output_type": "stream",
     "text": [
      "accuracy: 0.89\n"
     ]
    }
   ],
   "source": [
    "_, acc = model.evaluate(test_x,test_y, verbose=0)\n",
    "print('accuracy: {:.2f}'.format(acc))"
   ]
  },
  {
   "cell_type": "code",
   "execution_count": 48,
   "metadata": {},
   "outputs": [
    {
     "name": "stdout",
     "output_type": "stream",
     "text": [
      "             precision    recall  f1-score   support\n",
      "\n",
      "          0       0.00      0.00      0.00         1\n",
      "          1       0.00      0.00      0.00         4\n",
      "          2       0.90      0.98      0.94        65\n",
      "          3       1.00      0.33      0.50         3\n",
      "\n",
      "avg / total       0.84      0.89      0.86        73\n",
      "\n"
     ]
    },
    {
     "name": "stderr",
     "output_type": "stream",
     "text": [
      "C:\\Users\\ibuki\\Anaconda3\\envs\\py36\\lib\\site-packages\\sklearn\\metrics\\classification.py:1135: UndefinedMetricWarning: Precision and F-score are ill-defined and being set to 0.0 in labels with no predicted samples.\n",
      "  'precision', 'predicted', average, warn_for)\n"
     ]
    }
   ],
   "source": [
    "labels_pred = model.predict_classes(test_x, verbose=0)\n",
    "#print(confusion_matrix(labels_test, labels_pred))\n",
    "print(classification_report(labels_test, labels_pred))"
   ]
  },
  {
   "cell_type": "code",
   "execution_count": 49,
   "metadata": {},
   "outputs": [
    {
     "name": "stdout",
     "output_type": "stream",
     "text": [
      "[1 0 0 2 1 0 0 0 0 2 2 2 2 2 0 0 3 2 1 2 2 0 3 3 0 2 1 3 1 2]\n",
      "20    53.000\n",
      "21    57.000\n",
      "22    59.510\n",
      "23    58.500\n",
      "24    59.399\n",
      "25    63.571\n",
      "26    66.508\n",
      "27    69.790\n",
      "28    73.914\n",
      "29    74.000\n",
      "30    68.515\n",
      "31    66.001\n",
      "32    62.171\n",
      "33    56.300\n",
      "34    60.000\n",
      "35    66.000\n",
      "36    65.598\n",
      "37    61.600\n",
      "38    62.000\n",
      "39    60.400\n",
      "Name: Close_tomorrow, dtype: float64\n",
      "(73,)\n",
      "[0 3 0 ... 2 2 2] (1371,)\n"
     ]
    }
   ],
   "source": [
    "print(labels[20:50])\n",
    "print(df_new['Close_tomorrow'][20:40])\n",
    "print(labels_test.shape)\n",
    "print(labels_train,labels_train.shape)"
   ]
  },
  {
   "cell_type": "code",
   "execution_count": 50,
   "metadata": {},
   "outputs": [],
   "source": [
    "#a1 = np.round(a, decimals=1)"
   ]
  },
  {
   "cell_type": "code",
   "execution_count": 51,
   "metadata": {},
   "outputs": [
    {
     "name": "stdout",
     "output_type": "stream",
     "text": [
      "[2 2 2 2 2 2 2 2 2 2 2 2 2 2 3 1 2 2 2 2 2 2 2 2 2 2 2 2 2 2 2 2 2 2 2 2 2\n",
      " 2 2 2 2 2 2 2 2 2 2 2 2 2 2 2 2 2 2 2 2 2 2 2 2 2 2 2 2 2 2 2 2 2 2 2 2] (73,)\n"
     ]
    }
   ],
   "source": [
    "print(labels_pred,labels_pred.shape)"
   ]
  },
  {
   "cell_type": "code",
   "execution_count": 52,
   "metadata": {},
   "outputs": [
    {
     "name": "stdout",
     "output_type": "stream",
     "text": [
      "(73,) (73,) <class 'numpy.ndarray'> <class 'numpy.ndarray'>\n",
      "[2 1 3 2 2 2 2 2 2 2 3 2 2 0 3 2 1 2 2 1 2 2 2 1 2 2 2 2 2 2 2 2 2 2 2 2 2\n",
      " 2 2 2 2 2 2 2 2 2 2 2 2 2 2 2 2 2 2 2 2 2 2 2 2 2 2 2 2 2 2 2 2 2 2 2 2] [2 2 2 2 2 2 2 2 2 2 2 2 2 2 3 1 2 2 2 2 2 2 2 2 2 2 2 2 2 2 2 2 2 2 2 2 2\n",
      " 2 2 2 2 2 2 2 2 2 2 2 2 2 2 2 2 2 2 2 2 2 2 2 2 2 2 2 2 2 2 2 2 2 2 2 2]\n"
     ]
    }
   ],
   "source": [
    "print(labels_test.shape, labels_pred.shape,type(labels_test), type(labels_pred))\n",
    "print(labels_test, labels_pred)"
   ]
  },
  {
   "cell_type": "code",
   "execution_count": 53,
   "metadata": {},
   "outputs": [
    {
     "name": "stdout",
     "output_type": "stream",
     "text": [
      "int32 int64\n"
     ]
    }
   ],
   "source": [
    "print(labels_test.dtype, labels_pred.dtype)"
   ]
  },
  {
   "cell_type": "code",
   "execution_count": 54,
   "metadata": {},
   "outputs": [
    {
     "name": "stdout",
     "output_type": "stream",
     "text": [
      "labels:1454\n",
      "欠損値:0\n"
     ]
    }
   ],
   "source": [
    "a = 0\n",
    "print('labels:'+str(len(labels)))\n",
    "for item in labels:\n",
    "    if item < 0 or item > 5: \n",
    "        print(item)\n",
    "        a += 1\n",
    "#     if item != 0 & item != 1 & item != 2 & item != 3 & item != 4:\n",
    "#         print(item)\n",
    "#         a += 1\n",
    "print('欠損値:'+str(a))\n"
   ]
  },
  {
   "cell_type": "code",
   "execution_count": 55,
   "metadata": {},
   "outputs": [
    {
     "name": "stdout",
     "output_type": "stream",
     "text": [
      "60    0.912\n",
      "61   -0.111\n",
      "62    1.790\n",
      "63   -1.701\n",
      "64   -1.088\n",
      "65    1.179\n",
      "66    0.594\n",
      "67    0.936\n",
      "68   -0.902\n",
      "69    0.389\n",
      "70   -1.232\n",
      "71    0.335\n",
      "72    1.579\n",
      "73   -0.751\n",
      "74    0.358\n",
      "75   -0.346\n",
      "76   -0.860\n",
      "77   -1.280\n",
      "78    0.805\n",
      "79   -0.246\n",
      "80   -0.249\n",
      "81   -0.110\n",
      "82    0.018\n",
      "83   -0.218\n",
      "84    0.000\n",
      "85    0.100\n",
      "86    0.349\n",
      "87    1.085\n",
      "88   -0.244\n",
      "89   -0.090\n",
      "90   -0.300\n",
      "91    0.000\n",
      "92    0.200\n",
      "93    0.139\n",
      "94    0.464\n",
      "95   -0.382\n",
      "96   -0.311\n",
      "97    0.390\n",
      "98    0.510\n",
      "99   -0.023\n",
      "dtype: float64\n"
     ]
    }
   ],
   "source": [
    "a = df_new['Close_tomorrow']-df_new['Close']\n",
    "print(a[60:100])\n"
   ]
  },
  {
   "cell_type": "code",
   "execution_count": null,
   "metadata": {},
   "outputs": [],
   "source": []
  },
  {
   "cell_type": "code",
   "execution_count": null,
   "metadata": {},
   "outputs": [],
   "source": []
  },
  {
   "cell_type": "code",
   "execution_count": null,
   "metadata": {},
   "outputs": [],
   "source": []
  }
 ],
 "metadata": {
  "kernelspec": {
   "display_name": "Python 3",
   "language": "python",
   "name": "python3"
  },
  "language_info": {
   "codemirror_mode": {
    "name": "ipython",
    "version": 3
   },
   "file_extension": ".py",
   "mimetype": "text/x-python",
   "name": "python",
   "nbconvert_exporter": "python",
   "pygments_lexer": "ipython3",
   "version": "3.6.5"
  }
 },
 "nbformat": 4,
 "nbformat_minor": 2
}
