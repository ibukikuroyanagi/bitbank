{
 "cells": [
  {
   "cell_type": "code",
   "execution_count": 1,
   "metadata": {},
   "outputs": [],
   "source": [
    "#python_bitbankccのパッケージをインポート\n",
    "import python_bitbankcc \n",
    "import datetime\n",
    "import os \n",
    "import time\n",
    "import numpy as np\n",
    "import pandas as pd\n",
    "import sys"
   ]
  },
  {
   "cell_type": "code",
   "execution_count": 2,
   "metadata": {},
   "outputs": [
    {
     "name": "stdout",
     "output_type": "stream",
     "text": [
      "<class 'dict'>\n",
      "sell:66.200\n",
      "buy:66.190\n"
     ]
    }
   ],
   "source": [
    "# public API classのオブジェクトを取得\n",
    "pub = python_bitbankcc.public()\n",
    "\n",
    "# ティッカー情報を取得\n",
    "value = pub.get_ticker( 'xrp_jpy' )\n",
    "print(type(value))\n",
    "#現在の売り注文の最安値\n",
    "print('sell:' + value['sell'])\n",
    "#現在の買い注文の最安値\n",
    "print('buy:' + value['buy'])"
   ]
  },
  {
   "cell_type": "code",
   "execution_count": 3,
   "metadata": {},
   "outputs": [
    {
     "name": "stdout",
     "output_type": "stream",
     "text": [
      "<class 'dict'>\n",
      "sell = 66.200 :現在の売り注文の最安値\n",
      "buy = 66.190 :現在の買い注文の最安値\n",
      "high = 66.666 :過去24時間の最高値取引価格\n",
      "low = 60.200 :過去24時間の最安値取引価格\n",
      "last = 66.200 :最新取引価格\n",
      "vol = 216220167.6352 :過去24時間の出来高\n",
      "timestamp = 1537696628776 :なんかの時間\n",
      "2018-09-23 18:57:08.776000\n"
     ]
    }
   ],
   "source": [
    "print(type(value))\n",
    "ticker_inf=['現在の売り注文の最安値','現在の買い注文の最安値','過去24時間の最高値取引価格',\n",
    "            '過去24時間の最安値取引価格','最新取引価格','過去24時間の出来高','なんかの時間']\n",
    "data_name=[]\n",
    "values = []\n",
    "for key,val in value.items():\n",
    "    data_name.append(key)\n",
    "    values.append(val)\n",
    "information = list(zip(data_name,values,ticker_inf))\n",
    "for key,val,inf in information:\n",
    "    print(f'{key} = {val} :{inf}')\n",
    "print(datetime.datetime.fromtimestamp(value['timestamp']/1000))#これで表示できる\n",
    "#print(information)"
   ]
  },
  {
   "cell_type": "code",
   "execution_count": 4,
   "metadata": {},
   "outputs": [],
   "source": [
    "# value = pub.get_ticker( '' )\n",
    "# pair = ['btc_jpy', 'xrp_jpy', 'ltc_btc', 'eth_btc', 'mona_jpy', 'mona_btc', 'bcc_jpy', 'bcc_btc']"
   ]
  },
  {
   "cell_type": "code",
   "execution_count": 5,
   "metadata": {},
   "outputs": [
    {
     "name": "stdout",
     "output_type": "stream",
     "text": [
      "<class 'dict'>\n",
      "取引ID:19014574\n",
      "売買情報:sell\n",
      "約定価格:66.200\n",
      "数量:3623.4554\n",
      "約定日時:2018-09-23 18:57:08.389000\n"
     ]
    }
   ],
   "source": [
    "# 全約定履歴を取得\n",
    "records = pub.get_transactions( 'xrp_jpy' )\n",
    "print(type(records))\n",
    "# for key,val in records.items():\n",
    "#     print(f'{key} = {val}')\n",
    "#     print()\n",
    "#約定履歴の一例\n",
    "trans_ex = records['transactions'][0]\n",
    "print('取引ID:' + str(trans_ex['transaction_id']))\n",
    "print('売買情報:' + trans_ex['side'])\n",
    "print('約定価格:' + trans_ex['price'])\n",
    "print('数量:' + trans_ex['amount'])\n",
    "print('約定日時:' + str(datetime.datetime.fromtimestamp(trans_ex['executed_at']/1000)))"
   ]
  },
  {
   "cell_type": "code",
   "execution_count": 6,
   "metadata": {},
   "outputs": [
    {
     "name": "stdout",
     "output_type": "stream",
     "text": [
      "candle type:5min\n",
      "始値：95.899\n",
      "高値：95.900\n",
      "安値：94.800\n",
      "終値：94.973\n",
      "出来高：1184813.9545\n",
      "対象時刻：2018-05-04 09:00:00\n",
      "95.899\n",
      "2018-05-05 08:55:00\n",
      "288\n",
      "<class 'list'>\n",
      "1\n"
     ]
    }
   ],
   "source": [
    "# ロウソク足データを取得\n",
    "value = pub.get_candlestick( 'xrp_jpy',  '5min', '20180504' )\n",
    "\n",
    "#ローソク足情報の一例(2018/5/4 午前9時の1時間足)\n",
    "candle = value['candlestick'][0]\n",
    "print('candle type:' + candle['type'])\n",
    "print('始値：' + candle['ohlcv'][0][0])\n",
    "print('高値：' + candle['ohlcv'][0][1])\n",
    "print('安値：' + candle['ohlcv'][0][2])\n",
    "print('終値：' + candle['ohlcv'][0][3])\n",
    "print('出来高：' + candle['ohlcv'][0][4])\n",
    "print('対象時刻：' + str(datetime.datetime.fromtimestamp(candle['ohlcv'][0][5]/1000)))\n",
    "\n",
    "print(candle['ohlcv'][0][0])\n",
    "print(datetime.datetime.fromtimestamp(candle['ohlcv'][-1][-1]/1000))\n",
    "print(len(candle['ohlcv']))\n",
    "print(type(candle['ohlcv']))\n",
    "print(len(value['candlestick']))\n"
   ]
  },
  {
   "cell_type": "code",
   "execution_count": 7,
   "metadata": {},
   "outputs": [],
   "source": [
    "# 使い方\n",
    "# value = get_candlestick( 'ペア', 'ローソク足のタイプ', 'YYYYMMDD 型の日付' )\n",
    "# ローソク足のタイプ例⇒1min, 5min, 15min, 30min, 1hour, 4hour, 8hour, 12hour, 1day, 1week\n",
    "# YYYYMMDD 型(YYYY型でも良い)の日付例⇒20180504, 2017等"
   ]
  },
  {
   "cell_type": "code",
   "execution_count": 11,
   "metadata": {},
   "outputs": [
    {
     "name": "stdout",
     "output_type": "stream",
     "text": [
      "531\n",
      "        Open     High      Low    Close          Volume           Timestamp\n",
      "0    244.434  244.978  231.000  238.001    2549414.0366 2018-01-01 09:00:00\n",
      "1    238.001  249.999  220.000  243.000    3332084.5765 2018-01-01 21:00:00\n",
      "2    243.500  248.000  236.300  244.999    3474777.4859 2018-01-02 09:00:00\n",
      "3    244.999  267.999  243.895  258.612    5970917.9580 2018-01-02 21:00:00\n",
      "4    258.569  292.900  256.783  283.000    8796858.5909 2018-01-03 09:00:00\n",
      "5    283.000  329.999  276.000  326.898   10378646.0837 2018-01-03 21:00:00\n",
      "6    326.897  401.000  324.000  379.500   15281944.1075 2018-01-04 09:00:00\n",
      "7    379.500  397.000  322.123  358.873   10030005.6751 2018-01-04 21:00:00\n",
      "8    358.999  378.500  322.000  352.002    9343377.3393 2018-01-05 09:00:00\n",
      "9    352.002  355.000  300.000  312.428    8051291.9723 2018-01-05 21:00:00\n",
      "10   312.000  335.000  306.001  325.000    4254586.8040 2018-01-06 09:00:00\n",
      "11   324.980  348.700  300.000  323.139    3315351.9435 2018-01-06 21:00:00\n",
      "12   323.006  332.000  315.000  324.000    2129949.0091 2018-01-07 09:00:00\n",
      "13   324.000  342.001  323.002  334.901    3241731.5783 2018-01-07 21:00:00\n",
      "14   334.901  336.335  311.200  318.000    2924304.3420 2018-01-08 09:00:00\n",
      "15   317.476  320.000  250.000  309.987    7244244.6129 2018-01-08 21:00:00\n",
      "16   309.755  324.999  289.000  290.999    4112527.8415 2018-01-09 09:00:00\n",
      "17   290.999  310.000  252.024  265.000    7947331.4954 2018-01-09 21:00:00\n",
      "18   265.000  290.012  200.000  243.488   16598920.3863 2018-01-10 09:00:00\n",
      "19   243.488  259.000  227.000  241.003    5442294.3907 2018-01-10 21:00:00\n",
      "20   241.003  250.825  205.700  215.510   10261944.7596 2018-01-11 09:00:00\n",
      "21   216.000  283.000  210.100  239.400   14213418.5527 2018-01-11 21:00:00\n",
      "22   239.000  268.985  230.010  251.999    8020243.1966 2018-01-12 09:00:00\n",
      "23   251.999  259.998  240.024  248.000    4020946.0953 2018-01-12 21:00:00\n",
      "24   248.000  255.000  246.000  250.240    3019945.6134 2018-01-13 09:00:00\n",
      "25   250.240  251.499  235.000  246.600    2541587.4002 2018-01-13 21:00:00\n",
      "26   246.600  246.880  227.100  227.100    3772783.8603 2018-01-14 09:00:00\n",
      "27   227.199  236.989  220.302  230.480    3063784.1700 2018-01-14 21:00:00\n",
      "28   229.801  239.889  222.000  224.932    3734050.0902 2018-01-15 09:00:00\n",
      "29   222.985  231.010  193.000  198.170    7300095.1235 2018-01-15 21:00:00\n",
      "..       ...      ...      ...      ...             ...                 ...\n",
      "501   32.361   32.480   30.027   30.880   57944157.9781 2018-09-08 21:00:00\n",
      "502   30.889   31.850   30.202   31.610   50736625.8425 2018-09-09 09:00:00\n",
      "503   31.601   32.301   30.401   30.700   50726023.8121 2018-09-09 21:00:00\n",
      "504   30.700   31.335   30.111   30.395   50095558.9287 2018-09-10 09:00:00\n",
      "505   30.391   30.400   28.900   29.989   69636564.9121 2018-09-10 21:00:00\n",
      "506   29.988   30.700   29.015   29.220   58578556.8468 2018-09-11 09:00:00\n",
      "507   29.220   29.759   28.300   29.240   63689969.7492 2018-09-11 21:00:00\n",
      "508   29.240   29.484   28.300   28.541   54135996.4437 2018-09-12 09:00:00\n",
      "509   28.541   30.240   28.500   30.021   76226204.4009 2018-09-12 21:00:00\n",
      "510   30.011   30.689   29.731   30.497   57458987.3941 2018-09-13 09:00:00\n",
      "511   30.500   31.990   30.350   31.256   94364681.1943 2018-09-13 21:00:00\n",
      "512   31.300   31.850   30.550   30.978   75627787.6997 2018-09-14 09:00:00\n",
      "513   30.975   31.500   30.451   30.930   45808820.8391 2018-09-14 21:00:00\n",
      "514   30.927   31.470   30.800   31.250   34295772.9168 2018-09-15 09:00:00\n",
      "515   31.250   31.679   31.217   31.429   34845921.4760 2018-09-15 21:00:00\n",
      "516   31.429   31.499   30.820   31.270   30557917.5650 2018-09-16 09:00:00\n",
      "517   31.272   31.450   30.980   31.400   20029031.3832 2018-09-16 21:00:00\n",
      "518   31.400   31.630   31.101   31.391   27628720.0865 2018-09-17 09:00:00\n",
      "519   31.393   31.405   29.800   30.240   52300201.2366 2018-09-17 21:00:00\n",
      "520   30.220   34.700   30.150   34.700   32980138.2478 2018-09-18 09:00:00\n",
      "521   34.700   37.290   33.527   35.769  107690073.7746 2018-09-18 21:00:00\n",
      "522   35.700   37.543   35.320   35.412   88731466.0240 2018-09-19 09:00:00\n",
      "523   35.412   37.049   34.880   36.159   97338473.4003 2018-09-19 21:00:00\n",
      "524   36.135   40.514   35.900   40.514   54467036.3739 2018-09-20 09:00:00\n",
      "525   40.514   54.900   39.500   50.400  204604264.7099 2018-09-20 21:00:00\n",
      "526   50.415   59.510   45.900   59.510  202899876.3202 2018-09-21 09:00:00\n",
      "527   59.517   75.010   55.184   60.998  166775158.0863 2018-09-21 21:00:00\n",
      "528   60.950   66.980   53.000   62.965  220291445.5555 2018-09-22 09:00:00\n",
      "529   62.951   65.950   60.200   63.703  100210144.9505 2018-09-22 21:00:00\n",
      "530   63.703   66.666   63.000   65.750   95001853.0084 2018-09-23 09:00:00\n",
      "\n",
      "[531 rows x 6 columns]\n"
     ]
    }
   ],
   "source": [
    "#ここで仮想通貨の2年分のtrain_test_dataを取得する　簡単のために5min足にする\n",
    "\n",
    "def get_candle(trade_name,span,back_day):\n",
    "    # ロウソク足データを取得\n",
    "    value = pub.get_candlestick( trade_name,span, back_day )\n",
    "    candle = value['candlestick'][0]\n",
    "    #print(candle['ohlcv'][0])\n",
    "    dataframe = pd.DataFrame(candle['ohlcv'],columns=[\"Open\", \"High\",\"Low\",\"Close\",\"Volume\",\"Timestamp\"])\n",
    "    return dataframe\n",
    "\n",
    "def read_date(x):\n",
    "    return datetime.datetime.fromtimestamp(x/1000)\n",
    "\n",
    "\n",
    "df1 = get_candle( 'xrp_jpy',  '12hour', '2018')\n",
    "\n",
    "df1['Timestamp'] = df1['Timestamp'].apply(read_date)\n",
    "print(len(df1))\n",
    "print(df1)\n",
    "\n",
    "#今から指定した日までの足をとる\n",
    "# def conect_data(name,time,day):\n",
    "    \n",
    "# pd.concat([df1, df2, df3])\n",
    "\n"
   ]
  },
  {
   "cell_type": "code",
   "execution_count": null,
   "metadata": {},
   "outputs": [],
   "source": [
    "date = datetime.date.today()\n",
    "day = '{year}{month:02}{day:02}'.format(year = date.year,month = date.month,day = date.day)\n",
    "print(day)\n",
    "\n",
    "# timestamp = ''\n",
    "# for i in range(3):\n",
    "#     timestamp += str(date[i])\n"
   ]
  },
  {
   "cell_type": "code",
   "execution_count": null,
   "metadata": {},
   "outputs": [],
   "source": [
    "today = datetime.date.today()\n",
    "tomorrow = today + datetime.timedelta(days=1)\n",
    "yesterday = today - datetime.timedelta(days=12)\n",
    "#today = datetime.datetime.strftime(today, '%Y%m%d')\n",
    "print(today == (tomorrow -datetime.timedelta(days=1)),( datetime.datetime.strptime('20180921', '%Y%m%d')) != today)\n",
    "print(\"tomorrow -> \" + datetime.datetime.strftime(tomorrow, '%Y%m%d'))\n",
    "print(\"yesterday -> \" + datetime.datetime.strftime(yesterday, '%Y%m%d'))\n",
    "\n",
    "if today < tomorrow:\n",
    "    print('True')"
   ]
  },
  {
   "cell_type": "code",
   "execution_count": null,
   "metadata": {},
   "outputs": [],
   "source": [
    "\n",
    "def make_df(trade_name,span,back_day,today):#back_day,todayはdatetime\n",
    "    i = 1\n",
    "    while back_day <= today - datetime.timedelta(days=1):\n",
    "        if i == 1:\n",
    "            df1 = get_candle(trade_name,span,datetime.datetime.strftime(back_day, '%Y%m%d'))\n",
    "            back_day = back_day + datetime.timedelta(days=1)\n",
    "            #print(back_day,len(df1))\n",
    "            i += 1\n",
    "        else:\n",
    "            df2 = get_candle(trade_name,span,datetime.datetime.strftime(back_day, '%Y%m%d'))\n",
    "            df1 = pd.concat([df1, df2])\n",
    "            back_day = back_day + datetime.timedelta(days=1)\n",
    "            #print(back_day,len(df1))\n",
    "            i += 1\n",
    "    \n",
    "    return df1\n",
    "\n",
    "back_day = today - datetime.timedelta(days=10)\n",
    "trade_name = 'xrp_jpy'\n",
    "span = '1hour'\n",
    "df1 =  make_df(trade_name,span,back_day,today)\n",
    "print(df1.tail(),len(df1))"
   ]
  },
  {
   "cell_type": "code",
   "execution_count": null,
   "metadata": {},
   "outputs": [],
   "source": []
  }
 ],
 "metadata": {
  "kernelspec": {
   "display_name": "Python 3",
   "language": "python",
   "name": "python3"
  },
  "language_info": {
   "codemirror_mode": {
    "name": "ipython",
    "version": 3
   },
   "file_extension": ".py",
   "mimetype": "text/x-python",
   "name": "python",
   "nbconvert_exporter": "python",
   "pygments_lexer": "ipython3",
   "version": "3.6.5"
  }
 },
 "nbformat": 4,
 "nbformat_minor": 2
}
