{
 "cells": [
  {
   "cell_type": "code",
   "execution_count": 1,
   "metadata": {},
   "outputs": [],
   "source": [
    "#できること一覧\n",
    "#データ取得\n",
    "#dataframeに格納\n",
    "#時間可視化\n",
    "#移動平均線\n",
    "#ゴールデン・デッドクロス\n",
    "#上下判定\n",
    "#ボリンジャーバンド\n",
    "#トレンドラインを作成（支持線・抵抗線・直近）\n",
    "#機械学習（ランダムフォレスト）\n",
    "#gfs\n",
    "#グラフ\n",
    "\n",
    "#クラスタリング\n",
    "#ボリンジャーバンドで機械学習の層追加\n"
   ]
  },
  {
   "cell_type": "code",
   "execution_count": 2,
   "metadata": {},
   "outputs": [],
   "source": [
    "#python_bitbankccのパッケージをインポート\n",
    "#cloud9で起動するときのコマンド\n",
    "#jupyter notebook --ip $IP --port $PORT --no-browser\n",
    "import python_bitbankcc \n",
    "import datetime\n",
    "import os \n",
    "import time\n",
    "import numpy as np\n",
    "import pandas as pd\n",
    "import sys\n",
    "from dateutil.relativedelta import relativedelta\n",
    "#トレンドラインを引くため\n",
    "from scipy.stats import linregress\n",
    "#正規化\n",
    "from sklearn.preprocessing import MinMaxScaler"
   ]
  },
  {
   "cell_type": "code",
   "execution_count": 3,
   "metadata": {},
   "outputs": [],
   "source": [
    "#機械学習用のモジュール\n",
    "import matplotlib as mpl\n",
    "mpl.use('Agg')\n",
    "import matplotlib.pyplot as plt\n",
    "from sklearn import linear_model\n",
    "% matplotlib inline\n",
    "from __future__ import print_function\n",
    "import copy\n",
    "import matplotlib\n",
    "matplotlib.style.use('ggplot')\n",
    "\n",
    "from sklearn.linear_model import LinearRegression\n",
    "from sklearn.tree import DecisionTreeRegressor\n",
    "from sklearn.ensemble import RandomForestRegressor\n",
    "\n",
    "from sklearn.model_selection import GridSearchCV\n",
    "from sklearn.model_selection import train_test_split\n",
    "from sklearn.metrics import mean_squared_error"
   ]
  },
  {
   "cell_type": "code",
   "execution_count": 4,
   "metadata": {},
   "outputs": [],
   "source": [
    "# public API classのオブジェクトを取得\n",
    "pub = python_bitbankcc.public()"
   ]
  },
  {
   "cell_type": "code",
   "execution_count": 5,
   "metadata": {},
   "outputs": [],
   "source": [
    "#APIから基本データの取得、dataframeへ挿入\n",
    "def get_candle(trade_name,span,back_day):\n",
    "    # ロウソク足データを取得\n",
    "    pub = python_bitbankcc.public()\n",
    "    value = pub.get_candlestick( trade_name,span, back_day )\n",
    "    candle = value['candlestick'][0]\n",
    "    #print(candle['ohlcv'][0])\n",
    "    dataframe = pd.DataFrame(candle['ohlcv'],columns=[\"Open\", \"High\",\"Low\",\"Close\",\"Volume\",\"Timestamp\"])\n",
    "    return dataframe\n"
   ]
  },
  {
   "cell_type": "code",
   "execution_count": 6,
   "metadata": {},
   "outputs": [],
   "source": [
    "#指定した日から今日までの基本データをdataframeにして取得\n",
    "#back_day,todayはdatetime\n",
    "# span = ['1min', '5min', '15min', '30min', '1hour', '4hour', '8hour', '12hour', '1day', '1week']\n",
    "#trade_name = ['btc_jpy', 'xrp_jpy', 'ltc_btc', 'eth_btc', 'mona_jpy', 'mona_btc', 'bcc_jpy', 'bcc_btc']\n",
    "\n",
    "def make_df(trade_name,span,back_day,today):\n",
    "    i = 1\n",
    "    if (span =='1min')or(span== '5min')or(span== '15min')or(span== '30min')or(span== '1hour'):\n",
    "        #基準が９時なので、そこを合わせてあげる\n",
    "        if 0 <= today.hour < 9:\n",
    "            k = 1\n",
    "        elif 9 <= today.hour <= 23:\n",
    "            k = 0\n",
    "\n",
    "        while back_day <= today - datetime.timedelta(days=k):\n",
    "            if i == 1:\n",
    "                df1 = get_candle(trade_name,span,datetime.datetime.strftime(back_day, '%Y%m%d'))\n",
    "                back_day = back_day + datetime.timedelta(days=1)\n",
    "                #print(back_day,len(df1))\n",
    "                i += 1\n",
    "            else:\n",
    "                df2 = get_candle(trade_name,span,datetime.datetime.strftime(back_day, '%Y%m%d'))\n",
    "                df1 = pd.concat([df1, df2])\n",
    "                back_day = back_day + datetime.timedelta(days=1)\n",
    "                #print(back_day,len(df1))\n",
    "                i += 1\n",
    "    else:\n",
    "        \n",
    "        today = datetime.date(today.year, today.month, today.day)\n",
    "        back_day = datetime.date(back_day.year, back_day.month, back_day.day)\n",
    "\n",
    "\n",
    "        while back_day <= today:\n",
    "            if i == 1:\n",
    "                df1 = get_candle(trade_name,span,datetime.datetime.strftime(back_day, '%Y'))\n",
    "                back_day = back_day + relativedelta(years=1)\n",
    "                i += 1\n",
    "            else:\n",
    "                df2 = get_candle(trade_name,span,datetime.datetime.strftime(back_day, '%Y'))\n",
    "                df1 = pd.concat([df1, df2])\n",
    "                back_day = back_day +  relativedelta(years=1)\n",
    "                i += 1\n",
    "            \n",
    "\n",
    "    return df1\n",
    "\n"
   ]
  },
  {
   "cell_type": "code",
   "execution_count": 7,
   "metadata": {},
   "outputs": [],
   "source": [
    "def read_date(x):\n",
    "    return datetime.datetime.fromtimestamp(x/1000)\n"
   ]
  },
  {
   "cell_type": "code",
   "execution_count": 8,
   "metadata": {},
   "outputs": [],
   "source": [
    "\n",
    "# 単純移動平均（SMA）を取得する関数\n",
    "#上記のdfデータフレーム\n",
    "#numいくつの平均を求めるか\n",
    "def getMA( df,num ):\n",
    " \n",
    "    tmp = []\n",
    "    avg = np.array([])\n",
    "    for i in range(len(df) - num + 1):\n",
    "        for j in range(num):\n",
    "            #print(df['Close'][i+j])\n",
    "            tmp.append( df['Close'][i+j])\n",
    "            \n",
    "         # 平均値計算\n",
    "        value = np.average(tmp)\n",
    "        avg = np.append(avg,value)\n",
    "        tmp = []\n",
    "    \n",
    "    return avg"
   ]
  },
  {
   "cell_type": "code",
   "execution_count": 9,
   "metadata": {},
   "outputs": [],
   "source": [
    "def getSTD( df,num ):\n",
    " \n",
    "    tmp = []\n",
    "    std = np.array([])\n",
    "    for i in range(len(df) - num + 1):\n",
    "        for j in range(num):\n",
    "            #print(df['Close'][i+j])\n",
    "            tmp.append( df['Close'][i+j])\n",
    "            \n",
    "         # 平均値計算\n",
    "        value = np.std(tmp)\n",
    "        std = np.append(std,value)\n",
    "        tmp = []\n",
    "    \n",
    "    return std"
   ]
  },
  {
   "cell_type": "code",
   "execution_count": 10,
   "metadata": {},
   "outputs": [],
   "source": [
    "#ゴールデン・デッドクロス判定\n",
    "def golden_dead(data_df1):\n",
    "    golden=np.zeros(len(data_df1['Cross']),dtype=int)\n",
    "    dead=np.zeros(len(data_df1['Cross']),dtype=int)\n",
    "    for i in range(len(data_df1['Cross'])-1):\n",
    "        x = data_df1['Cross'][i]\n",
    "        y = data_df1['Cross'][i+1]\n",
    "        if ((x <= 0) & (y<=0)) |((x >= 0) & (y>=0)):\n",
    "            pass\n",
    "        elif ((x <= 0) & (y>=0)) :\n",
    "            golden=np.insert(golden,i+1,1)\n",
    "            golden=np.delete(golden,i+2)\n",
    "        elif ((x >= 0) & (y<=0)) :\n",
    "            dead=np.insert(dead,i+1,1)\n",
    "            dead=np.delete(dead,i+2)\n",
    "\n",
    "    return golden,dead\n",
    "    "
   ]
  },
  {
   "cell_type": "code",
   "execution_count": 11,
   "metadata": {},
   "outputs": [],
   "source": [
    "def make_onehot_label(df,MA5,STD5):\n",
    "    data = df.copy()\n",
    "    \n",
    "    data.loc[data['sub'] > MA5 + STD5*2 , 'long'] = 1\n",
    "    data.loc[~(data['sub'] > MA5 + STD5*2) , 'long'] = 0\n",
    "\n",
    "    data.loc[(data['sub'] >= MA5 + STD5/2 )&(data['sub'] <= MA5 + STD5*2), 'sem_long']=1\n",
    "    data.loc[~((data['sub'] >= MA5 + STD5/2 )&(data['sub'] <= MA5 + STD5*2)), 'sem_long']=0\n",
    "\n",
    "    data.loc[(data['sub'] >= MA5 - STD5/2 )&(data['sub'] < MA5 + STD5/2 ), 'range']=1\n",
    "    data.loc[~((data['sub'] >= MA5 - STD5/2 )&(data['sub'] < MA5 + STD5/2 )), 'range']=0\n",
    "\n",
    "    data.loc[(data['sub'] >= MA5 - STD5*2 )&(data['sub'] < MA5 - STD5/2 ), 'sem_short']=1\n",
    "    data.loc[~((data['sub'] >= MA5 - STD5*2 )&(data['sub'] < MA5 - STD5/2 )), 'sem_short']=0\n",
    "\n",
    "    data.loc[data['sub'] < MA5 - STD5*2 , 'short'] = 1\n",
    "    data.loc[~(data['sub'] < MA5 - STD5*2) , 'short'] = 0\n",
    "    \n",
    "    \n",
    "    data['labels'] = np.array([2 for i in range(len(df)) ])\n",
    "    data.loc[data['sub']> MA5 - STD5*2 , 'labels'] = 0\n",
    "    data.loc[((data['sub']) >= MA5 + STD5/2 )&(data['sub'] <= MA5 + STD5*2), 'labels']=1\n",
    "    data.loc[(data['sub']>= MA5 - STD5/2 )&(data['sub'] < MA5 + STD5/2 ), 'labels']=2\n",
    "    data.loc[(data['sub'] >= MA5 - STD5*2 )&(data['sub'] < MA5 - STD5/2 ), 'labels']=3\n",
    "    data.loc[data['sub'] < MA5 - STD5*2, 'short'] = 4\n",
    "\n",
    "    \n",
    "    a= np.array(data['long'])\n",
    "    b=np.array(data['sem_long'])\n",
    "    c=np.array(data['range'])\n",
    "    d=np.array(data['sem_short'])\n",
    "    e=np.array(data['short'])\n",
    "    a=a[:, np.newaxis]\n",
    "    b=b[:, np.newaxis]\n",
    "    c=c[:, np.newaxis]\n",
    "    d=d[:, np.newaxis]\n",
    "    e=e[:, np.newaxis]\n",
    "    \n",
    "    onehot_label=np.concatenate([a,b,c,d,e], axis=1)\n",
    "    \n",
    "    return onehot_label,np.array(data['labels'],dtype=int)"
   ]
  },
  {
   "cell_type": "code",
   "execution_count": 12,
   "metadata": {},
   "outputs": [],
   "source": [
    "#highトレンドラインを作成する関数\n",
    "#df データフレーム\n",
    "#num どれだけ前から\n",
    "def make_high_trend_line(df,num):\n",
    "    slope= np.zeros(num-1,dtype=float)\n",
    "    intercept = np.zeros(num-1,dtype=float)\n",
    "    for i in range(len(df)-num+1):        \n",
    "        df_fin = df.copy()\n",
    "        df_fin = df_fin[i:i+num]\n",
    "        df_high = df.copy()\n",
    "        df_high = df_high[i:i+num]\n",
    "    \n",
    "        # 高値のトレンドライン\n",
    "        while len(df_high)>3:\n",
    "            reg_1 = linregress(x=df_high['index'],y=df_high['High'])\n",
    "            df_high  =  df_high.loc[df_high['High']>reg_1[0]*df_high['index']+reg_1[1]]\n",
    "\n",
    "        if len(df_high)<=1:\n",
    "            pass\n",
    "        else:\n",
    "            reg_1 = linregress(x=df_high['index'],y=df_high['High'])\n",
    "        \n",
    "        slope = np.append(slope,reg_1[0])\n",
    "        intercept  = np.append(intercept ,reg_1[1])\n",
    "    return slope,intercept    "
   ]
  },
  {
   "cell_type": "code",
   "execution_count": 13,
   "metadata": {},
   "outputs": [],
   "source": [
    "#lowトレンドラインを作成する関数\n",
    "#df データフレーム\n",
    "#num どれだけ前から\n",
    "def make_low_trend_line(df,num):\n",
    "    slope= np.zeros(num-1,dtype=float)\n",
    "    intercept = np.zeros(num-1,dtype=float)\n",
    "    for i in range(len(df)-num+1):        \n",
    "        df_fin = df.copy()\n",
    "        df_fin = df_fin[i:i+num]\n",
    "        df_low = df.copy()\n",
    "        df_low = df_low[i:i+num]\n",
    "\n",
    "    # 安値のトレンドライン\n",
    "        while len(df_low)>3: \n",
    "            reg_2 = linregress( x = df_low['index'], y = df_low['Low']   )\n",
    "            df_low = df_low.loc[df_low['Low'] < reg_2[0] * df_low['index'] + reg_2[1]]\n",
    "\n",
    "        if len(df_low)<=1:\n",
    "            pass\n",
    "        else:\n",
    "            reg_2 = linregress(x = df_low['index'],y = df_low['Low'])\n",
    "            \n",
    "        slope = np.append(slope,reg_2[0])\n",
    "        intercept  = np.append(intercept ,reg_2[1])\n",
    "    return slope,intercept    "
   ]
  },
  {
   "cell_type": "code",
   "execution_count": 14,
   "metadata": {},
   "outputs": [],
   "source": [
    "#slope,傾き　intercept,切片　df、データフレーム\n",
    "def make_trend_value(slope,intercept,df):\n",
    "    index = np.array(df['index'])\n",
    "    trend_value = slope*index + intercept\n",
    "    return trend_value"
   ]
  },
  {
   "cell_type": "code",
   "execution_count": 15,
   "metadata": {},
   "outputs": [],
   "source": [
    "#関数の使い方\n",
    "today = datetime.datetime.today() \n",
    "back_day = today - datetime.timedelta(days=60)\n",
    "trade_name = 'xrp_jpy'\n",
    "span = '30min'\n",
    "num = 5"
   ]
  },
  {
   "cell_type": "code",
   "execution_count": 16,
   "metadata": {},
   "outputs": [
    {
     "name": "stdout",
     "output_type": "stream",
     "text": [
      "16.110106945037842\n",
      "      index    Open    High     Low   Close        Volume           Timestamp\n",
      "2887    7.0  42.646  42.912  42.645  42.830  2.581997e+06 2018-11-30 12:30:00\n",
      "2888    8.0  42.824  42.824  42.550  42.800  1.749971e+06 2018-11-30 13:00:00\n",
      "2889    9.0  42.810  42.950  42.702  42.825  1.784809e+06 2018-11-30 13:30:00\n",
      "2890   10.0  42.824  43.100  42.750  42.800  4.000222e+06 2018-11-30 14:00:00\n",
      "2891   11.0  42.824  43.029  42.810  42.990  7.033542e+05 2018-11-30 14:30:00\n"
     ]
    }
   ],
   "source": [
    "#基本データの取得\n",
    "old = time.time()\n",
    "data_df1 =  make_df(trade_name,span,back_day,today)\n",
    "data_df1['Timestamp'] = data_df1['Timestamp'].apply(read_date)\n",
    "#indexの割り振り\n",
    "data_df1 = data_df1.reset_index()\n",
    "#df1の値は全てstrなのでTimestamp以外floatにキャストする\n",
    "#Timestampは文字列のままでいいので削除することを指定\n",
    "execlude = ['Timestamp']\n",
    "cast = [col for col in data_df1.columns if col not in execlude]\n",
    "for item in cast:\n",
    "    data_df1 = data_df1.astype({item: float})\n",
    "\n",
    "print(time.time()-old)\n",
    "print(data_df1.tail())"
   ]
  },
  {
   "cell_type": "code",
   "execution_count": 17,
   "metadata": {},
   "outputs": [
    {
     "name": "stdout",
     "output_type": "stream",
     "text": [
      "[ 0.       0.       0.      ... 42.66456 42.65576 42.65032] [ 0.      0.      0.     ... 42.7888 42.777  42.849 ]\n",
      "(2892,) <class 'numpy.ndarray'> (2892,) <class 'numpy.ndarray'>\n"
     ]
    }
   ],
   "source": [
    "#移動平均線np\n",
    "MA5 = getMA( data_df1,num)\n",
    "MA25 = getMA( data_df1,num+20)\n",
    "zero5 = np.zeros(num-1,dtype = float )\n",
    "zero25 = np.zeros(num+20-1,dtype = float )\n",
    "MA5 = np.insert(MA5, 0, zero5)\n",
    "MA25 = np.insert(MA25, 0, zero25)\n",
    "print(MA25,MA5)\n",
    "print(MA25.shape,type(MA25),MA5.shape,type(MA5))"
   ]
  },
  {
   "cell_type": "code",
   "execution_count": 18,
   "metadata": {},
   "outputs": [
    {
     "name": "stdout",
     "output_type": "stream",
     "text": [
      "[0.         0.         0.         ... 0.08158284 0.07453858 0.07158212] (2892,) <class 'numpy.ndarray'>\n"
     ]
    }
   ],
   "source": [
    "#標準偏差計算\n",
    "STD5 = getSTD( data_df1,num)\n",
    "zero5 = np.zeros(num-1,dtype = float )\n",
    "STD5 = np.insert(STD5, 0, zero5)\n",
    "print(STD5,STD5.shape,type(STD5))"
   ]
  },
  {
   "cell_type": "code",
   "execution_count": 19,
   "metadata": {},
   "outputs": [],
   "source": [
    "#自作変数を作成する\n",
    "data_df1['High-Low']=data_df1['High']-data_df1['Low']\n",
    "data_df1['Close-Open']=data_df1['Close']-data_df1['Open']\n",
    "data_df1['Similarity'] = data_df1['Close-Open'] / (data_df1['High-Low'] + 0.000001)\n",
    "data_df1['(High-Low)*Volume '] = data_df1['High-Low']*data_df1['Volume']\n",
    "data_df1['(Close-Open)*Volume '] = data_df1['Close-Open']*data_df1['Volume']\n",
    "data_df1['High-Low']\n",
    "data_df1['MA5'] = MA5\n",
    "data_df1['MA25'] = MA25\n",
    "data_df1['STD5']  =  STD5\n",
    "data_df1['Cross'] = MA5 - MA25\n",
    "data_df1['index'] = data_df1.index + 1\n",
    "data_df1['bbd_p1']= MA5 + (STD5 * 1)\n",
    "data_df1['bbd_p2']= MA5 + (STD5 * 2)\n",
    "data_df1['bbd_p3']= MA5 + (STD5 * 3)\n",
    "data_df1['bbd_m1']= MA5 - (STD5 * 1)\n",
    "data_df1['bbd_m2']= MA5 - (STD5 * 2)\n",
    "data_df1['bbd_m3']= MA5 - (STD5 * 3)"
   ]
  },
  {
   "cell_type": "code",
   "execution_count": 20,
   "metadata": {},
   "outputs": [],
   "source": [
    "data_df1['golden'],data_df1['dead']  = golden_dead(data_df1)"
   ]
  },
  {
   "cell_type": "code",
   "execution_count": 21,
   "metadata": {},
   "outputs": [
    {
     "name": "stdout",
     "output_type": "stream",
     "text": [
      "41.21417260169983\n"
     ]
    }
   ],
   "source": [
    "old1 = time.time()\n",
    "slope1,intercept1 = make_high_trend_line(df=data_df1,num=32)\n",
    "print(time.time()-old1)"
   ]
  },
  {
   "cell_type": "code",
   "execution_count": 22,
   "metadata": {},
   "outputs": [
    {
     "name": "stdout",
     "output_type": "stream",
     "text": [
      "42.69029712677002\n"
     ]
    }
   ],
   "source": [
    "old1 = time.time()\n",
    "slope2,intercept2 = make_low_trend_line(df=data_df1,num=32)\n",
    "print(time.time()-old1)"
   ]
  },
  {
   "cell_type": "code",
   "execution_count": 23,
   "metadata": {},
   "outputs": [],
   "source": [
    "tr_high = make_trend_value(slope1,intercept1,data_df1)\n",
    "tr_low  = make_trend_value(slope2,intercept2,data_df1)"
   ]
  },
  {
   "cell_type": "code",
   "execution_count": 24,
   "metadata": {},
   "outputs": [],
   "source": [
    "data_df1['high_slope'] = slope1\n",
    "data_df1['low_slope'] = slope2\n",
    "data_df1['tr_high'] = tr_high\n",
    "data_df1['tr_low'] = tr_low\n",
    "data_df1['tr_mid'] = (tr_high + tr_low)/2"
   ]
  },
  {
   "cell_type": "code",
   "execution_count": 25,
   "metadata": {},
   "outputs": [
    {
     "ename": "NameError",
     "evalue": "name 'up_down' is not defined",
     "output_type": "error",
     "traceback": [
      "\u001b[1;31m---------------------------------------------------------------------------\u001b[0m",
      "\u001b[1;31mNameError\u001b[0m                                 Traceback (most recent call last)",
      "\u001b[1;32m<ipython-input-25-3fcad9e64973>\u001b[0m in \u001b[0;36m<module>\u001b[1;34m()\u001b[0m\n\u001b[0;32m      2\u001b[0m \u001b[1;31m# a,b = up_down(data_df1)\u001b[0m\u001b[1;33m\u001b[0m\u001b[1;33m\u001b[0m\u001b[0m\n\u001b[0;32m      3\u001b[0m \u001b[1;31m# print(len(a),len(b))\u001b[0m\u001b[1;33m\u001b[0m\u001b[1;33m\u001b[0m\u001b[0m\n\u001b[1;32m----> 4\u001b[1;33m \u001b[0mdata_df1\u001b[0m\u001b[1;33m[\u001b[0m\u001b[1;34m'up'\u001b[0m\u001b[1;33m]\u001b[0m\u001b[1;33m,\u001b[0m\u001b[0mdata_df1\u001b[0m\u001b[1;33m[\u001b[0m\u001b[1;34m'down'\u001b[0m\u001b[1;33m]\u001b[0m \u001b[1;33m=\u001b[0m \u001b[0mup_down\u001b[0m\u001b[1;33m(\u001b[0m\u001b[0mdata_df1\u001b[0m\u001b[1;33m)\u001b[0m\u001b[1;33m\u001b[0m\u001b[0m\n\u001b[0m",
      "\u001b[1;31mNameError\u001b[0m: name 'up_down' is not defined"
     ]
    }
   ],
   "source": [
    "#data_df1['up'],data_df1['mid_up'],data_df1['min_down'],data_df1['down'] = up_down(data_df1)\n",
    "# a,b = up_down(data_df1)\n",
    "# print(len(a),len(b))\n",
    "data_df1['up'],data_df1['down'] = up_down(data_df1)\n"
   ]
  },
  {
   "cell_type": "code",
   "execution_count": null,
   "metadata": {},
   "outputs": [],
   "source": [
    "#data作成までの時間\n",
    "print(time.time()-old)\n",
    "#作成変数の表示\n",
    "data_df1.loc[len(data_df1)-5:]"
   ]
  },
  {
   "cell_type": "code",
   "execution_count": null,
   "metadata": {},
   "outputs": [],
   "source": [
    "#次のCloseを予測する機械学習\n",
    "#使わない変数を除外\n",
    "exe_cols = ['index','Timestamp']\n",
    "feature_cols = [col for col in data_df1.columns if col not in exe_cols]\n",
    "print(feature_cols)\n",
    "#機械学習用にnp配列に変換\n",
    "data_np= np.array(data_df1[feature_cols])\n",
    "print(data_np.shape)"
   ]
  },
  {
   "cell_type": "code",
   "execution_count": null,
   "metadata": {},
   "outputs": [],
   "source": [
    "Y = np.array(data_df1['Close'])#1次元\n",
    "Y = np.delete(Y,0)\n",
    "print(Y,Y.shape)\n",
    "X = data_np[:len(Y),0:]\n",
    "print(X[:],X.shape)"
   ]
  },
  {
   "cell_type": "code",
   "execution_count": null,
   "metadata": {},
   "outputs": [],
   "source": [
    "# 学習では、29/30を使うものとします。これは情報の偏りを防ぐためのものであり、全体でも構いません\n",
    "L = int(len(X)//(200/199))\n",
    "print(L)\n",
    "train_x = X[50:L,:]\n",
    "train_y = Y[50:L]"
   ]
  },
  {
   "cell_type": "code",
   "execution_count": null,
   "metadata": {},
   "outputs": [],
   "source": [
    "# 残りの全てをテストデータとします\n",
    "test_x = X[L:len(X),:]\n",
    "test_y = Y[L:len(Y)]"
   ]
  },
  {
   "cell_type": "code",
   "execution_count": null,
   "metadata": {},
   "outputs": [],
   "source": [
    "rf = RandomForestRegressor(random_state=1234)"
   ]
  },
  {
   "cell_type": "code",
   "execution_count": null,
   "metadata": {},
   "outputs": [],
   "source": [
    "params = {'n_estimators': [15,20,25], 'max_depth': [5,17,30]}\n",
    "gscv = GridSearchCV(rf, param_grid=params, verbose=1,\n",
    "                    cv=3, scoring='neg_mean_squared_error')\n",
    "gscv.fit(train_x, train_y)"
   ]
  },
  {
   "cell_type": "code",
   "execution_count": null,
   "metadata": {},
   "outputs": [],
   "source": [
    "a = gscv.best_params_"
   ]
  },
  {
   "cell_type": "code",
   "execution_count": null,
   "metadata": {},
   "outputs": [],
   "source": [
    "print(a)\n",
    "n_estimators = a.get('n_estimators')\n",
    "max_depth = a.get('max_depth')"
   ]
  },
  {
   "cell_type": "code",
   "execution_count": null,
   "metadata": {},
   "outputs": [],
   "source": [
    "rf = RandomForestRegressor(n_estimators=n_estimators, max_depth=max_depth,random_state=1234)\n",
    "rf.fit(train_x, train_y)\n",
    "y_pred_rf = rf.predict(test_x)\n",
    "rf_mse = mean_squared_error(test_y, y_pred_rf)\n",
    "print('RandomForest MSE: ', rf_mse)"
   ]
  },
  {
   "cell_type": "code",
   "execution_count": null,
   "metadata": {},
   "outputs": [],
   "source": [
    "# 予測結果を出力します。これはランダムフォレスト\n",
    "result = pd.DataFrame(y_pred_rf)\n",
    "result.columns = ['y_pred_rf']\n",
    "result['test_y'] = test_y\n",
    "#２乗平均誤差ではなく、ただの差\n",
    "result['RMS'] = (result['test_y']-result['y_pred_rf'])\n",
    "print(result.loc[:])"
   ]
  },
  {
   "cell_type": "code",
   "execution_count": null,
   "metadata": {},
   "outputs": [],
   "source": [
    "# Plot拡大\n",
    "plt.plot(range(0,len(result[0:15])), test_y[len(test_y)-15:], label='Actual price', color='blue', marker = 'o')\n",
    "plt.plot(range(0,len(result[0:15])), y_pred_rf[len(test_y)-15:], label='Predicted price', color='red', marker ='x')\n",
    "plt.xlabel(span)\n",
    "plt.ylabel('Price (\\)')\n",
    "n3='{0} Price by RandomForest'.format(trade_name)\n",
    "plt.title(n3)\n",
    "plt.grid(True)\n",
    "plt.legend()\n",
    "n4='{0}2 by RandomForest.png'.format(trade_name)\n",
    "plt.savefig(n4)\n",
    "plt.close()\n",
    "plt.show()"
   ]
  },
  {
   "cell_type": "code",
   "execution_count": null,
   "metadata": {},
   "outputs": [],
   "source": [
    "# 変数増加法を実行する関数\n",
    "def get_gfs_feature_indices(X, y, features, clf):\n",
    "    X_train_, X_test_, y_train_, y_test_ = \\\n",
    "        train_test_split(X, y, test_size=0.3, shuffle=False)\n",
    "    feature_indices = {feature: idx for idx, feature in enumerate(features)}\n",
    "    features = set(features)\n",
    "    last_mse = np.inf\n",
    "    chosen_features = set()\n",
    "    while len(chosen_features) < len(features):\n",
    "        mse_features = []\n",
    "        for feature in (features - chosen_features):\n",
    "            candidates = chosen_features.union(set([feature]))\n",
    "            indices = [feature_indices[feature] for feature in candidates]\n",
    "            clf.fit(X_train_[:, indices], y_train_)\n",
    "            y_pred = clf.predict(X_test_[:, indices])\n",
    "            mse = mean_squared_error(y_test_, y_pred)\n",
    "            mse_features += [(mse, feature)]\n",
    "        mse, feature = min(mse_features)\n",
    "        if mse >= last_mse:\n",
    "            break\n",
    "        last_mse = mse\n",
    "        print('Newly Added Feature: {},\\tMSE Score: {}'.format(feature, mse))\n",
    "        chosen_features.add(feature)\n",
    "    return [feature_indices[feature] for feature in chosen_features]"
   ]
  },
  {
   "cell_type": "code",
   "execution_count": null,
   "metadata": {},
   "outputs": [],
   "source": [
    "# 上記関数を使用して変数増加法を実行し、MSEを算出\n",
    "#feature_cols = list('abcdefghij')\n",
    "feature_cols = list('abcdefghijklmnopqrstuv')\n",
    "print(feature_cols,len(feature_cols))\n",
    "\n",
    "selected_feature_index_by_RandomForestRegressor = get_gfs_feature_indices(X=train_x,y=train_y,features=feature_cols,clf= RandomForestRegressor())\n",
    "print(selected_feature_index_by_RandomForestRegressor)"
   ]
  },
  {
   "cell_type": "code",
   "execution_count": null,
   "metadata": {},
   "outputs": [],
   "source": [
    "#ランダムフォレスト\n",
    "rf = RandomForestRegressor(random_state=1234)\n",
    "rf.fit(train_x[:, selected_feature_index_by_RandomForestRegressor], train_y)\n",
    "y_pred_rf = rf.predict(test_x[:, selected_feature_index_by_RandomForestRegressor])\n",
    "rf_mse = mean_squared_error(test_y, y_pred_rf)\n",
    "print('RandomForest MSE: ', rf_mse)"
   ]
  },
  {
   "cell_type": "code",
   "execution_count": null,
   "metadata": {},
   "outputs": [],
   "source": [
    "params = {'n_estimators': [15,20,25], 'max_depth': [6,10,20]}\n",
    "gscv = GridSearchCV(rf, param_grid=params, verbose=1,\n",
    "                    cv=3, scoring='neg_mean_squared_error')\n",
    "gscv.fit(train_x[:, selected_feature_index_by_RandomForestRegressor], train_y)"
   ]
  },
  {
   "cell_type": "code",
   "execution_count": null,
   "metadata": {},
   "outputs": [],
   "source": [
    "a = gscv.best_params_"
   ]
  },
  {
   "cell_type": "code",
   "execution_count": null,
   "metadata": {},
   "outputs": [],
   "source": [
    "print(a)\n",
    "n_estimators = a.get('n_estimators')\n",
    "max_depth = a.get('max_depth')"
   ]
  },
  {
   "cell_type": "code",
   "execution_count": null,
   "metadata": {},
   "outputs": [],
   "source": [
    "rf = RandomForestRegressor(n_estimators=n_estimators, max_depth=max_depth,random_state=1234)\n",
    "rf.fit(train_x[:, selected_feature_index_by_RandomForestRegressor], train_y)\n",
    "y_pred_rf_gfs = rf.predict(test_x[:, selected_feature_index_by_RandomForestRegressor])\n",
    "rf_mse = mean_squared_error(test_y, y_pred_rf_gfs)\n",
    "print('RandomForest MSE: ', rf_mse)"
   ]
  },
  {
   "cell_type": "code",
   "execution_count": null,
   "metadata": {},
   "outputs": [],
   "source": [
    "# 予測結果を出力します。これはランダムフォレスト\n",
    "result = pd.DataFrame(y_pred_rf_gfs)\n",
    "result.columns = ['y_pred_rf_gfs']\n",
    "result['test_y'] = test_y\n",
    "#２乗平均誤差ではなく、ただの差\n",
    "result['RMS'] = (result['test_y']-result['y_pred_rf_gfs'])\n",
    "print(result.loc[:])"
   ]
  },
  {
   "cell_type": "code",
   "execution_count": null,
   "metadata": {},
   "outputs": [],
   "source": [
    "# Plot拡大\n",
    "plt.plot(range(0,len(result[0:15])), test_y[len(test_y)-15:], label='Actual price', color='blue', marker = 'o')\n",
    "plt.plot(range(0,len(result[0:15])), y_pred_rf_gfs[len(test_y)-15:], label='Predicted price', color='red', marker ='x')\n",
    "plt.xlabel(span)\n",
    "plt.ylabel('Price (\\)')\n",
    "n3='{0} Price by RandomForest gfs'.format(trade_name)\n",
    "plt.title(n3)\n",
    "plt.grid(True)\n",
    "plt.legend()\n",
    "n4='{0}2 by RandomForest gfs.png'.format(trade_name)\n",
    "plt.savefig(n4)\n",
    "plt.close()\n",
    "plt.show()"
   ]
  },
  {
   "cell_type": "code",
   "execution_count": null,
   "metadata": {},
   "outputs": [],
   "source": []
  }
 ],
 "metadata": {
  "kernelspec": {
   "display_name": "Python 3",
   "language": "python",
   "name": "python3"
  },
  "language_info": {
   "codemirror_mode": {
    "name": "ipython",
    "version": 3
   },
   "file_extension": ".py",
   "mimetype": "text/x-python",
   "name": "python",
   "nbconvert_exporter": "python",
   "pygments_lexer": "ipython3",
   "version": "3.6.5"
  }
 },
 "nbformat": 4,
 "nbformat_minor": 2
}
